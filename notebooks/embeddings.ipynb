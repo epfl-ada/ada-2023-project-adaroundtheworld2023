{
 "cells": [
  {
   "cell_type": "markdown",
   "id": "661f890a50442989",
   "metadata": {
    "collapsed": false
   },
   "source": [
    "# Embeddings\n",
    "\n",
    "The aim of this notebook is to generate embeddings for the two main approaches that we use for generating graphs:\n",
    "\n",
    "1. **embedding approach**: simply use [e5-large](https://huggingface.co/intfloat/e5-large) model for generating feature vectors from plots;\n",
    "2. **genre approach**: first let the [bart-large-mnli](https://huggingface.co/facebook/bart-large-mnli) predict the probabilities of belonging to a genre and a theme, then merge the vectors into an embedding."
   ]
  },
  {
   "cell_type": "markdown",
   "id": "7c2ed3e6d43e682e",
   "metadata": {
    "collapsed": false
   },
   "source": [
    "## Imports"
   ]
  },
  {
   "cell_type": "code",
   "execution_count": 2,
   "id": "initial_id",
   "metadata": {
    "ExecuteTime": {
     "end_time": "2023-12-15T09:31:15.992719Z",
     "start_time": "2023-12-15T09:31:00.804964Z"
    },
    "collapsed": false
   },
   "outputs": [],
   "source": [
    "import json\n",
    "import os\n",
    "\n",
    "import numpy as np\n",
    "import pandas as pd\n",
    "\n",
    "from tqdm.auto import tqdm\n",
    "from transformers import pipeline\n",
    "import torch\n",
    "\n",
    "from sentence_transformers import SentenceTransformer\n",
    "\n",
    "import os\n",
    "import sys\n",
    "sys.path.append(os.path.abspath('..'))\n",
    "\n",
    "from scripts.helpers import get_embedding, get_classification_from_json"
   ]
  },
  {
   "cell_type": "code",
   "execution_count": 3,
   "id": "384623e9d2ca5dce",
   "metadata": {
    "ExecuteTime": {
     "end_time": "2023-12-15T09:31:16.009797Z",
     "start_time": "2023-12-15T09:31:16.000507Z"
    },
    "collapsed": false
   },
   "outputs": [],
   "source": [
    "root_path = os.path.dirname(os.path.abspath(\"\"))"
   ]
  },
  {
   "cell_type": "markdown",
   "id": "3cc641d28c9a8a04",
   "metadata": {
    "collapsed": false
   },
   "source": [
    "## Data\n",
    "\n",
    "Note that data preprocessing has been done in [preprocess.ipynb](preprocess.ipynb). The notebook will clean, merge and save the data to `data/processed`."
   ]
  },
  {
   "cell_type": "code",
   "execution_count": 4,
   "id": "758af52d7fef8b5f",
   "metadata": {
    "ExecuteTime": {
     "end_time": "2023-12-15T09:31:16.801831Z",
     "start_time": "2023-12-15T09:31:16.010098Z"
    },
    "collapsed": false
   },
   "outputs": [
    {
     "name": "stdout",
     "output_type": "stream",
     "text": [
      "(22394, 10)\n"
     ]
    },
    {
     "data": {
      "text/html": [
       "<div>\n",
       "<style scoped>\n",
       "    .dataframe tbody tr th:only-of-type {\n",
       "        vertical-align: middle;\n",
       "    }\n",
       "\n",
       "    .dataframe tbody tr th {\n",
       "        vertical-align: top;\n",
       "    }\n",
       "\n",
       "    .dataframe thead th {\n",
       "        text-align: right;\n",
       "    }\n",
       "</style>\n",
       "<table border=\"1\" class=\"dataframe\">\n",
       "  <thead>\n",
       "    <tr style=\"text-align: right;\">\n",
       "      <th></th>\n",
       "      <th>name</th>\n",
       "      <th>release_year</th>\n",
       "      <th>rating</th>\n",
       "      <th>num_votes</th>\n",
       "      <th>wikipedia_id</th>\n",
       "      <th>plot</th>\n",
       "      <th>freebase_id</th>\n",
       "      <th>languages</th>\n",
       "      <th>countries</th>\n",
       "      <th>genres</th>\n",
       "    </tr>\n",
       "  </thead>\n",
       "  <tbody>\n",
       "    <tr>\n",
       "      <th>0</th>\n",
       "      <td>Miss Jerry</td>\n",
       "      <td>1894.0</td>\n",
       "      <td>5.3</td>\n",
       "      <td>207</td>\n",
       "      <td>10109752</td>\n",
       "      <td>After finding out that her father is suffering...</td>\n",
       "      <td>/m/02q23xk</td>\n",
       "      <td>['Silent film']</td>\n",
       "      <td>['United States of America']</td>\n",
       "      <td>['Short Film', 'Silent film', 'Indie', 'Black-...</td>\n",
       "    </tr>\n",
       "    <tr>\n",
       "      <th>1</th>\n",
       "      <td>The Corbett-Fitzsimmons Fight</td>\n",
       "      <td>1897.0</td>\n",
       "      <td>5.3</td>\n",
       "      <td>484</td>\n",
       "      <td>28703057</td>\n",
       "      <td>The film no longer exists in its entirety; how...</td>\n",
       "      <td>/m/0czdh_n</td>\n",
       "      <td>[]</td>\n",
       "      <td>[]</td>\n",
       "      <td>['Sports']</td>\n",
       "    </tr>\n",
       "    <tr>\n",
       "      <th>2</th>\n",
       "      <td>The Story of the Kelly Gang</td>\n",
       "      <td>1906.0</td>\n",
       "      <td>6.0</td>\n",
       "      <td>855</td>\n",
       "      <td>142995</td>\n",
       "      <td>The Story of the Kelly Gangs tone is of sorrow...</td>\n",
       "      <td>/m/0120y4</td>\n",
       "      <td>['English Language']</td>\n",
       "      <td>['Australia']</td>\n",
       "      <td>['Crime Fiction', 'Silent film', 'Biography', ...</td>\n",
       "    </tr>\n",
       "    <tr>\n",
       "      <th>3</th>\n",
       "      <td>Robbery Under Arms</td>\n",
       "      <td>1907.0</td>\n",
       "      <td>4.3</td>\n",
       "      <td>25</td>\n",
       "      <td>32986669</td>\n",
       "      <td>Key scenes of the film included the branding o...</td>\n",
       "      <td>/m/04p7yxx</td>\n",
       "      <td>['Silent film']</td>\n",
       "      <td>['Australia']</td>\n",
       "      <td>['Silent film', 'Drama']</td>\n",
       "    </tr>\n",
       "    <tr>\n",
       "      <th>4</th>\n",
       "      <td>Captain Midnight, the Bush King</td>\n",
       "      <td>1911.0</td>\n",
       "      <td>5.4</td>\n",
       "      <td>18</td>\n",
       "      <td>32987200</td>\n",
       "      <td>Edgar Dalimore is the son of wealthy station o...</td>\n",
       "      <td>/m/0h569x9</td>\n",
       "      <td>['Silent film']</td>\n",
       "      <td>[]</td>\n",
       "      <td>['Silent film']</td>\n",
       "    </tr>\n",
       "  </tbody>\n",
       "</table>\n",
       "</div>"
      ],
      "text/plain": [
       "                              name  release_year  rating  num_votes  \\\n",
       "0                       Miss Jerry        1894.0     5.3        207   \n",
       "1    The Corbett-Fitzsimmons Fight        1897.0     5.3        484   \n",
       "2      The Story of the Kelly Gang        1906.0     6.0        855   \n",
       "3               Robbery Under Arms        1907.0     4.3         25   \n",
       "4  Captain Midnight, the Bush King        1911.0     5.4         18   \n",
       "\n",
       "   wikipedia_id                                               plot  \\\n",
       "0      10109752  After finding out that her father is suffering...   \n",
       "1      28703057  The film no longer exists in its entirety; how...   \n",
       "2        142995  The Story of the Kelly Gangs tone is of sorrow...   \n",
       "3      32986669  Key scenes of the film included the branding o...   \n",
       "4      32987200  Edgar Dalimore is the son of wealthy station o...   \n",
       "\n",
       "  freebase_id             languages                     countries  \\\n",
       "0  /m/02q23xk       ['Silent film']  ['United States of America']   \n",
       "1  /m/0czdh_n                    []                            []   \n",
       "2   /m/0120y4  ['English Language']                 ['Australia']   \n",
       "3  /m/04p7yxx       ['Silent film']                 ['Australia']   \n",
       "4  /m/0h569x9       ['Silent film']                            []   \n",
       "\n",
       "                                              genres  \n",
       "0  ['Short Film', 'Silent film', 'Indie', 'Black-...  \n",
       "1                                         ['Sports']  \n",
       "2  ['Crime Fiction', 'Silent film', 'Biography', ...  \n",
       "3                           ['Silent film', 'Drama']  \n",
       "4                                    ['Silent film']  "
      ]
     },
     "execution_count": 4,
     "metadata": {},
     "output_type": "execute_result"
    }
   ],
   "source": [
    "df = pd.read_csv('../data/processed/preprocessed.csv', index_col=0)\n",
    "print(df.shape)\n",
    "df.head(5)"
   ]
  },
  {
   "cell_type": "markdown",
   "id": "67e1170d40ddd854",
   "metadata": {
    "collapsed": false
   },
   "source": [
    "## Embedding Approach\n",
    "\n",
    "We're using the model described in this [paper](https://arxiv.org/pdf/2212.03533.pdf), which can be downloaded [here](https://huggingface.co/intfloat/e5-large-v2). To download the model, run in the `models` directory:\n",
    "\n",
    "```\n",
    "git lfs install\n",
    "git clone https://huggingface.co/intfloat/e5-large-v2\n",
    "```"
   ]
  },
  {
   "cell_type": "code",
   "execution_count": 5,
   "id": "86a5d2a1b0458bc5",
   "metadata": {
    "ExecuteTime": {
     "end_time": "2023-11-15T13:38:13.406190Z",
     "start_time": "2023-11-15T13:38:07.199342Z"
    },
    "collapsed": false
   },
   "outputs": [],
   "source": [
    "model = SentenceTransformer('../models/e5-large-v2')\n",
    "decades = np.arange(1910, 2020, 10)\n",
    "input_template = 'query: {}'"
   ]
  },
  {
   "cell_type": "code",
   "execution_count": 6,
   "id": "7cfbc7008cd6a21c",
   "metadata": {
    "ExecuteTime": {
     "end_time": "2023-11-15T13:41:15.281293Z",
     "start_time": "2023-11-15T13:38:13.415648Z"
    },
    "collapsed": false
   },
   "outputs": [],
   "source": [
    "for decade in decades:\n",
    "    decade_df = df[(df.release_year >= decade) & (df.release_year < decade + 10)]\n",
    "    \n",
    "    # create dictionary with embeddings for all the movies\n",
    "    embeddings = {}\n",
    "    \n",
    "    for index, row in decade_df.iterrows():\n",
    "        plot = input_template.format(row['plot'])\n",
    "        movie = row['name']\n",
    "        embeddings[movie] = get_embedding(plot, model)\n",
    "        \n",
    "    with open(os.path.join(root_path, 'data', 'embeddings', 'embedding', f'plots{decade}s.json'), \"w\") as outfile: \n",
    "        json.dump(embeddings, outfile)"
   ]
  },
  {
   "cell_type": "markdown",
   "id": "3c397f4377af6ae1",
   "metadata": {
    "collapsed": false
   },
   "source": [
    "## Genre Approach\n",
    "\n",
    "We first let the model predict the probabilities and then convert them into embeddings."
   ]
  },
  {
   "cell_type": "code",
   "execution_count": null,
   "id": "d6de9a69",
   "metadata": {},
   "outputs": [],
   "source": [
    "genre_labels = ['Drama', 'Comedy', 'Action', 'Horror', 'Romance', 'Thriller', 'Adventure', 'Documentary']\n",
    "theme_labels = ['Science-Fiction', 'Crime', 'Fantasy', 'War', 'Mystery', 'History', 'Western', 'Family']"
   ]
  },
  {
   "cell_type": "code",
   "execution_count": null,
   "id": "db5bd79a",
   "metadata": {},
   "outputs": [],
   "source": [
    "device = torch.device(\"cuda\" if torch.cuda.is_available() else \"cpu\")\n",
    "print(f\"Using device: {device}\")"
   ]
  },
  {
   "cell_type": "code",
   "execution_count": null,
   "id": "a7bd590a",
   "metadata": {},
   "outputs": [],
   "source": [
    "classifier = pipeline(\"zero-shot-classification\", model=\"facebook/bart-large-mnli\", device=device)"
   ]
  },
  {
   "cell_type": "code",
   "execution_count": null,
   "id": "c29def52",
   "metadata": {},
   "outputs": [],
   "source": [
    "hypothesis_template = 'The genre of this movie is {}.'\n",
    "\n",
    "for decade in decades:\n",
    "    decade_df = df[(df.release_year >= decade) & (df.release_year < decade + 10)]\n",
    "\n",
    "    file_path = os.path.join(root_path, 'data', 'classification', 'probabilities', f'probabilities_{decade}s.json')\n",
    "\n",
    "    for i, row in tqdm(enumerate(decade_df.iterrows()), total=decade_df.shape[0]):\n",
    "\n",
    "        wikipedia_id = str(row[1].wikipedia_id)\n",
    "        probabilities[wikipedia_id] = {}\n",
    "\n",
    "        # Computing probs for genres only\n",
    "        genre_probs = classifier(row[1]['plot'], genre_labels, multilabel=True, hypothesis_template=hypothesis_template)\n",
    "        genre_probs.pop('sequence')\n",
    "        probabilities[wikipedia_id]['genres'] = genre_probs\n",
    "\n",
    "        # Computing probs for themes only\n",
    "        theme_probs = classifier(row[1]['plot'], theme_labels, multilabel=True, hypothesis_template=hypothesis_template)\n",
    "        theme_probs.pop('sequence')\n",
    "        probabilities[wikipedia_id]['themes'] = theme_probs\n",
    "\n",
    "        # Computing probs for genres and themes\n",
    "        full_probs = classifier(row[1]['plot'], genre_labels + theme_labels, multilabel=True, hypothesis_template=hypothesis_template)\n",
    "        full_probs.pop('sequence')\n",
    "        probabilities[wikipedia_id]['full'] = full_probs\n",
    "\n",
    "    with open(file_path, \"w\") as outfile: \n",
    "        json.dump(probabilities, outfile)"
   ]
  },
  {
   "cell_type": "code",
   "execution_count": null,
   "id": "b927c3b8",
   "metadata": {},
   "outputs": [],
   "source": [
    "decades = np.arange(1910, 2020, 10)\n",
    "\n",
    "for decade in decades:\n",
    "\n",
    "    probabilities = get_classification_from_json(decade)    \n",
    "    embeddings = {}\n",
    "    \n",
    "    for movie, probability in probabilities.items():\n",
    "       \n",
    "        labels = probability['genres']['labels'] + probability['themes']['labels']\n",
    "        scores = probability['genres']['scores'] + probability['themes']['scores']\n",
    "    \n",
    "        # sort the labels and reorder the scores accordingly\n",
    "        _, scores = zip(*sorted(zip(labels, scores)))\n",
    "    \n",
    "        # normalize the embedding\n",
    "        embedding = np.array(scores)\n",
    "        norm_embedding = embedding / np.linalg.norm(embedding)\n",
    "        \n",
    "        embeddings[str(movie)] = list(norm_embedding)\n",
    "        \n",
    "    with open(os.path.join(root_path, 'data', 'embeddings', 'custom_genres', f'plots_{decade}s.json'), \"w\") as outfile: \n",
    "        json.dump(embeddings, outfile)"
   ]
  }
 ],
 "metadata": {
  "kernelspec": {
   "display_name": "Python 3 (ipykernel)",
   "language": "python",
   "name": "python3"
  },
  "language_info": {
   "codemirror_mode": {
    "name": "ipython",
    "version": 3
   },
   "file_extension": ".py",
   "mimetype": "text/x-python",
   "name": "python",
   "nbconvert_exporter": "python",
   "pygments_lexer": "ipython3",
   "version": "3.9.18"
  }
 },
 "nbformat": 4,
 "nbformat_minor": 5
}
