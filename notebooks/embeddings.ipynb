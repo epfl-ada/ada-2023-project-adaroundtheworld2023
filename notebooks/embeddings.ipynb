{
 "cells": [
  {
   "cell_type": "markdown",
   "id": "661f890a50442989",
   "metadata": {
    "collapsed": false
   },
   "source": [
    "# Embeddings\n",
    "\n",
    "The aim of this notebook is to test the embedding model and see if the results look logical for the naked eye. \n",
    "What is more, Bokeh and pyvis will be tested for generating the network graphs."
   ]
  },
  {
   "cell_type": "markdown",
   "id": "7c2ed3e6d43e682e",
   "metadata": {
    "collapsed": false
   },
   "source": [
    "## Imports"
   ]
  },
  {
   "cell_type": "code",
   "execution_count": 1,
   "id": "bb0892c103e47ca9",
   "metadata": {
    "collapsed": false,
    "ExecuteTime": {
     "end_time": "2023-11-15T13:38:02.410584Z",
     "start_time": "2023-11-15T13:38:02.406843Z"
    }
   },
   "outputs": [],
   "source": [
    "# add root path to system path\n",
    "import sys\n",
    "sys.path.append('../')"
   ]
  },
  {
   "cell_type": "code",
   "execution_count": 2,
   "id": "initial_id",
   "metadata": {
    "collapsed": false,
    "ExecuteTime": {
     "end_time": "2023-11-15T13:38:06.606833Z",
     "start_time": "2023-11-15T13:38:02.416331Z"
    }
   },
   "outputs": [],
   "source": [
    "import pandas as pd\n",
    "\n",
    "from sentence_transformers import SentenceTransformer\n",
    "from scripts.helpers import get_embedding"
   ]
  },
  {
   "cell_type": "markdown",
   "id": "3cc641d28c9a8a04",
   "metadata": {
    "collapsed": false
   },
   "source": [
    "## Data\n",
    "\n",
    "Note that data preprocessing has been done in [preprocess.ipynb](preprocess.ipynb). The notebook will clean, merge and save the data to `data/processed`."
   ]
  },
  {
   "cell_type": "code",
   "execution_count": 3,
   "id": "758af52d7fef8b5f",
   "metadata": {
    "collapsed": false,
    "ExecuteTime": {
     "end_time": "2023-11-15T13:38:07.189693Z",
     "start_time": "2023-11-15T13:38:06.614303Z"
    }
   },
   "outputs": [
    {
     "name": "stdout",
     "output_type": "stream",
     "text": [
      "(22394, 10)\n"
     ]
    },
    {
     "data": {
      "text/plain": "                              name  release_year  rating  num_votes  \\\n0                       Miss Jerry        1894.0     5.3        207   \n1    The Corbett-Fitzsimmons Fight        1897.0     5.3        484   \n2      The Story of the Kelly Gang        1906.0     6.0        855   \n3               Robbery Under Arms        1907.0     4.3         25   \n4  Captain Midnight, the Bush King        1911.0     5.4         18   \n\n   wikipedia_id                                               plot  \\\n0      10109752  After finding out that her father is suffering...   \n1      28703057  The film no longer exists in its entirety; how...   \n2        142995  The Story of the Kelly Gangs tone is of sorrow...   \n3      32986669  Key scenes of the film included the branding o...   \n4      32987200  Edgar Dalimore is the son of wealthy station o...   \n\n  freebase_id             languages                     countries  \\\n0  /m/02q23xk       ['Silent film']  ['United States of America']   \n1  /m/0czdh_n                    []                            []   \n2   /m/0120y4  ['English Language']                 ['Australia']   \n3  /m/04p7yxx       ['Silent film']                 ['Australia']   \n4  /m/0h569x9       ['Silent film']                            []   \n\n                                              genres  \n0  ['Short Film', 'Silent film', 'Indie', 'Black-...  \n1                                         ['Sports']  \n2  ['Crime Fiction', 'Silent film', 'Biography', ...  \n3                           ['Silent film', 'Drama']  \n4                                    ['Silent film']  ",
      "text/html": "<div>\n<style scoped>\n    .dataframe tbody tr th:only-of-type {\n        vertical-align: middle;\n    }\n\n    .dataframe tbody tr th {\n        vertical-align: top;\n    }\n\n    .dataframe thead th {\n        text-align: right;\n    }\n</style>\n<table border=\"1\" class=\"dataframe\">\n  <thead>\n    <tr style=\"text-align: right;\">\n      <th></th>\n      <th>name</th>\n      <th>release_year</th>\n      <th>rating</th>\n      <th>num_votes</th>\n      <th>wikipedia_id</th>\n      <th>plot</th>\n      <th>freebase_id</th>\n      <th>languages</th>\n      <th>countries</th>\n      <th>genres</th>\n    </tr>\n  </thead>\n  <tbody>\n    <tr>\n      <th>0</th>\n      <td>Miss Jerry</td>\n      <td>1894.0</td>\n      <td>5.3</td>\n      <td>207</td>\n      <td>10109752</td>\n      <td>After finding out that her father is suffering...</td>\n      <td>/m/02q23xk</td>\n      <td>['Silent film']</td>\n      <td>['United States of America']</td>\n      <td>['Short Film', 'Silent film', 'Indie', 'Black-...</td>\n    </tr>\n    <tr>\n      <th>1</th>\n      <td>The Corbett-Fitzsimmons Fight</td>\n      <td>1897.0</td>\n      <td>5.3</td>\n      <td>484</td>\n      <td>28703057</td>\n      <td>The film no longer exists in its entirety; how...</td>\n      <td>/m/0czdh_n</td>\n      <td>[]</td>\n      <td>[]</td>\n      <td>['Sports']</td>\n    </tr>\n    <tr>\n      <th>2</th>\n      <td>The Story of the Kelly Gang</td>\n      <td>1906.0</td>\n      <td>6.0</td>\n      <td>855</td>\n      <td>142995</td>\n      <td>The Story of the Kelly Gangs tone is of sorrow...</td>\n      <td>/m/0120y4</td>\n      <td>['English Language']</td>\n      <td>['Australia']</td>\n      <td>['Crime Fiction', 'Silent film', 'Biography', ...</td>\n    </tr>\n    <tr>\n      <th>3</th>\n      <td>Robbery Under Arms</td>\n      <td>1907.0</td>\n      <td>4.3</td>\n      <td>25</td>\n      <td>32986669</td>\n      <td>Key scenes of the film included the branding o...</td>\n      <td>/m/04p7yxx</td>\n      <td>['Silent film']</td>\n      <td>['Australia']</td>\n      <td>['Silent film', 'Drama']</td>\n    </tr>\n    <tr>\n      <th>4</th>\n      <td>Captain Midnight, the Bush King</td>\n      <td>1911.0</td>\n      <td>5.4</td>\n      <td>18</td>\n      <td>32987200</td>\n      <td>Edgar Dalimore is the son of wealthy station o...</td>\n      <td>/m/0h569x9</td>\n      <td>['Silent film']</td>\n      <td>[]</td>\n      <td>['Silent film']</td>\n    </tr>\n  </tbody>\n</table>\n</div>"
     },
     "execution_count": 3,
     "metadata": {},
     "output_type": "execute_result"
    }
   ],
   "source": [
    "df = pd.read_csv('../data/processed/preprocessed.csv', index_col=0)\n",
    "print(df.shape)\n",
    "df.head(5)"
   ]
  },
  {
   "cell_type": "code",
   "execution_count": 4,
   "id": "aceb08fe7e93b27f",
   "metadata": {
    "collapsed": false,
    "ExecuteTime": {
     "end_time": "2023-11-15T13:38:07.200509Z",
     "start_time": "2023-11-15T13:38:07.193742Z"
    }
   },
   "outputs": [],
   "source": [
    "# let's take the subsample of the data for testing\n",
    "sample_df = df.sample(100)"
   ]
  },
  {
   "cell_type": "markdown",
   "id": "67e1170d40ddd854",
   "metadata": {
    "collapsed": false
   },
   "source": [
    "## Embedding\n",
    "\n",
    "We're using the model described in this [paper](https://arxiv.org/pdf/2212.03533.pdf), which can be downloaded [here](https://huggingface.co/intfloat/e5-large-v2). To download the model, run in the `models` directory:\n",
    "\n",
    "```\n",
    "git lfs install\n",
    "git clone https://huggingface.co/intfloat/e5-large-v2\n",
    "```"
   ]
  },
  {
   "cell_type": "markdown",
   "id": "d0ffc30f78811132",
   "metadata": {
    "collapsed": false
   },
   "source": [
    "### Modelling"
   ]
  },
  {
   "cell_type": "code",
   "execution_count": 5,
   "id": "86a5d2a1b0458bc5",
   "metadata": {
    "collapsed": false,
    "ExecuteTime": {
     "end_time": "2023-11-15T13:38:13.406190Z",
     "start_time": "2023-11-15T13:38:07.199342Z"
    }
   },
   "outputs": [],
   "source": [
    "model = SentenceTransformer('../models/e5-large-v2')"
   ]
  },
  {
   "cell_type": "code",
   "execution_count": 6,
   "id": "7cfbc7008cd6a21c",
   "metadata": {
    "collapsed": false,
    "ExecuteTime": {
     "end_time": "2023-11-15T13:41:15.281293Z",
     "start_time": "2023-11-15T13:38:13.415648Z"
    }
   },
   "outputs": [],
   "source": [
    "# create dictionary with embeddings for all the movies\n",
    "input_template = 'query: {}'\n",
    "embeddings = {}\n",
    "\n",
    "for index, row in sample_df.iterrows():\n",
    "    plot = input_template.format(row['plot'])\n",
    "    movie = row['name']\n",
    "    embeddings[movie] = get_embedding(plot, model)"
   ]
  },
  {
   "cell_type": "code",
   "execution_count": 20,
   "id": "48dfa3a6423971a6",
   "metadata": {
    "collapsed": false,
    "ExecuteTime": {
     "end_time": "2023-11-15T13:41:19.872792Z",
     "start_time": "2023-11-15T13:41:19.866816Z"
    }
   },
   "outputs": [],
   "source": []
  }
 ],
 "metadata": {
  "kernelspec": {
   "display_name": "Python 3 (ipykernel)",
   "language": "python",
   "name": "python3"
  },
  "language_info": {
   "codemirror_mode": {
    "name": "ipython",
    "version": 3
   },
   "file_extension": ".py",
   "mimetype": "text/x-python",
   "name": "python",
   "nbconvert_exporter": "python",
   "pygments_lexer": "ipython3",
   "version": "3.9.18"
  }
 },
 "nbformat": 4,
 "nbformat_minor": 5
}
