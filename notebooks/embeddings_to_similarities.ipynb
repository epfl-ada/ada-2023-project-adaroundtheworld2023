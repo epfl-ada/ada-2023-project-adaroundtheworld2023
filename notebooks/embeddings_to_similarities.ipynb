{
 "cells": [
  {
   "cell_type": "markdown",
   "id": "661f890a50442989",
   "metadata": {
    "collapsed": false
   },
   "source": [
    "# Similarities \n",
    "\n",
    "The aim of this notebook is to calculate similarity scores and save them down to JSON.\n",
    "As it's a heavy job, it will be run separately in Google Colab."
   ]
  },
  {
   "cell_type": "markdown",
   "id": "7c2ed3e6d43e682e",
   "metadata": {
    "collapsed": false
   },
   "source": [
    "## Imports"
   ]
  },
  {
   "cell_type": "code",
   "execution_count": 1,
   "id": "bb0892c103e47ca9",
   "metadata": {
    "collapsed": false,
    "ExecuteTime": {
     "end_time": "2023-12-09T07:31:02.956835Z",
     "start_time": "2023-12-09T07:31:02.952560Z"
    }
   },
   "outputs": [],
   "source": [
    "# add root path to system path\n",
    "import sys\n",
    "sys.path.append('../../')"
   ]
  },
  {
   "cell_type": "code",
   "execution_count": 2,
   "id": "initial_id",
   "metadata": {
    "collapsed": false,
    "ExecuteTime": {
     "end_time": "2023-12-09T07:31:03.355006Z",
     "start_time": "2023-12-09T07:31:02.958398Z"
    }
   },
   "outputs": [],
   "source": [
    "import itertools\n",
    "import pandas as pd\n",
    "import json\n",
    "import os\n",
    "from tqdm import tqdm\n",
    "from scripts.helpers import get_embeddings_from_json, get_similarities_from_json, get_classification_from_json"
   ]
  },
  {
   "cell_type": "code",
   "execution_count": 5,
   "outputs": [],
   "source": [
    "root_path = os.path.dirname(os.path.abspath(\"\"))"
   ],
   "metadata": {
    "collapsed": false,
    "ExecuteTime": {
     "end_time": "2023-12-09T07:31:16.436144Z",
     "start_time": "2023-12-09T07:31:16.418615Z"
    }
   },
   "id": "bc974e25cbcbc810"
  },
  {
   "cell_type": "markdown",
   "id": "3cc641d28c9a8a04",
   "metadata": {
    "collapsed": false
   },
   "source": [
    "## Data\n",
    "\n",
    "Note that data preprocessing has been done in [preprocess.ipynb](preprocess.ipynb). The notebook will clean, merge and save the data to `data/processed`."
   ]
  },
  {
   "cell_type": "code",
   "execution_count": 6,
   "id": "758af52d7fef8b5f",
   "metadata": {
    "collapsed": false,
    "ExecuteTime": {
     "end_time": "2023-12-09T07:31:19.383410Z",
     "start_time": "2023-12-09T07:31:18.769849Z"
    }
   },
   "outputs": [
    {
     "name": "stdout",
     "output_type": "stream",
     "text": [
      "(22394, 10)\n"
     ]
    },
    {
     "data": {
      "text/plain": "                              name  release_year  rating  num_votes  \\\n0                       Miss Jerry        1894.0     5.3        207   \n1    The Corbett-Fitzsimmons Fight        1897.0     5.3        484   \n2      The Story of the Kelly Gang        1906.0     6.0        855   \n3               Robbery Under Arms        1907.0     4.3         25   \n4  Captain Midnight, the Bush King        1911.0     5.4         18   \n\n   wikipedia_id                                               plot  \\\n0      10109752  After finding out that her father is suffering...   \n1      28703057  The film no longer exists in its entirety; how...   \n2        142995  The Story of the Kelly Gangs tone is of sorrow...   \n3      32986669  Key scenes of the film included the branding o...   \n4      32987200  Edgar Dalimore is the son of wealthy station o...   \n\n  freebase_id             languages                     countries  \\\n0  /m/02q23xk       ['Silent film']  ['United States of America']   \n1  /m/0czdh_n                    []                            []   \n2   /m/0120y4  ['English Language']                 ['Australia']   \n3  /m/04p7yxx       ['Silent film']                 ['Australia']   \n4  /m/0h569x9       ['Silent film']                            []   \n\n                                              genres  \n0  ['Short Film', 'Silent film', 'Indie', 'Black-...  \n1                                         ['Sports']  \n2  ['Crime Fiction', 'Silent film', 'Biography', ...  \n3                           ['Silent film', 'Drama']  \n4                                    ['Silent film']  ",
      "text/html": "<div>\n<style scoped>\n    .dataframe tbody tr th:only-of-type {\n        vertical-align: middle;\n    }\n\n    .dataframe tbody tr th {\n        vertical-align: top;\n    }\n\n    .dataframe thead th {\n        text-align: right;\n    }\n</style>\n<table border=\"1\" class=\"dataframe\">\n  <thead>\n    <tr style=\"text-align: right;\">\n      <th></th>\n      <th>name</th>\n      <th>release_year</th>\n      <th>rating</th>\n      <th>num_votes</th>\n      <th>wikipedia_id</th>\n      <th>plot</th>\n      <th>freebase_id</th>\n      <th>languages</th>\n      <th>countries</th>\n      <th>genres</th>\n    </tr>\n  </thead>\n  <tbody>\n    <tr>\n      <th>0</th>\n      <td>Miss Jerry</td>\n      <td>1894.0</td>\n      <td>5.3</td>\n      <td>207</td>\n      <td>10109752</td>\n      <td>After finding out that her father is suffering...</td>\n      <td>/m/02q23xk</td>\n      <td>['Silent film']</td>\n      <td>['United States of America']</td>\n      <td>['Short Film', 'Silent film', 'Indie', 'Black-...</td>\n    </tr>\n    <tr>\n      <th>1</th>\n      <td>The Corbett-Fitzsimmons Fight</td>\n      <td>1897.0</td>\n      <td>5.3</td>\n      <td>484</td>\n      <td>28703057</td>\n      <td>The film no longer exists in its entirety; how...</td>\n      <td>/m/0czdh_n</td>\n      <td>[]</td>\n      <td>[]</td>\n      <td>['Sports']</td>\n    </tr>\n    <tr>\n      <th>2</th>\n      <td>The Story of the Kelly Gang</td>\n      <td>1906.0</td>\n      <td>6.0</td>\n      <td>855</td>\n      <td>142995</td>\n      <td>The Story of the Kelly Gangs tone is of sorrow...</td>\n      <td>/m/0120y4</td>\n      <td>['English Language']</td>\n      <td>['Australia']</td>\n      <td>['Crime Fiction', 'Silent film', 'Biography', ...</td>\n    </tr>\n    <tr>\n      <th>3</th>\n      <td>Robbery Under Arms</td>\n      <td>1907.0</td>\n      <td>4.3</td>\n      <td>25</td>\n      <td>32986669</td>\n      <td>Key scenes of the film included the branding o...</td>\n      <td>/m/04p7yxx</td>\n      <td>['Silent film']</td>\n      <td>['Australia']</td>\n      <td>['Silent film', 'Drama']</td>\n    </tr>\n    <tr>\n      <th>4</th>\n      <td>Captain Midnight, the Bush King</td>\n      <td>1911.0</td>\n      <td>5.4</td>\n      <td>18</td>\n      <td>32987200</td>\n      <td>Edgar Dalimore is the son of wealthy station o...</td>\n      <td>/m/0h569x9</td>\n      <td>['Silent film']</td>\n      <td>[]</td>\n      <td>['Silent film']</td>\n    </tr>\n  </tbody>\n</table>\n</div>"
     },
     "execution_count": 6,
     "metadata": {},
     "output_type": "execute_result"
    }
   ],
   "source": [
    "movie_df = pd.read_csv(os.path.join(root_path, 'data/processed/preprocessed.csv'), index_col=0)\n",
    "print(movie_df.shape)\n",
    "movie_df.head(5)"
   ]
  },
  {
   "cell_type": "markdown",
   "id": "67e1170d40ddd854",
   "metadata": {
    "collapsed": false
   },
   "source": [
    "## Embeddings Approach\n",
    "\n",
    "Since we're already embedded the movies using Google Colab and downloaded them (see Readme), we can simply read the json."
   ]
  },
  {
   "cell_type": "code",
   "execution_count": 9,
   "outputs": [],
   "source": [
    "DECADE = 2010  # change the decade whenever necessary\n",
    "embeddings = get_embeddings_from_json(DECADE)"
   ],
   "metadata": {
    "collapsed": false,
    "ExecuteTime": {
     "end_time": "2023-11-28T10:41:06.802575Z",
     "start_time": "2023-11-28T10:41:05.898152Z"
    }
   },
   "id": "2530dbc6bf996e64"
  },
  {
   "cell_type": "markdown",
   "id": "d0ffc30f78811132",
   "metadata": {
    "collapsed": false
   },
   "source": [
    "### Modelling"
   ]
  },
  {
   "cell_type": "markdown",
   "id": "b420124b005206a3",
   "metadata": {
    "collapsed": false
   },
   "source": [
    "### Similarity Matrix\n",
    "\n",
    "Once we have vectorized the plots, we can calculate the similarities between the plots with dot product."
   ]
  },
  {
   "cell_type": "code",
   "execution_count": 10,
   "id": "ea69c2cd89f487d0",
   "metadata": {
    "collapsed": false,
    "ExecuteTime": {
     "end_time": "2023-11-28T10:41:08.224089Z",
     "start_time": "2023-11-28T10:41:08.221117Z"
    }
   },
   "outputs": [],
   "source": [
    "# generate all possible combinations for dot product \n",
    "movie_sample = list(embeddings.keys())\n",
    "combinations = list(itertools.combinations(movie_sample, 2))"
   ]
  },
  {
   "cell_type": "code",
   "execution_count": null,
   "id": "f6444dc41573dc26",
   "metadata": {
    "collapsed": false
   },
   "outputs": [],
   "source": [
    "similarity_dict = {}\n",
    "\n",
    "for movie_1, movie_2 in tqdm(combinations):\n",
    "    similarity = embeddings[movie_1] @ embeddings[movie_2]\n",
    "    similarity_dict['-'.join([str(movie_1), str(movie_2)])] = similarity"
   ]
  },
  {
   "cell_type": "code",
   "execution_count": 15,
   "outputs": [],
   "source": [
    "with open(os.path.join(root_path, 'data', 'embeddings', 'similarities', f'similarities_{DECADE}s.json'), \"w\") as outfile: \n",
    "    json.dump(similarity_dict, outfile)"
   ],
   "metadata": {
    "collapsed": false,
    "ExecuteTime": {
     "end_time": "2023-11-27T12:50:24.093426Z",
     "start_time": "2023-11-27T12:50:24.057901Z"
    }
   },
   "id": "fb3d2b4619177bbd"
  },
  {
   "cell_type": "markdown",
   "source": [
    "## Classification Approach"
   ],
   "metadata": {
    "collapsed": false
   },
   "id": "1a0a635ccb3a921f"
  },
  {
   "cell_type": "code",
   "execution_count": null,
   "outputs": [],
   "source": [
    "probabilities = get_classification_from_json(DECADE)"
   ],
   "metadata": {
    "collapsed": false
   },
   "id": "26b93e83d5a75e52"
  }
 ],
 "metadata": {
  "kernelspec": {
   "display_name": "Python 3 (ipykernel)",
   "language": "python",
   "name": "python3"
  },
  "language_info": {
   "codemirror_mode": {
    "name": "ipython",
    "version": 3
   },
   "file_extension": ".py",
   "mimetype": "text/x-python",
   "name": "python",
   "nbconvert_exporter": "python",
   "pygments_lexer": "ipython3",
   "version": "3.9.18"
  }
 },
 "nbformat": 4,
 "nbformat_minor": 5
}
