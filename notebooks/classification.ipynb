{
 "cells": [
  {
   "cell_type": "markdown",
   "source": [
    "# Text Classification\n",
    "\n",
    "While in the notebook `embedding`, we were trying to generate the graph based on the similarity of the clusters, this time\n",
    "we'll let the model predict the probability of belonging to a class. "
   ],
   "metadata": {
    "collapsed": false
   },
   "id": "f8264db2fdfc8832"
  },
  {
   "cell_type": "markdown",
   "source": [
    "## Imports"
   ],
   "metadata": {
    "collapsed": false
   },
   "id": "43ae40ccf6ece925"
  },
  {
   "cell_type": "code",
   "execution_count": 1,
   "outputs": [],
   "source": [
    "import pandas as pd\n",
    "import numpy as np\n",
    "\n",
    "from transformers import pipeline\n",
    "from scripts.helpers import get_list_of_genres, get_str_of_genres"
   ],
   "metadata": {
    "collapsed": false,
    "ExecuteTime": {
     "end_time": "2023-11-02T12:49:41.217098Z",
     "start_time": "2023-11-02T12:49:36.264083Z"
    }
   },
   "id": "99e3e26d6cf5e090"
  },
  {
   "cell_type": "markdown",
   "source": [
    "## Data Processing"
   ],
   "metadata": {
    "collapsed": false
   },
   "id": "4a3593b066ff91f8"
  },
  {
   "cell_type": "code",
   "execution_count": 2,
   "outputs": [
    {
     "data": {
      "text/plain": "   wikipedia_id freebase_id  \\\n0        975900   /m/03vyhn   \n1       3196793   /m/08yl5d   \n2      28463795  /m/0crgdbh   \n3       9363483  /m/0285_cd   \n4        261236   /m/01mrr1   \n\n                                                name release_date  \\\n0                                     Ghosts of Mars   2001-08-24   \n1  Getting Away with Murder: The JonBenét Ramsey ...   2000-02-16   \n2                                        Brun bitter         1988   \n3                                   White Of The Eye         1987   \n4                                  A Woman in Flames         1983   \n\n   box_office_revenue  runtime                           languages  \\\n0          14010832.0     98.0  {\"/m/02h40lc\": \"English Language\"}   \n1                 NaN     95.0  {\"/m/02h40lc\": \"English Language\"}   \n2                 NaN     83.0  {\"/m/05f_3\": \"Norwegian Language\"}   \n3                 NaN    110.0  {\"/m/02h40lc\": \"English Language\"}   \n4                 NaN    106.0   {\"/m/04306rv\": \"German Language\"}   \n\n                                   countries  \\\n0  {\"/m/09c7w0\": \"United States of America\"}   \n1  {\"/m/09c7w0\": \"United States of America\"}   \n2                     {\"/m/05b4w\": \"Norway\"}   \n3             {\"/m/07ssc\": \"United Kingdom\"}   \n4                    {\"/m/0345h\": \"Germany\"}   \n\n                                              genres  \n0  {\"/m/01jfsb\": \"Thriller\", \"/m/06n90\": \"Science...  \n1  {\"/m/02n4kr\": \"Mystery\", \"/m/03bxz7\": \"Biograp...  \n2  {\"/m/0lsxr\": \"Crime Fiction\", \"/m/07s9rl0\": \"D...  \n3  {\"/m/01jfsb\": \"Thriller\", \"/m/0glj9q\": \"Erotic...  \n4                            {\"/m/07s9rl0\": \"Drama\"}  ",
      "text/html": "<div>\n<style scoped>\n    .dataframe tbody tr th:only-of-type {\n        vertical-align: middle;\n    }\n\n    .dataframe tbody tr th {\n        vertical-align: top;\n    }\n\n    .dataframe thead th {\n        text-align: right;\n    }\n</style>\n<table border=\"1\" class=\"dataframe\">\n  <thead>\n    <tr style=\"text-align: right;\">\n      <th></th>\n      <th>wikipedia_id</th>\n      <th>freebase_id</th>\n      <th>name</th>\n      <th>release_date</th>\n      <th>box_office_revenue</th>\n      <th>runtime</th>\n      <th>languages</th>\n      <th>countries</th>\n      <th>genres</th>\n    </tr>\n  </thead>\n  <tbody>\n    <tr>\n      <th>0</th>\n      <td>975900</td>\n      <td>/m/03vyhn</td>\n      <td>Ghosts of Mars</td>\n      <td>2001-08-24</td>\n      <td>14010832.0</td>\n      <td>98.0</td>\n      <td>{\"/m/02h40lc\": \"English Language\"}</td>\n      <td>{\"/m/09c7w0\": \"United States of America\"}</td>\n      <td>{\"/m/01jfsb\": \"Thriller\", \"/m/06n90\": \"Science...</td>\n    </tr>\n    <tr>\n      <th>1</th>\n      <td>3196793</td>\n      <td>/m/08yl5d</td>\n      <td>Getting Away with Murder: The JonBenét Ramsey ...</td>\n      <td>2000-02-16</td>\n      <td>NaN</td>\n      <td>95.0</td>\n      <td>{\"/m/02h40lc\": \"English Language\"}</td>\n      <td>{\"/m/09c7w0\": \"United States of America\"}</td>\n      <td>{\"/m/02n4kr\": \"Mystery\", \"/m/03bxz7\": \"Biograp...</td>\n    </tr>\n    <tr>\n      <th>2</th>\n      <td>28463795</td>\n      <td>/m/0crgdbh</td>\n      <td>Brun bitter</td>\n      <td>1988</td>\n      <td>NaN</td>\n      <td>83.0</td>\n      <td>{\"/m/05f_3\": \"Norwegian Language\"}</td>\n      <td>{\"/m/05b4w\": \"Norway\"}</td>\n      <td>{\"/m/0lsxr\": \"Crime Fiction\", \"/m/07s9rl0\": \"D...</td>\n    </tr>\n    <tr>\n      <th>3</th>\n      <td>9363483</td>\n      <td>/m/0285_cd</td>\n      <td>White Of The Eye</td>\n      <td>1987</td>\n      <td>NaN</td>\n      <td>110.0</td>\n      <td>{\"/m/02h40lc\": \"English Language\"}</td>\n      <td>{\"/m/07ssc\": \"United Kingdom\"}</td>\n      <td>{\"/m/01jfsb\": \"Thriller\", \"/m/0glj9q\": \"Erotic...</td>\n    </tr>\n    <tr>\n      <th>4</th>\n      <td>261236</td>\n      <td>/m/01mrr1</td>\n      <td>A Woman in Flames</td>\n      <td>1983</td>\n      <td>NaN</td>\n      <td>106.0</td>\n      <td>{\"/m/04306rv\": \"German Language\"}</td>\n      <td>{\"/m/0345h\": \"Germany\"}</td>\n      <td>{\"/m/07s9rl0\": \"Drama\"}</td>\n    </tr>\n  </tbody>\n</table>\n</div>"
     },
     "execution_count": 2,
     "metadata": {},
     "output_type": "execute_result"
    }
   ],
   "source": [
    "# specify the column names \n",
    "column_names = ['wikipedia_id', 'freebase_id', 'name', 'release_date', 'box_office_revenue', 'runtime', 'languages', 'countries', 'genres']\n",
    "movie_metadata_df = pd.read_table('../data/raw/movie.metadata.tsv', names=column_names)\n",
    "movie_metadata_df.head(5)"
   ],
   "metadata": {
    "collapsed": false,
    "ExecuteTime": {
     "end_time": "2023-11-02T12:49:41.590334Z",
     "start_time": "2023-11-02T12:49:41.219177Z"
    }
   },
   "id": "11c495a4987c9316"
  },
  {
   "cell_type": "code",
   "execution_count": 3,
   "outputs": [],
   "source": [
    "movie_metadata_df['genres_list'] = movie_metadata_df.genres.apply(get_list_of_genres)"
   ],
   "metadata": {
    "collapsed": false,
    "ExecuteTime": {
     "end_time": "2023-11-02T12:49:42.134073Z",
     "start_time": "2023-11-02T12:49:41.594762Z"
    }
   },
   "id": "d1cf00c99dc3d76d"
  },
  {
   "cell_type": "code",
   "execution_count": 4,
   "outputs": [
    {
     "data": {
      "text/plain": "   wikipedia_id freebase_id  \\\n0        975900   /m/03vyhn   \n1       3196793   /m/08yl5d   \n2      28463795  /m/0crgdbh   \n3       9363483  /m/0285_cd   \n4        261236   /m/01mrr1   \n\n                                                name release_date  \\\n0                                     Ghosts of Mars   2001-08-24   \n1  Getting Away with Murder: The JonBenét Ramsey ...   2000-02-16   \n2                                        Brun bitter         1988   \n3                                   White Of The Eye         1987   \n4                                  A Woman in Flames         1983   \n\n   box_office_revenue  runtime                           languages  \\\n0          14010832.0     98.0  {\"/m/02h40lc\": \"English Language\"}   \n1                 NaN     95.0  {\"/m/02h40lc\": \"English Language\"}   \n2                 NaN     83.0  {\"/m/05f_3\": \"Norwegian Language\"}   \n3                 NaN    110.0  {\"/m/02h40lc\": \"English Language\"}   \n4                 NaN    106.0   {\"/m/04306rv\": \"German Language\"}   \n\n                                   countries  \\\n0  {\"/m/09c7w0\": \"United States of America\"}   \n1  {\"/m/09c7w0\": \"United States of America\"}   \n2                     {\"/m/05b4w\": \"Norway\"}   \n3             {\"/m/07ssc\": \"United Kingdom\"}   \n4                    {\"/m/0345h\": \"Germany\"}   \n\n                                              genres  \\\n0  {\"/m/01jfsb\": \"Thriller\", \"/m/06n90\": \"Science...   \n1  {\"/m/02n4kr\": \"Mystery\", \"/m/03bxz7\": \"Biograp...   \n2  {\"/m/0lsxr\": \"Crime Fiction\", \"/m/07s9rl0\": \"D...   \n3  {\"/m/01jfsb\": \"Thriller\", \"/m/0glj9q\": \"Erotic...   \n4                            {\"/m/07s9rl0\": \"Drama\"}   \n\n                                         genres_list  \n0  [Thriller, Science Fiction, Horror, Adventure,...  \n1   [Mystery, Biographical film, Drama, Crime Drama]  \n2                             [Crime Fiction, Drama]  \n3  [Thriller, Erotic thriller, Psychological thri...  \n4                                            [Drama]  ",
      "text/html": "<div>\n<style scoped>\n    .dataframe tbody tr th:only-of-type {\n        vertical-align: middle;\n    }\n\n    .dataframe tbody tr th {\n        vertical-align: top;\n    }\n\n    .dataframe thead th {\n        text-align: right;\n    }\n</style>\n<table border=\"1\" class=\"dataframe\">\n  <thead>\n    <tr style=\"text-align: right;\">\n      <th></th>\n      <th>wikipedia_id</th>\n      <th>freebase_id</th>\n      <th>name</th>\n      <th>release_date</th>\n      <th>box_office_revenue</th>\n      <th>runtime</th>\n      <th>languages</th>\n      <th>countries</th>\n      <th>genres</th>\n      <th>genres_list</th>\n    </tr>\n  </thead>\n  <tbody>\n    <tr>\n      <th>0</th>\n      <td>975900</td>\n      <td>/m/03vyhn</td>\n      <td>Ghosts of Mars</td>\n      <td>2001-08-24</td>\n      <td>14010832.0</td>\n      <td>98.0</td>\n      <td>{\"/m/02h40lc\": \"English Language\"}</td>\n      <td>{\"/m/09c7w0\": \"United States of America\"}</td>\n      <td>{\"/m/01jfsb\": \"Thriller\", \"/m/06n90\": \"Science...</td>\n      <td>[Thriller, Science Fiction, Horror, Adventure,...</td>\n    </tr>\n    <tr>\n      <th>1</th>\n      <td>3196793</td>\n      <td>/m/08yl5d</td>\n      <td>Getting Away with Murder: The JonBenét Ramsey ...</td>\n      <td>2000-02-16</td>\n      <td>NaN</td>\n      <td>95.0</td>\n      <td>{\"/m/02h40lc\": \"English Language\"}</td>\n      <td>{\"/m/09c7w0\": \"United States of America\"}</td>\n      <td>{\"/m/02n4kr\": \"Mystery\", \"/m/03bxz7\": \"Biograp...</td>\n      <td>[Mystery, Biographical film, Drama, Crime Drama]</td>\n    </tr>\n    <tr>\n      <th>2</th>\n      <td>28463795</td>\n      <td>/m/0crgdbh</td>\n      <td>Brun bitter</td>\n      <td>1988</td>\n      <td>NaN</td>\n      <td>83.0</td>\n      <td>{\"/m/05f_3\": \"Norwegian Language\"}</td>\n      <td>{\"/m/05b4w\": \"Norway\"}</td>\n      <td>{\"/m/0lsxr\": \"Crime Fiction\", \"/m/07s9rl0\": \"D...</td>\n      <td>[Crime Fiction, Drama]</td>\n    </tr>\n    <tr>\n      <th>3</th>\n      <td>9363483</td>\n      <td>/m/0285_cd</td>\n      <td>White Of The Eye</td>\n      <td>1987</td>\n      <td>NaN</td>\n      <td>110.0</td>\n      <td>{\"/m/02h40lc\": \"English Language\"}</td>\n      <td>{\"/m/07ssc\": \"United Kingdom\"}</td>\n      <td>{\"/m/01jfsb\": \"Thriller\", \"/m/0glj9q\": \"Erotic...</td>\n      <td>[Thriller, Erotic thriller, Psychological thri...</td>\n    </tr>\n    <tr>\n      <th>4</th>\n      <td>261236</td>\n      <td>/m/01mrr1</td>\n      <td>A Woman in Flames</td>\n      <td>1983</td>\n      <td>NaN</td>\n      <td>106.0</td>\n      <td>{\"/m/04306rv\": \"German Language\"}</td>\n      <td>{\"/m/0345h\": \"Germany\"}</td>\n      <td>{\"/m/07s9rl0\": \"Drama\"}</td>\n      <td>[Drama]</td>\n    </tr>\n  </tbody>\n</table>\n</div>"
     },
     "execution_count": 4,
     "metadata": {},
     "output_type": "execute_result"
    }
   ],
   "source": [
    "movie_metadata_df.head(5)"
   ],
   "metadata": {
    "collapsed": false,
    "ExecuteTime": {
     "end_time": "2023-11-02T12:49:42.147579Z",
     "start_time": "2023-11-02T12:49:42.139354Z"
    }
   },
   "id": "7b91f28c3be473a4"
  },
  {
   "cell_type": "code",
   "execution_count": 5,
   "outputs": [
    {
     "name": "stdout",
     "output_type": "stream",
     "text": [
      "We have 364 different genres.\n"
     ]
    }
   ],
   "source": [
    "# let's find all the unique genres there are\n",
    "unique_genres = set(movie_metadata_df.genres_list.explode().tolist())\n",
    "print(f'We have {len(unique_genres)} different genres.')"
   ],
   "metadata": {
    "collapsed": false,
    "ExecuteTime": {
     "end_time": "2023-11-02T12:49:42.253497Z",
     "start_time": "2023-11-02T12:49:42.154741Z"
    }
   },
   "id": "a7f19e68b8f701b1"
  },
  {
   "cell_type": "code",
   "execution_count": 6,
   "outputs": [],
   "source": [
    "# as there are too many genres, let's make a test with only 3 of them\n",
    "selected_genres = ['action', 'nature', 'comedy']"
   ],
   "metadata": {
    "collapsed": false,
    "ExecuteTime": {
     "end_time": "2023-11-02T12:49:42.253834Z",
     "start_time": "2023-11-02T12:49:42.204159Z"
    }
   },
   "id": "979d8c329a5cd92c"
  },
  {
   "cell_type": "markdown",
   "source": [
    "### Plots\n",
    "\n",
    "As we want to embed plots, let's read them in and merge with `movie_metadata_df`."
   ],
   "metadata": {
    "collapsed": false
   },
   "id": "83f2a7aa6e556d59"
  },
  {
   "cell_type": "code",
   "execution_count": 7,
   "outputs": [
    {
     "data": {
      "text/plain": "   wikipedia_id                                               plot\n0      23890098  Shlykov, a hard-working taxi driver and Lyosha...\n1      31186339  The nation of Panem consists of a wealthy Capi...\n2      20663735  Poovalli Induchoodan  is sentenced for six yea...\n3       2231378  The Lemon Drop Kid , a New York City swindler,...\n4        595909  Seventh-day Adventist Church pastor Michael Ch...",
      "text/html": "<div>\n<style scoped>\n    .dataframe tbody tr th:only-of-type {\n        vertical-align: middle;\n    }\n\n    .dataframe tbody tr th {\n        vertical-align: top;\n    }\n\n    .dataframe thead th {\n        text-align: right;\n    }\n</style>\n<table border=\"1\" class=\"dataframe\">\n  <thead>\n    <tr style=\"text-align: right;\">\n      <th></th>\n      <th>wikipedia_id</th>\n      <th>plot</th>\n    </tr>\n  </thead>\n  <tbody>\n    <tr>\n      <th>0</th>\n      <td>23890098</td>\n      <td>Shlykov, a hard-working taxi driver and Lyosha...</td>\n    </tr>\n    <tr>\n      <th>1</th>\n      <td>31186339</td>\n      <td>The nation of Panem consists of a wealthy Capi...</td>\n    </tr>\n    <tr>\n      <th>2</th>\n      <td>20663735</td>\n      <td>Poovalli Induchoodan  is sentenced for six yea...</td>\n    </tr>\n    <tr>\n      <th>3</th>\n      <td>2231378</td>\n      <td>The Lemon Drop Kid , a New York City swindler,...</td>\n    </tr>\n    <tr>\n      <th>4</th>\n      <td>595909</td>\n      <td>Seventh-day Adventist Church pastor Michael Ch...</td>\n    </tr>\n  </tbody>\n</table>\n</div>"
     },
     "execution_count": 7,
     "metadata": {},
     "output_type": "execute_result"
    }
   ],
   "source": [
    "plot_column_names = ['wikipedia_id', 'plot']\n",
    "plot_df = pd.read_csv('../data/raw/plot_summaries.txt', sep=\"\\t\", names=plot_column_names) \n",
    "plot_df.head(5)"
   ],
   "metadata": {
    "collapsed": false,
    "ExecuteTime": {
     "end_time": "2023-11-02T12:49:44.095093Z",
     "start_time": "2023-11-02T12:49:42.210559Z"
    }
   },
   "id": "1ed3df2e9d437af2"
  },
  {
   "cell_type": "code",
   "execution_count": 8,
   "outputs": [
    {
     "data": {
      "text/plain": "(42204, 11)"
     },
     "execution_count": 8,
     "metadata": {},
     "output_type": "execute_result"
    }
   ],
   "source": [
    "# let's now merge the DataFrames\n",
    "merged_df = movie_metadata_df.merge(plot_df, on='wikipedia_id', how='inner')\n",
    "merged_df.shape"
   ],
   "metadata": {
    "collapsed": false,
    "ExecuteTime": {
     "end_time": "2023-11-02T12:49:44.254747Z",
     "start_time": "2023-11-02T12:49:44.095356Z"
    }
   },
   "id": "631770673dfd77eb"
  },
  {
   "cell_type": "code",
   "execution_count": 9,
   "outputs": [
    {
     "data": {
      "text/plain": "(18297, 12)"
     },
     "execution_count": 9,
     "metadata": {},
     "output_type": "execute_result"
    }
   ],
   "source": [
    "# in order to filter by genres, let's generate temporary genre-string column\n",
    "merged_df['genres_string'] = merged_df.genres.apply(get_str_of_genres)\n",
    "\n",
    "# and take some films from all three selected genres\n",
    "regex_pattern = \"|\".join(selected_genres)\n",
    "genre_mask = merged_df.genres_string.str.contains(regex_pattern)\n",
    "filtered_df = merged_df[genre_mask]\n",
    "filtered_df.shape"
   ],
   "metadata": {
    "collapsed": false,
    "ExecuteTime": {
     "end_time": "2023-11-02T12:49:44.447824Z",
     "start_time": "2023-11-02T12:49:44.152492Z"
    }
   },
   "id": "6a6e89cd10aec6a8"
  },
  {
   "cell_type": "code",
   "execution_count": 10,
   "outputs": [
    {
     "data": {
      "text/plain": "(4527, 12)"
     },
     "execution_count": 10,
     "metadata": {},
     "output_type": "execute_result"
    }
   ],
   "source": [
    "# we are left with ~18,000 plots, let's filter out the ones that don't have revenue information\n",
    "filtered_df = filtered_df[~np.isnan(filtered_df.box_office_revenue)]\n",
    "filtered_df.shape"
   ],
   "metadata": {
    "collapsed": false,
    "ExecuteTime": {
     "end_time": "2023-11-02T12:49:44.498851Z",
     "start_time": "2023-11-02T12:49:44.451647Z"
    }
   },
   "id": "b685e6b7d7d8dc74"
  },
  {
   "cell_type": "code",
   "execution_count": 11,
   "outputs": [],
   "source": [
    "# and now let's try classification with just 30 movies\n",
    "final_df = filtered_df.sample(30)"
   ],
   "metadata": {
    "collapsed": false,
    "ExecuteTime": {
     "end_time": "2023-11-02T12:49:44.507606Z",
     "start_time": "2023-11-02T12:49:44.467978Z"
    }
   },
   "id": "5eb9b56b6eecab33"
  },
  {
   "cell_type": "markdown",
   "source": [
    "## Modelling\n",
    "\n",
    "We're using the model described in this [paper](https://arxiv.org/pdf/1909.00161.pdf), which can be downloaded [here](https://huggingface.co/facebook/bart-large-mnli). To download the model, run in the `models` directory:\n",
    "\n",
    "```\n",
    "git lfs install\n",
    "git clone https://huggingface.co/facebook/bart-large-mnli\n",
    "```"
   ],
   "metadata": {
    "collapsed": false
   },
   "id": "9a706def9714afae"
  },
  {
   "cell_type": "code",
   "execution_count": 12,
   "outputs": [],
   "source": [
    "classifier = pipeline(\"zero-shot-classification\", model=\"../models/bart-large-mnli\")"
   ],
   "metadata": {
    "collapsed": false,
    "ExecuteTime": {
     "end_time": "2023-11-02T12:49:52.104438Z",
     "start_time": "2023-11-02T12:49:44.473933Z"
    }
   },
   "id": "56933da56e93078a"
  },
  {
   "cell_type": "code",
   "execution_count": 17,
   "outputs": [],
   "source": [
    "probabilities = {}\n",
    "candidate_labels = ['travel', 'cooking', 'dancing']\n",
    "\n",
    "for i, row in final_df.iterrows():\n",
    "    probabilities[row.name] = classifier(row['plot'], selected_genres)"
   ],
   "metadata": {
    "collapsed": false,
    "ExecuteTime": {
     "end_time": "2023-11-02T12:54:30.312933Z",
     "start_time": "2023-11-02T12:51:24.646583Z"
    }
   },
   "id": "7710ea0a19e758ad"
  },
  {
   "cell_type": "code",
   "execution_count": 20,
   "outputs": [
    {
     "ename": "KeyboardInterrupt",
     "evalue": "",
     "output_type": "error",
     "traceback": [
      "\u001B[0;31m---------------------------------------------------------------------------\u001B[0m",
      "\u001B[0;31mKeyboardInterrupt\u001B[0m                         Traceback (most recent call last)",
      "Cell \u001B[0;32mIn[20], line 1\u001B[0m\n\u001B[0;32m----> 1\u001B[0m \u001B[43mprobabilities\u001B[49m\n",
      "Cell \u001B[0;32mIn[20], line 1\u001B[0m\n\u001B[0;32m----> 1\u001B[0m \u001B[43mprobabilities\u001B[49m\n",
      "File \u001B[0;32m_pydevd_bundle/pydevd_cython_darwin_39_64.pyx:1179\u001B[0m, in \u001B[0;36m_pydevd_bundle.pydevd_cython_darwin_39_64.SafeCallWrapper.__call__\u001B[0;34m()\u001B[0m\n",
      "File \u001B[0;32m_pydevd_bundle/pydevd_cython_darwin_39_64.pyx:620\u001B[0m, in \u001B[0;36m_pydevd_bundle.pydevd_cython_darwin_39_64.PyDBFrame.trace_dispatch\u001B[0;34m()\u001B[0m\n",
      "File \u001B[0;32m_pydevd_bundle/pydevd_cython_darwin_39_64.pyx:929\u001B[0m, in \u001B[0;36m_pydevd_bundle.pydevd_cython_darwin_39_64.PyDBFrame.trace_dispatch\u001B[0;34m()\u001B[0m\n",
      "File \u001B[0;32m_pydevd_bundle/pydevd_cython_darwin_39_64.pyx:920\u001B[0m, in \u001B[0;36m_pydevd_bundle.pydevd_cython_darwin_39_64.PyDBFrame.trace_dispatch\u001B[0;34m()\u001B[0m\n",
      "File \u001B[0;32m_pydevd_bundle/pydevd_cython_darwin_39_64.pyx:317\u001B[0m, in \u001B[0;36m_pydevd_bundle.pydevd_cython_darwin_39_64.PyDBFrame.do_wait_suspend\u001B[0;34m()\u001B[0m\n",
      "File \u001B[0;32m/Applications/PyCharm.app/Contents/plugins/python/helpers/pydev/pydevd.py:1160\u001B[0m, in \u001B[0;36mPyDB.do_wait_suspend\u001B[0;34m(self, thread, frame, event, arg, send_suspend_message, is_unhandled_exception)\u001B[0m\n\u001B[1;32m   1157\u001B[0m         from_this_thread\u001B[38;5;241m.\u001B[39mappend(frame_id)\n\u001B[1;32m   1159\u001B[0m \u001B[38;5;28;01mwith\u001B[39;00m \u001B[38;5;28mself\u001B[39m\u001B[38;5;241m.\u001B[39m_threads_suspended_single_notification\u001B[38;5;241m.\u001B[39mnotify_thread_suspended(thread_id, stop_reason):\n\u001B[0;32m-> 1160\u001B[0m     \u001B[38;5;28;43mself\u001B[39;49m\u001B[38;5;241;43m.\u001B[39;49m\u001B[43m_do_wait_suspend\u001B[49m\u001B[43m(\u001B[49m\u001B[43mthread\u001B[49m\u001B[43m,\u001B[49m\u001B[43m \u001B[49m\u001B[43mframe\u001B[49m\u001B[43m,\u001B[49m\u001B[43m \u001B[49m\u001B[43mevent\u001B[49m\u001B[43m,\u001B[49m\u001B[43m \u001B[49m\u001B[43marg\u001B[49m\u001B[43m,\u001B[49m\u001B[43m \u001B[49m\u001B[43msuspend_type\u001B[49m\u001B[43m,\u001B[49m\u001B[43m \u001B[49m\u001B[43mfrom_this_thread\u001B[49m\u001B[43m)\u001B[49m\n",
      "File \u001B[0;32m/Applications/PyCharm.app/Contents/plugins/python/helpers/pydev/pydevd.py:1175\u001B[0m, in \u001B[0;36mPyDB._do_wait_suspend\u001B[0;34m(self, thread, frame, event, arg, suspend_type, from_this_thread)\u001B[0m\n\u001B[1;32m   1172\u001B[0m             \u001B[38;5;28mself\u001B[39m\u001B[38;5;241m.\u001B[39m_call_mpl_hook()\n\u001B[1;32m   1174\u001B[0m         \u001B[38;5;28mself\u001B[39m\u001B[38;5;241m.\u001B[39mprocess_internal_commands()\n\u001B[0;32m-> 1175\u001B[0m         \u001B[43mtime\u001B[49m\u001B[38;5;241;43m.\u001B[39;49m\u001B[43msleep\u001B[49m\u001B[43m(\u001B[49m\u001B[38;5;241;43m0.01\u001B[39;49m\u001B[43m)\u001B[49m\n\u001B[1;32m   1177\u001B[0m \u001B[38;5;28mself\u001B[39m\u001B[38;5;241m.\u001B[39mcancel_async_evaluation(get_current_thread_id(thread), \u001B[38;5;28mstr\u001B[39m(\u001B[38;5;28mid\u001B[39m(frame)))\n\u001B[1;32m   1179\u001B[0m \u001B[38;5;66;03m# process any stepping instructions\u001B[39;00m\n",
      "\u001B[0;31mKeyboardInterrupt\u001B[0m: "
     ]
    }
   ],
   "source": [
    "probabilities"
   ],
   "metadata": {
    "collapsed": false,
    "ExecuteTime": {
     "end_time": "2023-11-02T13:07:01.885913Z",
     "start_time": "2023-11-02T13:03:39.076871Z"
    }
   },
   "id": "a2ce3ca337315365"
  },
  {
   "cell_type": "code",
   "execution_count": 19,
   "outputs": [],
   "source": [
    "probabilities"
   ],
   "metadata": {
    "collapsed": false,
    "ExecuteTime": {
     "end_time": "2023-11-02T13:03:36.159532Z",
     "start_time": "2023-11-02T13:03:35.977704Z"
    }
   },
   "id": "f6cacd2d1354c283"
  }
 ],
 "metadata": {
  "kernelspec": {
   "display_name": "Python 3",
   "language": "python",
   "name": "python3"
  },
  "language_info": {
   "codemirror_mode": {
    "name": "ipython",
    "version": 2
   },
   "file_extension": ".py",
   "mimetype": "text/x-python",
   "name": "python",
   "nbconvert_exporter": "python",
   "pygments_lexer": "ipython2",
   "version": "2.7.6"
  }
 },
 "nbformat": 4,
 "nbformat_minor": 5
}
