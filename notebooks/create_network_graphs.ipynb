{
 "cells": [
  {
   "cell_type": "markdown",
   "source": [
    "# Network Graphs\n",
    "\n",
    "The aim of this notebook is to ..."
   ],
   "metadata": {
    "collapsed": false
   },
   "id": "55c4ea2fe38b7eed"
  },
  {
   "cell_type": "markdown",
   "source": [
    "## Imports"
   ],
   "metadata": {
    "collapsed": false
   },
   "id": "516ca5b601698afc"
  },
  {
   "cell_type": "code",
   "execution_count": null,
   "outputs": [],
   "source": [
    "import itertools\n",
    "\n",
    "import pandas as pd\n",
    "import networkx as nx\n",
    "\n",
    "from tqdm import tqdm\n",
    "from scripts.helpers import get_similarities_from_json\n"
   ],
   "metadata": {
    "collapsed": false
   },
   "id": "358d9f50bf8f9d28"
  },
  {
   "cell_type": "code",
   "execution_count": null,
   "outputs": [],
   "source": [
    "df = pd.read_csv('../data/processed/preprocessed.csv', index_col=0)\n",
    "df.set_index('wikipedia_id', inplace=True)\n",
    "print(df.shape)\n",
    "df.head(5)"
   ],
   "metadata": {
    "collapsed": false
   },
   "id": "6d566ab5f732f313"
  },
  {
   "cell_type": "code",
   "execution_count": null,
   "outputs": [],
   "source": [
    "\n",
    "similarity_dict = get_similarities_from_json(1920)\n",
    "movies = list(set(itertools.chain(*similarity_dict.keys())))"
   ],
   "metadata": {
    "collapsed": false
   },
   "id": "2c3276f2a43ab539"
  },
  {
   "cell_type": "code",
   "execution_count": null,
   "outputs": [],
   "source": [
    "# let's check the distribution of similarity values\n",
    "similarity_values = list(similarity_dict.values())\n",
    "_ = pd.Series(similarity_values).plot.hist(bins=50, title='Distribution of similarity values')"
   ],
   "metadata": {
    "collapsed": false
   },
   "id": "3bb2eec15978f4a3"
  },
  {
   "cell_type": "code",
   "execution_count": null,
   "outputs": [],
   "source": [
    "# let's show descriptive statistics\n",
    "descriptive_stats = pd.Series(similarity_values).describe()\n",
    "descriptive_stats"
   ],
   "metadata": {
    "collapsed": false
   },
   "id": "2c8abe1c144c71c6"
  },
  {
   "cell_type": "code",
   "execution_count": null,
   "outputs": [],
   "source": [
    "similarity_threshold = descriptive_stats['75%']  # let's take 75th percentile\n",
    "\n",
    "nodes_df = pd.DataFrame(columns=['Source', 'Target', 'Weight'])\n",
    "\n",
    "G = nx.Graph()\n",
    "G.add_nodes_from(movies)\n",
    "for (movie_1, movie_2), similarity in tqdm(similarity_dict.items()):\n",
    "    if similarity > similarity_threshold:\n",
    "        nodes_df.loc[len(nodes_df)] = [movie_1, movie_2, similarity]\n",
    "\n",
    "G = nx.from_pandas_edgelist(nodes_df, 'Source', 'Target', 'Weight')"
   ],
   "metadata": {
    "collapsed": false
   },
   "id": "e38586f32f306902"
  },
  {
   "cell_type": "code",
   "execution_count": null,
   "outputs": [],
   "source": [
    "# add name as an attribute\n",
    "names = dict((id_, df.loc[int(id_)]['name']) for id_ in G.nodes)\n",
    "nx.set_node_attributes(G, name='name', values=names)"
   ],
   "metadata": {
    "collapsed": false
   },
   "id": "f5216d0a3cbe6861"
  },
  {
   "cell_type": "code",
   "execution_count": null,
   "outputs": [],
   "source": [
    "# add wikipedia id as an attribute\n",
    "names = dict((id_, int(id_)) for id_ in G.nodes)\n",
    "nx.set_node_attributes(G, name='wikipedia_id', values=names)"
   ],
   "metadata": {
    "collapsed": false
   },
   "id": "81cb904af280b4f8"
  },
  {
   "cell_type": "code",
   "execution_count": null,
   "outputs": [],
   "source": [
    "# calculate the betweenness centrality\n",
    "betweenness = nx.betweenness_centrality(G)\n",
    "nx.set_node_attributes(G, name='betweenness', values=betweenness)"
   ],
   "metadata": {
    "collapsed": false
   },
   "id": "66bfe784e7b4e54f"
  },
  {
   "cell_type": "code",
   "execution_count": null,
   "outputs": [],
   "source": [
    "# calculate degree for each node\n",
    "degrees = dict(nx.degree(G))\n",
    "nx.set_node_attributes(G, name='degree', values=degrees)"
   ],
   "metadata": {
    "collapsed": false
   },
   "id": "f5b4c48f31af60fd"
  },
  {
   "cell_type": "code",
   "execution_count": null,
   "outputs": [],
   "source": [
    "# add movie rating\n",
    "ratings_dict = dict((id_, df.loc[int(id_)]['rating']) for id_ in G.nodes)\n",
    "nx.set_node_attributes(G, name='rating', values=ratings_dict)"
   ],
   "metadata": {
    "collapsed": false
   },
   "id": "30c7e9fb0da62b2e"
  },
  {
   "cell_type": "code",
   "execution_count": null,
   "outputs": [],
   "source": [
    "# add release data\n",
    "date_dict = dict((id_, df.loc[int(id_)]['release_year']) for id_ in G.nodes)\n",
    "nx.set_node_attributes(G, name=\"release_year\", values=date_dict)"
   ],
   "metadata": {
    "collapsed": false
   },
   "id": "afdcf41d4f3cb791"
  }
 ],
 "metadata": {
  "kernelspec": {
   "display_name": "Python 3",
   "language": "python",
   "name": "python3"
  },
  "language_info": {
   "codemirror_mode": {
    "name": "ipython",
    "version": 2
   },
   "file_extension": ".py",
   "mimetype": "text/x-python",
   "name": "python",
   "nbconvert_exporter": "python",
   "pygments_lexer": "ipython2",
   "version": "2.7.6"
  }
 },
 "nbformat": 4,
 "nbformat_minor": 5
}
