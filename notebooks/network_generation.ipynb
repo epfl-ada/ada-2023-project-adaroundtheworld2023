{
 "cells": [
  {
   "cell_type": "markdown",
   "id": "661f890a50442989",
   "metadata": {
    "collapsed": false
   },
   "source": [
    "# Embedding \n",
    "\n",
    "The aim of this notebook is to test the embedding model and see if the results look logical for the naked eye. \n",
    "What is more, Bokeh and pyvis will be tested for generating the network graphs."
   ]
  },
  {
   "cell_type": "markdown",
   "id": "7c2ed3e6d43e682e",
   "metadata": {
    "collapsed": false
   },
   "source": [
    "## Imports"
   ]
  },
  {
   "cell_type": "code",
   "execution_count": 2,
   "id": "bb0892c103e47ca9",
   "metadata": {
    "collapsed": false,
    "ExecuteTime": {
     "end_time": "2023-12-05T16:42:43.052228Z",
     "start_time": "2023-12-05T16:42:42.415809Z"
    }
   },
   "outputs": [],
   "source": [
    "import copy\n",
    "# add root path to system path\n",
    "import sys\n",
    "\n",
    "sys.path.append('../')"
   ]
  },
  {
   "cell_type": "code",
   "execution_count": 13,
   "id": "initial_id",
   "metadata": {
    "collapsed": false,
    "ExecuteTime": {
     "end_time": "2023-12-05T17:13:33.441177Z",
     "start_time": "2023-12-05T17:13:33.373555Z"
    }
   },
   "outputs": [],
   "source": [
    "import itertools\n",
    "\n",
    "import networkx as nx\n",
    "import numpy as np\n",
    "import matplotlib.pyplot as plt\n",
    "import pandas as pd\n",
    "import seaborn as sns\n",
    "\n",
    "from tqdm import tqdm\n",
    "from bokeh.plotting import figure, from_networkx\n",
    "from bokeh.transform import linear_cmap\n",
    "from bokeh.models import Circle, MultiLine\n",
    "from bokeh.io import output_notebook, show\n",
    "from bokeh.palettes import Blues8, viridis\n",
    "from scripts.helpers import get_embedding, get_similarities_from_json, get_graph_from_pickle, merge_graph_to_df\n",
    "from pyvis.network import Network"
   ]
  },
  {
   "cell_type": "markdown",
   "id": "3cc641d28c9a8a04",
   "metadata": {
    "collapsed": false
   },
   "source": [
    "## Data\n",
    "\n",
    "Note that data preprocessing has been done in [preprocess.ipynb](preprocess.ipynb). The notebook will clean, merge and save the data to `data/processed`."
   ]
  },
  {
   "cell_type": "code",
   "execution_count": 4,
   "id": "758af52d7fef8b5f",
   "metadata": {
    "collapsed": false,
    "ExecuteTime": {
     "end_time": "2023-12-05T16:42:46.405351Z",
     "start_time": "2023-12-05T16:42:45.551950Z"
    }
   },
   "outputs": [
    {
     "name": "stdout",
     "output_type": "stream",
     "text": [
      "(22394, 9)\n"
     ]
    },
    {
     "data": {
      "text/plain": "                                         name  release_year  rating  \\\nwikipedia_id                                                          \n10109752                           Miss Jerry        1894.0     5.3   \n28703057        The Corbett-Fitzsimmons Fight        1897.0     5.3   \n142995            The Story of the Kelly Gang        1906.0     6.0   \n32986669                   Robbery Under Arms        1907.0     4.3   \n32987200      Captain Midnight, the Bush King        1911.0     5.4   \n\n              num_votes                                               plot  \\\nwikipedia_id                                                                 \n10109752            207  After finding out that her father is suffering...   \n28703057            484  The film no longer exists in its entirety; how...   \n142995              855  The Story of the Kelly Gangs tone is of sorrow...   \n32986669             25  Key scenes of the film included the branding o...   \n32987200             18  Edgar Dalimore is the son of wealthy station o...   \n\n             freebase_id             languages                     countries  \\\nwikipedia_id                                                                   \n10109752      /m/02q23xk       ['Silent film']  ['United States of America']   \n28703057      /m/0czdh_n                    []                            []   \n142995         /m/0120y4  ['English Language']                 ['Australia']   \n32986669      /m/04p7yxx       ['Silent film']                 ['Australia']   \n32987200      /m/0h569x9       ['Silent film']                            []   \n\n                                                         genres  \nwikipedia_id                                                     \n10109752      ['Short Film', 'Silent film', 'Indie', 'Black-...  \n28703057                                             ['Sports']  \n142995        ['Crime Fiction', 'Silent film', 'Biography', ...  \n32986669                               ['Silent film', 'Drama']  \n32987200                                        ['Silent film']  ",
      "text/html": "<div>\n<style scoped>\n    .dataframe tbody tr th:only-of-type {\n        vertical-align: middle;\n    }\n\n    .dataframe tbody tr th {\n        vertical-align: top;\n    }\n\n    .dataframe thead th {\n        text-align: right;\n    }\n</style>\n<table border=\"1\" class=\"dataframe\">\n  <thead>\n    <tr style=\"text-align: right;\">\n      <th></th>\n      <th>name</th>\n      <th>release_year</th>\n      <th>rating</th>\n      <th>num_votes</th>\n      <th>plot</th>\n      <th>freebase_id</th>\n      <th>languages</th>\n      <th>countries</th>\n      <th>genres</th>\n    </tr>\n    <tr>\n      <th>wikipedia_id</th>\n      <th></th>\n      <th></th>\n      <th></th>\n      <th></th>\n      <th></th>\n      <th></th>\n      <th></th>\n      <th></th>\n      <th></th>\n    </tr>\n  </thead>\n  <tbody>\n    <tr>\n      <th>10109752</th>\n      <td>Miss Jerry</td>\n      <td>1894.0</td>\n      <td>5.3</td>\n      <td>207</td>\n      <td>After finding out that her father is suffering...</td>\n      <td>/m/02q23xk</td>\n      <td>['Silent film']</td>\n      <td>['United States of America']</td>\n      <td>['Short Film', 'Silent film', 'Indie', 'Black-...</td>\n    </tr>\n    <tr>\n      <th>28703057</th>\n      <td>The Corbett-Fitzsimmons Fight</td>\n      <td>1897.0</td>\n      <td>5.3</td>\n      <td>484</td>\n      <td>The film no longer exists in its entirety; how...</td>\n      <td>/m/0czdh_n</td>\n      <td>[]</td>\n      <td>[]</td>\n      <td>['Sports']</td>\n    </tr>\n    <tr>\n      <th>142995</th>\n      <td>The Story of the Kelly Gang</td>\n      <td>1906.0</td>\n      <td>6.0</td>\n      <td>855</td>\n      <td>The Story of the Kelly Gangs tone is of sorrow...</td>\n      <td>/m/0120y4</td>\n      <td>['English Language']</td>\n      <td>['Australia']</td>\n      <td>['Crime Fiction', 'Silent film', 'Biography', ...</td>\n    </tr>\n    <tr>\n      <th>32986669</th>\n      <td>Robbery Under Arms</td>\n      <td>1907.0</td>\n      <td>4.3</td>\n      <td>25</td>\n      <td>Key scenes of the film included the branding o...</td>\n      <td>/m/04p7yxx</td>\n      <td>['Silent film']</td>\n      <td>['Australia']</td>\n      <td>['Silent film', 'Drama']</td>\n    </tr>\n    <tr>\n      <th>32987200</th>\n      <td>Captain Midnight, the Bush King</td>\n      <td>1911.0</td>\n      <td>5.4</td>\n      <td>18</td>\n      <td>Edgar Dalimore is the son of wealthy station o...</td>\n      <td>/m/0h569x9</td>\n      <td>['Silent film']</td>\n      <td>[]</td>\n      <td>['Silent film']</td>\n    </tr>\n  </tbody>\n</table>\n</div>"
     },
     "execution_count": 4,
     "metadata": {},
     "output_type": "execute_result"
    }
   ],
   "source": [
    "df = pd.read_csv('../data/processed/preprocessed.csv', index_col=0)\n",
    "df.set_index('wikipedia_id', inplace=True)\n",
    "print(df.shape)\n",
    "df.head(5)"
   ]
  },
  {
   "cell_type": "markdown",
   "id": "d0ffc30f78811132",
   "metadata": {
    "collapsed": false
   },
   "source": [
    "### Data Analysis"
   ]
  },
  {
   "cell_type": "markdown",
   "id": "b420124b005206a3",
   "metadata": {
    "collapsed": false,
    "ExecuteTime": {
     "end_time": "2023-11-28T12:43:08.196891Z",
     "start_time": "2023-11-28T12:43:07.888423Z"
    }
   },
   "source": [
    "### Similarity Matrix\n",
    "\n",
    "Once we have vectorized the plots, we can calculate the similarities between the plots with dot product."
   ]
  },
  {
   "cell_type": "markdown",
   "id": "acaad10dc503054b",
   "metadata": {
    "collapsed": false,
    "ExecuteTime": {
     "end_time": "2023-11-28T12:48:36.228700Z",
     "start_time": "2023-11-28T12:48:36.164014Z"
    }
   },
   "source": [
    "## Graph Generation\n",
    "\n",
    "Now that we have the similarities between the movies, we can set the threshold and generate a network of nodes."
   ]
  },
  {
   "cell_type": "markdown",
   "id": "b58ac4961877e019",
   "metadata": {
    "collapsed": false,
    "ExecuteTime": {
     "end_time": "2023-11-28T12:48:49.074269Z",
     "start_time": "2023-11-28T12:48:38.919022Z"
    }
   },
   "source": [
    "### NetworkX"
   ]
  },
  {
   "cell_type": "code",
   "execution_count": 5,
   "outputs": [
    {
     "data": {
      "text/plain": "                                 name  release_year  rating  num_votes  \\\n28776744        The Amateur Gentleman        1920.0     4.0         14   \n11396051                  L'Atlantide        1921.0     6.7        419   \n32932657  The Breaking of the Drought        1920.0     5.2         27   \n8691806                   The Flapper        1920.0     6.4        412   \n9862787                       Genuine        1920.0     5.9       1105   \n\n                                                       plot freebase_id  \\\n28776744  In Regency Britain a young man tries to establ...  /m/0ddf1g6   \n11396051  In 1911, two French officers, Capitaine Morhan...  /m/02rb35g   \n32932657  Drought causes Jo Galloway  to lose possession...  /m/0h3vzny   \n8691806   16-year-old Genevieve 'Ginger' King , is growi...  /m/027f4nv   \n9862787   Since completing a portrait of Genuine, a high...  /m/02pv61s   \n\n                                    languages                       countries  \\\n28776744                 ['English Language']              ['United Kingdom']   \n11396051                      ['Silent film']                      ['France']   \n32932657  ['Silent film', 'English Language']                              []   \n8691806   ['Silent film', 'English Language']    ['United States of America']   \n9862787    ['Silent film', 'German Language']  ['Weimar Republic', 'Germany']   \n\n                                                     genres  betweenness  \\\n28776744                                      ['Adventure']     0.018261   \n11396051  ['Silent film', 'Indie', 'World cinema', 'Blac...     0.000532   \n32932657                                    ['Silent film']     0.000149   \n8691806   ['Silent film', 'Comedy', 'Black-and-white', '...     0.000052   \n9862787                  ['Silent film', 'Horror', 'Indie']     0.000831   \n\n          degree  \n28776744     196  \n11396051     129  \n32932657      57  \n8691806       65  \n9862787      153  ",
      "text/html": "<div>\n<style scoped>\n    .dataframe tbody tr th:only-of-type {\n        vertical-align: middle;\n    }\n\n    .dataframe tbody tr th {\n        vertical-align: top;\n    }\n\n    .dataframe thead th {\n        text-align: right;\n    }\n</style>\n<table border=\"1\" class=\"dataframe\">\n  <thead>\n    <tr style=\"text-align: right;\">\n      <th></th>\n      <th>name</th>\n      <th>release_year</th>\n      <th>rating</th>\n      <th>num_votes</th>\n      <th>plot</th>\n      <th>freebase_id</th>\n      <th>languages</th>\n      <th>countries</th>\n      <th>genres</th>\n      <th>betweenness</th>\n      <th>degree</th>\n    </tr>\n  </thead>\n  <tbody>\n    <tr>\n      <th>28776744</th>\n      <td>The Amateur Gentleman</td>\n      <td>1920.0</td>\n      <td>4.0</td>\n      <td>14</td>\n      <td>In Regency Britain a young man tries to establ...</td>\n      <td>/m/0ddf1g6</td>\n      <td>['English Language']</td>\n      <td>['United Kingdom']</td>\n      <td>['Adventure']</td>\n      <td>0.018261</td>\n      <td>196</td>\n    </tr>\n    <tr>\n      <th>11396051</th>\n      <td>L'Atlantide</td>\n      <td>1921.0</td>\n      <td>6.7</td>\n      <td>419</td>\n      <td>In 1911, two French officers, Capitaine Morhan...</td>\n      <td>/m/02rb35g</td>\n      <td>['Silent film']</td>\n      <td>['France']</td>\n      <td>['Silent film', 'Indie', 'World cinema', 'Blac...</td>\n      <td>0.000532</td>\n      <td>129</td>\n    </tr>\n    <tr>\n      <th>32932657</th>\n      <td>The Breaking of the Drought</td>\n      <td>1920.0</td>\n      <td>5.2</td>\n      <td>27</td>\n      <td>Drought causes Jo Galloway  to lose possession...</td>\n      <td>/m/0h3vzny</td>\n      <td>['Silent film', 'English Language']</td>\n      <td>[]</td>\n      <td>['Silent film']</td>\n      <td>0.000149</td>\n      <td>57</td>\n    </tr>\n    <tr>\n      <th>8691806</th>\n      <td>The Flapper</td>\n      <td>1920.0</td>\n      <td>6.4</td>\n      <td>412</td>\n      <td>16-year-old Genevieve 'Ginger' King , is growi...</td>\n      <td>/m/027f4nv</td>\n      <td>['Silent film', 'English Language']</td>\n      <td>['United States of America']</td>\n      <td>['Silent film', 'Comedy', 'Black-and-white', '...</td>\n      <td>0.000052</td>\n      <td>65</td>\n    </tr>\n    <tr>\n      <th>9862787</th>\n      <td>Genuine</td>\n      <td>1920.0</td>\n      <td>5.9</td>\n      <td>1105</td>\n      <td>Since completing a portrait of Genuine, a high...</td>\n      <td>/m/02pv61s</td>\n      <td>['Silent film', 'German Language']</td>\n      <td>['Weimar Republic', 'Germany']</td>\n      <td>['Silent film', 'Horror', 'Indie']</td>\n      <td>0.000831</td>\n      <td>153</td>\n    </tr>\n  </tbody>\n</table>\n</div>"
     },
     "execution_count": 5,
     "metadata": {},
     "output_type": "execute_result"
    }
   ],
   "source": [
    "G = get_graph_from_pickle(1920)\n",
    "df = merge_graph_to_df(df, G)\n",
    "df.head(5)"
   ],
   "metadata": {
    "collapsed": false,
    "ExecuteTime": {
     "end_time": "2023-12-05T16:42:55.442163Z",
     "start_time": "2023-12-05T16:42:55.375924Z"
    }
   },
   "id": "8d157a9195ec8315"
  },
  {
   "cell_type": "markdown",
   "id": "435b79842402449d",
   "metadata": {
    "collapsed": false,
    "ExecuteTime": {
     "end_time": "2023-11-28T12:53:22.717895Z",
     "start_time": "2023-11-28T12:53:21.178327Z"
    }
   },
   "source": [
    "### Bokeh"
   ]
  },
  {
   "cell_type": "code",
   "execution_count": 7,
   "id": "c18870ba24f7f9d4",
   "metadata": {
    "collapsed": false,
    "ExecuteTime": {
     "end_time": "2023-12-05T16:43:17.496543Z",
     "start_time": "2023-12-05T16:43:16.866590Z"
    }
   },
   "outputs": [],
   "source": [
    "ratings_dict = nx.get_node_attributes(G, 'rating')\n",
    "ratings = np.array(list(ratings_dict.values()))\n",
    "names = list(ratings_dict.keys())\n",
    "# adjust the size of the nodes by normalizing the revenue\n",
    "ratings_normalized = (ratings - ratings.min()) / (ratings.max() - ratings.min())\n",
    "\n",
    "adjusted_node_size = dict((id_, rating * 3) for id_, rating in zip(names, ratings.tolist()))\n",
    "nx.set_node_attributes(G, name='adjusted_node_size', values=adjusted_node_size)"
   ]
  },
  {
   "cell_type": "code",
   "execution_count": 8,
   "id": "7ad28f5076f724e2",
   "metadata": {
    "collapsed": false,
    "ExecuteTime": {
     "end_time": "2023-12-05T16:43:21.018346Z",
     "start_time": "2023-12-05T16:43:20.981459Z"
    }
   },
   "outputs": [],
   "source": [
    "# hacky way to rename the nodes since bokeh couldn't otherwise handle that\n",
    "mapping = dict((n, i) for i, n in enumerate(G.nodes))\n",
    "H = nx.relabel_nodes(G, mapping)"
   ]
  },
  {
   "cell_type": "code",
   "execution_count": 76,
   "outputs": [],
   "source": [
    "js_file_path = '../scripts/bokeh_callback.js'\n",
    "\n",
    "with open(js_file_path, 'r') as js_file:\n",
    "    js_callback = js_file.read()"
   ],
   "metadata": {
    "collapsed": false,
    "ExecuteTime": {
     "end_time": "2023-12-05T19:24:52.201791Z",
     "start_time": "2023-12-05T19:24:52.189811Z"
    }
   },
   "id": "d0aab0bf24ddbbac"
  },
  {
   "cell_type": "code",
   "execution_count": 84,
   "id": "2bfcd4d86015b159",
   "metadata": {
    "collapsed": false,
    "ExecuteTime": {
     "end_time": "2023-12-05T19:48:59.691531Z",
     "start_time": "2023-12-05T19:48:59.685449Z"
    }
   },
   "outputs": [],
   "source": [
    "from bokeh.models import Slider, CustomJS, TabPanel, Tabs, MultiChoice, NodesAndLinkedEdges\n",
    "from bokeh.layouts import column\n",
    "from bokeh import events\n",
    "from bokeh.plotting import figure, output_file, save, curdoc\n",
    "\n",
    "size_by_this_attribute = 'adjusted_node_size'\n",
    "color_by_this_attribute = 'betweenness'\n",
    "\n",
    "\n",
    "def _get_slider(graph, attributes):\n",
    "        \n",
    "    # Add a Slider widget for the release date\n",
    "    release_date_slider = Slider(\n",
    "        start=min(attributes['release_year']), \n",
    "        end=max(attributes['release_year']), \n",
    "        value=min(attributes['release_year']), \n",
    "        step=1, \n",
    "        title=\"Release Year\"\n",
    "    )\n",
    "    \n",
    "    input_feats = {\n",
    "        'graph': graph,\n",
    "        'node_dict': graph.node_renderer.data_source.data.copy(),\n",
    "        'edges_dict': graph.edge_renderer.data_source.data.copy()\n",
    "    }\n",
    "    \n",
    "    # Create a callback function to update the plot based on the selected release date\n",
    "    callback = CustomJS(args=input_feats, code=js_callback)\n",
    "    \n",
    "    # Attach the callback to the slider\n",
    "    release_date_slider.js_on_change('value', callback)\n",
    "    curdoc().on_event(events.DocumentReady, callback)\n",
    "    \n",
    "    return release_date_slider\n",
    "\n",
    "\n",
    "def _get_multichoice(graph, options):\n",
    "    multi_choice = MultiChoice(value=options, options=options)   \n",
    "    \n",
    "    input_feats = {\n",
    "        'graph': graph,\n",
    "        'node_dict': graph.node_renderer.data_source.data.copy(),\n",
    "        'edges_dict': graph.edge_renderer.data_source.data.copy()\n",
    "    }\n",
    "    \n",
    "    # Create a callback function to update the plot based on the selected release date\n",
    "    callback = CustomJS(args=input_feats, code=js_callback)\n",
    "    \n",
    "    # Attach the callback to the slider\n",
    "    multi_choice.js_on_change('value', callback)\n",
    "    curdoc().on_event(events.DocumentReady, callback)\n",
    "    \n",
    "    return multi_choice\n",
    "\n",
    "\n",
    "def plot_bokeh_graph(graph):\n",
    "    \n",
    "    # hacky way to rename the nodes since bokeh couldn't otherwise handle that\n",
    "    # mapping = dict((n, i) for i, n in enumerate(graph.nodes))\n",
    "    # G = nx.relabel_nodes(graph, mapping)  \n",
    "    G = graph\n",
    "    \n",
    "    curdoc().theme = 'light_minimal'\n",
    "\n",
    "    color_palette = viridis(256)\n",
    "    \n",
    "    # establish which categories will appear when hovering over each node\n",
    "    tooltips = [\n",
    "        (\"Name\", \"@name\"),\n",
    "        (\"Release year\", \"@release_year\"),\n",
    "        (\"Rating\", \"@rating{0.0}\"),\n",
    "        (\"Degree\", \"@degree{0}\"),\n",
    "        (\"Betweenness\", \"@betweenness{0.00}\"),\n",
    "    ]\n",
    "    \n",
    "    # create a plot — set dimensions, toolbar, and title\n",
    "    plot = figure(\n",
    "        sizing_mode='stretch_width',\n",
    "        height=800,\n",
    "        tooltips=tooltips,\n",
    "        toolbar_location=None,\n",
    "        tools=\"pan,wheel_zoom,tap\",\n",
    "        active_scroll='wheel_zoom'\n",
    "    )\n",
    "    \n",
    "    plot.axis.visible = False\n",
    "    plot.grid.visible = False\n",
    "    plot.outline_line_color = None\n",
    "    \n",
    "    # create a network graph object with spring layout\n",
    "    bokeh_graph = from_networkx(G, nx.spring_layout, scale=10)\n",
    "    \n",
    "    # set node sizes and colors according to node degree (color as spectrum of color palette)\n",
    "    node_attributes = bokeh_graph.node_renderer.data_source.data\n",
    "    attribute = node_attributes[color_by_this_attribute]\n",
    "    colormap = linear_cmap(color_by_this_attribute, color_palette, min(attribute), max(attribute))\n",
    "    \n",
    "    bokeh_graph.node_renderer.glyph = Circle(size=15, fill_color=colormap)\n",
    "\n",
    "    # set edge opacity and width\n",
    "    bokeh_graph.edge_renderer.glyph = MultiLine(line_alpha=0.3, line_width=1, line_color=\"#CCCCCC\")\n",
    "    bokeh_graph.edge_renderer.selection_glyph = MultiLine(line_alpha=1, line_width=1.3, line_color=\"yelloe\")\n",
    "    \n",
    "    bokeh_graph.selection_policy = NodesAndLinkedEdges()\n",
    "    bokeh_graph.inspection_policy = NodesAndLinkedEdges()\n",
    "    \n",
    "    # add network graph to the plot\n",
    "    plot.renderers.append(bokeh_graph)\n",
    "    \n",
    "    unique_years = [str(int(year)) for year in np.unique(node_attributes['release_year']).tolist()]\n",
    "    widget = _get_multichoice(bokeh_graph, unique_years)\n",
    "\n",
    "    # Create a layout with the plot and the slider\n",
    "    return column(widget, plot, sizing_mode='stretch_width', height=800)\n"
   ]
  },
  {
   "cell_type": "code",
   "execution_count": 85,
   "outputs": [],
   "source": [
    "graph = get_graph_from_pickle(1920)\n",
    "layout = plot_bokeh_graph(graph)\n",
    "show(layout)"
   ],
   "metadata": {
    "collapsed": false,
    "ExecuteTime": {
     "end_time": "2023-12-05T19:49:25.812059Z",
     "start_time": "2023-12-05T19:49:00.021038Z"
    }
   },
   "id": "e92b8d6dddb0350f"
  },
  {
   "cell_type": "code",
   "execution_count": 82,
   "outputs": [
    {
     "data": {
      "text/plain": "'/Users/jan.kokla/Documents/EPFL/ada-2023-project-adaroundtheworld2023/notebooks/tabs_test.html'"
     },
     "execution_count": 82,
     "metadata": {},
     "output_type": "execute_result"
    }
   ],
   "source": [
    "tabs = []\n",
    "decades = [1920, 1930, 1940]\n",
    "\n",
    "for decade in decades:\n",
    "    graph = get_graph_from_pickle(decade)\n",
    "    layout = plot_bokeh_graph(graph)\n",
    "    tabs.append(TabPanel(child=layout, title=str(decade)))\n",
    "\n",
    "tabs = Tabs(tabs=tabs, sizing_mode='stretch_width', height=800)\n",
    "\n",
    "# show(tabs)\n",
    "\n",
    "output_file('tabs_test.html')\n",
    "save(tabs)"
   ],
   "metadata": {
    "collapsed": false,
    "ExecuteTime": {
     "end_time": "2023-12-05T19:30:54.167161Z",
     "start_time": "2023-12-05T19:29:33.927185Z"
    }
   },
   "id": "aa2da67b415b2120"
  },
  {
   "cell_type": "code",
   "execution_count": null,
   "outputs": [],
   "source": [],
   "metadata": {
    "collapsed": false
   },
   "id": "7452dbe0c8aa69cb"
  }
 ],
 "metadata": {
  "kernelspec": {
   "display_name": "Python 3 (ipykernel)",
   "language": "python",
   "name": "python3"
  },
  "language_info": {
   "codemirror_mode": {
    "name": "ipython",
    "version": 3
   },
   "file_extension": ".py",
   "mimetype": "text/x-python",
   "name": "python",
   "nbconvert_exporter": "python",
   "pygments_lexer": "ipython3",
   "version": "3.9.18"
  }
 },
 "nbformat": 4,
 "nbformat_minor": 5
}
