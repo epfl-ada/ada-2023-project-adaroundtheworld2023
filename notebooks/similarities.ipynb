{
 "cells": [
  {
   "cell_type": "markdown",
   "id": "661f890a50442989",
   "metadata": {
    "collapsed": false
   },
   "source": [
    "# Similarities \n",
    "\n",
    "As we now have embeddings, it's time to save the similarities to JSONs. We do it for two different approaches:\n",
    "\n",
    "1. **embedding approach**: we use e5-large model to generate embeddings of size 1024 from plots;\n",
    "2. **genre approach**: we picked genres and themes and let bart-large model to predict the probabilities of belonging to a genre/theme."
   ]
  },
  {
   "cell_type": "markdown",
   "id": "7c2ed3e6d43e682e",
   "metadata": {
    "collapsed": false
   },
   "source": [
    "## Imports"
   ]
  },
  {
   "cell_type": "code",
   "execution_count": 2,
   "id": "initial_id",
   "metadata": {
    "collapsed": false,
    "ExecuteTime": {
     "end_time": "2023-12-15T09:39:35.423168Z",
     "start_time": "2023-12-15T09:39:35.190802Z"
    }
   },
   "outputs": [],
   "source": [
    "import itertools\n",
    "import json\n",
    "import os\n",
    "\n",
    "import numpy as np\n",
    "from tqdm import tqdm\n",
    "from scripts.helpers import get_embeddings_from_json, get_classification_from_json"
   ]
  },
  {
   "cell_type": "code",
   "execution_count": 3,
   "outputs": [],
   "source": [
    "root_path = os.path.dirname(os.path.abspath(\"\"))"
   ],
   "metadata": {
    "collapsed": false,
    "ExecuteTime": {
     "end_time": "2023-12-15T09:39:36.331369Z",
     "start_time": "2023-12-15T09:39:36.306606Z"
    }
   },
   "id": "bc974e25cbcbc810"
  },
  {
   "cell_type": "markdown",
   "id": "67e1170d40ddd854",
   "metadata": {
    "collapsed": false
   },
   "source": [
    "## Embeddings\n",
    "\n",
    "Since we're already embedded the movies using Google Colab and downloaded them (see README), we can simply read the json."
   ]
  },
  {
   "cell_type": "code",
   "execution_count": 9,
   "outputs": [],
   "source": [
    "DECADE = 2010  # change the decade whenever necessary\n",
    "embeddings = get_embeddings_from_json(DECADE)"
   ],
   "metadata": {
    "collapsed": false,
    "ExecuteTime": {
     "end_time": "2023-11-28T10:41:06.802575Z",
     "start_time": "2023-11-28T10:41:05.898152Z"
    }
   },
   "id": "2530dbc6bf996e64"
  },
  {
   "cell_type": "code",
   "execution_count": 10,
   "id": "ea69c2cd89f487d0",
   "metadata": {
    "collapsed": false,
    "ExecuteTime": {
     "end_time": "2023-11-28T10:41:08.224089Z",
     "start_time": "2023-11-28T10:41:08.221117Z"
    }
   },
   "outputs": [],
   "source": [
    "# generate all possible combinations for dot product \n",
    "movie_sample = list(embeddings.keys())\n",
    "combinations = list(itertools.combinations(movie_sample, 2))"
   ]
  },
  {
   "cell_type": "code",
   "execution_count": null,
   "id": "f6444dc41573dc26",
   "metadata": {
    "collapsed": false
   },
   "outputs": [],
   "source": [
    "similarities = {}\n",
    "\n",
    "for movie_1, movie_2 in tqdm(combinations):\n",
    "    similarity = embeddings[movie_1] @ embeddings[movie_2]\n",
    "    similarities['-'.join([str(movie_1), str(movie_2)])] = similarity"
   ]
  },
  {
   "cell_type": "code",
   "execution_count": 15,
   "outputs": [],
   "source": [
    "with open(os.path.join(root_path, 'data', 'embeddings', 'embedding', f'similarities_{DECADE}s.json'), \"w\") as outfile: \n",
    "    json.dump(similarities, outfile)"
   ],
   "metadata": {
    "collapsed": false,
    "ExecuteTime": {
     "end_time": "2023-11-27T12:50:24.093426Z",
     "start_time": "2023-11-27T12:50:24.057901Z"
    }
   },
   "id": "fb3d2b4619177bbd"
  },
  {
   "cell_type": "markdown",
   "source": [
    "## Genres"
   ],
   "metadata": {
    "collapsed": false
   },
   "id": "1a0a635ccb3a921f"
  },
  {
   "cell_type": "code",
   "execution_count": 8,
   "outputs": [
    {
     "name": "stderr",
     "output_type": "stream",
     "text": [
      "6786it [00:00, 279581.81it/s]\n",
      "85078it [00:00, 299702.35it/s]\n",
      "862641it [00:02, 323413.80it/s]\n",
      "1088550it [00:03, 288493.19it/s]\n",
      "1604736it [00:04, 348812.13it/s]\n",
      "1313010it [00:03, 361166.52it/s]\n",
      "1554966it [00:04, 356145.14it/s]\n",
      "3296028it [00:09, 344640.35it/s]\n",
      "5700376it [00:23, 241693.26it/s]\n",
      "19453203it [01:10, 275713.85it/s]\n",
      "1461195it [00:04, 307364.16it/s]\n"
     ]
    }
   ],
   "source": [
    "decades = np.arange(1910, 2020, 10)\n",
    "\n",
    "for decade in decades:\n",
    "\n",
    "    embeddings = get_embeddings_from_json(decade, approach='custom_genres')\n",
    "    \n",
    "    similarities = {}\n",
    "    \n",
    "    for movie_1, movie_2 in tqdm(itertools.combinations(embeddings.keys(), 2)):\n",
    "        embedding_1 = embeddings[movie_1]\n",
    "        embedding_2 = embeddings[movie_2]\n",
    "        similarities[f'{str(movie_1)}-{str(movie_2)}'] = embedding_1 @ embedding_2\n",
    "        \n",
    "    with open(os.path.join(root_path, 'data', 'similarities', 'custom_genres', f'similarities_{decade}s.json'), \"w\") as outfile: \n",
    "        json.dump(similarities, outfile)"
   ],
   "metadata": {
    "collapsed": false,
    "ExecuteTime": {
     "end_time": "2023-12-15T09:49:19.358513Z",
     "start_time": "2023-12-15T09:45:41.262345Z"
    }
   },
   "id": "5c176d337af67b2e"
  },
  {
   "cell_type": "code",
   "execution_count": null,
   "outputs": [],
   "source": [],
   "metadata": {
    "collapsed": false
   },
   "id": "52aab9c32e8c9008"
  }
 ],
 "metadata": {
  "kernelspec": {
   "display_name": "Python 3 (ipykernel)",
   "language": "python",
   "name": "python3"
  },
  "language_info": {
   "codemirror_mode": {
    "name": "ipython",
    "version": 3
   },
   "file_extension": ".py",
   "mimetype": "text/x-python",
   "name": "python",
   "nbconvert_exporter": "python",
   "pygments_lexer": "ipython3",
   "version": "3.9.18"
  }
 },
 "nbformat": 4,
 "nbformat_minor": 5
}
