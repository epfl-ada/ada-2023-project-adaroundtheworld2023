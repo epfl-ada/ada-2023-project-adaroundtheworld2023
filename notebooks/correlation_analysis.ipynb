{
 "cells": [
  {
   "cell_type": "markdown",
   "id": "811a1cdb8b9f8cc",
   "metadata": {
    "collapsed": false
   },
   "source": [
    "# Correlation Analysis"
   ]
  },
  {
   "cell_type": "markdown",
   "id": "566f55781c022383",
   "metadata": {
    "collapsed": false
   },
   "source": [
    "## Imports"
   ]
  },
  {
   "cell_type": "code",
   "execution_count": 1,
   "metadata": {},
   "outputs": [],
   "source": [
    "import sys \n",
    "sys.path.append('../scripts')"
   ]
  },
  {
   "cell_type": "code",
   "execution_count": 128,
   "id": "6323ce90fea8a088",
   "metadata": {
    "ExecuteTime": {
     "end_time": "2023-12-05T15:10:55.894943Z",
     "start_time": "2023-12-05T15:10:55.713318Z"
    },
    "collapsed": false
   },
   "outputs": [],
   "source": [
    "import pandas as pd\n",
    "import matplotlib.pyplot as plt\n",
    "import seaborn as sns\n",
    "import bokeh\n",
    "from sklearn.preprocessing import MinMaxScaler\n",
    "from bokeh.models import Slope\n",
    "from bokeh.palettes import Sunset10\n",
    "from bokeh.plotting import figure, show\n",
    "\n",
    "from helpers import get_graph_from_pickle, merge_graph_to_df"
   ]
  },
  {
   "cell_type": "code",
   "execution_count": 81,
   "id": "c29ca94b59173ea0",
   "metadata": {
    "ExecuteTime": {
     "end_time": "2023-12-05T15:10:56.367209Z",
     "start_time": "2023-12-05T15:10:55.895346Z"
    },
    "collapsed": false
   },
   "outputs": [
    {
     "name": "stdout",
     "output_type": "stream",
     "text": [
      "(13724, 9)\n"
     ]
    },
    {
     "data": {
      "text/html": [
       "<div>\n",
       "<style scoped>\n",
       "    .dataframe tbody tr th:only-of-type {\n",
       "        vertical-align: middle;\n",
       "    }\n",
       "\n",
       "    .dataframe tbody tr th {\n",
       "        vertical-align: top;\n",
       "    }\n",
       "\n",
       "    .dataframe thead th {\n",
       "        text-align: right;\n",
       "    }\n",
       "</style>\n",
       "<table border=\"1\" class=\"dataframe\">\n",
       "  <thead>\n",
       "    <tr style=\"text-align: right;\">\n",
       "      <th></th>\n",
       "      <th>name</th>\n",
       "      <th>release_year</th>\n",
       "      <th>rating</th>\n",
       "      <th>num_votes</th>\n",
       "      <th>plot</th>\n",
       "      <th>freebase_id</th>\n",
       "      <th>languages</th>\n",
       "      <th>countries</th>\n",
       "      <th>genres</th>\n",
       "    </tr>\n",
       "    <tr>\n",
       "      <th>wikipedia_id</th>\n",
       "      <th></th>\n",
       "      <th></th>\n",
       "      <th></th>\n",
       "      <th></th>\n",
       "      <th></th>\n",
       "      <th></th>\n",
       "      <th></th>\n",
       "      <th></th>\n",
       "      <th></th>\n",
       "    </tr>\n",
       "  </thead>\n",
       "  <tbody>\n",
       "    <tr>\n",
       "      <th>10109752</th>\n",
       "      <td>Miss Jerry</td>\n",
       "      <td>1894.0</td>\n",
       "      <td>5.3</td>\n",
       "      <td>207</td>\n",
       "      <td>After finding out that her father is suffering...</td>\n",
       "      <td>/m/02q23xk</td>\n",
       "      <td>['Silent film']</td>\n",
       "      <td>['United States of America']</td>\n",
       "      <td>['Short Film', 'Silent film', 'Indie', 'Black-...</td>\n",
       "    </tr>\n",
       "    <tr>\n",
       "      <th>28703057</th>\n",
       "      <td>The Corbett-Fitzsimmons Fight</td>\n",
       "      <td>1897.0</td>\n",
       "      <td>5.3</td>\n",
       "      <td>484</td>\n",
       "      <td>The film no longer exists in its entirety; how...</td>\n",
       "      <td>/m/0czdh_n</td>\n",
       "      <td>[]</td>\n",
       "      <td>[]</td>\n",
       "      <td>['Sports']</td>\n",
       "    </tr>\n",
       "    <tr>\n",
       "      <th>142995</th>\n",
       "      <td>The Story of the Kelly Gang</td>\n",
       "      <td>1906.0</td>\n",
       "      <td>6.0</td>\n",
       "      <td>855</td>\n",
       "      <td>The Story of the Kelly Gangs tone is of sorrow...</td>\n",
       "      <td>/m/0120y4</td>\n",
       "      <td>['English Language']</td>\n",
       "      <td>['Australia']</td>\n",
       "      <td>['Crime Fiction', 'Silent film', 'Biography', ...</td>\n",
       "    </tr>\n",
       "    <tr>\n",
       "      <th>32986669</th>\n",
       "      <td>Robbery Under Arms</td>\n",
       "      <td>1907.0</td>\n",
       "      <td>4.3</td>\n",
       "      <td>25</td>\n",
       "      <td>Key scenes of the film included the branding o...</td>\n",
       "      <td>/m/04p7yxx</td>\n",
       "      <td>['Silent film']</td>\n",
       "      <td>['Australia']</td>\n",
       "      <td>['Silent film', 'Drama']</td>\n",
       "    </tr>\n",
       "    <tr>\n",
       "      <th>1090641</th>\n",
       "      <td>Atlantis</td>\n",
       "      <td>1913.0</td>\n",
       "      <td>6.5</td>\n",
       "      <td>459</td>\n",
       "      <td>Dr. Friedrich von Kammacher , a surgeon, is de...</td>\n",
       "      <td>/m/0454v0</td>\n",
       "      <td>['English Language', 'Danish Language']</td>\n",
       "      <td>['Denmark']</td>\n",
       "      <td>['Silent film', 'Drama', 'Indie', 'Black-and-w...</td>\n",
       "    </tr>\n",
       "  </tbody>\n",
       "</table>\n",
       "</div>"
      ],
      "text/plain": [
       "                                       name  release_year  rating  num_votes  \\\n",
       "wikipedia_id                                                                   \n",
       "10109752                         Miss Jerry        1894.0     5.3        207   \n",
       "28703057      The Corbett-Fitzsimmons Fight        1897.0     5.3        484   \n",
       "142995          The Story of the Kelly Gang        1906.0     6.0        855   \n",
       "32986669                 Robbery Under Arms        1907.0     4.3         25   \n",
       "1090641                            Atlantis        1913.0     6.5        459   \n",
       "\n",
       "                                                           plot freebase_id  \\\n",
       "wikipedia_id                                                                  \n",
       "10109752      After finding out that her father is suffering...  /m/02q23xk   \n",
       "28703057      The film no longer exists in its entirety; how...  /m/0czdh_n   \n",
       "142995        The Story of the Kelly Gangs tone is of sorrow...   /m/0120y4   \n",
       "32986669      Key scenes of the film included the branding o...  /m/04p7yxx   \n",
       "1090641       Dr. Friedrich von Kammacher , a surgeon, is de...   /m/0454v0   \n",
       "\n",
       "                                            languages  \\\n",
       "wikipedia_id                                            \n",
       "10109752                              ['Silent film']   \n",
       "28703057                                           []   \n",
       "142995                           ['English Language']   \n",
       "32986669                              ['Silent film']   \n",
       "1090641       ['English Language', 'Danish Language']   \n",
       "\n",
       "                                 countries  \\\n",
       "wikipedia_id                                 \n",
       "10109752      ['United States of America']   \n",
       "28703057                                []   \n",
       "142995                       ['Australia']   \n",
       "32986669                     ['Australia']   \n",
       "1090641                        ['Denmark']   \n",
       "\n",
       "                                                         genres  \n",
       "wikipedia_id                                                     \n",
       "10109752      ['Short Film', 'Silent film', 'Indie', 'Black-...  \n",
       "28703057                                             ['Sports']  \n",
       "142995        ['Crime Fiction', 'Silent film', 'Biography', ...  \n",
       "32986669                               ['Silent film', 'Drama']  \n",
       "1090641       ['Silent film', 'Drama', 'Indie', 'Black-and-w...  "
      ]
     },
     "execution_count": 81,
     "metadata": {},
     "output_type": "execute_result"
    }
   ],
   "source": [
    "df_origin = pd.read_csv('../data/processed/preprocessed.csv', index_col=0)\n",
    "df_origin.set_index('wikipedia_id', inplace=True)\n",
    "print(df_origin.shape)\n",
    "df_origin.head(5)"
   ]
  },
  {
   "cell_type": "code",
   "execution_count": 146,
   "metadata": {},
   "outputs": [
    {
     "ename": "KeyError",
     "evalue": "'2012'",
     "output_type": "error",
     "traceback": [
      "\u001b[1;31m---------------------------------------------------------------------------\u001b[0m",
      "\u001b[1;31mKeyError\u001b[0m                                  Traceback (most recent call last)",
      "\u001b[1;32mc:\\Users\\valen\\Documents\\EPFL\\ADA\\ada-2023-project-adaroundtheworld2023\\notebooks\\correlation_analysis.ipynb Cell 6\u001b[0m line \u001b[0;36m1\n\u001b[0;32m     <a href='vscode-notebook-cell:/c%3A/Users/valen/Documents/EPFL/ADA/ada-2023-project-adaroundtheworld2023/notebooks/correlation_analysis.ipynb#X10sZmlsZQ%3D%3D?line=10'>11</a>\u001b[0m \u001b[39m# Access the dataframes using dfs[\"df_year\"]\u001b[39;00m\n\u001b[0;32m     <a href='vscode-notebook-cell:/c%3A/Users/valen/Documents/EPFL/ADA/ada-2023-project-adaroundtheworld2023/notebooks/correlation_analysis.ipynb#X10sZmlsZQ%3D%3D?line=11'>12</a>\u001b[0m df_all \u001b[39m=\u001b[39m pd\u001b[39m.\u001b[39mconcat(dfs\u001b[39m.\u001b[39mvalues())\n\u001b[1;32m---> <a href='vscode-notebook-cell:/c%3A/Users/valen/Documents/EPFL/ADA/ada-2023-project-adaroundtheworld2023/notebooks/correlation_analysis.ipynb#X10sZmlsZQ%3D%3D?line=12'>13</a>\u001b[0m dfs[\u001b[39m\"\u001b[39;49m\u001b[39m2012\u001b[39;49m\u001b[39m\"\u001b[39;49m]\n",
      "\u001b[1;31mKeyError\u001b[0m: '2012'"
     ]
    }
   ],
   "source": [
    "list_year = [1920, 1930, 1940, 1950, 1960, 1970, 1980, 1990, 2000, 2010]\n",
    "\n",
    "dfs = {}  # Dictionary to store the dataframes\n",
    "\n",
    "for year in list_year:\n",
    "    G = get_graph_from_pickle(year)\n",
    "    df_year = merge_graph_to_df(df_origin, G) \n",
    "    df_year.drop(columns=['languages','plot','countries', 'freebase_id'], inplace=True)\n",
    "    dfs[f\"{year}\"] = df_year\n",
    "\n",
    "# Access the dataframes using dfs[\"df_year\"]\n",
    "df_all = pd.concat(dfs.values())\n",
    "\n"
   ]
  },
  {
   "cell_type": "code",
   "execution_count": 117,
   "metadata": {},
   "outputs": [
    {
     "name": "stderr",
     "output_type": "stream",
     "text": [
      "c:\\Users\\valen\\.conda\\envs\\ada\\lib\\site-packages\\seaborn\\_oldcore.py:1498: FutureWarning: is_categorical_dtype is deprecated and will be removed in a future version. Use isinstance(dtype, CategoricalDtype) instead\n",
      "  if pd.api.types.is_categorical_dtype(vector):\n",
      "c:\\Users\\valen\\.conda\\envs\\ada\\lib\\site-packages\\seaborn\\_oldcore.py:1119: FutureWarning: use_inf_as_na option is deprecated and will be removed in a future version. Convert inf values to NaN before operating instead.\n",
      "  with pd.option_context('mode.use_inf_as_na', True):\n"
     ]
    },
    {
     "data": {
      "image/png": "[encoded data removed]",
      "text/plain": [
       "<Figure size 640x480 with 1 Axes>"
      ]
     },
     "metadata": {},
     "output_type": "display_data"
    }
   ],
   "source": [
    "#let's look at the degree distribution \n",
    "sns.histplot(data=dfs[\"1920\"], x=\"degree\", bins=100)\n",
    "plt.xlabel(\"Betweenness\")\n",
    "plt.ylabel(\"Frequency\")\n",
    "plt.title(\"Distribution of Betweenness for df_1920\")\n",
    "plt.show()\n"
   ]
  },
  {
   "cell_type": "code",
   "execution_count": null,
   "metadata": {},
   "outputs": [],
   "source": [
    "df[['Column1', 'Column2']] = [value1, value2]\n"
   ]
  },
  {
   "cell_type": "code",
   "execution_count": 118,
   "metadata": {},
   "outputs": [
    {
     "name": "stdout",
     "output_type": "stream",
     "text": [
      "13615\n"
     ]
    },
    {
     "data": {
      "text/plain": [
       "(13615, 7)"
      ]
     },
     "metadata": {},
     "output_type": "display_data"
    }
   ],
   "source": [
    "nb = 0\n",
    "for df in dfs:\n",
    "    nb += dfs[df].shape[0]\n",
    "print(nb)\n",
    "display(df_all.shape)"
   ]
  },
  {
   "cell_type": "code",
   "execution_count": 119,
   "metadata": {},
   "outputs": [],
   "source": [
    "# Here we scale the betweenness and degree columns for all the dataframes independently for each decade and for the whole dataset \n",
    "scaler = MinMaxScaler()\n",
    "for df in dfs:\n",
    "    df_used = dfs[df]\n",
    "    df_use=d[['betweenness', 'degree']]  scaler.fit_transform(df_used[['betweenness', 'degree']])\n",
    "    dfs[df] = df_used\n",
    "df_all[['betweenness', 'degree']] = scaler.fit_transform(df_all[['betweenness', 'degree']])\n"
   ]
  },
  {
   "cell_type": "code",
   "execution_count": 134,
   "metadata": {},
   "outputs": [
    {
     "name": "stdout",
     "output_type": "stream",
     "text": [
      "-0.04589039864051044\n"
     ]
    }
   ],
   "source": [
    "correlation = df_all['rating'].corr(df_all['betweenness'])\n",
    "print(correlation)\n"
   ]
  },
  {
   "cell_type": "code",
   "execution_count": 141,
   "metadata": {},
   "outputs": [
    {
     "name": "stdout",
     "output_type": "stream",
     "text": [
      "{'1920': -0.09318562895190187, '1930': -0.08488182075047815, '1940': -0.11194937449344164, '1950': -0.11543154698133459, '1960': -0.10704267545324006, '1970': -0.13959517879165587, '1980': -0.09498534673248551, '1990': -0.15861748807878423, '2000': -0.11114475721929903, '2010': -0.11405503418333386}\n",
      "{'1920': -0.037696863646889706, '1930': -0.013535687813201398, '1940': -0.08464351528196018, '1950': -0.10688014567191971, '1960': -0.06740200289338841, '1970': -0.05646662630211047, '1980': -0.07271122675388791, '1990': -0.1446192272656548, '2000': -0.12766625309461774, '2010': -0.15764307344059417}\n",
      "all_together -0.04589039864051044\n"
     ]
    }
   ],
   "source": [
    "corelation_dict_betweenness = {}\n",
    "corelation_dict_degree = {}\n",
    "for df in dfs:\n",
    "    df_used = dfs[df]\n",
    "    corelation_dict_betweenness[df] = df_used['rating'].corr(df_used['betweenness'])\n",
    "    corelation_dict_degree[df] = df_used['rating'].corr(df_used['degree'])\n",
    "\n",
    "print(corelation_dict_betweenness)\n",
    "print(corelation_dict_degree)\n",
    "print(\"all_together\",correlation)"
   ]
  },
  {
   "cell_type": "code",
   "execution_count": 142,
   "metadata": {},
   "outputs": [
    {
     "data": {
      "image/png": "[encoded data removed]",
      "text/plain": [
       "<Figure size 640x480 with 1 Axes>"
      ]
     },
     "metadata": {},
     "output_type": "display_data"
    }
   ],
   "source": [
    "plt.scatter(df_all['degree'], df_all['rating'])\n",
    "plt.xlabel('Degree')\n",
    "plt.ylabel('Rating')\n",
    "plt.title('Scatter Plot: Degree vs Rating (df_1920)')\n",
    "plt.show()\n"
   ]
  },
  {
   "cell_type": "code",
   "execution_count": 145,
   "metadata": {},
   "outputs": [],
   "source": [
    "\n",
    "df_fig = df_all\n",
    "# linear equation parameters\n",
    "slope, intercept = 2, 10\n",
    "\n",
    "xpts = df_fig['rating']\n",
    "ypts =df_fig['degree']\n",
    "\n",
    "blue, yellow = Sunset10[0], Sunset10[5]\n",
    "\n",
    "p = figure(width=600, height=600, x_axis_label='ratings', y_axis_label='degree',\n",
    "           background_fill_color=\"#fafafa\")\n",
    "p.y_range.start = 0\n",
    "\n",
    "p.circle(xpts, ypts, size=8, alpha=0.8, fill_color=yellow, line_color=\"black\")\n",
    "\n",
    "slope = Slope(gradient=slope, y_intercept=intercept,\n",
    "              line_color=blue, line_dash='dashed', line_width=4)\n",
    "\n",
    "p.add_layout(slope)\n",
    "\n",
    "show(p)"
   ]
  }
 ],
 "metadata": {
  "kernelspec": {
   "display_name": "Python 3",
   "language": "python",
   "name": "python3"
  },
  "language_info": {
   "codemirror_mode": {
    "name": "ipython",
    "version": 3
   },
   "file_extension": ".py",
   "mimetype": "text/x-python",
   "name": "python",
   "nbconvert_exporter": "python",
   "pygments_lexer": "ipython3",
   "version": "3.9.18"
  }
 },
 "nbformat": 4,
 "nbformat_minor": 5
}
