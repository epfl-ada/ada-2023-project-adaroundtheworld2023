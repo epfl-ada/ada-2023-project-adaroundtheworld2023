{
 "cells": [
  {
   "cell_type": "markdown",
   "id": "811a1cdb8b9f8cc",
   "metadata": {
    "collapsed": false
   },
   "source": [
    "# Correlation Analysis"
   ]
  },
  {
   "cell_type": "markdown",
   "id": "566f55781c022383",
   "metadata": {
    "collapsed": false
   },
   "source": [
    "## Imports"
   ]
  },
  {
   "cell_type": "code",
   "execution_count": 1,
   "metadata": {
    "ExecuteTime": {
     "end_time": "2023-12-08T08:44:10.271318Z",
     "start_time": "2023-12-08T08:44:10.264588Z"
    }
   },
   "outputs": [],
   "source": [
    "import sys\n",
    "\n",
    "sys.path.append('../scripts')"
   ],
   "id": "f7c45f861013228b"
  },
  {
   "cell_type": "code",
   "execution_count": 104,
   "id": "6323ce90fea8a088",
   "metadata": {
    "collapsed": false,
    "ExecuteTime": {
     "end_time": "2023-12-08T14:42:39.607833Z",
     "start_time": "2023-12-08T14:42:39.555384Z"
    }
   },
   "outputs": [],
   "source": [
    "import pandas as pd\n",
    "import matplotlib.pyplot as plt\n",
    "import seaborn as sns\n",
    "import numpy as np\n",
    "import bokeh\n",
    "from sklearn.preprocessing import MinMaxScaler\n",
    "from bokeh.models import Slope, ColumnDataSource, Tabs, TabPanel, DataTable, TableColumn\n",
    "from bokeh.palettes import Sunset10, Cividis10\n",
    "from bokeh.plotting import figure, show\n",
    "\n",
    "from scripts.helpers import get_graph_from_pickle, merge_graph_to_df"
   ]
  },
  {
   "cell_type": "code",
   "execution_count": 52,
   "id": "c29ca94b59173ea0",
   "metadata": {
    "collapsed": false,
    "ExecuteTime": {
     "end_time": "2023-12-08T13:31:28.331578Z",
     "start_time": "2023-12-08T13:31:27.359320Z"
    }
   },
   "outputs": [
    {
     "name": "stdout",
     "output_type": "stream",
     "text": [
      "(22394, 9)\n"
     ]
    },
    {
     "data": {
      "text/plain": "                                         name  release_year  rating  \\\nwikipedia_id                                                          \n10109752                           Miss Jerry        1894.0     5.3   \n28703057        The Corbett-Fitzsimmons Fight        1897.0     5.3   \n142995            The Story of the Kelly Gang        1906.0     6.0   \n32986669                   Robbery Under Arms        1907.0     4.3   \n32987200      Captain Midnight, the Bush King        1911.0     5.4   \n\n              num_votes                                               plot  \\\nwikipedia_id                                                                 \n10109752            207  After finding out that her father is suffering...   \n28703057            484  The film no longer exists in its entirety; how...   \n142995              855  The Story of the Kelly Gangs tone is of sorrow...   \n32986669             25  Key scenes of the film included the branding o...   \n32987200             18  Edgar Dalimore is the son of wealthy station o...   \n\n             freebase_id             languages                     countries  \\\nwikipedia_id                                                                   \n10109752      /m/02q23xk       ['Silent film']  ['United States of America']   \n28703057      /m/0czdh_n                    []                            []   \n142995         /m/0120y4  ['English Language']                 ['Australia']   \n32986669      /m/04p7yxx       ['Silent film']                 ['Australia']   \n32987200      /m/0h569x9       ['Silent film']                            []   \n\n                                                         genres  \nwikipedia_id                                                     \n10109752      ['Short Film', 'Silent film', 'Indie', 'Black-...  \n28703057                                             ['Sports']  \n142995        ['Crime Fiction', 'Silent film', 'Biography', ...  \n32986669                               ['Silent film', 'Drama']  \n32987200                                        ['Silent film']  ",
      "text/html": "<div>\n<style scoped>\n    .dataframe tbody tr th:only-of-type {\n        vertical-align: middle;\n    }\n\n    .dataframe tbody tr th {\n        vertical-align: top;\n    }\n\n    .dataframe thead th {\n        text-align: right;\n    }\n</style>\n<table border=\"1\" class=\"dataframe\">\n  <thead>\n    <tr style=\"text-align: right;\">\n      <th></th>\n      <th>name</th>\n      <th>release_year</th>\n      <th>rating</th>\n      <th>num_votes</th>\n      <th>plot</th>\n      <th>freebase_id</th>\n      <th>languages</th>\n      <th>countries</th>\n      <th>genres</th>\n    </tr>\n    <tr>\n      <th>wikipedia_id</th>\n      <th></th>\n      <th></th>\n      <th></th>\n      <th></th>\n      <th></th>\n      <th></th>\n      <th></th>\n      <th></th>\n      <th></th>\n    </tr>\n  </thead>\n  <tbody>\n    <tr>\n      <th>10109752</th>\n      <td>Miss Jerry</td>\n      <td>1894.0</td>\n      <td>5.3</td>\n      <td>207</td>\n      <td>After finding out that her father is suffering...</td>\n      <td>/m/02q23xk</td>\n      <td>['Silent film']</td>\n      <td>['United States of America']</td>\n      <td>['Short Film', 'Silent film', 'Indie', 'Black-...</td>\n    </tr>\n    <tr>\n      <th>28703057</th>\n      <td>The Corbett-Fitzsimmons Fight</td>\n      <td>1897.0</td>\n      <td>5.3</td>\n      <td>484</td>\n      <td>The film no longer exists in its entirety; how...</td>\n      <td>/m/0czdh_n</td>\n      <td>[]</td>\n      <td>[]</td>\n      <td>['Sports']</td>\n    </tr>\n    <tr>\n      <th>142995</th>\n      <td>The Story of the Kelly Gang</td>\n      <td>1906.0</td>\n      <td>6.0</td>\n      <td>855</td>\n      <td>The Story of the Kelly Gangs tone is of sorrow...</td>\n      <td>/m/0120y4</td>\n      <td>['English Language']</td>\n      <td>['Australia']</td>\n      <td>['Crime Fiction', 'Silent film', 'Biography', ...</td>\n    </tr>\n    <tr>\n      <th>32986669</th>\n      <td>Robbery Under Arms</td>\n      <td>1907.0</td>\n      <td>4.3</td>\n      <td>25</td>\n      <td>Key scenes of the film included the branding o...</td>\n      <td>/m/04p7yxx</td>\n      <td>['Silent film']</td>\n      <td>['Australia']</td>\n      <td>['Silent film', 'Drama']</td>\n    </tr>\n    <tr>\n      <th>32987200</th>\n      <td>Captain Midnight, the Bush King</td>\n      <td>1911.0</td>\n      <td>5.4</td>\n      <td>18</td>\n      <td>Edgar Dalimore is the son of wealthy station o...</td>\n      <td>/m/0h569x9</td>\n      <td>['Silent film']</td>\n      <td>[]</td>\n      <td>['Silent film']</td>\n    </tr>\n  </tbody>\n</table>\n</div>"
     },
     "execution_count": 52,
     "metadata": {},
     "output_type": "execute_result"
    }
   ],
   "source": [
    "df_origin = pd.read_csv('../data/processed/preprocessed.csv', index_col=0)\n",
    "df_origin.set_index('wikipedia_id', inplace=True)\n",
    "print(df_origin.shape)\n",
    "df_origin.head(5)"
   ]
  },
  {
   "cell_type": "code",
   "execution_count": 53,
   "outputs": [],
   "source": [
    "decades = [1920, 1930, 1940, 1950, 1960, 1970, 1980, 1990, 2000, 2010]\n",
    "\n",
    "dfs = {}  # Dictionary to store the dataframes\n",
    "\n",
    "for decade in decades:\n",
    "    G = get_graph_from_pickle(decade)\n",
    "    df_year = merge_graph_to_df(df_origin, G) \n",
    "    dfs[decade] = df_year"
   ],
   "metadata": {
    "collapsed": false
   },
   "id": "78912a1617b54a3"
  },
  {
   "cell_type": "code",
   "execution_count": 117,
   "metadata": {
    "ExecuteTime": {
     "end_time": "2023-12-08T14:48:22.901759Z",
     "start_time": "2023-12-08T14:48:22.848047Z"
    }
   },
   "outputs": [
    {
     "data": {
      "text/plain": "        degree  betweenness\n1920 -0.076025    -0.149805\n1930 -0.014151    -0.086933\n1940 -0.083260    -0.108408\n1950 -0.074576    -0.091050\n1960 -0.066483    -0.102074\n1970 -0.121390    -0.116902\n1980 -0.104128    -0.092801\n1990 -0.119577    -0.114067\n2000 -0.135006    -0.120756\n2010 -0.142755    -0.086834",
      "text/html": "<div>\n<style scoped>\n    .dataframe tbody tr th:only-of-type {\n        vertical-align: middle;\n    }\n\n    .dataframe tbody tr th {\n        vertical-align: top;\n    }\n\n    .dataframe thead th {\n        text-align: right;\n    }\n</style>\n<table border=\"1\" class=\"dataframe\">\n  <thead>\n    <tr style=\"text-align: right;\">\n      <th></th>\n      <th>degree</th>\n      <th>betweenness</th>\n    </tr>\n  </thead>\n  <tbody>\n    <tr>\n      <th>1920</th>\n      <td>-0.076025</td>\n      <td>-0.149805</td>\n    </tr>\n    <tr>\n      <th>1930</th>\n      <td>-0.014151</td>\n      <td>-0.086933</td>\n    </tr>\n    <tr>\n      <th>1940</th>\n      <td>-0.083260</td>\n      <td>-0.108408</td>\n    </tr>\n    <tr>\n      <th>1950</th>\n      <td>-0.074576</td>\n      <td>-0.091050</td>\n    </tr>\n    <tr>\n      <th>1960</th>\n      <td>-0.066483</td>\n      <td>-0.102074</td>\n    </tr>\n    <tr>\n      <th>1970</th>\n      <td>-0.121390</td>\n      <td>-0.116902</td>\n    </tr>\n    <tr>\n      <th>1980</th>\n      <td>-0.104128</td>\n      <td>-0.092801</td>\n    </tr>\n    <tr>\n      <th>1990</th>\n      <td>-0.119577</td>\n      <td>-0.114067</td>\n    </tr>\n    <tr>\n      <th>2000</th>\n      <td>-0.135006</td>\n      <td>-0.120756</td>\n    </tr>\n    <tr>\n      <th>2010</th>\n      <td>-0.142755</td>\n      <td>-0.086834</td>\n    </tr>\n  </tbody>\n</table>\n</div>"
     },
     "execution_count": 117,
     "metadata": {},
     "output_type": "execute_result"
    }
   ],
   "source": [
    "correlation_df = pd.DataFrame(columns=['degree', 'betweenness'])\n",
    "\n",
    "for year, df in dfs.items():\n",
    "    corr_b = df['rating'].corr(df['betweenness'])\n",
    "    corr_d = df['rating'].corr(df['degree'])\n",
    "    correlation_df.loc[year] = [corr_d, corr_b]\n",
    "\n",
    "correlation_df"
   ],
   "id": "9adff5e3f493cd32"
  },
  {
   "cell_type": "code",
   "execution_count": 118,
   "outputs": [],
   "source": [
    "correlation_df = correlation_df[['degree']].reset_index().rename(columns={'index': 'decade', 'degree': 'correlation coefficient'})\n",
    "correlation_df['correlation coefficient'] = correlation_df['correlation coefficient'].round(3)"
   ],
   "metadata": {
    "collapsed": false,
    "ExecuteTime": {
     "end_time": "2023-12-08T14:48:23.273992Z",
     "start_time": "2023-12-08T14:48:23.188549Z"
    }
   },
   "id": "e363771ab1d008de"
  },
  {
   "cell_type": "code",
   "execution_count": 120,
   "outputs": [
    {
     "data": {
      "text/plain": "'/Users/jan.kokla/Documents/EPFL/ada-2023-project-adaroundtheworld2023/notebooks/emb_corr_table.html'"
     },
     "execution_count": 120,
     "metadata": {},
     "output_type": "execute_result"
    }
   ],
   "source": [
    "source = ColumnDataSource(correlation_df)\n",
    "myTable = DataTable(source=source, columns=[\n",
    "    TableColumn(field='decade', title='decade'), \n",
    "    TableColumn(field='correlation coefficient', title='correlation coefficient')]\n",
    "                    )\n",
    "from bokeh.plotting import output_file, save\n",
    "output_file('emb_corr_table.html')\n",
    "save(myTable)"
   ],
   "metadata": {
    "collapsed": false,
    "ExecuteTime": {
     "end_time": "2023-12-08T14:49:01.709803Z",
     "start_time": "2023-12-08T14:49:01.668296Z"
    }
   },
   "id": "611d64f7c9f5f2da"
  },
  {
   "cell_type": "code",
   "execution_count": 95,
   "outputs": [
    {
     "data": {
      "text/plain": "'/Users/jan.kokla/Documents/EPFL/ada-2023-project-adaroundtheworld2023/notebooks/scatter_tabs.html'"
     },
     "execution_count": 95,
     "metadata": {},
     "output_type": "execute_result"
    }
   ],
   "source": [
    "from scripts.plotting import plot_bokeh_scatter\n",
    "from scipy.stats import linregress\n",
    "\n",
    "tabs = []\n",
    "\n",
    "for decade in decades:\n",
    "    res = linregress(dfs[decade].degree, dfs[decade].rating)\n",
    "    plot = plot_bokeh_scatter(dfs[decade], 'degree', res.slope, res.intercept)\n",
    "    tab = TabPanel(child=plot, title=str(decade))\n",
    "\n",
    "    tabs.append(tab)\n",
    "    \n",
    "tabs = Tabs(tabs=tabs, sizing_mode='stretch_width')\n",
    "\n",
    "from bokeh.plotting import output_file, save\n",
    "output_file('scatter_tabs.html')\n",
    "save(tabs)"
   ],
   "metadata": {
    "collapsed": false,
    "ExecuteTime": {
     "end_time": "2023-12-08T14:28:36.682068Z",
     "start_time": "2023-12-08T14:28:35.498225Z"
    }
   },
   "id": "3576130cfdbcc3c6"
  },
  {
   "cell_type": "code",
   "execution_count": null,
   "outputs": [],
   "source": [],
   "metadata": {
    "collapsed": false
   },
   "id": "f15c6dbe3d7bbfc4"
  }
 ],
 "metadata": {
  "kernelspec": {
   "display_name": "Python 3",
   "language": "python",
   "name": "python3"
  },
  "language_info": {
   "codemirror_mode": {
    "name": "ipython",
    "version": 3
   },
   "file_extension": ".py",
   "mimetype": "text/x-python",
   "name": "python",
   "nbconvert_exporter": "python",
   "pygments_lexer": "ipython3",
   "version": "3.9.18"
  }
 },
 "nbformat": 4,
 "nbformat_minor": 5
}
