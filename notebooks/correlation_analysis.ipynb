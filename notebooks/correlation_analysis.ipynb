{
 "cells": [
  {
   "cell_type": "markdown",
   "source": [
    "# Correlation Analysis"
   ],
   "metadata": {
    "collapsed": false
   },
   "id": "811a1cdb8b9f8cc"
  },
  {
   "cell_type": "markdown",
   "source": [
    "## Imports"
   ],
   "metadata": {
    "collapsed": false
   },
   "id": "566f55781c022383"
  },
  {
   "cell_type": "code",
   "execution_count": 1,
   "outputs": [],
   "source": [
    "import pandas as pd\n",
    "\n",
    "from scripts.helpers import get_graph_from_pickle, merge_graph_to_df"
   ],
   "metadata": {
    "collapsed": false,
    "ExecuteTime": {
     "end_time": "2023-12-05T15:10:55.894943Z",
     "start_time": "2023-12-05T15:10:55.713318Z"
    }
   },
   "id": "6323ce90fea8a088"
  },
  {
   "cell_type": "code",
   "execution_count": 2,
   "outputs": [
    {
     "name": "stdout",
     "output_type": "stream",
     "text": [
      "(22394, 9)\n"
     ]
    },
    {
     "data": {
      "text/plain": "                                         name  release_year  rating  \\\nwikipedia_id                                                          \n10109752                           Miss Jerry        1894.0     5.3   \n28703057        The Corbett-Fitzsimmons Fight        1897.0     5.3   \n142995            The Story of the Kelly Gang        1906.0     6.0   \n32986669                   Robbery Under Arms        1907.0     4.3   \n32987200      Captain Midnight, the Bush King        1911.0     5.4   \n\n              num_votes                                               plot  \\\nwikipedia_id                                                                 \n10109752            207  After finding out that her father is suffering...   \n28703057            484  The film no longer exists in its entirety; how...   \n142995              855  The Story of the Kelly Gangs tone is of sorrow...   \n32986669             25  Key scenes of the film included the branding o...   \n32987200             18  Edgar Dalimore is the son of wealthy station o...   \n\n             freebase_id             languages                     countries  \\\nwikipedia_id                                                                   \n10109752      /m/02q23xk       ['Silent film']  ['United States of America']   \n28703057      /m/0czdh_n                    []                            []   \n142995         /m/0120y4  ['English Language']                 ['Australia']   \n32986669      /m/04p7yxx       ['Silent film']                 ['Australia']   \n32987200      /m/0h569x9       ['Silent film']                            []   \n\n                                                         genres  \nwikipedia_id                                                     \n10109752      ['Short Film', 'Silent film', 'Indie', 'Black-...  \n28703057                                             ['Sports']  \n142995        ['Crime Fiction', 'Silent film', 'Biography', ...  \n32986669                               ['Silent film', 'Drama']  \n32987200                                        ['Silent film']  ",
      "text/html": "<div>\n<style scoped>\n    .dataframe tbody tr th:only-of-type {\n        vertical-align: middle;\n    }\n\n    .dataframe tbody tr th {\n        vertical-align: top;\n    }\n\n    .dataframe thead th {\n        text-align: right;\n    }\n</style>\n<table border=\"1\" class=\"dataframe\">\n  <thead>\n    <tr style=\"text-align: right;\">\n      <th></th>\n      <th>name</th>\n      <th>release_year</th>\n      <th>rating</th>\n      <th>num_votes</th>\n      <th>plot</th>\n      <th>freebase_id</th>\n      <th>languages</th>\n      <th>countries</th>\n      <th>genres</th>\n    </tr>\n    <tr>\n      <th>wikipedia_id</th>\n      <th></th>\n      <th></th>\n      <th></th>\n      <th></th>\n      <th></th>\n      <th></th>\n      <th></th>\n      <th></th>\n      <th></th>\n    </tr>\n  </thead>\n  <tbody>\n    <tr>\n      <th>10109752</th>\n      <td>Miss Jerry</td>\n      <td>1894.0</td>\n      <td>5.3</td>\n      <td>207</td>\n      <td>After finding out that her father is suffering...</td>\n      <td>/m/02q23xk</td>\n      <td>['Silent film']</td>\n      <td>['United States of America']</td>\n      <td>['Short Film', 'Silent film', 'Indie', 'Black-...</td>\n    </tr>\n    <tr>\n      <th>28703057</th>\n      <td>The Corbett-Fitzsimmons Fight</td>\n      <td>1897.0</td>\n      <td>5.3</td>\n      <td>484</td>\n      <td>The film no longer exists in its entirety; how...</td>\n      <td>/m/0czdh_n</td>\n      <td>[]</td>\n      <td>[]</td>\n      <td>['Sports']</td>\n    </tr>\n    <tr>\n      <th>142995</th>\n      <td>The Story of the Kelly Gang</td>\n      <td>1906.0</td>\n      <td>6.0</td>\n      <td>855</td>\n      <td>The Story of the Kelly Gangs tone is of sorrow...</td>\n      <td>/m/0120y4</td>\n      <td>['English Language']</td>\n      <td>['Australia']</td>\n      <td>['Crime Fiction', 'Silent film', 'Biography', ...</td>\n    </tr>\n    <tr>\n      <th>32986669</th>\n      <td>Robbery Under Arms</td>\n      <td>1907.0</td>\n      <td>4.3</td>\n      <td>25</td>\n      <td>Key scenes of the film included the branding o...</td>\n      <td>/m/04p7yxx</td>\n      <td>['Silent film']</td>\n      <td>['Australia']</td>\n      <td>['Silent film', 'Drama']</td>\n    </tr>\n    <tr>\n      <th>32987200</th>\n      <td>Captain Midnight, the Bush King</td>\n      <td>1911.0</td>\n      <td>5.4</td>\n      <td>18</td>\n      <td>Edgar Dalimore is the son of wealthy station o...</td>\n      <td>/m/0h569x9</td>\n      <td>['Silent film']</td>\n      <td>[]</td>\n      <td>['Silent film']</td>\n    </tr>\n  </tbody>\n</table>\n</div>"
     },
     "execution_count": 2,
     "metadata": {},
     "output_type": "execute_result"
    }
   ],
   "source": [
    "df = pd.read_csv('../data/processed/preprocessed.csv', index_col=0)\n",
    "df.set_index('wikipedia_id', inplace=True)\n",
    "print(df.shape)\n",
    "df.head(5)"
   ],
   "metadata": {
    "collapsed": false,
    "ExecuteTime": {
     "end_time": "2023-12-05T15:10:56.367209Z",
     "start_time": "2023-12-05T15:10:55.895346Z"
    }
   },
   "id": "c29ca94b59173ea0"
  },
  {
   "cell_type": "code",
   "execution_count": 3,
   "outputs": [
    {
     "data": {
      "text/plain": "                                 name  release_year  rating  num_votes  \\\n28776744        The Amateur Gentleman        1920.0     4.0         14   \n11396051                  L'Atlantide        1921.0     6.7        419   \n32932657  The Breaking of the Drought        1920.0     5.2         27   \n8691806                   The Flapper        1920.0     6.4        412   \n9862787                       Genuine        1920.0     5.9       1105   \n\n                                                       plot freebase_id  \\\n28776744  In Regency Britain a young man tries to establ...  /m/0ddf1g6   \n11396051  In 1911, two French officers, Capitaine Morhan...  /m/02rb35g   \n32932657  Drought causes Jo Galloway  to lose possession...  /m/0h3vzny   \n8691806   16-year-old Genevieve 'Ginger' King , is growi...  /m/027f4nv   \n9862787   Since completing a portrait of Genuine, a high...  /m/02pv61s   \n\n                                    languages                       countries  \\\n28776744                 ['English Language']              ['United Kingdom']   \n11396051                      ['Silent film']                      ['France']   \n32932657  ['Silent film', 'English Language']                              []   \n8691806   ['Silent film', 'English Language']    ['United States of America']   \n9862787    ['Silent film', 'German Language']  ['Weimar Republic', 'Germany']   \n\n                                                     genres  betweenness  \\\n28776744                                      ['Adventure']     0.018261   \n11396051  ['Silent film', 'Indie', 'World cinema', 'Blac...     0.000532   \n32932657                                    ['Silent film']     0.000149   \n8691806   ['Silent film', 'Comedy', 'Black-and-white', '...     0.000052   \n9862787                  ['Silent film', 'Horror', 'Indie']     0.000831   \n\n          degree  \n28776744     196  \n11396051     129  \n32932657      57  \n8691806       65  \n9862787      153  ",
      "text/html": "<div>\n<style scoped>\n    .dataframe tbody tr th:only-of-type {\n        vertical-align: middle;\n    }\n\n    .dataframe tbody tr th {\n        vertical-align: top;\n    }\n\n    .dataframe thead th {\n        text-align: right;\n    }\n</style>\n<table border=\"1\" class=\"dataframe\">\n  <thead>\n    <tr style=\"text-align: right;\">\n      <th></th>\n      <th>name</th>\n      <th>release_year</th>\n      <th>rating</th>\n      <th>num_votes</th>\n      <th>plot</th>\n      <th>freebase_id</th>\n      <th>languages</th>\n      <th>countries</th>\n      <th>genres</th>\n      <th>betweenness</th>\n      <th>degree</th>\n    </tr>\n  </thead>\n  <tbody>\n    <tr>\n      <th>28776744</th>\n      <td>The Amateur Gentleman</td>\n      <td>1920.0</td>\n      <td>4.0</td>\n      <td>14</td>\n      <td>In Regency Britain a young man tries to establ...</td>\n      <td>/m/0ddf1g6</td>\n      <td>['English Language']</td>\n      <td>['United Kingdom']</td>\n      <td>['Adventure']</td>\n      <td>0.018261</td>\n      <td>196</td>\n    </tr>\n    <tr>\n      <th>11396051</th>\n      <td>L'Atlantide</td>\n      <td>1921.0</td>\n      <td>6.7</td>\n      <td>419</td>\n      <td>In 1911, two French officers, Capitaine Morhan...</td>\n      <td>/m/02rb35g</td>\n      <td>['Silent film']</td>\n      <td>['France']</td>\n      <td>['Silent film', 'Indie', 'World cinema', 'Blac...</td>\n      <td>0.000532</td>\n      <td>129</td>\n    </tr>\n    <tr>\n      <th>32932657</th>\n      <td>The Breaking of the Drought</td>\n      <td>1920.0</td>\n      <td>5.2</td>\n      <td>27</td>\n      <td>Drought causes Jo Galloway  to lose possession...</td>\n      <td>/m/0h3vzny</td>\n      <td>['Silent film', 'English Language']</td>\n      <td>[]</td>\n      <td>['Silent film']</td>\n      <td>0.000149</td>\n      <td>57</td>\n    </tr>\n    <tr>\n      <th>8691806</th>\n      <td>The Flapper</td>\n      <td>1920.0</td>\n      <td>6.4</td>\n      <td>412</td>\n      <td>16-year-old Genevieve 'Ginger' King , is growi...</td>\n      <td>/m/027f4nv</td>\n      <td>['Silent film', 'English Language']</td>\n      <td>['United States of America']</td>\n      <td>['Silent film', 'Comedy', 'Black-and-white', '...</td>\n      <td>0.000052</td>\n      <td>65</td>\n    </tr>\n    <tr>\n      <th>9862787</th>\n      <td>Genuine</td>\n      <td>1920.0</td>\n      <td>5.9</td>\n      <td>1105</td>\n      <td>Since completing a portrait of Genuine, a high...</td>\n      <td>/m/02pv61s</td>\n      <td>['Silent film', 'German Language']</td>\n      <td>['Weimar Republic', 'Germany']</td>\n      <td>['Silent film', 'Horror', 'Indie']</td>\n      <td>0.000831</td>\n      <td>153</td>\n    </tr>\n  </tbody>\n</table>\n</div>"
     },
     "execution_count": 3,
     "metadata": {},
     "output_type": "execute_result"
    }
   ],
   "source": [
    "G = get_graph_from_pickle(1920)\n",
    "df = merge_graph_to_df(df, G)\n",
    "df.head(5)"
   ],
   "metadata": {
    "collapsed": false,
    "ExecuteTime": {
     "end_time": "2023-12-05T15:10:56.432038Z",
     "start_time": "2023-12-05T15:10:56.367782Z"
    }
   },
   "id": "24c6e912cf6704a0"
  },
  {
   "cell_type": "code",
   "execution_count": 3,
   "outputs": [],
   "source": [],
   "metadata": {
    "collapsed": false,
    "ExecuteTime": {
     "end_time": "2023-12-05T15:10:56.488953Z",
     "start_time": "2023-12-05T15:10:56.404182Z"
    }
   },
   "id": "b9f3594e6c5ca8de"
  }
 ],
 "metadata": {
  "kernelspec": {
   "display_name": "Python 3",
   "language": "python",
   "name": "python3"
  },
  "language_info": {
   "codemirror_mode": {
    "name": "ipython",
    "version": 2
   },
   "file_extension": ".py",
   "mimetype": "text/x-python",
   "name": "python",
   "nbconvert_exporter": "python",
   "pygments_lexer": "ipython2",
   "version": "2.7.6"
  }
 },
 "nbformat": 4,
 "nbformat_minor": 5
}
