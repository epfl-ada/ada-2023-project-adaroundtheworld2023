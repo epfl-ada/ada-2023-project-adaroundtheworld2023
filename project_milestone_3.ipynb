{
 "cells": [
  {
   "cell_type": "markdown",
   "id": "5730f1dfbc964722",
   "metadata": {
    "collapsed": false
   },
   "source": [
    "# ADAroundTheWorld2023 - Milestone 3"
   ]
  },
  {
   "cell_type": "markdown",
   "id": "cd87ea1f580a0ce4",
   "metadata": {
    "collapsed": false
   },
   "source": [
    "## Abstract <a class=\"anchor\" id=\"abstract\"></a>\n",
    "\n",
    "This notebook is a ..."
   ]
  },
  {
   "cell_type": "markdown",
   "source": [
    "## Table of Contents\n",
    "\n",
    "Please do not try to click on them in GitHub as GitHub renders it differently and the links only work locally.\n",
    "\n",
    "&emsp;&ensp;&ensp;[Abstract](#abstract)<br style=\"margin-bottom:0.5em;\">\n",
    "&emsp;&emsp;[1 - Preprocessing & Initial Analysis](#preprocess)<br style=\"margin-bottom:0.1em;\">\n",
    "&emsp;&emsp;&emsp;&emsp;[1.1 - Preprocessing](#preprocessing-child)<br style=\"margin-bottom:0.1em;\">\n",
    "&emsp;&emsp;&emsp;&emsp;[1.2 - Merging](#merging)<br style=\"margin-bottom:0.1em;\">\n",
    "&emsp;&emsp;&emsp;&emsp;[1.3 - First Glance](#first-glance)<br style=\"margin-bottom:0.5em;\">\n",
    "&emsp;&emsp;[2 - Theory of Centrality Metrics](#theory)<br style=\"margin-bottom:0.1em;\">\n",
    "&emsp;&emsp;&emsp;&emsp;[2.1 - Betweenness](#betweenness)<br style=\"margin-bottom:0.1em;\">\n",
    "&emsp;&emsp;&emsp;&emsp;[2.2 - Degree](#degree)<br style=\"margin-bottom:0.5em;\">\n",
    "&emsp;&emsp;[3 - Creating Network Graphs](#creating-network)<br style=\"margin-bottom:0.1em;\">\n",
    "&emsp;&emsp;&emsp;&emsp;[3.1 - Embeddings](#embeddings)<br style=\"margin-bottom:0.1em;\">\n",
    "&emsp;&emsp;&emsp;&emsp;[3.2 - Classification](#classification)<br style=\"margin-bottom:0.1em;\">\n",
    "&emsp;&emsp;[4 - Correlation Analysis](#correlation-analysis)<br style=\"margin-bottom:0.1em;\">\n",
    "&emsp;&ensp;&ensp;[Summary](#summary)<br style=\"margin-bottom:0.1em;\">\n"
   ],
   "metadata": {
    "collapsed": false
   },
   "id": "714e67f4164c50d0"
  },
  {
   "cell_type": "markdown",
   "source": [
    "## Imports"
   ],
   "metadata": {
    "collapsed": false
   },
   "id": "c349e447a4fa242"
  },
  {
   "cell_type": "code",
   "execution_count": 77,
   "outputs": [],
   "source": [
    "import warnings\n",
    "import itertools\n",
    "\n",
    "import pandas as pd\n",
    "import networkx as nx\n",
    "import seaborn as sns\n",
    "import matplotlib.pyplot as plt\n",
    "import pingouin as pg\n",
    "import numpy as np\n",
    "\n",
    "from scripts.helpers import get_list_from_string_dict, get_similarities_from_json, get_similarity_df, \\\n",
    "    get_graph_from_pickle, merge_graph_to_df, get_embeddings_from_json, get_probabilities_from_json, \\\n",
    "    add_default_attributes\n",
    "from scripts.plotting import plot_example_graph, plot_similarity_matrix, plot_bokeh_graph\n",
    "\n",
    "from bokeh.io import show\n",
    "from tqdm import tqdm\n",
    "from bokeh.io.export import get_screenshot_as_png\n",
    "\n",
    "warnings.filterwarnings('ignore')"
   ],
   "metadata": {
    "collapsed": false,
    "ExecuteTime": {
     "end_time": "2023-12-14T14:21:46.268157Z",
     "start_time": "2023-12-14T14:21:45.452971Z"
    }
   },
   "id": "63695f0e06f346cc"
  },
  {
   "cell_type": "code",
   "execution_count": 78,
   "outputs": [],
   "source": [
    "from selenium import webdriver\n",
    "import chromedriver_binary  # Adds chromedriver binary to path"
   ],
   "metadata": {
    "collapsed": false,
    "ExecuteTime": {
     "end_time": "2023-12-14T14:21:46.268605Z",
     "start_time": "2023-12-14T14:21:45.457908Z"
    }
   },
   "id": "451ae4f6f6fc12d3"
  },
  {
   "cell_type": "markdown",
   "id": "a7bccca03fb27839",
   "metadata": {
    "collapsed": false
   },
   "source": [
    "## 1. Preprocessing & Initial Analysis <a class=\"anchor\" id=\"preprocess\"></a>\n",
    "\n",
    "First we read in data from CMU Movie Corpus and IMDB resources, clean and transform it according to our needs. Then we gather the necessary data into one dataframe and finally, we make a short analysis of the data that will be important for deciding the next steps.\n",
    "\n",
    "Notice that raw data must first be downloaded and extracted to the designated directory. Follow README in the `data` directory with instructions."
   ]
  },
  {
   "cell_type": "markdown",
   "id": "b2cb4900ef221f1d",
   "metadata": {
    "collapsed": false
   },
   "source": [
    "### 1.1 Preprocessing <a class=\"anchor\" id=\"preprocessing-child\"></a>\n",
    "\n",
    "Preprocessing merges the data from 3 separate datasets: `movie metadata`, `plot_summaries`, `IMDB datasets`. Every dataset has its own quirks that must be dealt with. Following sections describe exactly that."
   ]
  },
  {
   "cell_type": "markdown",
   "id": "58f620dc6e1dd88a",
   "metadata": {
    "collapsed": false
   },
   "source": [
    "### 1.1.1 Movie Metadata"
   ]
  },
  {
   "cell_type": "code",
   "execution_count": 79,
   "id": "14355b53636d1776",
   "metadata": {
    "collapsed": false,
    "ExecuteTime": {
     "end_time": "2023-12-14T14:21:48.195103Z",
     "start_time": "2023-12-14T14:21:45.493633Z"
    }
   },
   "outputs": [
    {
     "name": "stdout",
     "output_type": "stream",
     "text": [
      "(81741, 9)\n"
     ]
    },
    {
     "data": {
      "text/plain": "   wikipedia_id freebase_id  \\\n0        975900   /m/03vyhn   \n1       3196793   /m/08yl5d   \n2      28463795  /m/0crgdbh   \n3       9363483  /m/0285_cd   \n4        261236   /m/01mrr1   \n\n                                                name release_date  \\\n0                                     Ghosts of Mars   2001-08-24   \n1  Getting Away with Murder: The JonBenét Ramsey ...   2000-02-16   \n2                                        Brun bitter         1988   \n3                                   White Of The Eye         1987   \n4                                  A Woman in Flames         1983   \n\n   box_office_revenue  runtime                           languages  \\\n0          14010832.0     98.0  {\"/m/02h40lc\": \"English Language\"}   \n1                 NaN     95.0  {\"/m/02h40lc\": \"English Language\"}   \n2                 NaN     83.0  {\"/m/05f_3\": \"Norwegian Language\"}   \n3                 NaN    110.0  {\"/m/02h40lc\": \"English Language\"}   \n4                 NaN    106.0   {\"/m/04306rv\": \"German Language\"}   \n\n                                   countries  \\\n0  {\"/m/09c7w0\": \"United States of America\"}   \n1  {\"/m/09c7w0\": \"United States of America\"}   \n2                     {\"/m/05b4w\": \"Norway\"}   \n3             {\"/m/07ssc\": \"United Kingdom\"}   \n4                    {\"/m/0345h\": \"Germany\"}   \n\n                                              genres  \n0  {\"/m/01jfsb\": \"Thriller\", \"/m/06n90\": \"Science...  \n1  {\"/m/02n4kr\": \"Mystery\", \"/m/03bxz7\": \"Biograp...  \n2  {\"/m/0lsxr\": \"Crime Fiction\", \"/m/07s9rl0\": \"D...  \n3  {\"/m/01jfsb\": \"Thriller\", \"/m/0glj9q\": \"Erotic...  \n4                            {\"/m/07s9rl0\": \"Drama\"}  ",
      "text/html": "<div>\n<style scoped>\n    .dataframe tbody tr th:only-of-type {\n        vertical-align: middle;\n    }\n\n    .dataframe tbody tr th {\n        vertical-align: top;\n    }\n\n    .dataframe thead th {\n        text-align: right;\n    }\n</style>\n<table border=\"1\" class=\"dataframe\">\n  <thead>\n    <tr style=\"text-align: right;\">\n      <th></th>\n      <th>wikipedia_id</th>\n      <th>freebase_id</th>\n      <th>name</th>\n      <th>release_date</th>\n      <th>box_office_revenue</th>\n      <th>runtime</th>\n      <th>languages</th>\n      <th>countries</th>\n      <th>genres</th>\n    </tr>\n  </thead>\n  <tbody>\n    <tr>\n      <th>0</th>\n      <td>975900</td>\n      <td>/m/03vyhn</td>\n      <td>Ghosts of Mars</td>\n      <td>2001-08-24</td>\n      <td>14010832.0</td>\n      <td>98.0</td>\n      <td>{\"/m/02h40lc\": \"English Language\"}</td>\n      <td>{\"/m/09c7w0\": \"United States of America\"}</td>\n      <td>{\"/m/01jfsb\": \"Thriller\", \"/m/06n90\": \"Science...</td>\n    </tr>\n    <tr>\n      <th>1</th>\n      <td>3196793</td>\n      <td>/m/08yl5d</td>\n      <td>Getting Away with Murder: The JonBenét Ramsey ...</td>\n      <td>2000-02-16</td>\n      <td>NaN</td>\n      <td>95.0</td>\n      <td>{\"/m/02h40lc\": \"English Language\"}</td>\n      <td>{\"/m/09c7w0\": \"United States of America\"}</td>\n      <td>{\"/m/02n4kr\": \"Mystery\", \"/m/03bxz7\": \"Biograp...</td>\n    </tr>\n    <tr>\n      <th>2</th>\n      <td>28463795</td>\n      <td>/m/0crgdbh</td>\n      <td>Brun bitter</td>\n      <td>1988</td>\n      <td>NaN</td>\n      <td>83.0</td>\n      <td>{\"/m/05f_3\": \"Norwegian Language\"}</td>\n      <td>{\"/m/05b4w\": \"Norway\"}</td>\n      <td>{\"/m/0lsxr\": \"Crime Fiction\", \"/m/07s9rl0\": \"D...</td>\n    </tr>\n    <tr>\n      <th>3</th>\n      <td>9363483</td>\n      <td>/m/0285_cd</td>\n      <td>White Of The Eye</td>\n      <td>1987</td>\n      <td>NaN</td>\n      <td>110.0</td>\n      <td>{\"/m/02h40lc\": \"English Language\"}</td>\n      <td>{\"/m/07ssc\": \"United Kingdom\"}</td>\n      <td>{\"/m/01jfsb\": \"Thriller\", \"/m/0glj9q\": \"Erotic...</td>\n    </tr>\n    <tr>\n      <th>4</th>\n      <td>261236</td>\n      <td>/m/01mrr1</td>\n      <td>A Woman in Flames</td>\n      <td>1983</td>\n      <td>NaN</td>\n      <td>106.0</td>\n      <td>{\"/m/04306rv\": \"German Language\"}</td>\n      <td>{\"/m/0345h\": \"Germany\"}</td>\n      <td>{\"/m/07s9rl0\": \"Drama\"}</td>\n    </tr>\n  </tbody>\n</table>\n</div>"
     },
     "execution_count": 79,
     "metadata": {},
     "output_type": "execute_result"
    }
   ],
   "source": [
    "# specify the column names \n",
    "column_names = [\n",
    "    'wikipedia_id', 'freebase_id', 'name', 'release_date', \n",
    "    'box_office_revenue', 'runtime', 'languages', 'countries', 'genres'\n",
    "]\n",
    "# read the data\n",
    "metadata_df = pd.read_table('data/raw/movie.metadata.tsv', names=column_names)\n",
    "print(metadata_df.shape)\n",
    "metadata_df.head(5)"
   ]
  },
  {
   "cell_type": "markdown",
   "source": [
    "Few things come up first that needs to be done. First, release date has **inconsistent formatting** and since we only need year, will keep that. Secondly, we **don't need box-office revenue and runtime** for the analysis, so we can drop it. Thirdly, languages, countries and genres have **inconvenient formatting**, which we need to fix."
   ],
   "metadata": {
    "collapsed": false
   },
   "id": "302eeccbc29a430a"
  },
  {
   "cell_type": "code",
   "execution_count": 80,
   "outputs": [
    {
     "name": "stdout",
     "output_type": "stream",
     "text": [
      "We have missing year for 8.4% of data.\n"
     ]
    }
   ],
   "source": [
    "# let's first check how many missing values do we have in release date\n",
    "missing_perc_date = metadata_df.release_date.isna().sum() / metadata_df.shape[0] * 100\n",
    "print(f'We have missing year for {round(missing_perc_date, 1)}% of data.')"
   ],
   "metadata": {
    "collapsed": false,
    "ExecuteTime": {
     "end_time": "2023-12-14T14:21:48.219932Z",
     "start_time": "2023-12-14T14:21:45.926016Z"
    }
   },
   "id": "e17d778460179b61"
  },
  {
   "cell_type": "code",
   "execution_count": 81,
   "outputs": [
    {
     "data": {
      "text/plain": "   wikipedia_id freebase_id  \\\n0        975900   /m/03vyhn   \n1       3196793   /m/08yl5d   \n2      28463795  /m/0crgdbh   \n3       9363483  /m/0285_cd   \n4        261236   /m/01mrr1   \n\n                                                name  box_office_revenue  \\\n0                                     Ghosts of Mars          14010832.0   \n1  Getting Away with Murder: The JonBenét Ramsey ...                 NaN   \n2                                        Brun bitter                 NaN   \n3                                   White Of The Eye                 NaN   \n4                                  A Woman in Flames                 NaN   \n\n   runtime                           languages  \\\n0     98.0  {\"/m/02h40lc\": \"English Language\"}   \n1     95.0  {\"/m/02h40lc\": \"English Language\"}   \n2     83.0  {\"/m/05f_3\": \"Norwegian Language\"}   \n3    110.0  {\"/m/02h40lc\": \"English Language\"}   \n4    106.0   {\"/m/04306rv\": \"German Language\"}   \n\n                                   countries  \\\n0  {\"/m/09c7w0\": \"United States of America\"}   \n1  {\"/m/09c7w0\": \"United States of America\"}   \n2                     {\"/m/05b4w\": \"Norway\"}   \n3             {\"/m/07ssc\": \"United Kingdom\"}   \n4                    {\"/m/0345h\": \"Germany\"}   \n\n                                              genres  release_year  \n0  {\"/m/01jfsb\": \"Thriller\", \"/m/06n90\": \"Science...          2001  \n1  {\"/m/02n4kr\": \"Mystery\", \"/m/03bxz7\": \"Biograp...          2000  \n2  {\"/m/0lsxr\": \"Crime Fiction\", \"/m/07s9rl0\": \"D...          1988  \n3  {\"/m/01jfsb\": \"Thriller\", \"/m/0glj9q\": \"Erotic...          1987  \n4                            {\"/m/07s9rl0\": \"Drama\"}          1983  ",
      "text/html": "<div>\n<style scoped>\n    .dataframe tbody tr th:only-of-type {\n        vertical-align: middle;\n    }\n\n    .dataframe tbody tr th {\n        vertical-align: top;\n    }\n\n    .dataframe thead th {\n        text-align: right;\n    }\n</style>\n<table border=\"1\" class=\"dataframe\">\n  <thead>\n    <tr style=\"text-align: right;\">\n      <th></th>\n      <th>wikipedia_id</th>\n      <th>freebase_id</th>\n      <th>name</th>\n      <th>box_office_revenue</th>\n      <th>runtime</th>\n      <th>languages</th>\n      <th>countries</th>\n      <th>genres</th>\n      <th>release_year</th>\n    </tr>\n  </thead>\n  <tbody>\n    <tr>\n      <th>0</th>\n      <td>975900</td>\n      <td>/m/03vyhn</td>\n      <td>Ghosts of Mars</td>\n      <td>14010832.0</td>\n      <td>98.0</td>\n      <td>{\"/m/02h40lc\": \"English Language\"}</td>\n      <td>{\"/m/09c7w0\": \"United States of America\"}</td>\n      <td>{\"/m/01jfsb\": \"Thriller\", \"/m/06n90\": \"Science...</td>\n      <td>2001</td>\n    </tr>\n    <tr>\n      <th>1</th>\n      <td>3196793</td>\n      <td>/m/08yl5d</td>\n      <td>Getting Away with Murder: The JonBenét Ramsey ...</td>\n      <td>NaN</td>\n      <td>95.0</td>\n      <td>{\"/m/02h40lc\": \"English Language\"}</td>\n      <td>{\"/m/09c7w0\": \"United States of America\"}</td>\n      <td>{\"/m/02n4kr\": \"Mystery\", \"/m/03bxz7\": \"Biograp...</td>\n      <td>2000</td>\n    </tr>\n    <tr>\n      <th>2</th>\n      <td>28463795</td>\n      <td>/m/0crgdbh</td>\n      <td>Brun bitter</td>\n      <td>NaN</td>\n      <td>83.0</td>\n      <td>{\"/m/05f_3\": \"Norwegian Language\"}</td>\n      <td>{\"/m/05b4w\": \"Norway\"}</td>\n      <td>{\"/m/0lsxr\": \"Crime Fiction\", \"/m/07s9rl0\": \"D...</td>\n      <td>1988</td>\n    </tr>\n    <tr>\n      <th>3</th>\n      <td>9363483</td>\n      <td>/m/0285_cd</td>\n      <td>White Of The Eye</td>\n      <td>NaN</td>\n      <td>110.0</td>\n      <td>{\"/m/02h40lc\": \"English Language\"}</td>\n      <td>{\"/m/07ssc\": \"United Kingdom\"}</td>\n      <td>{\"/m/01jfsb\": \"Thriller\", \"/m/0glj9q\": \"Erotic...</td>\n      <td>1987</td>\n    </tr>\n    <tr>\n      <th>4</th>\n      <td>261236</td>\n      <td>/m/01mrr1</td>\n      <td>A Woman in Flames</td>\n      <td>NaN</td>\n      <td>106.0</td>\n      <td>{\"/m/04306rv\": \"German Language\"}</td>\n      <td>{\"/m/0345h\": \"Germany\"}</td>\n      <td>{\"/m/07s9rl0\": \"Drama\"}</td>\n      <td>1983</td>\n    </tr>\n  </tbody>\n</table>\n</div>"
     },
     "execution_count": 81,
     "metadata": {},
     "output_type": "execute_result"
    }
   ],
   "source": [
    "# let's now convert string to date\n",
    "metadata_df['release_year'] = pd.to_datetime(metadata_df['release_date'], errors='coerce')\n",
    "\n",
    "# remove the original column\n",
    "# plus there might be some with inconsistent formatting in the newly created column\n",
    "metadata_df.drop(columns='release_date', inplace=True)\n",
    "metadata_df.dropna(subset=['release_year'], inplace=True)\n",
    "\n",
    "# and now convert it to year as integer\n",
    "metadata_df['release_year'] = metadata_df['release_year'].dt.year.astype(int)\n",
    "\n",
    "metadata_df.head(5)"
   ],
   "metadata": {
    "collapsed": false,
    "ExecuteTime": {
     "end_time": "2023-12-14T14:21:48.231736Z",
     "start_time": "2023-12-14T14:21:45.946575Z"
    }
   },
   "id": "866737f1a61d000d"
  },
  {
   "cell_type": "code",
   "execution_count": 82,
   "outputs": [],
   "source": [
    "# let's remove unnecessary columns\n",
    "metadata_df.drop(columns=['box_office_revenue', 'runtime'], inplace=True)"
   ],
   "metadata": {
    "collapsed": false,
    "ExecuteTime": {
     "end_time": "2023-12-14T14:21:48.231887Z",
     "start_time": "2023-12-14T14:21:45.982738Z"
    }
   },
   "id": "aa3f3c4069e56f9b"
  },
  {
   "cell_type": "code",
   "execution_count": 83,
   "outputs": [
    {
     "data": {
      "text/plain": "                                              genres             languages  \\\n0  [Thriller, Science Fiction, Horror, Adventure,...    [English Language]   \n1   [Mystery, Biographical film, Drama, Crime Drama]    [English Language]   \n2                             [Crime Fiction, Drama]  [Norwegian Language]   \n3  [Thriller, Erotic thriller, Psychological thri...    [English Language]   \n4                                            [Drama]     [German Language]   \n\n                    countries  \n0  [United States of America]  \n1  [United States of America]  \n2                    [Norway]  \n3            [United Kingdom]  \n4                   [Germany]  ",
      "text/html": "<div>\n<style scoped>\n    .dataframe tbody tr th:only-of-type {\n        vertical-align: middle;\n    }\n\n    .dataframe tbody tr th {\n        vertical-align: top;\n    }\n\n    .dataframe thead th {\n        text-align: right;\n    }\n</style>\n<table border=\"1\" class=\"dataframe\">\n  <thead>\n    <tr style=\"text-align: right;\">\n      <th></th>\n      <th>genres</th>\n      <th>languages</th>\n      <th>countries</th>\n    </tr>\n  </thead>\n  <tbody>\n    <tr>\n      <th>0</th>\n      <td>[Thriller, Science Fiction, Horror, Adventure,...</td>\n      <td>[English Language]</td>\n      <td>[United States of America]</td>\n    </tr>\n    <tr>\n      <th>1</th>\n      <td>[Mystery, Biographical film, Drama, Crime Drama]</td>\n      <td>[English Language]</td>\n      <td>[United States of America]</td>\n    </tr>\n    <tr>\n      <th>2</th>\n      <td>[Crime Fiction, Drama]</td>\n      <td>[Norwegian Language]</td>\n      <td>[Norway]</td>\n    </tr>\n    <tr>\n      <th>3</th>\n      <td>[Thriller, Erotic thriller, Psychological thri...</td>\n      <td>[English Language]</td>\n      <td>[United Kingdom]</td>\n    </tr>\n    <tr>\n      <th>4</th>\n      <td>[Drama]</td>\n      <td>[German Language]</td>\n      <td>[Germany]</td>\n    </tr>\n  </tbody>\n</table>\n</div>"
     },
     "execution_count": 83,
     "metadata": {},
     "output_type": "execute_result"
    }
   ],
   "source": [
    "# convert columns genres, languages and countries to list of strings\n",
    "metadata_df['genres'] = metadata_df.genres.apply(get_list_from_string_dict)\n",
    "metadata_df['languages'] = metadata_df.languages.apply(get_list_from_string_dict)\n",
    "metadata_df['countries'] = metadata_df.countries.apply(get_list_from_string_dict)\n",
    "\n",
    "metadata_df[['genres', 'languages', 'countries']].head(5)"
   ],
   "metadata": {
    "collapsed": false,
    "ExecuteTime": {
     "end_time": "2023-12-14T14:21:48.316541Z",
     "start_time": "2023-12-14T14:21:46.010744Z"
    }
   },
   "id": "8d786f425274a6ab"
  },
  {
   "cell_type": "code",
   "execution_count": 84,
   "outputs": [
    {
     "name": "stdout",
     "output_type": "stream",
     "text": [
      "Number of rows 74838:\n"
     ]
    },
    {
     "data": {
      "text/plain": "wikipedia_id        0\nfreebase_id         0\nname                0\nlanguages       10009\ncountries        5228\ngenres           1762\nrelease_year        0\ndtype: int64"
     },
     "execution_count": 84,
     "metadata": {},
     "output_type": "execute_result"
    }
   ],
   "source": [
    "# let's now check the null-s \n",
    "print(\"Number of rows {}:\".format(metadata_df.shape[0]))\n",
    "(~metadata_df.astype(bool)).sum()"
   ],
   "metadata": {
    "collapsed": false,
    "ExecuteTime": {
     "end_time": "2023-12-14T14:21:48.316995Z",
     "start_time": "2023-12-14T14:21:47.334542Z"
    }
   },
   "id": "a2507ab9a0f641a"
  },
  {
   "cell_type": "markdown",
   "source": [
    "Such method was used for checking nulls because `languages`, `countries` and `genres` might simply be empty lists.\n",
    "As languages nor countries are in the principal role in the following analysis (we might not use them at all), \n",
    "we can keep them as they are for now and decide the strategy if need be."
   ],
   "metadata": {
    "collapsed": false
   },
   "id": "c423c947aedefdaa"
  },
  {
   "cell_type": "markdown",
   "source": [
    "### 1.1.2 Plot Summaries    "
   ],
   "metadata": {
    "collapsed": false
   },
   "id": "7ffeb216d446b8ec"
  },
  {
   "cell_type": "code",
   "execution_count": 85,
   "outputs": [
    {
     "name": "stdout",
     "output_type": "stream",
     "text": [
      "(42303, 2)\n"
     ]
    },
    {
     "data": {
      "text/plain": "   wikipedia_id                                               plot\n0      23890098  Shlykov, a hard-working taxi driver and Lyosha...\n1      31186339  The nation of Panem consists of a wealthy Capi...\n2      20663735  Poovalli Induchoodan  is sentenced for six yea...\n3       2231378  The Lemon Drop Kid , a New York City swindler,...\n4        595909  Seventh-day Adventist Church pastor Michael Ch...",
      "text/html": "<div>\n<style scoped>\n    .dataframe tbody tr th:only-of-type {\n        vertical-align: middle;\n    }\n\n    .dataframe tbody tr th {\n        vertical-align: top;\n    }\n\n    .dataframe thead th {\n        text-align: right;\n    }\n</style>\n<table border=\"1\" class=\"dataframe\">\n  <thead>\n    <tr style=\"text-align: right;\">\n      <th></th>\n      <th>wikipedia_id</th>\n      <th>plot</th>\n    </tr>\n  </thead>\n  <tbody>\n    <tr>\n      <th>0</th>\n      <td>23890098</td>\n      <td>Shlykov, a hard-working taxi driver and Lyosha...</td>\n    </tr>\n    <tr>\n      <th>1</th>\n      <td>31186339</td>\n      <td>The nation of Panem consists of a wealthy Capi...</td>\n    </tr>\n    <tr>\n      <th>2</th>\n      <td>20663735</td>\n      <td>Poovalli Induchoodan  is sentenced for six yea...</td>\n    </tr>\n    <tr>\n      <th>3</th>\n      <td>2231378</td>\n      <td>The Lemon Drop Kid , a New York City swindler,...</td>\n    </tr>\n    <tr>\n      <th>4</th>\n      <td>595909</td>\n      <td>Seventh-day Adventist Church pastor Michael Ch...</td>\n    </tr>\n  </tbody>\n</table>\n</div>"
     },
     "execution_count": 85,
     "metadata": {},
     "output_type": "execute_result"
    }
   ],
   "source": [
    "# let's read the file\n",
    "plot_column_names = ['wikipedia_id', 'plot']\n",
    "plot_df = pd.read_csv('data/raw/plot_summaries.txt', sep=\"\\t\", names=plot_column_names)\n",
    "print(plot_df.shape)\n",
    "plot_df.head(5)"
   ],
   "metadata": {
    "collapsed": false,
    "ExecuteTime": {
     "end_time": "2023-12-14T14:21:48.552460Z",
     "start_time": "2023-12-14T14:21:47.367584Z"
    }
   },
   "id": "b2fda19044dee0be"
  },
  {
   "cell_type": "code",
   "execution_count": 86,
   "outputs": [
    {
     "data": {
      "text/plain": "wikipedia_id    0\nplot            0\ndtype: int64"
     },
     "execution_count": 86,
     "metadata": {},
     "output_type": "execute_result"
    }
   ],
   "source": [
    "# let's check nan-s here\n",
    "plot_df.isna().sum()"
   ],
   "metadata": {
    "collapsed": false,
    "ExecuteTime": {
     "end_time": "2023-12-14T14:21:48.553402Z",
     "start_time": "2023-12-14T14:21:48.372576Z"
    }
   },
   "id": "578fb1d48f7d59b9"
  },
  {
   "cell_type": "code",
   "execution_count": 87,
   "outputs": [
    {
     "name": "stdout",
     "output_type": "stream",
     "text": [
      "We have 0 plots that have empty plot description.\n"
     ]
    }
   ],
   "source": [
    "# check if any of the columns is not empty string in plots\n",
    "empty_plots = (plot_df['plot'].apply(len) == 0).sum()\n",
    "print(f'We have {empty_plots} plots that have empty plot description.')"
   ],
   "metadata": {
    "collapsed": false,
    "ExecuteTime": {
     "end_time": "2023-12-14T14:21:48.754385Z",
     "start_time": "2023-12-14T14:21:48.389823Z"
    }
   },
   "id": "b9850d73627f3a4e"
  },
  {
   "cell_type": "markdown",
   "source": [
    "### 1.1.3 IMDB Ratings\n",
    "\n",
    "For IMDB, we need two files `title.ratings.tsv` and `title.basics.tsv`."
   ],
   "metadata": {
    "collapsed": false
   },
   "id": "e7aa93b535df1958"
  },
  {
   "cell_type": "code",
   "execution_count": 88,
   "outputs": [
    {
     "name": "stdout",
     "output_type": "stream",
     "text": [
      "(10306126, 9)\n"
     ]
    },
    {
     "data": {
      "text/plain": "      tconst titleType            primaryTitle           originalTitle  \\\n0  tt0000001     short              Carmencita              Carmencita   \n1  tt0000002     short  Le clown et ses chiens  Le clown et ses chiens   \n2  tt0000003     short          Pauvre Pierrot          Pauvre Pierrot   \n3  tt0000004     short             Un bon bock             Un bon bock   \n4  tt0000005     short        Blacksmith Scene        Blacksmith Scene   \n\n  isAdult startYear endYear runtimeMinutes                    genres  \n0       0      1894      \\N              1         Documentary,Short  \n1       0      1892      \\N              5           Animation,Short  \n2       0      1892      \\N              4  Animation,Comedy,Romance  \n3       0      1892      \\N             12           Animation,Short  \n4       0      1893      \\N              1              Comedy,Short  ",
      "text/html": "<div>\n<style scoped>\n    .dataframe tbody tr th:only-of-type {\n        vertical-align: middle;\n    }\n\n    .dataframe tbody tr th {\n        vertical-align: top;\n    }\n\n    .dataframe thead th {\n        text-align: right;\n    }\n</style>\n<table border=\"1\" class=\"dataframe\">\n  <thead>\n    <tr style=\"text-align: right;\">\n      <th></th>\n      <th>tconst</th>\n      <th>titleType</th>\n      <th>primaryTitle</th>\n      <th>originalTitle</th>\n      <th>isAdult</th>\n      <th>startYear</th>\n      <th>endYear</th>\n      <th>runtimeMinutes</th>\n      <th>genres</th>\n    </tr>\n  </thead>\n  <tbody>\n    <tr>\n      <th>0</th>\n      <td>tt0000001</td>\n      <td>short</td>\n      <td>Carmencita</td>\n      <td>Carmencita</td>\n      <td>0</td>\n      <td>1894</td>\n      <td>\\N</td>\n      <td>1</td>\n      <td>Documentary,Short</td>\n    </tr>\n    <tr>\n      <th>1</th>\n      <td>tt0000002</td>\n      <td>short</td>\n      <td>Le clown et ses chiens</td>\n      <td>Le clown et ses chiens</td>\n      <td>0</td>\n      <td>1892</td>\n      <td>\\N</td>\n      <td>5</td>\n      <td>Animation,Short</td>\n    </tr>\n    <tr>\n      <th>2</th>\n      <td>tt0000003</td>\n      <td>short</td>\n      <td>Pauvre Pierrot</td>\n      <td>Pauvre Pierrot</td>\n      <td>0</td>\n      <td>1892</td>\n      <td>\\N</td>\n      <td>4</td>\n      <td>Animation,Comedy,Romance</td>\n    </tr>\n    <tr>\n      <th>3</th>\n      <td>tt0000004</td>\n      <td>short</td>\n      <td>Un bon bock</td>\n      <td>Un bon bock</td>\n      <td>0</td>\n      <td>1892</td>\n      <td>\\N</td>\n      <td>12</td>\n      <td>Animation,Short</td>\n    </tr>\n    <tr>\n      <th>4</th>\n      <td>tt0000005</td>\n      <td>short</td>\n      <td>Blacksmith Scene</td>\n      <td>Blacksmith Scene</td>\n      <td>0</td>\n      <td>1893</td>\n      <td>\\N</td>\n      <td>1</td>\n      <td>Comedy,Short</td>\n    </tr>\n  </tbody>\n</table>\n</div>"
     },
     "execution_count": 88,
     "metadata": {},
     "output_type": "execute_result"
    }
   ],
   "source": [
    "imdb_basics_df = pd.read_csv('data/raw/title.basics.tsv', sep='\\t', low_memory=False)\n",
    "print(imdb_basics_df.shape)\n",
    "imdb_basics_df.head(5)"
   ],
   "metadata": {
    "collapsed": false,
    "ExecuteTime": {
     "end_time": "2023-12-14T14:22:31.250198Z",
     "start_time": "2023-12-14T14:21:48.413689Z"
    }
   },
   "id": "4e36d999cc5220ad"
  },
  {
   "cell_type": "code",
   "execution_count": 89,
   "outputs": [
    {
     "name": "stdout",
     "output_type": "stream",
     "text": [
      "(1367781, 3)\n"
     ]
    },
    {
     "data": {
      "text/plain": "      tconst  averageRating  numVotes\n0  tt0000001            5.7      2006\n1  tt0000002            5.8       269\n2  tt0000003            6.5      1909\n3  tt0000004            5.5       178\n4  tt0000005            6.2      2689",
      "text/html": "<div>\n<style scoped>\n    .dataframe tbody tr th:only-of-type {\n        vertical-align: middle;\n    }\n\n    .dataframe tbody tr th {\n        vertical-align: top;\n    }\n\n    .dataframe thead th {\n        text-align: right;\n    }\n</style>\n<table border=\"1\" class=\"dataframe\">\n  <thead>\n    <tr style=\"text-align: right;\">\n      <th></th>\n      <th>tconst</th>\n      <th>averageRating</th>\n      <th>numVotes</th>\n    </tr>\n  </thead>\n  <tbody>\n    <tr>\n      <th>0</th>\n      <td>tt0000001</td>\n      <td>5.7</td>\n      <td>2006</td>\n    </tr>\n    <tr>\n      <th>1</th>\n      <td>tt0000002</td>\n      <td>5.8</td>\n      <td>269</td>\n    </tr>\n    <tr>\n      <th>2</th>\n      <td>tt0000003</td>\n      <td>6.5</td>\n      <td>1909</td>\n    </tr>\n    <tr>\n      <th>3</th>\n      <td>tt0000004</td>\n      <td>5.5</td>\n      <td>178</td>\n    </tr>\n    <tr>\n      <th>4</th>\n      <td>tt0000005</td>\n      <td>6.2</td>\n      <td>2689</td>\n    </tr>\n  </tbody>\n</table>\n</div>"
     },
     "execution_count": 89,
     "metadata": {},
     "output_type": "execute_result"
    }
   ],
   "source": [
    "imdb_ratings_df = pd.read_csv('data/raw/title.ratings.tsv', sep='\\t')\n",
    "print(imdb_ratings_df.shape)\n",
    "imdb_ratings_df.head(5)"
   ],
   "metadata": {
    "collapsed": false,
    "ExecuteTime": {
     "end_time": "2023-12-14T14:22:33.115405Z",
     "start_time": "2023-12-14T14:22:31.243398Z"
    }
   },
   "id": "ac9939b10ceddc25"
  },
  {
   "cell_type": "markdown",
   "source": [
    "In order to add ratings, we need first to merge two IMDB df-s."
   ],
   "metadata": {
    "collapsed": false
   },
   "id": "8ab84a775f3c5b3e"
  },
  {
   "cell_type": "code",
   "execution_count": 90,
   "outputs": [],
   "source": [
    "# let's first keep only necessary titles\n",
    "imdb_basics_df = imdb_basics_df[imdb_basics_df.titleType == 'movie']\n",
    "\n",
    "# let's keep only necessary columns\n",
    "imdb_basics_df = imdb_basics_df[['tconst', 'originalTitle', 'startYear']]"
   ],
   "metadata": {
    "collapsed": false,
    "ExecuteTime": {
     "end_time": "2023-12-14T14:22:36.181946Z",
     "start_time": "2023-12-14T14:22:33.116452Z"
    }
   },
   "id": "647ad74654c55a1f"
  },
  {
   "cell_type": "code",
   "execution_count": 91,
   "outputs": [
    {
     "name": "stdout",
     "output_type": "stream",
     "text": [
      "(299786, 5)\n"
     ]
    },
    {
     "data": {
      "text/plain": "      tconst                  originalTitle startYear  averageRating  numVotes\n0  tt0000009                     Miss Jerry      1894            5.3       207\n1  tt0000147  The Corbett-Fitzsimmons Fight      1897            5.3       484\n2  tt0000502                       Bohemios      1905            4.1        15\n3  tt0000574    The Story of the Kelly Gang      1906            6.0       855\n4  tt0000591              L'enfant prodigue      1907            5.0        21",
      "text/html": "<div>\n<style scoped>\n    .dataframe tbody tr th:only-of-type {\n        vertical-align: middle;\n    }\n\n    .dataframe tbody tr th {\n        vertical-align: top;\n    }\n\n    .dataframe thead th {\n        text-align: right;\n    }\n</style>\n<table border=\"1\" class=\"dataframe\">\n  <thead>\n    <tr style=\"text-align: right;\">\n      <th></th>\n      <th>tconst</th>\n      <th>originalTitle</th>\n      <th>startYear</th>\n      <th>averageRating</th>\n      <th>numVotes</th>\n    </tr>\n  </thead>\n  <tbody>\n    <tr>\n      <th>0</th>\n      <td>tt0000009</td>\n      <td>Miss Jerry</td>\n      <td>1894</td>\n      <td>5.3</td>\n      <td>207</td>\n    </tr>\n    <tr>\n      <th>1</th>\n      <td>tt0000147</td>\n      <td>The Corbett-Fitzsimmons Fight</td>\n      <td>1897</td>\n      <td>5.3</td>\n      <td>484</td>\n    </tr>\n    <tr>\n      <th>2</th>\n      <td>tt0000502</td>\n      <td>Bohemios</td>\n      <td>1905</td>\n      <td>4.1</td>\n      <td>15</td>\n    </tr>\n    <tr>\n      <th>3</th>\n      <td>tt0000574</td>\n      <td>The Story of the Kelly Gang</td>\n      <td>1906</td>\n      <td>6.0</td>\n      <td>855</td>\n    </tr>\n    <tr>\n      <th>4</th>\n      <td>tt0000591</td>\n      <td>L'enfant prodigue</td>\n      <td>1907</td>\n      <td>5.0</td>\n      <td>21</td>\n    </tr>\n  </tbody>\n</table>\n</div>"
     },
     "execution_count": 91,
     "metadata": {},
     "output_type": "execute_result"
    }
   ],
   "source": [
    "# now we can merge the two\n",
    "imdb_df = pd.merge(imdb_basics_df, imdb_ratings_df, on='tconst', how='inner')\n",
    "print(imdb_df.shape)\n",
    "imdb_df.head(5)"
   ],
   "metadata": {
    "collapsed": false,
    "ExecuteTime": {
     "end_time": "2023-12-14T14:22:39.198040Z",
     "start_time": "2023-12-14T14:22:36.171433Z"
    }
   },
   "id": "2de6b2ef9f31a6ce"
  },
  {
   "cell_type": "code",
   "execution_count": 92,
   "outputs": [],
   "source": [
    "# we don't need tconst anymore, let's drop it\n",
    "imdb_df.drop(columns='tconst', inplace=True)\n",
    "\n",
    "# let's rename the columns to avoid camelcase and sync with other df-s\n",
    "imdb_df.rename(\n",
    "    columns={\n",
    "        'originalTitle': 'name',\n",
    "        'startYear': 'release_year',\n",
    "        'averageRating': 'rating',\n",
    "        'numVotes': 'num_votes'\n",
    "    },\n",
    "    inplace=True\n",
    ")\n",
    "\n",
    "# let's fix some dtypes\n",
    "imdb_df.release_year = pd.to_numeric(imdb_df.release_year, errors='coerce', downcast='integer')\n",
    "imdb_df.dropna(subset='release_year', inplace=True)\n",
    "\n",
    "imdb_df.name = imdb_df.name.astype(str)"
   ],
   "metadata": {
    "collapsed": false,
    "ExecuteTime": {
     "end_time": "2023-12-14T14:22:39.436385Z",
     "start_time": "2023-12-14T14:22:39.183395Z"
    }
   },
   "id": "c58d1a2aaebf9151"
  },
  {
   "cell_type": "code",
   "execution_count": 93,
   "outputs": [
    {
     "data": {
      "text/plain": "name            0\nrelease_year    0\nrating          0\nnum_votes       0\ndtype: int64"
     },
     "execution_count": 93,
     "metadata": {},
     "output_type": "execute_result"
    }
   ],
   "source": [
    "# let's check nulls per column\n",
    "imdb_df.isna().sum()"
   ],
   "metadata": {
    "collapsed": false,
    "ExecuteTime": {
     "end_time": "2023-12-14T14:22:39.517645Z",
     "start_time": "2023-12-14T14:22:39.435448Z"
    }
   },
   "id": "201c44e7c6a52e6c"
  },
  {
   "cell_type": "markdown",
   "id": "145c4c1e4d2eef44",
   "metadata": {
    "collapsed": false
   },
   "source": [
    "### 1.2 Merging <a class=\"anchor\" id=\"merging\"></a>\n",
    "\n",
    "Now that we have all the datasets preprocessed, we can merge the datasets."
   ]
  },
  {
   "cell_type": "code",
   "execution_count": 94,
   "id": "b1acdc7ae72b767c",
   "metadata": {
    "collapsed": false,
    "ExecuteTime": {
     "end_time": "2023-12-14T14:22:40.101971Z",
     "start_time": "2023-12-14T14:22:39.521540Z"
    }
   },
   "outputs": [
    {
     "data": {
      "text/plain": "   wikipedia_id                                               plot  \\\n0      23890098  Shlykov, a hard-working taxi driver and Lyosha...   \n1      31186339  The nation of Panem consists of a wealthy Capi...   \n2      20663735  Poovalli Induchoodan  is sentenced for six yea...   \n3       2231378  The Lemon Drop Kid , a New York City swindler,...   \n4        595909  Seventh-day Adventist Church pastor Michael Ch...   \n\n  freebase_id                name             languages  \\\n0  /m/076w2lb          Taxi Blues    [Russian Language]   \n1  /m/0gkz15s    The Hunger Games    [English Language]   \n2  /m/051zjwb          Narasimham  [Malayalam Language]   \n3   /m/06xtz3  The Lemon Drop Kid    [English Language]   \n4   /m/02tqm5   A Cry in the Dark    [English Language]   \n\n                                           countries  \\\n0                     [France, Soviet Union, Russia]   \n1                         [United States of America]   \n2                                            [India]   \n3                         [United States of America]   \n4  [United States of America, Australia, New Zeal...   \n\n                                              genres  release_year  \n0                              [Drama, World cinema]          1990  \n1  [Action/Adventure, Science Fiction, Action, Dr...          2012  \n2                [Musical, Action, Drama, Bollywood]          2000  \n3                         [Screwball comedy, Comedy]          1951  \n4  [Crime Fiction, Drama, Docudrama, World cinema...          1988  ",
      "text/html": "<div>\n<style scoped>\n    .dataframe tbody tr th:only-of-type {\n        vertical-align: middle;\n    }\n\n    .dataframe tbody tr th {\n        vertical-align: top;\n    }\n\n    .dataframe thead th {\n        text-align: right;\n    }\n</style>\n<table border=\"1\" class=\"dataframe\">\n  <thead>\n    <tr style=\"text-align: right;\">\n      <th></th>\n      <th>wikipedia_id</th>\n      <th>plot</th>\n      <th>freebase_id</th>\n      <th>name</th>\n      <th>languages</th>\n      <th>countries</th>\n      <th>genres</th>\n      <th>release_year</th>\n    </tr>\n  </thead>\n  <tbody>\n    <tr>\n      <th>0</th>\n      <td>23890098</td>\n      <td>Shlykov, a hard-working taxi driver and Lyosha...</td>\n      <td>/m/076w2lb</td>\n      <td>Taxi Blues</td>\n      <td>[Russian Language]</td>\n      <td>[France, Soviet Union, Russia]</td>\n      <td>[Drama, World cinema]</td>\n      <td>1990</td>\n    </tr>\n    <tr>\n      <th>1</th>\n      <td>31186339</td>\n      <td>The nation of Panem consists of a wealthy Capi...</td>\n      <td>/m/0gkz15s</td>\n      <td>The Hunger Games</td>\n      <td>[English Language]</td>\n      <td>[United States of America]</td>\n      <td>[Action/Adventure, Science Fiction, Action, Dr...</td>\n      <td>2012</td>\n    </tr>\n    <tr>\n      <th>2</th>\n      <td>20663735</td>\n      <td>Poovalli Induchoodan  is sentenced for six yea...</td>\n      <td>/m/051zjwb</td>\n      <td>Narasimham</td>\n      <td>[Malayalam Language]</td>\n      <td>[India]</td>\n      <td>[Musical, Action, Drama, Bollywood]</td>\n      <td>2000</td>\n    </tr>\n    <tr>\n      <th>3</th>\n      <td>2231378</td>\n      <td>The Lemon Drop Kid , a New York City swindler,...</td>\n      <td>/m/06xtz3</td>\n      <td>The Lemon Drop Kid</td>\n      <td>[English Language]</td>\n      <td>[United States of America]</td>\n      <td>[Screwball comedy, Comedy]</td>\n      <td>1951</td>\n    </tr>\n    <tr>\n      <th>4</th>\n      <td>595909</td>\n      <td>Seventh-day Adventist Church pastor Michael Ch...</td>\n      <td>/m/02tqm5</td>\n      <td>A Cry in the Dark</td>\n      <td>[English Language]</td>\n      <td>[United States of America, Australia, New Zeal...</td>\n      <td>[Crime Fiction, Drama, Docudrama, World cinema...</td>\n      <td>1988</td>\n    </tr>\n  </tbody>\n</table>\n</div>"
     },
     "execution_count": 94,
     "metadata": {},
     "output_type": "execute_result"
    }
   ],
   "source": [
    "# merge plots with metadata\n",
    "movies_plots_df = pd.merge(plot_df, metadata_df, on='wikipedia_id', how='inner')\n",
    "movies_plots_df.head(5)"
   ]
  },
  {
   "cell_type": "markdown",
   "source": [
    "Since we need to use the year and movie name for merging, we first need to check if there are any duplicates in the year-name pairs. If there are some, we’d need to remove them as we cannot be sure without manually going through all of them, which one is correct."
   ],
   "metadata": {
    "collapsed": false
   },
   "id": "dcd3c3417aac14e0"
  },
  {
   "cell_type": "code",
   "execution_count": 95,
   "outputs": [],
   "source": [
    "# drop duplicated keys\n",
    "movies_plots_df.drop_duplicates(subset=['name', 'release_year'], keep=False, inplace=True)\n",
    "imdb_df.drop_duplicates(subset=['name', 'release_year'], keep=False, inplace=True)"
   ],
   "metadata": {
    "collapsed": false,
    "ExecuteTime": {
     "end_time": "2023-12-14T14:22:40.371702Z",
     "start_time": "2023-12-14T14:22:40.106860Z"
    }
   },
   "id": "959451941b4ef322"
  },
  {
   "cell_type": "code",
   "execution_count": 96,
   "outputs": [
    {
     "name": "stdout",
     "output_type": "stream",
     "text": [
      "(22394, 10)\n"
     ]
    },
    {
     "data": {
      "text/plain": "                              name  release_year  rating  num_votes  \\\n0                       Miss Jerry        1894.0     5.3        207   \n1    The Corbett-Fitzsimmons Fight        1897.0     5.3        484   \n2      The Story of the Kelly Gang        1906.0     6.0        855   \n3               Robbery Under Arms        1907.0     4.3         25   \n4  Captain Midnight, the Bush King        1911.0     5.4         18   \n\n   wikipedia_id                                               plot  \\\n0      10109752  After finding out that her father is suffering...   \n1      28703057  The film no longer exists in its entirety; how...   \n2        142995  The Story of the Kelly Gangs tone is of sorrow...   \n3      32986669  Key scenes of the film included the branding o...   \n4      32987200  Edgar Dalimore is the son of wealthy station o...   \n\n  freebase_id           languages                   countries  \\\n0  /m/02q23xk       [Silent film]  [United States of America]   \n1  /m/0czdh_n                  []                          []   \n2   /m/0120y4  [English Language]                 [Australia]   \n3  /m/04p7yxx       [Silent film]                 [Australia]   \n4  /m/0h569x9       [Silent film]                          []   \n\n                                              genres  \n0  [Short Film, Silent film, Indie, Black-and-white]  \n1                                           [Sports]  \n2  [Crime Fiction, Silent film, Biography, Indie,...  \n3                               [Silent film, Drama]  \n4                                      [Silent film]  ",
      "text/html": "<div>\n<style scoped>\n    .dataframe tbody tr th:only-of-type {\n        vertical-align: middle;\n    }\n\n    .dataframe tbody tr th {\n        vertical-align: top;\n    }\n\n    .dataframe thead th {\n        text-align: right;\n    }\n</style>\n<table border=\"1\" class=\"dataframe\">\n  <thead>\n    <tr style=\"text-align: right;\">\n      <th></th>\n      <th>name</th>\n      <th>release_year</th>\n      <th>rating</th>\n      <th>num_votes</th>\n      <th>wikipedia_id</th>\n      <th>plot</th>\n      <th>freebase_id</th>\n      <th>languages</th>\n      <th>countries</th>\n      <th>genres</th>\n    </tr>\n  </thead>\n  <tbody>\n    <tr>\n      <th>0</th>\n      <td>Miss Jerry</td>\n      <td>1894.0</td>\n      <td>5.3</td>\n      <td>207</td>\n      <td>10109752</td>\n      <td>After finding out that her father is suffering...</td>\n      <td>/m/02q23xk</td>\n      <td>[Silent film]</td>\n      <td>[United States of America]</td>\n      <td>[Short Film, Silent film, Indie, Black-and-white]</td>\n    </tr>\n    <tr>\n      <th>1</th>\n      <td>The Corbett-Fitzsimmons Fight</td>\n      <td>1897.0</td>\n      <td>5.3</td>\n      <td>484</td>\n      <td>28703057</td>\n      <td>The film no longer exists in its entirety; how...</td>\n      <td>/m/0czdh_n</td>\n      <td>[]</td>\n      <td>[]</td>\n      <td>[Sports]</td>\n    </tr>\n    <tr>\n      <th>2</th>\n      <td>The Story of the Kelly Gang</td>\n      <td>1906.0</td>\n      <td>6.0</td>\n      <td>855</td>\n      <td>142995</td>\n      <td>The Story of the Kelly Gangs tone is of sorrow...</td>\n      <td>/m/0120y4</td>\n      <td>[English Language]</td>\n      <td>[Australia]</td>\n      <td>[Crime Fiction, Silent film, Biography, Indie,...</td>\n    </tr>\n    <tr>\n      <th>3</th>\n      <td>Robbery Under Arms</td>\n      <td>1907.0</td>\n      <td>4.3</td>\n      <td>25</td>\n      <td>32986669</td>\n      <td>Key scenes of the film included the branding o...</td>\n      <td>/m/04p7yxx</td>\n      <td>[Silent film]</td>\n      <td>[Australia]</td>\n      <td>[Silent film, Drama]</td>\n    </tr>\n    <tr>\n      <th>4</th>\n      <td>Captain Midnight, the Bush King</td>\n      <td>1911.0</td>\n      <td>5.4</td>\n      <td>18</td>\n      <td>32987200</td>\n      <td>Edgar Dalimore is the son of wealthy station o...</td>\n      <td>/m/0h569x9</td>\n      <td>[Silent film]</td>\n      <td>[]</td>\n      <td>[Silent film]</td>\n    </tr>\n  </tbody>\n</table>\n</div>"
     },
     "execution_count": 96,
     "metadata": {},
     "output_type": "execute_result"
    }
   ],
   "source": [
    "# let's create lowercase titles for merging\n",
    "movies_plots_df['name_lowercase'] = movies_plots_df.name.str.lower()\n",
    "imdb_df['name_lowercase'] = imdb_df.name.str.lower()\n",
    "\n",
    "# let's now merge\n",
    "df = pd.merge(imdb_df, movies_plots_df, on=['name_lowercase', 'release_year'], how='inner')\n",
    "\n",
    "# and now deal with lowecase names\n",
    "df.drop(columns=['name_lowercase', 'name_y'], inplace=True)\n",
    "df.rename(columns={'name_x': 'name'}, inplace=True)\n",
    "\n",
    "print(df.shape)\n",
    "df.head(5)"
   ],
   "metadata": {
    "collapsed": false,
    "ExecuteTime": {
     "end_time": "2023-12-14T14:22:40.975071Z",
     "start_time": "2023-12-14T14:22:40.460717Z"
    }
   },
   "id": "f3302317c5d4a69a"
  },
  {
   "cell_type": "markdown",
   "source": [
    "We now have finished with preprocessing and have 22394 rows with all the necessary data."
   ],
   "metadata": {
    "collapsed": false
   },
   "id": "21248781b6e38593"
  },
  {
   "cell_type": "markdown",
   "id": "43325959fcd4bae",
   "metadata": {
    "collapsed": false
   },
   "source": [
    "### 1.3 First Glance <a class=\"anchor\" id=\"first-glance\"></a>\n",
    "\n",
    "Let's now understand the nature of our data and start with the descriptive statistics."
   ]
  },
  {
   "cell_type": "code",
   "execution_count": 97,
   "id": "6d676a3625ffb992",
   "metadata": {
    "collapsed": false,
    "ExecuteTime": {
     "end_time": "2023-12-14T14:22:40.975632Z",
     "start_time": "2023-12-14T14:22:40.934700Z"
    }
   },
   "outputs": [
    {
     "data": {
      "text/plain": "       release_year        rating     num_votes  wikipedia_id\ncount  22394.000000  22394.000000  2.239400e+04  2.239400e+04\nmean    1982.243190      6.181531  2.651533e+04  1.309584e+07\nstd       25.264013      1.112262  1.033211e+05  1.093448e+07\nmin     1894.000000      1.200000  5.000000e+00  3.217000e+03\n25%     1963.000000      5.600000  3.632500e+02  3.055782e+06\n50%     1990.000000      6.300000  1.674000e+03  1.005270e+07\n75%     2004.000000      6.900000  9.244000e+03  2.294357e+07\nmax     2014.000000      9.700000  2.816967e+06  3.749236e+07",
      "text/html": "<div>\n<style scoped>\n    .dataframe tbody tr th:only-of-type {\n        vertical-align: middle;\n    }\n\n    .dataframe tbody tr th {\n        vertical-align: top;\n    }\n\n    .dataframe thead th {\n        text-align: right;\n    }\n</style>\n<table border=\"1\" class=\"dataframe\">\n  <thead>\n    <tr style=\"text-align: right;\">\n      <th></th>\n      <th>release_year</th>\n      <th>rating</th>\n      <th>num_votes</th>\n      <th>wikipedia_id</th>\n    </tr>\n  </thead>\n  <tbody>\n    <tr>\n      <th>count</th>\n      <td>22394.000000</td>\n      <td>22394.000000</td>\n      <td>2.239400e+04</td>\n      <td>2.239400e+04</td>\n    </tr>\n    <tr>\n      <th>mean</th>\n      <td>1982.243190</td>\n      <td>6.181531</td>\n      <td>2.651533e+04</td>\n      <td>1.309584e+07</td>\n    </tr>\n    <tr>\n      <th>std</th>\n      <td>25.264013</td>\n      <td>1.112262</td>\n      <td>1.033211e+05</td>\n      <td>1.093448e+07</td>\n    </tr>\n    <tr>\n      <th>min</th>\n      <td>1894.000000</td>\n      <td>1.200000</td>\n      <td>5.000000e+00</td>\n      <td>3.217000e+03</td>\n    </tr>\n    <tr>\n      <th>25%</th>\n      <td>1963.000000</td>\n      <td>5.600000</td>\n      <td>3.632500e+02</td>\n      <td>3.055782e+06</td>\n    </tr>\n    <tr>\n      <th>50%</th>\n      <td>1990.000000</td>\n      <td>6.300000</td>\n      <td>1.674000e+03</td>\n      <td>1.005270e+07</td>\n    </tr>\n    <tr>\n      <th>75%</th>\n      <td>2004.000000</td>\n      <td>6.900000</td>\n      <td>9.244000e+03</td>\n      <td>2.294357e+07</td>\n    </tr>\n    <tr>\n      <th>max</th>\n      <td>2014.000000</td>\n      <td>9.700000</td>\n      <td>2.816967e+06</td>\n      <td>3.749236e+07</td>\n    </tr>\n  </tbody>\n</table>\n</div>"
     },
     "execution_count": 97,
     "metadata": {},
     "output_type": "execute_result"
    }
   ],
   "source": [
    "df.describe()"
   ]
  },
  {
   "cell_type": "code",
   "execution_count": 98,
   "outputs": [
    {
     "data": {
      "text/plain": "<Figure size 640x480 with 1 Axes>",
      "image/png": "[encoded data removed]"
     },
     "metadata": {},
     "output_type": "display_data"
    }
   ],
   "source": [
    "# plot the movie counts by year\n",
    "_ = sns.histplot(df.release_year, kde=True, color='blue', label='treated')"
   ],
   "metadata": {
    "collapsed": false,
    "ExecuteTime": {
     "end_time": "2023-12-14T14:22:41.397639Z",
     "start_time": "2023-12-14T14:22:40.958590Z"
    }
   },
   "id": "eaca315bca1d42cf"
  },
  {
   "cell_type": "markdown",
   "source": [
    "As our analysis relies mostly on graphs and performing the analysis on the whole data (~ hundred years) might not be computationally feasible nor statistically reasonable, we decided to **continue the analysis on decade basis**. In other words, when generating the graphs, we'll generate one graph for every decade and perform correlation analysis on every decade separately."
   ],
   "metadata": {
    "collapsed": false
   },
   "id": "6400b3fa7fc5510b"
  },
  {
   "cell_type": "code",
   "execution_count": 99,
   "outputs": [
    {
     "data": {
      "text/plain": "<Figure size 600x600 with 3 Axes>",
      "image/png": "[encoded data removed]"
     },
     "metadata": {},
     "output_type": "display_data"
    }
   ],
   "source": [
    "# let's see compare the IMDB rating with the year\n",
    "_ = sns.jointplot(data=df, x='release_year', y='rating', kind='hex')"
   ],
   "metadata": {
    "collapsed": false,
    "ExecuteTime": {
     "end_time": "2023-12-14T14:22:43.578938Z",
     "start_time": "2023-12-14T14:22:41.397374Z"
    }
   },
   "id": "dc4973f4e16481ab"
  },
  {
   "cell_type": "markdown",
   "id": "eef525b79a81a042",
   "metadata": {
    "collapsed": false
   },
   "source": [
    "## 2. Theory of Centrality Metrics <a class=\"anchor\" id=\"theory\"></a>\n",
    "\n",
    "Our aim is to somehow quantify \"being at the intersection\". Most natural way of looking at it is network graphs. With the following examples, we will introduce the two measures that we’re going to use for quantifying it: **degree** and **betweenness**."
   ]
  },
  {
   "cell_type": "markdown",
   "id": "481d99a1dd2546d3",
   "metadata": {
    "collapsed": false
   },
   "source": [
    "### 2.1 Betweenness <a class=\"anchor\" id=\"betweenness\"></a>\n",
    "\n",
    "If you take all pairs of nodes from the graph and find the shortest paths between them, then betweenness centrality for a certain node is *the percentage of these shortest paths that go through the node*. To illustrate that let's make an example graph and see if it works in practice."
   ]
  },
  {
   "cell_type": "code",
   "execution_count": 100,
   "id": "a260e71c054ce397",
   "metadata": {
    "collapsed": false,
    "ExecuteTime": {
     "end_time": "2023-12-14T14:22:43.579125Z",
     "start_time": "2023-12-14T14:22:42.188533Z"
    }
   },
   "outputs": [],
   "source": [
    "G = nx.Graph()\n",
    "\n",
    "# let's define edges\n",
    "edges = [\n",
    "    ('a', 'b'), ('a', 'c'), ('a', 'd'), ('c', 'd'), ('c', 'e'), ('b', 'e'),\n",
    "    ('f', 'e'), ('f', 'h'), ('f', 'g'), ('g', 'h'), ('b', 'd'), ('i', 'g'),\n",
    "    ('i', 'f'), ('h', 'e'), ('g', 'e')\n",
    "]\n",
    "\n",
    "for node_1, node_2 in edges:\n",
    "    G.add_edge(node_1, node_2)"
   ]
  },
  {
   "cell_type": "code",
   "execution_count": 101,
   "outputs": [
    {
     "ename": "MaxRetryError",
     "evalue": "HTTPConnectionPool(host='localhost', port=50390): Max retries exceeded with url: /session/ff341f7803ba15989a542bd1bd011331/execute/sync (Caused by NewConnectionError('<urllib3.connection.HTTPConnection object at 0x212f36be0>: Failed to establish a new connection: [Errno 61] Connection refused'))",
     "output_type": "error",
     "traceback": [
      "\u001B[0;31m---------------------------------------------------------------------------\u001B[0m",
      "\u001B[0;31mConnectionRefusedError\u001B[0m                    Traceback (most recent call last)",
      "File \u001B[0;32m~/Documents/EPFL/ada-2023-project-adaroundtheworld2023/.env/lib/python3.9/site-packages/urllib3/connection.py:203\u001B[0m, in \u001B[0;36mHTTPConnection._new_conn\u001B[0;34m(self)\u001B[0m\n\u001B[1;32m    202\u001B[0m \u001B[38;5;28;01mtry\u001B[39;00m:\n\u001B[0;32m--> 203\u001B[0m     sock \u001B[38;5;241m=\u001B[39m \u001B[43mconnection\u001B[49m\u001B[38;5;241;43m.\u001B[39;49m\u001B[43mcreate_connection\u001B[49m\u001B[43m(\u001B[49m\n\u001B[1;32m    204\u001B[0m \u001B[43m        \u001B[49m\u001B[43m(\u001B[49m\u001B[38;5;28;43mself\u001B[39;49m\u001B[38;5;241;43m.\u001B[39;49m\u001B[43m_dns_host\u001B[49m\u001B[43m,\u001B[49m\u001B[43m \u001B[49m\u001B[38;5;28;43mself\u001B[39;49m\u001B[38;5;241;43m.\u001B[39;49m\u001B[43mport\u001B[49m\u001B[43m)\u001B[49m\u001B[43m,\u001B[49m\n\u001B[1;32m    205\u001B[0m \u001B[43m        \u001B[49m\u001B[38;5;28;43mself\u001B[39;49m\u001B[38;5;241;43m.\u001B[39;49m\u001B[43mtimeout\u001B[49m\u001B[43m,\u001B[49m\n\u001B[1;32m    206\u001B[0m \u001B[43m        \u001B[49m\u001B[43msource_address\u001B[49m\u001B[38;5;241;43m=\u001B[39;49m\u001B[38;5;28;43mself\u001B[39;49m\u001B[38;5;241;43m.\u001B[39;49m\u001B[43msource_address\u001B[49m\u001B[43m,\u001B[49m\n\u001B[1;32m    207\u001B[0m \u001B[43m        \u001B[49m\u001B[43msocket_options\u001B[49m\u001B[38;5;241;43m=\u001B[39;49m\u001B[38;5;28;43mself\u001B[39;49m\u001B[38;5;241;43m.\u001B[39;49m\u001B[43msocket_options\u001B[49m\u001B[43m,\u001B[49m\n\u001B[1;32m    208\u001B[0m \u001B[43m    \u001B[49m\u001B[43m)\u001B[49m\n\u001B[1;32m    209\u001B[0m \u001B[38;5;28;01mexcept\u001B[39;00m socket\u001B[38;5;241m.\u001B[39mgaierror \u001B[38;5;28;01mas\u001B[39;00m e:\n",
      "File \u001B[0;32m~/Documents/EPFL/ada-2023-project-adaroundtheworld2023/.env/lib/python3.9/site-packages/urllib3/util/connection.py:85\u001B[0m, in \u001B[0;36mcreate_connection\u001B[0;34m(address, timeout, source_address, socket_options)\u001B[0m\n\u001B[1;32m     84\u001B[0m \u001B[38;5;28;01mtry\u001B[39;00m:\n\u001B[0;32m---> 85\u001B[0m     \u001B[38;5;28;01mraise\u001B[39;00m err\n\u001B[1;32m     86\u001B[0m \u001B[38;5;28;01mfinally\u001B[39;00m:\n\u001B[1;32m     87\u001B[0m     \u001B[38;5;66;03m# Break explicitly a reference cycle\u001B[39;00m\n",
      "File \u001B[0;32m~/Documents/EPFL/ada-2023-project-adaroundtheworld2023/.env/lib/python3.9/site-packages/urllib3/util/connection.py:73\u001B[0m, in \u001B[0;36mcreate_connection\u001B[0;34m(address, timeout, source_address, socket_options)\u001B[0m\n\u001B[1;32m     72\u001B[0m     sock\u001B[38;5;241m.\u001B[39mbind(source_address)\n\u001B[0;32m---> 73\u001B[0m \u001B[43msock\u001B[49m\u001B[38;5;241;43m.\u001B[39;49m\u001B[43mconnect\u001B[49m\u001B[43m(\u001B[49m\u001B[43msa\u001B[49m\u001B[43m)\u001B[49m\n\u001B[1;32m     74\u001B[0m \u001B[38;5;66;03m# Break explicitly a reference cycle\u001B[39;00m\n",
      "\u001B[0;31mConnectionRefusedError\u001B[0m: [Errno 61] Connection refused",
      "\nThe above exception was the direct cause of the following exception:\n",
      "\u001B[0;31mNewConnectionError\u001B[0m                        Traceback (most recent call last)",
      "File \u001B[0;32m~/Documents/EPFL/ada-2023-project-adaroundtheworld2023/.env/lib/python3.9/site-packages/urllib3/connectionpool.py:791\u001B[0m, in \u001B[0;36mHTTPConnectionPool.urlopen\u001B[0;34m(self, method, url, body, headers, retries, redirect, assert_same_host, timeout, pool_timeout, release_conn, chunked, body_pos, preload_content, decode_content, **response_kw)\u001B[0m\n\u001B[1;32m    790\u001B[0m \u001B[38;5;66;03m# Make the request on the HTTPConnection object\u001B[39;00m\n\u001B[0;32m--> 791\u001B[0m response \u001B[38;5;241m=\u001B[39m \u001B[38;5;28;43mself\u001B[39;49m\u001B[38;5;241;43m.\u001B[39;49m\u001B[43m_make_request\u001B[49m\u001B[43m(\u001B[49m\n\u001B[1;32m    792\u001B[0m \u001B[43m    \u001B[49m\u001B[43mconn\u001B[49m\u001B[43m,\u001B[49m\n\u001B[1;32m    793\u001B[0m \u001B[43m    \u001B[49m\u001B[43mmethod\u001B[49m\u001B[43m,\u001B[49m\n\u001B[1;32m    794\u001B[0m \u001B[43m    \u001B[49m\u001B[43murl\u001B[49m\u001B[43m,\u001B[49m\n\u001B[1;32m    795\u001B[0m \u001B[43m    \u001B[49m\u001B[43mtimeout\u001B[49m\u001B[38;5;241;43m=\u001B[39;49m\u001B[43mtimeout_obj\u001B[49m\u001B[43m,\u001B[49m\n\u001B[1;32m    796\u001B[0m \u001B[43m    \u001B[49m\u001B[43mbody\u001B[49m\u001B[38;5;241;43m=\u001B[39;49m\u001B[43mbody\u001B[49m\u001B[43m,\u001B[49m\n\u001B[1;32m    797\u001B[0m \u001B[43m    \u001B[49m\u001B[43mheaders\u001B[49m\u001B[38;5;241;43m=\u001B[39;49m\u001B[43mheaders\u001B[49m\u001B[43m,\u001B[49m\n\u001B[1;32m    798\u001B[0m \u001B[43m    \u001B[49m\u001B[43mchunked\u001B[49m\u001B[38;5;241;43m=\u001B[39;49m\u001B[43mchunked\u001B[49m\u001B[43m,\u001B[49m\n\u001B[1;32m    799\u001B[0m \u001B[43m    \u001B[49m\u001B[43mretries\u001B[49m\u001B[38;5;241;43m=\u001B[39;49m\u001B[43mretries\u001B[49m\u001B[43m,\u001B[49m\n\u001B[1;32m    800\u001B[0m \u001B[43m    \u001B[49m\u001B[43mresponse_conn\u001B[49m\u001B[38;5;241;43m=\u001B[39;49m\u001B[43mresponse_conn\u001B[49m\u001B[43m,\u001B[49m\n\u001B[1;32m    801\u001B[0m \u001B[43m    \u001B[49m\u001B[43mpreload_content\u001B[49m\u001B[38;5;241;43m=\u001B[39;49m\u001B[43mpreload_content\u001B[49m\u001B[43m,\u001B[49m\n\u001B[1;32m    802\u001B[0m \u001B[43m    \u001B[49m\u001B[43mdecode_content\u001B[49m\u001B[38;5;241;43m=\u001B[39;49m\u001B[43mdecode_content\u001B[49m\u001B[43m,\u001B[49m\n\u001B[1;32m    803\u001B[0m \u001B[43m    \u001B[49m\u001B[38;5;241;43m*\u001B[39;49m\u001B[38;5;241;43m*\u001B[39;49m\u001B[43mresponse_kw\u001B[49m\u001B[43m,\u001B[49m\n\u001B[1;32m    804\u001B[0m \u001B[43m\u001B[49m\u001B[43m)\u001B[49m\n\u001B[1;32m    806\u001B[0m \u001B[38;5;66;03m# Everything went great!\u001B[39;00m\n",
      "File \u001B[0;32m~/Documents/EPFL/ada-2023-project-adaroundtheworld2023/.env/lib/python3.9/site-packages/urllib3/connectionpool.py:497\u001B[0m, in \u001B[0;36mHTTPConnectionPool._make_request\u001B[0;34m(self, conn, method, url, body, headers, retries, timeout, chunked, response_conn, preload_content, decode_content, enforce_content_length)\u001B[0m\n\u001B[1;32m    496\u001B[0m \u001B[38;5;28;01mtry\u001B[39;00m:\n\u001B[0;32m--> 497\u001B[0m     \u001B[43mconn\u001B[49m\u001B[38;5;241;43m.\u001B[39;49m\u001B[43mrequest\u001B[49m\u001B[43m(\u001B[49m\n\u001B[1;32m    498\u001B[0m \u001B[43m        \u001B[49m\u001B[43mmethod\u001B[49m\u001B[43m,\u001B[49m\n\u001B[1;32m    499\u001B[0m \u001B[43m        \u001B[49m\u001B[43murl\u001B[49m\u001B[43m,\u001B[49m\n\u001B[1;32m    500\u001B[0m \u001B[43m        \u001B[49m\u001B[43mbody\u001B[49m\u001B[38;5;241;43m=\u001B[39;49m\u001B[43mbody\u001B[49m\u001B[43m,\u001B[49m\n\u001B[1;32m    501\u001B[0m \u001B[43m        \u001B[49m\u001B[43mheaders\u001B[49m\u001B[38;5;241;43m=\u001B[39;49m\u001B[43mheaders\u001B[49m\u001B[43m,\u001B[49m\n\u001B[1;32m    502\u001B[0m \u001B[43m        \u001B[49m\u001B[43mchunked\u001B[49m\u001B[38;5;241;43m=\u001B[39;49m\u001B[43mchunked\u001B[49m\u001B[43m,\u001B[49m\n\u001B[1;32m    503\u001B[0m \u001B[43m        \u001B[49m\u001B[43mpreload_content\u001B[49m\u001B[38;5;241;43m=\u001B[39;49m\u001B[43mpreload_content\u001B[49m\u001B[43m,\u001B[49m\n\u001B[1;32m    504\u001B[0m \u001B[43m        \u001B[49m\u001B[43mdecode_content\u001B[49m\u001B[38;5;241;43m=\u001B[39;49m\u001B[43mdecode_content\u001B[49m\u001B[43m,\u001B[49m\n\u001B[1;32m    505\u001B[0m \u001B[43m        \u001B[49m\u001B[43menforce_content_length\u001B[49m\u001B[38;5;241;43m=\u001B[39;49m\u001B[43menforce_content_length\u001B[49m\u001B[43m,\u001B[49m\n\u001B[1;32m    506\u001B[0m \u001B[43m    \u001B[49m\u001B[43m)\u001B[49m\n\u001B[1;32m    508\u001B[0m \u001B[38;5;66;03m# We are swallowing BrokenPipeError (errno.EPIPE) since the server is\u001B[39;00m\n\u001B[1;32m    509\u001B[0m \u001B[38;5;66;03m# legitimately able to close the connection after sending a valid response.\u001B[39;00m\n\u001B[1;32m    510\u001B[0m \u001B[38;5;66;03m# With this behaviour, the received response is still readable.\u001B[39;00m\n",
      "File \u001B[0;32m~/Documents/EPFL/ada-2023-project-adaroundtheworld2023/.env/lib/python3.9/site-packages/urllib3/connection.py:395\u001B[0m, in \u001B[0;36mHTTPConnection.request\u001B[0;34m(self, method, url, body, headers, chunked, preload_content, decode_content, enforce_content_length)\u001B[0m\n\u001B[1;32m    394\u001B[0m     \u001B[38;5;28mself\u001B[39m\u001B[38;5;241m.\u001B[39mputheader(header, value)\n\u001B[0;32m--> 395\u001B[0m \u001B[38;5;28;43mself\u001B[39;49m\u001B[38;5;241;43m.\u001B[39;49m\u001B[43mendheaders\u001B[49m\u001B[43m(\u001B[49m\u001B[43m)\u001B[49m\n\u001B[1;32m    397\u001B[0m \u001B[38;5;66;03m# If we're given a body we start sending that in chunks.\u001B[39;00m\n",
      "File \u001B[0;32m/usr/local/Cellar/python@3.9/3.9.18_1/Frameworks/Python.framework/Versions/3.9/lib/python3.9/http/client.py:1280\u001B[0m, in \u001B[0;36mHTTPConnection.endheaders\u001B[0;34m(self, message_body, encode_chunked)\u001B[0m\n\u001B[1;32m   1279\u001B[0m     \u001B[38;5;28;01mraise\u001B[39;00m CannotSendHeader()\n\u001B[0;32m-> 1280\u001B[0m \u001B[38;5;28;43mself\u001B[39;49m\u001B[38;5;241;43m.\u001B[39;49m\u001B[43m_send_output\u001B[49m\u001B[43m(\u001B[49m\u001B[43mmessage_body\u001B[49m\u001B[43m,\u001B[49m\u001B[43m \u001B[49m\u001B[43mencode_chunked\u001B[49m\u001B[38;5;241;43m=\u001B[39;49m\u001B[43mencode_chunked\u001B[49m\u001B[43m)\u001B[49m\n",
      "File \u001B[0;32m/usr/local/Cellar/python@3.9/3.9.18_1/Frameworks/Python.framework/Versions/3.9/lib/python3.9/http/client.py:1040\u001B[0m, in \u001B[0;36mHTTPConnection._send_output\u001B[0;34m(self, message_body, encode_chunked)\u001B[0m\n\u001B[1;32m   1039\u001B[0m \u001B[38;5;28;01mdel\u001B[39;00m \u001B[38;5;28mself\u001B[39m\u001B[38;5;241m.\u001B[39m_buffer[:]\n\u001B[0;32m-> 1040\u001B[0m \u001B[38;5;28;43mself\u001B[39;49m\u001B[38;5;241;43m.\u001B[39;49m\u001B[43msend\u001B[49m\u001B[43m(\u001B[49m\u001B[43mmsg\u001B[49m\u001B[43m)\u001B[49m\n\u001B[1;32m   1042\u001B[0m \u001B[38;5;28;01mif\u001B[39;00m message_body \u001B[38;5;129;01mis\u001B[39;00m \u001B[38;5;129;01mnot\u001B[39;00m \u001B[38;5;28;01mNone\u001B[39;00m:\n\u001B[1;32m   1043\u001B[0m \n\u001B[1;32m   1044\u001B[0m     \u001B[38;5;66;03m# create a consistent interface to message_body\u001B[39;00m\n",
      "File \u001B[0;32m/usr/local/Cellar/python@3.9/3.9.18_1/Frameworks/Python.framework/Versions/3.9/lib/python3.9/http/client.py:980\u001B[0m, in \u001B[0;36mHTTPConnection.send\u001B[0;34m(self, data)\u001B[0m\n\u001B[1;32m    979\u001B[0m \u001B[38;5;28;01mif\u001B[39;00m \u001B[38;5;28mself\u001B[39m\u001B[38;5;241m.\u001B[39mauto_open:\n\u001B[0;32m--> 980\u001B[0m     \u001B[38;5;28;43mself\u001B[39;49m\u001B[38;5;241;43m.\u001B[39;49m\u001B[43mconnect\u001B[49m\u001B[43m(\u001B[49m\u001B[43m)\u001B[49m\n\u001B[1;32m    981\u001B[0m \u001B[38;5;28;01melse\u001B[39;00m:\n",
      "File \u001B[0;32m~/Documents/EPFL/ada-2023-project-adaroundtheworld2023/.env/lib/python3.9/site-packages/urllib3/connection.py:243\u001B[0m, in \u001B[0;36mHTTPConnection.connect\u001B[0;34m(self)\u001B[0m\n\u001B[1;32m    242\u001B[0m \u001B[38;5;28;01mdef\u001B[39;00m \u001B[38;5;21mconnect\u001B[39m(\u001B[38;5;28mself\u001B[39m) \u001B[38;5;241m-\u001B[39m\u001B[38;5;241m>\u001B[39m \u001B[38;5;28;01mNone\u001B[39;00m:\n\u001B[0;32m--> 243\u001B[0m     \u001B[38;5;28mself\u001B[39m\u001B[38;5;241m.\u001B[39msock \u001B[38;5;241m=\u001B[39m \u001B[38;5;28;43mself\u001B[39;49m\u001B[38;5;241;43m.\u001B[39;49m\u001B[43m_new_conn\u001B[49m\u001B[43m(\u001B[49m\u001B[43m)\u001B[49m\n\u001B[1;32m    244\u001B[0m     \u001B[38;5;28;01mif\u001B[39;00m \u001B[38;5;28mself\u001B[39m\u001B[38;5;241m.\u001B[39m_tunnel_host:\n\u001B[1;32m    245\u001B[0m         \u001B[38;5;66;03m# If we're tunneling it means we're connected to our proxy.\u001B[39;00m\n",
      "File \u001B[0;32m~/Documents/EPFL/ada-2023-project-adaroundtheworld2023/.env/lib/python3.9/site-packages/urllib3/connection.py:218\u001B[0m, in \u001B[0;36mHTTPConnection._new_conn\u001B[0;34m(self)\u001B[0m\n\u001B[1;32m    217\u001B[0m \u001B[38;5;28;01mexcept\u001B[39;00m \u001B[38;5;167;01mOSError\u001B[39;00m \u001B[38;5;28;01mas\u001B[39;00m e:\n\u001B[0;32m--> 218\u001B[0m     \u001B[38;5;28;01mraise\u001B[39;00m NewConnectionError(\n\u001B[1;32m    219\u001B[0m         \u001B[38;5;28mself\u001B[39m, \u001B[38;5;124mf\u001B[39m\u001B[38;5;124m\"\u001B[39m\u001B[38;5;124mFailed to establish a new connection: \u001B[39m\u001B[38;5;132;01m{\u001B[39;00me\u001B[38;5;132;01m}\u001B[39;00m\u001B[38;5;124m\"\u001B[39m\n\u001B[1;32m    220\u001B[0m     ) \u001B[38;5;28;01mfrom\u001B[39;00m \u001B[38;5;21;01me\u001B[39;00m\n\u001B[1;32m    222\u001B[0m \u001B[38;5;66;03m# Audit hooks are only available in Python 3.8+\u001B[39;00m\n",
      "\u001B[0;31mNewConnectionError\u001B[0m: <urllib3.connection.HTTPConnection object at 0x212f36be0>: Failed to establish a new connection: [Errno 61] Connection refused",
      "\nThe above exception was the direct cause of the following exception:\n",
      "\u001B[0;31mMaxRetryError\u001B[0m                             Traceback (most recent call last)",
      "Cell \u001B[0;32mIn[101], line 8\u001B[0m\n\u001B[1;32m      1\u001B[0m figure_kwargs \u001B[38;5;241m=\u001B[39m {\n\u001B[1;32m      2\u001B[0m     \u001B[38;5;124m'\u001B[39m\u001B[38;5;124mwidth\u001B[39m\u001B[38;5;124m'\u001B[39m: \u001B[38;5;241m700\u001B[39m,\n\u001B[1;32m      3\u001B[0m     \u001B[38;5;124m'\u001B[39m\u001B[38;5;124mheight\u001B[39m\u001B[38;5;124m'\u001B[39m: \u001B[38;5;241m450\u001B[39m,\n\u001B[1;32m      4\u001B[0m     \u001B[38;5;124m'\u001B[39m\u001B[38;5;124mtooltips\u001B[39m\u001B[38;5;124m'\u001B[39m: [(\u001B[38;5;124m\"\u001B[39m\u001B[38;5;124mbetweenness\u001B[39m\u001B[38;5;124m\"\u001B[39m, \u001B[38;5;124m\"\u001B[39m\u001B[38;5;124m@betweenness\u001B[39m\u001B[38;5;132;01m{0.00}\u001B[39;00m\u001B[38;5;124m\"\u001B[39m)]\n\u001B[1;32m      5\u001B[0m }\n\u001B[1;32m      7\u001B[0m plot \u001B[38;5;241m=\u001B[39m plot_example_graph(G, \u001B[38;5;124m'\u001B[39m\u001B[38;5;124mbetweenness\u001B[39m\u001B[38;5;124m'\u001B[39m, \u001B[38;5;241m*\u001B[39m\u001B[38;5;241m*\u001B[39mfigure_kwargs)\n\u001B[0;32m----> 8\u001B[0m \u001B[43mget_screenshot_as_png\u001B[49m\u001B[43m(\u001B[49m\u001B[43mplot\u001B[49m\u001B[43m)\u001B[49m\n",
      "File \u001B[0;32m~/Documents/EPFL/ada-2023-project-adaroundtheworld2023/.env/lib/python3.9/site-packages/bokeh/io/export.py:271\u001B[0m, in \u001B[0;36mget_screenshot_as_png\u001B[0;34m(obj, driver, timeout, resources, width, height, scale_factor, state)\u001B[0m\n\u001B[1;32m    268\u001B[0m         \u001B[38;5;28;01mraise\u001B[39;00m \u001B[38;5;167;01mValueError\u001B[39;00m(\u001B[38;5;124mf\u001B[39m\u001B[38;5;124m'\u001B[39m\u001B[38;5;124mExpected the web driver to have a device pixel ratio greater than \u001B[39m\u001B[38;5;132;01m{\u001B[39;00mscale_factor\u001B[38;5;132;01m}\u001B[39;00m\u001B[38;5;124m. \u001B[39m\u001B[38;5;124m'\u001B[39m\n\u001B[1;32m    269\u001B[0m                          \u001B[38;5;124mf\u001B[39m\u001B[38;5;124m'\u001B[39m\u001B[38;5;124mWas given a web driver with a device pixel ratio of \u001B[39m\u001B[38;5;132;01m{\u001B[39;00mdevice_pixel_ratio\u001B[38;5;132;01m}\u001B[39;00m\u001B[38;5;124m.\u001B[39m\u001B[38;5;124m'\u001B[39m)\n\u001B[1;32m    270\u001B[0m \u001B[38;5;28;01melse\u001B[39;00m:\n\u001B[0;32m--> 271\u001B[0m     web_driver \u001B[38;5;241m=\u001B[39m \u001B[43mwebdriver_control\u001B[49m\u001B[38;5;241;43m.\u001B[39;49m\u001B[43mget\u001B[49m\u001B[43m(\u001B[49m\u001B[43mscale_factor\u001B[49m\u001B[38;5;241;43m=\u001B[39;49m\u001B[43mscale_factor\u001B[49m\u001B[43m)\u001B[49m\n\u001B[1;32m    272\u001B[0m web_driver\u001B[38;5;241m.\u001B[39mmaximize_window()\n\u001B[1;32m    273\u001B[0m web_driver\u001B[38;5;241m.\u001B[39mget(\u001B[38;5;124mf\u001B[39m\u001B[38;5;124m\"\u001B[39m\u001B[38;5;124mfile://\u001B[39m\u001B[38;5;132;01m{\u001B[39;00mtmp\u001B[38;5;241m.\u001B[39mpath\u001B[38;5;132;01m}\u001B[39;00m\u001B[38;5;124m\"\u001B[39m)\n",
      "File \u001B[0;32m~/Documents/EPFL/ada-2023-project-adaroundtheworld2023/.env/lib/python3.9/site-packages/bokeh/io/webdriver.py:171\u001B[0m, in \u001B[0;36m_WebdriverState.get\u001B[0;34m(self, scale_factor)\u001B[0m\n\u001B[1;32m    170\u001B[0m \u001B[38;5;28;01mdef\u001B[39;00m \u001B[38;5;21mget\u001B[39m(\u001B[38;5;28mself\u001B[39m, scale_factor: \u001B[38;5;28mfloat\u001B[39m \u001B[38;5;241m=\u001B[39m \u001B[38;5;241m1\u001B[39m) \u001B[38;5;241m-\u001B[39m\u001B[38;5;241m>\u001B[39m WebDriver:\n\u001B[0;32m--> 171\u001B[0m     \u001B[38;5;28;01mif\u001B[39;00m \u001B[38;5;129;01mnot\u001B[39;00m \u001B[38;5;28mself\u001B[39m\u001B[38;5;241m.\u001B[39mreuse \u001B[38;5;129;01mor\u001B[39;00m \u001B[38;5;28mself\u001B[39m\u001B[38;5;241m.\u001B[39mcurrent \u001B[38;5;129;01mis\u001B[39;00m \u001B[38;5;28;01mNone\u001B[39;00m \u001B[38;5;129;01mor\u001B[39;00m \u001B[38;5;129;01mnot\u001B[39;00m \u001B[43mscale_factor_less_than_web_driver_device_pixel_ratio\u001B[49m\u001B[43m(\u001B[49m\n\u001B[1;32m    172\u001B[0m \u001B[43m            \u001B[49m\u001B[43mscale_factor\u001B[49m\u001B[43m,\u001B[49m\u001B[43m \u001B[49m\u001B[38;5;28;43mself\u001B[39;49m\u001B[38;5;241;43m.\u001B[39;49m\u001B[43mcurrent\u001B[49m\u001B[43m)\u001B[49m:\n\u001B[1;32m    173\u001B[0m         \u001B[38;5;28mself\u001B[39m\u001B[38;5;241m.\u001B[39mreset()\n\u001B[1;32m    174\u001B[0m         \u001B[38;5;28mself\u001B[39m\u001B[38;5;241m.\u001B[39mcurrent \u001B[38;5;241m=\u001B[39m \u001B[38;5;28mself\u001B[39m\u001B[38;5;241m.\u001B[39mcreate(scale_factor\u001B[38;5;241m=\u001B[39mscale_factor)\n",
      "File \u001B[0;32m~/Documents/EPFL/ada-2023-project-adaroundtheworld2023/.env/lib/python3.9/site-packages/bokeh/io/webdriver.py:120\u001B[0m, in \u001B[0;36mscale_factor_less_than_web_driver_device_pixel_ratio\u001B[0;34m(scale_factor, web_driver)\u001B[0m\n\u001B[1;32m    119\u001B[0m \u001B[38;5;28;01mdef\u001B[39;00m \u001B[38;5;21mscale_factor_less_than_web_driver_device_pixel_ratio\u001B[39m(scale_factor: \u001B[38;5;28mfloat\u001B[39m, web_driver: WebDriver) \u001B[38;5;241m-\u001B[39m\u001B[38;5;241m>\u001B[39m \u001B[38;5;28mbool\u001B[39m:\n\u001B[0;32m--> 120\u001B[0m     device_pixel_ratio \u001B[38;5;241m=\u001B[39m \u001B[43mget_web_driver_device_pixel_ratio\u001B[49m\u001B[43m(\u001B[49m\u001B[43mweb_driver\u001B[49m\u001B[43m)\u001B[49m\n\u001B[1;32m    121\u001B[0m     \u001B[38;5;28;01mreturn\u001B[39;00m device_pixel_ratio \u001B[38;5;241m>\u001B[39m\u001B[38;5;241m=\u001B[39m scale_factor\n",
      "File \u001B[0;32m~/Documents/EPFL/ada-2023-project-adaroundtheworld2023/.env/lib/python3.9/site-packages/bokeh/io/webdriver.py:128\u001B[0m, in \u001B[0;36mget_web_driver_device_pixel_ratio\u001B[0;34m(web_driver)\u001B[0m\n\u001B[1;32m    124\u001B[0m \u001B[38;5;28;01mdef\u001B[39;00m \u001B[38;5;21mget_web_driver_device_pixel_ratio\u001B[39m(web_driver: WebDriver) \u001B[38;5;241m-\u001B[39m\u001B[38;5;241m>\u001B[39m \u001B[38;5;28mfloat\u001B[39m:\n\u001B[1;32m    125\u001B[0m     calculate_web_driver_device_pixel_ratio \u001B[38;5;241m=\u001B[39m \u001B[38;5;124m\"\"\"\u001B[39m\u001B[38;5;130;01m\\\u001B[39;00m\n\u001B[1;32m    126\u001B[0m \u001B[38;5;124m        return window.devicePixelRatio\u001B[39m\n\u001B[1;32m    127\u001B[0m \u001B[38;5;124m    \u001B[39m\u001B[38;5;124m\"\"\"\u001B[39m\n\u001B[0;32m--> 128\u001B[0m     device_pixel_ratio: \u001B[38;5;28mfloat\u001B[39m \u001B[38;5;241m=\u001B[39m \u001B[43mweb_driver\u001B[49m\u001B[38;5;241;43m.\u001B[39;49m\u001B[43mexecute_script\u001B[49m\u001B[43m(\u001B[49m\u001B[43mcalculate_web_driver_device_pixel_ratio\u001B[49m\u001B[43m)\u001B[49m\n\u001B[1;32m    129\u001B[0m     \u001B[38;5;28;01mreturn\u001B[39;00m device_pixel_ratio\n",
      "File \u001B[0;32m~/Documents/EPFL/ada-2023-project-adaroundtheworld2023/.env/lib/python3.9/site-packages/selenium/webdriver/remote/webdriver.py:406\u001B[0m, in \u001B[0;36mWebDriver.execute_script\u001B[0;34m(self, script, *args)\u001B[0m\n\u001B[1;32m    403\u001B[0m converted_args \u001B[38;5;241m=\u001B[39m \u001B[38;5;28mlist\u001B[39m(args)\n\u001B[1;32m    404\u001B[0m command \u001B[38;5;241m=\u001B[39m Command\u001B[38;5;241m.\u001B[39mW3C_EXECUTE_SCRIPT\n\u001B[0;32m--> 406\u001B[0m \u001B[38;5;28;01mreturn\u001B[39;00m \u001B[38;5;28;43mself\u001B[39;49m\u001B[38;5;241;43m.\u001B[39;49m\u001B[43mexecute\u001B[49m\u001B[43m(\u001B[49m\u001B[43mcommand\u001B[49m\u001B[43m,\u001B[49m\u001B[43m \u001B[49m\u001B[43m{\u001B[49m\u001B[38;5;124;43m\"\u001B[39;49m\u001B[38;5;124;43mscript\u001B[39;49m\u001B[38;5;124;43m\"\u001B[39;49m\u001B[43m:\u001B[49m\u001B[43m \u001B[49m\u001B[43mscript\u001B[49m\u001B[43m,\u001B[49m\u001B[43m \u001B[49m\u001B[38;5;124;43m\"\u001B[39;49m\u001B[38;5;124;43margs\u001B[39;49m\u001B[38;5;124;43m\"\u001B[39;49m\u001B[43m:\u001B[49m\u001B[43m \u001B[49m\u001B[43mconverted_args\u001B[49m\u001B[43m}\u001B[49m\u001B[43m)\u001B[49m[\u001B[38;5;124m\"\u001B[39m\u001B[38;5;124mvalue\u001B[39m\u001B[38;5;124m\"\u001B[39m]\n",
      "File \u001B[0;32m~/Documents/EPFL/ada-2023-project-adaroundtheworld2023/.env/lib/python3.9/site-packages/selenium/webdriver/remote/webdriver.py:344\u001B[0m, in \u001B[0;36mWebDriver.execute\u001B[0;34m(self, driver_command, params)\u001B[0m\n\u001B[1;32m    341\u001B[0m     \u001B[38;5;28;01melif\u001B[39;00m \u001B[38;5;124m\"\u001B[39m\u001B[38;5;124msessionId\u001B[39m\u001B[38;5;124m\"\u001B[39m \u001B[38;5;129;01mnot\u001B[39;00m \u001B[38;5;129;01min\u001B[39;00m params:\n\u001B[1;32m    342\u001B[0m         params[\u001B[38;5;124m\"\u001B[39m\u001B[38;5;124msessionId\u001B[39m\u001B[38;5;124m\"\u001B[39m] \u001B[38;5;241m=\u001B[39m \u001B[38;5;28mself\u001B[39m\u001B[38;5;241m.\u001B[39msession_id\n\u001B[0;32m--> 344\u001B[0m response \u001B[38;5;241m=\u001B[39m \u001B[38;5;28;43mself\u001B[39;49m\u001B[38;5;241;43m.\u001B[39;49m\u001B[43mcommand_executor\u001B[49m\u001B[38;5;241;43m.\u001B[39;49m\u001B[43mexecute\u001B[49m\u001B[43m(\u001B[49m\u001B[43mdriver_command\u001B[49m\u001B[43m,\u001B[49m\u001B[43m \u001B[49m\u001B[43mparams\u001B[49m\u001B[43m)\u001B[49m\n\u001B[1;32m    345\u001B[0m \u001B[38;5;28;01mif\u001B[39;00m response:\n\u001B[1;32m    346\u001B[0m     \u001B[38;5;28mself\u001B[39m\u001B[38;5;241m.\u001B[39merror_handler\u001B[38;5;241m.\u001B[39mcheck_response(response)\n",
      "File \u001B[0;32m~/Documents/EPFL/ada-2023-project-adaroundtheworld2023/.env/lib/python3.9/site-packages/selenium/webdriver/remote/remote_connection.py:300\u001B[0m, in \u001B[0;36mRemoteConnection.execute\u001B[0;34m(self, command, params)\u001B[0m\n\u001B[1;32m    298\u001B[0m data \u001B[38;5;241m=\u001B[39m utils\u001B[38;5;241m.\u001B[39mdump_json(params)\n\u001B[1;32m    299\u001B[0m url \u001B[38;5;241m=\u001B[39m \u001B[38;5;124mf\u001B[39m\u001B[38;5;124m\"\u001B[39m\u001B[38;5;132;01m{\u001B[39;00m\u001B[38;5;28mself\u001B[39m\u001B[38;5;241m.\u001B[39m_url\u001B[38;5;132;01m}\u001B[39;00m\u001B[38;5;132;01m{\u001B[39;00mpath\u001B[38;5;132;01m}\u001B[39;00m\u001B[38;5;124m\"\u001B[39m\n\u001B[0;32m--> 300\u001B[0m \u001B[38;5;28;01mreturn\u001B[39;00m \u001B[38;5;28;43mself\u001B[39;49m\u001B[38;5;241;43m.\u001B[39;49m\u001B[43m_request\u001B[49m\u001B[43m(\u001B[49m\u001B[43mcommand_info\u001B[49m\u001B[43m[\u001B[49m\u001B[38;5;241;43m0\u001B[39;49m\u001B[43m]\u001B[49m\u001B[43m,\u001B[49m\u001B[43m \u001B[49m\u001B[43murl\u001B[49m\u001B[43m,\u001B[49m\u001B[43m \u001B[49m\u001B[43mbody\u001B[49m\u001B[38;5;241;43m=\u001B[39;49m\u001B[43mdata\u001B[49m\u001B[43m)\u001B[49m\n",
      "File \u001B[0;32m~/Documents/EPFL/ada-2023-project-adaroundtheworld2023/.env/lib/python3.9/site-packages/selenium/webdriver/remote/remote_connection.py:321\u001B[0m, in \u001B[0;36mRemoteConnection._request\u001B[0;34m(self, method, url, body)\u001B[0m\n\u001B[1;32m    318\u001B[0m     body \u001B[38;5;241m=\u001B[39m \u001B[38;5;28;01mNone\u001B[39;00m\n\u001B[1;32m    320\u001B[0m \u001B[38;5;28;01mif\u001B[39;00m \u001B[38;5;28mself\u001B[39m\u001B[38;5;241m.\u001B[39mkeep_alive:\n\u001B[0;32m--> 321\u001B[0m     response \u001B[38;5;241m=\u001B[39m \u001B[38;5;28;43mself\u001B[39;49m\u001B[38;5;241;43m.\u001B[39;49m\u001B[43m_conn\u001B[49m\u001B[38;5;241;43m.\u001B[39;49m\u001B[43mrequest\u001B[49m\u001B[43m(\u001B[49m\u001B[43mmethod\u001B[49m\u001B[43m,\u001B[49m\u001B[43m \u001B[49m\u001B[43murl\u001B[49m\u001B[43m,\u001B[49m\u001B[43m \u001B[49m\u001B[43mbody\u001B[49m\u001B[38;5;241;43m=\u001B[39;49m\u001B[43mbody\u001B[49m\u001B[43m,\u001B[49m\u001B[43m \u001B[49m\u001B[43mheaders\u001B[49m\u001B[38;5;241;43m=\u001B[39;49m\u001B[43mheaders\u001B[49m\u001B[43m)\u001B[49m\n\u001B[1;32m    322\u001B[0m     statuscode \u001B[38;5;241m=\u001B[39m response\u001B[38;5;241m.\u001B[39mstatus\n\u001B[1;32m    323\u001B[0m \u001B[38;5;28;01melse\u001B[39;00m:\n",
      "File \u001B[0;32m~/Documents/EPFL/ada-2023-project-adaroundtheworld2023/.env/lib/python3.9/site-packages/urllib3/_request_methods.py:118\u001B[0m, in \u001B[0;36mRequestMethods.request\u001B[0;34m(self, method, url, body, fields, headers, json, **urlopen_kw)\u001B[0m\n\u001B[1;32m    110\u001B[0m     \u001B[38;5;28;01mreturn\u001B[39;00m \u001B[38;5;28mself\u001B[39m\u001B[38;5;241m.\u001B[39mrequest_encode_url(\n\u001B[1;32m    111\u001B[0m         method,\n\u001B[1;32m    112\u001B[0m         url,\n\u001B[0;32m   (...)\u001B[0m\n\u001B[1;32m    115\u001B[0m         \u001B[38;5;241m*\u001B[39m\u001B[38;5;241m*\u001B[39murlopen_kw,\n\u001B[1;32m    116\u001B[0m     )\n\u001B[1;32m    117\u001B[0m \u001B[38;5;28;01melse\u001B[39;00m:\n\u001B[0;32m--> 118\u001B[0m     \u001B[38;5;28;01mreturn\u001B[39;00m \u001B[38;5;28;43mself\u001B[39;49m\u001B[38;5;241;43m.\u001B[39;49m\u001B[43mrequest_encode_body\u001B[49m\u001B[43m(\u001B[49m\n\u001B[1;32m    119\u001B[0m \u001B[43m        \u001B[49m\u001B[43mmethod\u001B[49m\u001B[43m,\u001B[49m\u001B[43m \u001B[49m\u001B[43murl\u001B[49m\u001B[43m,\u001B[49m\u001B[43m \u001B[49m\u001B[43mfields\u001B[49m\u001B[38;5;241;43m=\u001B[39;49m\u001B[43mfields\u001B[49m\u001B[43m,\u001B[49m\u001B[43m \u001B[49m\u001B[43mheaders\u001B[49m\u001B[38;5;241;43m=\u001B[39;49m\u001B[43mheaders\u001B[49m\u001B[43m,\u001B[49m\u001B[43m \u001B[49m\u001B[38;5;241;43m*\u001B[39;49m\u001B[38;5;241;43m*\u001B[39;49m\u001B[43murlopen_kw\u001B[49m\n\u001B[1;32m    120\u001B[0m \u001B[43m    \u001B[49m\u001B[43m)\u001B[49m\n",
      "File \u001B[0;32m~/Documents/EPFL/ada-2023-project-adaroundtheworld2023/.env/lib/python3.9/site-packages/urllib3/_request_methods.py:217\u001B[0m, in \u001B[0;36mRequestMethods.request_encode_body\u001B[0;34m(self, method, url, fields, headers, encode_multipart, multipart_boundary, **urlopen_kw)\u001B[0m\n\u001B[1;32m    213\u001B[0m     extra_kw[\u001B[38;5;124m\"\u001B[39m\u001B[38;5;124mheaders\u001B[39m\u001B[38;5;124m\"\u001B[39m]\u001B[38;5;241m.\u001B[39msetdefault(\u001B[38;5;124m\"\u001B[39m\u001B[38;5;124mContent-Type\u001B[39m\u001B[38;5;124m\"\u001B[39m, content_type)\n\u001B[1;32m    215\u001B[0m extra_kw\u001B[38;5;241m.\u001B[39mupdate(urlopen_kw)\n\u001B[0;32m--> 217\u001B[0m \u001B[38;5;28;01mreturn\u001B[39;00m \u001B[38;5;28;43mself\u001B[39;49m\u001B[38;5;241;43m.\u001B[39;49m\u001B[43murlopen\u001B[49m\u001B[43m(\u001B[49m\u001B[43mmethod\u001B[49m\u001B[43m,\u001B[49m\u001B[43m \u001B[49m\u001B[43murl\u001B[49m\u001B[43m,\u001B[49m\u001B[43m \u001B[49m\u001B[38;5;241;43m*\u001B[39;49m\u001B[38;5;241;43m*\u001B[39;49m\u001B[43mextra_kw\u001B[49m\u001B[43m)\u001B[49m\n",
      "File \u001B[0;32m~/Documents/EPFL/ada-2023-project-adaroundtheworld2023/.env/lib/python3.9/site-packages/urllib3/poolmanager.py:443\u001B[0m, in \u001B[0;36mPoolManager.urlopen\u001B[0;34m(self, method, url, redirect, **kw)\u001B[0m\n\u001B[1;32m    441\u001B[0m     response \u001B[38;5;241m=\u001B[39m conn\u001B[38;5;241m.\u001B[39murlopen(method, url, \u001B[38;5;241m*\u001B[39m\u001B[38;5;241m*\u001B[39mkw)\n\u001B[1;32m    442\u001B[0m \u001B[38;5;28;01melse\u001B[39;00m:\n\u001B[0;32m--> 443\u001B[0m     response \u001B[38;5;241m=\u001B[39m \u001B[43mconn\u001B[49m\u001B[38;5;241;43m.\u001B[39;49m\u001B[43murlopen\u001B[49m\u001B[43m(\u001B[49m\u001B[43mmethod\u001B[49m\u001B[43m,\u001B[49m\u001B[43m \u001B[49m\u001B[43mu\u001B[49m\u001B[38;5;241;43m.\u001B[39;49m\u001B[43mrequest_uri\u001B[49m\u001B[43m,\u001B[49m\u001B[43m \u001B[49m\u001B[38;5;241;43m*\u001B[39;49m\u001B[38;5;241;43m*\u001B[39;49m\u001B[43mkw\u001B[49m\u001B[43m)\u001B[49m\n\u001B[1;32m    445\u001B[0m redirect_location \u001B[38;5;241m=\u001B[39m redirect \u001B[38;5;129;01mand\u001B[39;00m response\u001B[38;5;241m.\u001B[39mget_redirect_location()\n\u001B[1;32m    446\u001B[0m \u001B[38;5;28;01mif\u001B[39;00m \u001B[38;5;129;01mnot\u001B[39;00m redirect_location:\n",
      "File \u001B[0;32m~/Documents/EPFL/ada-2023-project-adaroundtheworld2023/.env/lib/python3.9/site-packages/urllib3/connectionpool.py:875\u001B[0m, in \u001B[0;36mHTTPConnectionPool.urlopen\u001B[0;34m(self, method, url, body, headers, retries, redirect, assert_same_host, timeout, pool_timeout, release_conn, chunked, body_pos, preload_content, decode_content, **response_kw)\u001B[0m\n\u001B[1;32m    870\u001B[0m \u001B[38;5;28;01mif\u001B[39;00m \u001B[38;5;129;01mnot\u001B[39;00m conn:\n\u001B[1;32m    871\u001B[0m     \u001B[38;5;66;03m# Try again\u001B[39;00m\n\u001B[1;32m    872\u001B[0m     log\u001B[38;5;241m.\u001B[39mwarning(\n\u001B[1;32m    873\u001B[0m         \u001B[38;5;124m\"\u001B[39m\u001B[38;5;124mRetrying (\u001B[39m\u001B[38;5;132;01m%r\u001B[39;00m\u001B[38;5;124m) after connection broken by \u001B[39m\u001B[38;5;124m'\u001B[39m\u001B[38;5;132;01m%r\u001B[39;00m\u001B[38;5;124m'\u001B[39m\u001B[38;5;124m: \u001B[39m\u001B[38;5;132;01m%s\u001B[39;00m\u001B[38;5;124m\"\u001B[39m, retries, err, url\n\u001B[1;32m    874\u001B[0m     )\n\u001B[0;32m--> 875\u001B[0m     \u001B[38;5;28;01mreturn\u001B[39;00m \u001B[38;5;28;43mself\u001B[39;49m\u001B[38;5;241;43m.\u001B[39;49m\u001B[43murlopen\u001B[49m\u001B[43m(\u001B[49m\n\u001B[1;32m    876\u001B[0m \u001B[43m        \u001B[49m\u001B[43mmethod\u001B[49m\u001B[43m,\u001B[49m\n\u001B[1;32m    877\u001B[0m \u001B[43m        \u001B[49m\u001B[43murl\u001B[49m\u001B[43m,\u001B[49m\n\u001B[1;32m    878\u001B[0m \u001B[43m        \u001B[49m\u001B[43mbody\u001B[49m\u001B[43m,\u001B[49m\n\u001B[1;32m    879\u001B[0m \u001B[43m        \u001B[49m\u001B[43mheaders\u001B[49m\u001B[43m,\u001B[49m\n\u001B[1;32m    880\u001B[0m \u001B[43m        \u001B[49m\u001B[43mretries\u001B[49m\u001B[43m,\u001B[49m\n\u001B[1;32m    881\u001B[0m \u001B[43m        \u001B[49m\u001B[43mredirect\u001B[49m\u001B[43m,\u001B[49m\n\u001B[1;32m    882\u001B[0m \u001B[43m        \u001B[49m\u001B[43massert_same_host\u001B[49m\u001B[43m,\u001B[49m\n\u001B[1;32m    883\u001B[0m \u001B[43m        \u001B[49m\u001B[43mtimeout\u001B[49m\u001B[38;5;241;43m=\u001B[39;49m\u001B[43mtimeout\u001B[49m\u001B[43m,\u001B[49m\n\u001B[1;32m    884\u001B[0m \u001B[43m        \u001B[49m\u001B[43mpool_timeout\u001B[49m\u001B[38;5;241;43m=\u001B[39;49m\u001B[43mpool_timeout\u001B[49m\u001B[43m,\u001B[49m\n\u001B[1;32m    885\u001B[0m \u001B[43m        \u001B[49m\u001B[43mrelease_conn\u001B[49m\u001B[38;5;241;43m=\u001B[39;49m\u001B[43mrelease_conn\u001B[49m\u001B[43m,\u001B[49m\n\u001B[1;32m    886\u001B[0m \u001B[43m        \u001B[49m\u001B[43mchunked\u001B[49m\u001B[38;5;241;43m=\u001B[39;49m\u001B[43mchunked\u001B[49m\u001B[43m,\u001B[49m\n\u001B[1;32m    887\u001B[0m \u001B[43m        \u001B[49m\u001B[43mbody_pos\u001B[49m\u001B[38;5;241;43m=\u001B[39;49m\u001B[43mbody_pos\u001B[49m\u001B[43m,\u001B[49m\n\u001B[1;32m    888\u001B[0m \u001B[43m        \u001B[49m\u001B[43mpreload_content\u001B[49m\u001B[38;5;241;43m=\u001B[39;49m\u001B[43mpreload_content\u001B[49m\u001B[43m,\u001B[49m\n\u001B[1;32m    889\u001B[0m \u001B[43m        \u001B[49m\u001B[43mdecode_content\u001B[49m\u001B[38;5;241;43m=\u001B[39;49m\u001B[43mdecode_content\u001B[49m\u001B[43m,\u001B[49m\n\u001B[1;32m    890\u001B[0m \u001B[43m        \u001B[49m\u001B[38;5;241;43m*\u001B[39;49m\u001B[38;5;241;43m*\u001B[39;49m\u001B[43mresponse_kw\u001B[49m\u001B[43m,\u001B[49m\n\u001B[1;32m    891\u001B[0m \u001B[43m    \u001B[49m\u001B[43m)\u001B[49m\n\u001B[1;32m    893\u001B[0m \u001B[38;5;66;03m# Handle redirect?\u001B[39;00m\n\u001B[1;32m    894\u001B[0m redirect_location \u001B[38;5;241m=\u001B[39m redirect \u001B[38;5;129;01mand\u001B[39;00m response\u001B[38;5;241m.\u001B[39mget_redirect_location()\n",
      "File \u001B[0;32m~/Documents/EPFL/ada-2023-project-adaroundtheworld2023/.env/lib/python3.9/site-packages/urllib3/connectionpool.py:875\u001B[0m, in \u001B[0;36mHTTPConnectionPool.urlopen\u001B[0;34m(self, method, url, body, headers, retries, redirect, assert_same_host, timeout, pool_timeout, release_conn, chunked, body_pos, preload_content, decode_content, **response_kw)\u001B[0m\n\u001B[1;32m    870\u001B[0m \u001B[38;5;28;01mif\u001B[39;00m \u001B[38;5;129;01mnot\u001B[39;00m conn:\n\u001B[1;32m    871\u001B[0m     \u001B[38;5;66;03m# Try again\u001B[39;00m\n\u001B[1;32m    872\u001B[0m     log\u001B[38;5;241m.\u001B[39mwarning(\n\u001B[1;32m    873\u001B[0m         \u001B[38;5;124m\"\u001B[39m\u001B[38;5;124mRetrying (\u001B[39m\u001B[38;5;132;01m%r\u001B[39;00m\u001B[38;5;124m) after connection broken by \u001B[39m\u001B[38;5;124m'\u001B[39m\u001B[38;5;132;01m%r\u001B[39;00m\u001B[38;5;124m'\u001B[39m\u001B[38;5;124m: \u001B[39m\u001B[38;5;132;01m%s\u001B[39;00m\u001B[38;5;124m\"\u001B[39m, retries, err, url\n\u001B[1;32m    874\u001B[0m     )\n\u001B[0;32m--> 875\u001B[0m     \u001B[38;5;28;01mreturn\u001B[39;00m \u001B[38;5;28;43mself\u001B[39;49m\u001B[38;5;241;43m.\u001B[39;49m\u001B[43murlopen\u001B[49m\u001B[43m(\u001B[49m\n\u001B[1;32m    876\u001B[0m \u001B[43m        \u001B[49m\u001B[43mmethod\u001B[49m\u001B[43m,\u001B[49m\n\u001B[1;32m    877\u001B[0m \u001B[43m        \u001B[49m\u001B[43murl\u001B[49m\u001B[43m,\u001B[49m\n\u001B[1;32m    878\u001B[0m \u001B[43m        \u001B[49m\u001B[43mbody\u001B[49m\u001B[43m,\u001B[49m\n\u001B[1;32m    879\u001B[0m \u001B[43m        \u001B[49m\u001B[43mheaders\u001B[49m\u001B[43m,\u001B[49m\n\u001B[1;32m    880\u001B[0m \u001B[43m        \u001B[49m\u001B[43mretries\u001B[49m\u001B[43m,\u001B[49m\n\u001B[1;32m    881\u001B[0m \u001B[43m        \u001B[49m\u001B[43mredirect\u001B[49m\u001B[43m,\u001B[49m\n\u001B[1;32m    882\u001B[0m \u001B[43m        \u001B[49m\u001B[43massert_same_host\u001B[49m\u001B[43m,\u001B[49m\n\u001B[1;32m    883\u001B[0m \u001B[43m        \u001B[49m\u001B[43mtimeout\u001B[49m\u001B[38;5;241;43m=\u001B[39;49m\u001B[43mtimeout\u001B[49m\u001B[43m,\u001B[49m\n\u001B[1;32m    884\u001B[0m \u001B[43m        \u001B[49m\u001B[43mpool_timeout\u001B[49m\u001B[38;5;241;43m=\u001B[39;49m\u001B[43mpool_timeout\u001B[49m\u001B[43m,\u001B[49m\n\u001B[1;32m    885\u001B[0m \u001B[43m        \u001B[49m\u001B[43mrelease_conn\u001B[49m\u001B[38;5;241;43m=\u001B[39;49m\u001B[43mrelease_conn\u001B[49m\u001B[43m,\u001B[49m\n\u001B[1;32m    886\u001B[0m \u001B[43m        \u001B[49m\u001B[43mchunked\u001B[49m\u001B[38;5;241;43m=\u001B[39;49m\u001B[43mchunked\u001B[49m\u001B[43m,\u001B[49m\n\u001B[1;32m    887\u001B[0m \u001B[43m        \u001B[49m\u001B[43mbody_pos\u001B[49m\u001B[38;5;241;43m=\u001B[39;49m\u001B[43mbody_pos\u001B[49m\u001B[43m,\u001B[49m\n\u001B[1;32m    888\u001B[0m \u001B[43m        \u001B[49m\u001B[43mpreload_content\u001B[49m\u001B[38;5;241;43m=\u001B[39;49m\u001B[43mpreload_content\u001B[49m\u001B[43m,\u001B[49m\n\u001B[1;32m    889\u001B[0m \u001B[43m        \u001B[49m\u001B[43mdecode_content\u001B[49m\u001B[38;5;241;43m=\u001B[39;49m\u001B[43mdecode_content\u001B[49m\u001B[43m,\u001B[49m\n\u001B[1;32m    890\u001B[0m \u001B[43m        \u001B[49m\u001B[38;5;241;43m*\u001B[39;49m\u001B[38;5;241;43m*\u001B[39;49m\u001B[43mresponse_kw\u001B[49m\u001B[43m,\u001B[49m\n\u001B[1;32m    891\u001B[0m \u001B[43m    \u001B[49m\u001B[43m)\u001B[49m\n\u001B[1;32m    893\u001B[0m \u001B[38;5;66;03m# Handle redirect?\u001B[39;00m\n\u001B[1;32m    894\u001B[0m redirect_location \u001B[38;5;241m=\u001B[39m redirect \u001B[38;5;129;01mand\u001B[39;00m response\u001B[38;5;241m.\u001B[39mget_redirect_location()\n",
      "File \u001B[0;32m~/Documents/EPFL/ada-2023-project-adaroundtheworld2023/.env/lib/python3.9/site-packages/urllib3/connectionpool.py:875\u001B[0m, in \u001B[0;36mHTTPConnectionPool.urlopen\u001B[0;34m(self, method, url, body, headers, retries, redirect, assert_same_host, timeout, pool_timeout, release_conn, chunked, body_pos, preload_content, decode_content, **response_kw)\u001B[0m\n\u001B[1;32m    870\u001B[0m \u001B[38;5;28;01mif\u001B[39;00m \u001B[38;5;129;01mnot\u001B[39;00m conn:\n\u001B[1;32m    871\u001B[0m     \u001B[38;5;66;03m# Try again\u001B[39;00m\n\u001B[1;32m    872\u001B[0m     log\u001B[38;5;241m.\u001B[39mwarning(\n\u001B[1;32m    873\u001B[0m         \u001B[38;5;124m\"\u001B[39m\u001B[38;5;124mRetrying (\u001B[39m\u001B[38;5;132;01m%r\u001B[39;00m\u001B[38;5;124m) after connection broken by \u001B[39m\u001B[38;5;124m'\u001B[39m\u001B[38;5;132;01m%r\u001B[39;00m\u001B[38;5;124m'\u001B[39m\u001B[38;5;124m: \u001B[39m\u001B[38;5;132;01m%s\u001B[39;00m\u001B[38;5;124m\"\u001B[39m, retries, err, url\n\u001B[1;32m    874\u001B[0m     )\n\u001B[0;32m--> 875\u001B[0m     \u001B[38;5;28;01mreturn\u001B[39;00m \u001B[38;5;28;43mself\u001B[39;49m\u001B[38;5;241;43m.\u001B[39;49m\u001B[43murlopen\u001B[49m\u001B[43m(\u001B[49m\n\u001B[1;32m    876\u001B[0m \u001B[43m        \u001B[49m\u001B[43mmethod\u001B[49m\u001B[43m,\u001B[49m\n\u001B[1;32m    877\u001B[0m \u001B[43m        \u001B[49m\u001B[43murl\u001B[49m\u001B[43m,\u001B[49m\n\u001B[1;32m    878\u001B[0m \u001B[43m        \u001B[49m\u001B[43mbody\u001B[49m\u001B[43m,\u001B[49m\n\u001B[1;32m    879\u001B[0m \u001B[43m        \u001B[49m\u001B[43mheaders\u001B[49m\u001B[43m,\u001B[49m\n\u001B[1;32m    880\u001B[0m \u001B[43m        \u001B[49m\u001B[43mretries\u001B[49m\u001B[43m,\u001B[49m\n\u001B[1;32m    881\u001B[0m \u001B[43m        \u001B[49m\u001B[43mredirect\u001B[49m\u001B[43m,\u001B[49m\n\u001B[1;32m    882\u001B[0m \u001B[43m        \u001B[49m\u001B[43massert_same_host\u001B[49m\u001B[43m,\u001B[49m\n\u001B[1;32m    883\u001B[0m \u001B[43m        \u001B[49m\u001B[43mtimeout\u001B[49m\u001B[38;5;241;43m=\u001B[39;49m\u001B[43mtimeout\u001B[49m\u001B[43m,\u001B[49m\n\u001B[1;32m    884\u001B[0m \u001B[43m        \u001B[49m\u001B[43mpool_timeout\u001B[49m\u001B[38;5;241;43m=\u001B[39;49m\u001B[43mpool_timeout\u001B[49m\u001B[43m,\u001B[49m\n\u001B[1;32m    885\u001B[0m \u001B[43m        \u001B[49m\u001B[43mrelease_conn\u001B[49m\u001B[38;5;241;43m=\u001B[39;49m\u001B[43mrelease_conn\u001B[49m\u001B[43m,\u001B[49m\n\u001B[1;32m    886\u001B[0m \u001B[43m        \u001B[49m\u001B[43mchunked\u001B[49m\u001B[38;5;241;43m=\u001B[39;49m\u001B[43mchunked\u001B[49m\u001B[43m,\u001B[49m\n\u001B[1;32m    887\u001B[0m \u001B[43m        \u001B[49m\u001B[43mbody_pos\u001B[49m\u001B[38;5;241;43m=\u001B[39;49m\u001B[43mbody_pos\u001B[49m\u001B[43m,\u001B[49m\n\u001B[1;32m    888\u001B[0m \u001B[43m        \u001B[49m\u001B[43mpreload_content\u001B[49m\u001B[38;5;241;43m=\u001B[39;49m\u001B[43mpreload_content\u001B[49m\u001B[43m,\u001B[49m\n\u001B[1;32m    889\u001B[0m \u001B[43m        \u001B[49m\u001B[43mdecode_content\u001B[49m\u001B[38;5;241;43m=\u001B[39;49m\u001B[43mdecode_content\u001B[49m\u001B[43m,\u001B[49m\n\u001B[1;32m    890\u001B[0m \u001B[43m        \u001B[49m\u001B[38;5;241;43m*\u001B[39;49m\u001B[38;5;241;43m*\u001B[39;49m\u001B[43mresponse_kw\u001B[49m\u001B[43m,\u001B[49m\n\u001B[1;32m    891\u001B[0m \u001B[43m    \u001B[49m\u001B[43m)\u001B[49m\n\u001B[1;32m    893\u001B[0m \u001B[38;5;66;03m# Handle redirect?\u001B[39;00m\n\u001B[1;32m    894\u001B[0m redirect_location \u001B[38;5;241m=\u001B[39m redirect \u001B[38;5;129;01mand\u001B[39;00m response\u001B[38;5;241m.\u001B[39mget_redirect_location()\n",
      "File \u001B[0;32m~/Documents/EPFL/ada-2023-project-adaroundtheworld2023/.env/lib/python3.9/site-packages/urllib3/connectionpool.py:845\u001B[0m, in \u001B[0;36mHTTPConnectionPool.urlopen\u001B[0;34m(self, method, url, body, headers, retries, redirect, assert_same_host, timeout, pool_timeout, release_conn, chunked, body_pos, preload_content, decode_content, **response_kw)\u001B[0m\n\u001B[1;32m    842\u001B[0m \u001B[38;5;28;01melif\u001B[39;00m \u001B[38;5;28misinstance\u001B[39m(new_e, (\u001B[38;5;167;01mOSError\u001B[39;00m, HTTPException)):\n\u001B[1;32m    843\u001B[0m     new_e \u001B[38;5;241m=\u001B[39m ProtocolError(\u001B[38;5;124m\"\u001B[39m\u001B[38;5;124mConnection aborted.\u001B[39m\u001B[38;5;124m\"\u001B[39m, new_e)\n\u001B[0;32m--> 845\u001B[0m retries \u001B[38;5;241m=\u001B[39m \u001B[43mretries\u001B[49m\u001B[38;5;241;43m.\u001B[39;49m\u001B[43mincrement\u001B[49m\u001B[43m(\u001B[49m\n\u001B[1;32m    846\u001B[0m \u001B[43m    \u001B[49m\u001B[43mmethod\u001B[49m\u001B[43m,\u001B[49m\u001B[43m \u001B[49m\u001B[43murl\u001B[49m\u001B[43m,\u001B[49m\u001B[43m \u001B[49m\u001B[43merror\u001B[49m\u001B[38;5;241;43m=\u001B[39;49m\u001B[43mnew_e\u001B[49m\u001B[43m,\u001B[49m\u001B[43m \u001B[49m\u001B[43m_pool\u001B[49m\u001B[38;5;241;43m=\u001B[39;49m\u001B[38;5;28;43mself\u001B[39;49m\u001B[43m,\u001B[49m\u001B[43m \u001B[49m\u001B[43m_stacktrace\u001B[49m\u001B[38;5;241;43m=\u001B[39;49m\u001B[43msys\u001B[49m\u001B[38;5;241;43m.\u001B[39;49m\u001B[43mexc_info\u001B[49m\u001B[43m(\u001B[49m\u001B[43m)\u001B[49m\u001B[43m[\u001B[49m\u001B[38;5;241;43m2\u001B[39;49m\u001B[43m]\u001B[49m\n\u001B[1;32m    847\u001B[0m \u001B[43m\u001B[49m\u001B[43m)\u001B[49m\n\u001B[1;32m    848\u001B[0m retries\u001B[38;5;241m.\u001B[39msleep()\n\u001B[1;32m    850\u001B[0m \u001B[38;5;66;03m# Keep track of the error for the retry warning.\u001B[39;00m\n",
      "File \u001B[0;32m~/Documents/EPFL/ada-2023-project-adaroundtheworld2023/.env/lib/python3.9/site-packages/urllib3/util/retry.py:515\u001B[0m, in \u001B[0;36mRetry.increment\u001B[0;34m(self, method, url, response, error, _pool, _stacktrace)\u001B[0m\n\u001B[1;32m    513\u001B[0m \u001B[38;5;28;01mif\u001B[39;00m new_retry\u001B[38;5;241m.\u001B[39mis_exhausted():\n\u001B[1;32m    514\u001B[0m     reason \u001B[38;5;241m=\u001B[39m error \u001B[38;5;129;01mor\u001B[39;00m ResponseError(cause)\n\u001B[0;32m--> 515\u001B[0m     \u001B[38;5;28;01mraise\u001B[39;00m MaxRetryError(_pool, url, reason) \u001B[38;5;28;01mfrom\u001B[39;00m \u001B[38;5;21;01mreason\u001B[39;00m  \u001B[38;5;66;03m# type: ignore[arg-type]\u001B[39;00m\n\u001B[1;32m    517\u001B[0m log\u001B[38;5;241m.\u001B[39mdebug(\u001B[38;5;124m\"\u001B[39m\u001B[38;5;124mIncremented Retry for (url=\u001B[39m\u001B[38;5;124m'\u001B[39m\u001B[38;5;132;01m%s\u001B[39;00m\u001B[38;5;124m'\u001B[39m\u001B[38;5;124m): \u001B[39m\u001B[38;5;132;01m%r\u001B[39;00m\u001B[38;5;124m\"\u001B[39m, url, new_retry)\n\u001B[1;32m    519\u001B[0m \u001B[38;5;28;01mreturn\u001B[39;00m new_retry\n",
      "\u001B[0;31mMaxRetryError\u001B[0m: HTTPConnectionPool(host='localhost', port=50390): Max retries exceeded with url: /session/ff341f7803ba15989a542bd1bd011331/execute/sync (Caused by NewConnectionError('<urllib3.connection.HTTPConnection object at 0x212f36be0>: Failed to establish a new connection: [Errno 61] Connection refused'))"
     ]
    }
   ],
   "source": [
    "figure_kwargs = {\n",
    "    'width': 700,\n",
    "    'height': 450,\n",
    "    'tooltips': [(\"betweenness\", \"@betweenness{0.00}\")]\n",
    "}\n",
    "\n",
    "plot = plot_example_graph(G, 'betweenness', **figure_kwargs)\n",
    "get_screenshot_as_png(plot)"
   ],
   "metadata": {
    "collapsed": false,
    "ExecuteTime": {
     "end_time": "2023-12-14T14:22:48.669718Z",
     "start_time": "2023-12-14T14:22:42.222576Z"
    }
   },
   "id": "748dfbf8e86d8664"
  },
  {
   "cell_type": "markdown",
   "source": [
    "The graph below is visualised so that the lighter nodes have higher betweenness. As you can see, the node that sits at the intersection clearly has higher betweenness measure than others. Thus, betweenness measure works well with clustered graphs and we have successfully quantified “being at the intersection” for those kinds of graphs. Following the theory from the book we mentioned before, the node/movie at the intersection **should have higher success compared to others**. "
   ],
   "metadata": {
    "collapsed": false
   },
   "id": "d4b9731666d0db65"
  },
  {
   "cell_type": "markdown",
   "id": "e235f34da665c17b",
   "metadata": {
    "collapsed": false
   },
   "source": [
    "### 2.1 Degree <a class=\"anchor\" id=\"degree\"></a>\n",
    "\n",
    "What if we don’t have such clear clusters, but rather have a big chunk of quite similar movies and then some outliers? Let's generate data for this and look at it visually."
   ]
  },
  {
   "cell_type": "code",
   "execution_count": null,
   "id": "c0feeb002e962a9f",
   "metadata": {
    "collapsed": false,
    "ExecuteTime": {
     "end_time": "2023-12-14T14:22:48.683421Z",
     "start_time": "2023-12-14T14:22:48.674246Z"
    }
   },
   "outputs": [],
   "source": [
    "degree_graph = nx.Graph()\n",
    "\n",
    "# let's define edges for a simple graph\n",
    "edges = [\n",
    "    ('b', 'o'), ('f', 'u'), ('a', 'b'), ('a', 'c'), ('a', 'd'), ('a', 'e'), \n",
    "    ('a', 'f'), ('b', 'c'), ('b', 'd'), ('b', 'e'), ('c', 'd'), ('c', 'e'),\n",
    "    ('f', 'c'), ('f', 'd'), ('f', 'e'), ('g', 'b'), ('g', 'd'), ('g', 'f')\n",
    "]\n",
    "\n",
    "# add edges to the graph\n",
    "for node_1, node_2 in edges:\n",
    "    degree_graph.add_edge(node_1, node_2)"
   ]
  },
  {
   "cell_type": "code",
   "execution_count": null,
   "id": "97a27a85305722c4",
   "metadata": {
    "collapsed": false,
    "ExecuteTime": {
     "start_time": "2023-12-14T14:22:48.677649Z"
    }
   },
   "outputs": [],
   "source": [
    "figure_kwargs = {\n",
    "    'width': 800,\n",
    "    'height': 500,\n",
    "    'tooltips': [(\"degree\", \"@degree{0.00}\"), (\"betweenness\", \"@betweenness{0.00}\")]\n",
    "}\n",
    "\n",
    "plot = plot_example_graph(degree_graph, color_attribute='degree', **figure_kwargs)\n",
    "get_screenshot_as_png(plot)"
   ]
  },
  {
   "cell_type": "markdown",
   "id": "4215a3e62ebb1ac9",
   "metadata": {
    "collapsed": false
   },
   "source": [
    "In this sort of graph betweenness measure doesn't help us too much as it will be very low for most of the nodes (especially in bigger graphs). We don’t really have nodes that act as bridges between clusters and sit at the intersections. In that case, let’s redefine the Medici effect in the movie industry a bit and say that the most successful movies will be the ones that **have taken ideas from many other movies and thus are connected to the biggest possible number of other nodes**. This is exactly what the degree measure quantifies. The graph below has generated so that the color depicts the degree of the node."
   ]
  },
  {
   "cell_type": "markdown",
   "id": "b1f55e7962399941",
   "metadata": {
    "collapsed": false
   },
   "source": [
    "## 3. Creating the Network Graphs <a class=\"anchor\" id=\"creating-network\"></a>\n",
    "\n",
    "Now that we have settled the theory, we can start generating graphs. We will be using two different approaches that will be explained more in detail below:\n",
    "\n",
    "1. embedding;\n",
    "2. classification.\n",
    "\n",
    "Notice that some of the steps below require significant computational resources. As Google Colab was more reasonable place for this, the more difficult steps was done in separate notebooks using Colab and data was saved to JSON / pickle files for using later."
   ]
  },
  {
   "cell_type": "markdown",
   "source": [
    "### 3.1 Embedding Approach <a class=\"anchor\" id=\"embeddings\"></a>\n",
    "\n",
    "The embedding consists of 3 main steps that include:\n",
    "\n",
    "- movie plots -> embeddings\n",
    "- embeddings -> similarities\n",
    "- similarities -> graphs"
   ],
   "metadata": {
    "collapsed": false
   },
   "id": "dcf64b267ee6b333"
  },
  {
   "cell_type": "markdown",
   "id": "c0bedb35e32320b0",
   "metadata": {
    "collapsed": false
   },
   "source": [
    "### 3.1.1 Plots to Embeddings \n",
    "\n",
    "First, we’ll use an embedding model [E5-large-v2](https://huggingface.co/intfloat/e5-large-v2) that takes the plot of the movie as an input and converts it into normalized feature vector with embedding size of 1024. As doing it locally for all the movies would be computationally too heavy, process is described in notebook [movies_to_embeddings.ipynb](notebooks/movies_to_embeddings.ipynb) and here we simply import the embeddings from JSON for illustration."
   ]
  },
  {
   "cell_type": "code",
   "execution_count": null,
   "outputs": [],
   "source": [
    "embeddings_dict = get_embeddings_from_json(2010)\n",
    "embeddings_dict[29054788].shape"
   ],
   "metadata": {
    "collapsed": false,
    "ExecuteTime": {
     "start_time": "2023-12-14T14:22:48.681806Z"
    }
   },
   "id": "dcd0da9c5d523f4f"
  },
  {
   "cell_type": "markdown",
   "source": [
    "As you can see, we saved the embeddings with wikipedia_id as there might be several movies with the same name from different years."
   ],
   "metadata": {
    "collapsed": false
   },
   "id": "2eff71960f74e87"
  },
  {
   "cell_type": "markdown",
   "source": [
    "### 3.1.2 Embeddings to Similarities <a class=\"anchor\" id=\"similarities\"></a>\n",
    "\n",
    "As the embeddings are nicely normalized to unit vectors, we can simply use dot product to calculate cosine similarity of the two vectors. Due to combinatorial explosion, we calculated all the combinations for every decade again on Colab and you can see the methodology in [embeddings_to_similarities.ipynb](notebooks/embeddings_to_similarities.ipynb). Here we simply load from JSON."
   ],
   "metadata": {
    "collapsed": false
   },
   "id": "5aac783de0eb76e"
  },
  {
   "cell_type": "code",
   "execution_count": null,
   "outputs": [],
   "source": [
    "similarity_dict = get_similarities_from_json(2010)\n",
    "\n",
    "similarity_df = get_similarity_df(df.set_index('wikipedia_id'), similarity_dict,  20)\n",
    "similarity_df.similarity = similarity_df.similarity * 100\n",
    "\n",
    "similarity_df.head(5)"
   ],
   "metadata": {
    "collapsed": false,
    "ExecuteTime": {
     "start_time": "2023-12-14T14:22:48.690251Z"
    }
   },
   "id": "78ac8c0a44416cb9"
  },
  {
   "cell_type": "markdown",
   "source": [
    "In similarity_df we have all possible movies with their corresponding similarities for the previous decade. We can verify if the similarities look reasonable for the naked eye by plotting some of them to similarity matrix."
   ],
   "metadata": {
    "collapsed": false
   },
   "id": "202b316204e84188"
  },
  {
   "cell_type": "code",
   "execution_count": null,
   "outputs": [],
   "source": [
    "plot = plot_similarity_matrix(similarity_df, width=700)\n",
    "get_screenshot_as_png(plot)"
   ],
   "metadata": {
    "collapsed": false,
    "ExecuteTime": {
     "end_time": "2023-12-14T14:22:48.731430Z",
     "start_time": "2023-12-14T14:22:48.695654Z"
    }
   },
   "id": "1147424296be7430"
  },
  {
   "cell_type": "markdown",
   "source": [
    "[Sortie 67](https://www.imdb.com/title/tt1651916/) and [Victim](https://s.media-imdb.com/title/tt1684564/?ref_=nm_flmg_t_1_msdp) both talk about witnessing a brutal murder, so it makes sense to qualify them as similar. On the other hand, [How to Start a Revolution](https://www.imdb.com/title/tt1956516/) is not too similar to any other movie. This is expected as it’s a biographical documentary, whereas all the others are based on fiction. It is especially different from [Rabbit Hole](https://www.imdb.com/title/tt0935075/?ref_=nv_sr_srsg_3_tt_7_nm_1_q_rabbit%2520h), which talks about a happy couple whose life is turned upside down after their young son dies in an accident. Thus, it seems that the embedding model has bone a decent job."
   ],
   "metadata": {
    "collapsed": false
   },
   "id": "a087e4f4b723f3f"
  },
  {
   "cell_type": "markdown",
   "source": [
    "### 3.3 Similarities to Graphs <a class=\"anchor\" id=\"similarities\"></a>\n",
    "\n",
    "Once we have all possible combinations of similarities, we want to create an edge between all the movies for which the similarity is higher than a certain threshold. For this purpose, let's illustrate the process using year 2012 and looking at the histogram and descriptive statistics."
   ],
   "metadata": {
    "collapsed": false
   },
   "id": "c06885592cfecaf9"
  },
  {
   "cell_type": "code",
   "execution_count": null,
   "outputs": [],
   "source": [
    "# filter the similarity dictionary to contain only values from 2012\n",
    "all_ids = list(set(itertools.chain(*similarity_dict.keys())))\n",
    "wanted_ids = df[df.release_year == 2012].wikipedia_id.unique().tolist()\n",
    "wanted_combinations = list(itertools.combinations(set(wanted_ids), 2))\n",
    "\n",
    "similarity_dict_2012 = {}\n",
    "\n",
    "for movie_1, movie_2 in wanted_combinations:\n",
    "    try:\n",
    "        similarity_dict_2012[(movie_1, movie_2)] = similarity_dict[(movie_1, movie_2)]\n",
    "    except KeyError:\n",
    "        similarity_dict_2012[(movie_2, movie_1)] = similarity_dict[(movie_2, movie_1)]"
   ],
   "metadata": {
    "collapsed": false,
    "ExecuteTime": {
     "start_time": "2023-12-14T14:22:48.700218Z"
    }
   },
   "id": "41a112e4d3d95b09"
  },
  {
   "cell_type": "code",
   "execution_count": null,
   "outputs": [],
   "source": [
    "# check the distribution of similarity values\n",
    "similarity_values = list(similarity_dict_2012.values())\n",
    "pd.Series(similarity_values).plot.hist(bins=50, title='Distribution of similarity values')"
   ],
   "metadata": {
    "collapsed": false,
    "ExecuteTime": {
     "start_time": "2023-12-14T14:22:48.708239Z"
    }
   },
   "id": "4334004af319eff6"
  },
  {
   "cell_type": "code",
   "execution_count": null,
   "outputs": [],
   "source": [
    "# show descriptive statistics\n",
    "descriptive_stats = pd.Series(similarity_values).describe()\n",
    "descriptive_stats"
   ],
   "metadata": {
    "collapsed": false,
    "ExecuteTime": {
     "start_time": "2023-12-14T14:22:48.712817Z"
    }
   },
   "id": "22dbdea331bfb67a"
  },
  {
   "cell_type": "markdown",
   "source": [
    "The values are normally distributed and in order to keep it simple, let’s set the limit to **75% percentile**. This way we will have enough connected nodes, but not fully connected graph, which we clearly don't want."
   ],
   "metadata": {
    "collapsed": false
   },
   "id": "e87ca9b3a7523110"
  },
  {
   "cell_type": "code",
   "execution_count": null,
   "outputs": [],
   "source": [
    "similarity_threshold = descriptive_stats['75%'] \n",
    "\n",
    "# generate nodes df and add all the pairs with similarity\n",
    "similarity_mat = [[key[0], key[1], value] for key, value in similarity_dict_2012.items()]\n",
    "nodes_df = pd.DataFrame(similarity_mat, columns=['Source', 'Target', 'Weight']) \n",
    "\n",
    "# filter based on 75th percentile\n",
    "nodes_df = nodes_df[nodes_df.Weight > similarity_threshold]\n",
    "\n",
    "G = nx.from_pandas_edgelist(nodes_df, 'Source', 'Target', 'Weight')"
   ],
   "metadata": {
    "collapsed": false,
    "ExecuteTime": {
     "start_time": "2023-12-14T14:22:48.717537Z"
    }
   },
   "id": "e8f04511013031ea"
  },
  {
   "cell_type": "code",
   "execution_count": null,
   "outputs": [],
   "source": [
    "G.number_of_nodes(), G.number_of_edges()"
   ],
   "metadata": {
    "collapsed": false,
    "ExecuteTime": {
     "start_time": "2023-12-14T14:22:48.725208Z"
    }
   },
   "id": "9b0beac35fb53ab6"
  },
  {
   "cell_type": "markdown",
   "source": [
    "As we have now generated a graph based on the similarity threshold, we can add additional features to the graph (degree and betweenness, everything else is for the web-based data story). Notice that since Bokeh library is used for we based data story and it offers great dynamic graphs, here we simply plot the screenshot, which will not be that informative."
   ],
   "metadata": {
    "collapsed": false
   },
   "id": "44c574893419703e"
  },
  {
   "cell_type": "code",
   "execution_count": null,
   "outputs": [],
   "source": [
    "# use helper function to add main features and measures\n",
    "# rating, release year, name, wikipedia_id, betweenness, degree\n",
    "add_default_attributes(G, df)\n",
    "\n",
    "# adjusted node size \n",
    "adjusted_node_size = dict((key, value * 3.3) for key, value in nx.get_node_attributes(G, \"rating\").items())\n",
    "nx.set_node_attributes(G, name='adjusted_node_size', values=adjusted_node_size)"
   ],
   "metadata": {
    "collapsed": false,
    "ExecuteTime": {
     "start_time": "2023-12-14T14:22:48.730167Z"
    }
   },
   "id": "ed36c353e95bfad1"
  },
  {
   "cell_type": "code",
   "execution_count": null,
   "outputs": [],
   "source": [
    "layout = plot_bokeh_graph(G, sizing_mode='stretch_width', height=700, width=900)\n",
    "get_screenshot_as_png(layout)"
   ],
   "metadata": {
    "collapsed": false,
    "ExecuteTime": {
     "end_time": "2023-12-14T14:22:48.817615Z",
     "start_time": "2023-12-14T14:22:48.736037Z"
    }
   },
   "id": "f5c6d71f7f86c981"
  },
  {
   "cell_type": "markdown",
   "source": [
    "We have only one big cluster with some movies on the outskirts. Thus, we used degree to color the nodes (the lighter the color, the higher the degree). The size of the node is dependent on the IMDB rating of the movie (the bigger the node, the higher the rating). As we have only one big cluster, then the question to ask when coming back to the research problem is “whether the movies with higher degree are more successful”, Thus, we should see that the lighter nodes are bigger. From the visual inspection it is **really hard to tell if there is any association**. There are bigger nodes (higher rated → more successful) at the outskirts as well as in the middle of the cluster. It might even be that the bigger clusters tend to be at the outskirts."
   ],
   "metadata": {
    "collapsed": false
   },
   "id": "add45eb2fedf1119"
  },
  {
   "cell_type": "markdown",
   "id": "c8f86cc26c6a1d6b",
   "metadata": {
    "collapsed": false
   },
   "source": [
    "### 3.2 Genres <a class=\"anchor\" id=\"genres\"></a>\n",
    "\n",
    "The second approach includes using genres as the main input for forming the graphs. TODO: elaborate"
   ]
  },
  {
   "cell_type": "code",
   "execution_count": null,
   "outputs": [],
   "source": [
    "genre_graph = nx.Graph()\n",
    "\n",
    "year_df = df[df.release_year == 2012]\n",
    "\n",
    "for idx_1 in range(len(year_df)):\n",
    "    for idx_2 in range(idx_1 + 1, len(year_df)):\n",
    "        movie_1 = year_df.iloc[idx_1]\n",
    "        movie_2 = year_df.iloc[idx_2]\n",
    "\n",
    "        if set(movie_1.genres).intersection(movie_2.genres):\n",
    "            genre_graph.add_edge(movie_1.wikipedia_id, movie_2.wikipedia_id)"
   ],
   "metadata": {
    "collapsed": false,
    "ExecuteTime": {
     "start_time": "2023-12-14T14:22:48.742565Z"
    }
   },
   "id": "ee9448e104d54085"
  },
  {
   "cell_type": "code",
   "execution_count": null,
   "outputs": [],
   "source": [
    "# use helper function to add main features and measures\n",
    "# rating, release year, name, wikipedia_id, betweenness, degree\n",
    "genre_graph = add_default_attributes(genre_graph, year_df)\n",
    "\n",
    "# adjusted node size \n",
    "adjusted_node_size = dict((key, value * 3.3) for key, value in nx.get_node_attributes(genre_graph, \"rating\").items())\n",
    "nx.set_node_attributes(genre_graph, name='adjusted_node_size', values=adjusted_node_size)\n",
    "\n",
    "mapping = dict((n, i) for i, n in enumerate(genre_graph.nodes))\n",
    "genre_graph = nx.relabel_nodes(genre_graph, mapping)"
   ],
   "metadata": {
    "collapsed": false,
    "ExecuteTime": {
     "start_time": "2023-12-14T14:22:48.747628Z"
    }
   },
   "id": "25e28b79027cb612"
  },
  {
   "cell_type": "code",
   "execution_count": null,
   "outputs": [],
   "source": [
    "layout = plot_bokeh_graph(genre_graph, color_attribute='log_betweenness', sizing_mode='stretch_width')\n",
    "from bokeh.plotting import output_file, save\n",
    "output_file('raw_genre_graph.html')\n",
    "save(layout)"
   ],
   "metadata": {
    "collapsed": false,
    "ExecuteTime": {
     "start_time": "2023-12-14T14:22:48.752990Z"
    }
   },
   "id": "1e1154e8eb658bd2"
  },
  {
   "cell_type": "code",
   "execution_count": null,
   "outputs": [],
   "source": [
    "log_betweenness = nx.get_node_attributes(genre_graph, 'log_betweenness')\n",
    "sns.histplot(log_betweenness.values())"
   ],
   "metadata": {
    "collapsed": false,
    "ExecuteTime": {
     "start_time": "2023-12-14T14:22:48.761577Z"
    }
   },
   "id": "33bf8ceac3fb4155"
  },
  {
   "cell_type": "code",
   "execution_count": null,
   "outputs": [],
   "source": [
    "betweenness = nx.get_node_attributes(genre_graph, 'betweenness')\n",
    "sns.histplot(betweenness.values())"
   ],
   "metadata": {
    "collapsed": false,
    "ExecuteTime": {
     "start_time": "2023-12-14T14:22:48.767687Z"
    }
   },
   "id": "76843fc84f1ea28"
  },
  {
   "cell_type": "code",
   "execution_count": null,
   "outputs": [],
   "source": [
    "bet = nx.get_node_attributes(G, 'degree')\n",
    "sns.histplot(bet)"
   ],
   "metadata": {
    "collapsed": false,
    "ExecuteTime": {
     "start_time": "2023-12-14T14:22:48.780242Z"
    }
   },
   "id": "fb545240055e3104"
  },
  {
   "cell_type": "code",
   "execution_count": null,
   "outputs": [],
   "source": [
    "kala = 1"
   ],
   "metadata": {
    "collapsed": false,
    "ExecuteTime": {
     "start_time": "2023-12-14T14:22:48.785504Z"
    }
   },
   "id": "6c756e2d208bd7d6"
  },
  {
   "cell_type": "markdown",
   "source": [
    "### 3.2.1 Raw Genres"
   ],
   "metadata": {
    "collapsed": false
   },
   "id": "765f56cf5ebeb1b1"
  },
  {
   "cell_type": "code",
   "execution_count": null,
   "outputs": [],
   "source": [
    "# Unique genres\n",
    "unique_genres = set(itertools.chain(*df.genres.tolist()))\n",
    "print(f'We have {len(unique_genres)} unique genres.')\n",
    "print(f'All genres: {unique_genres}')"
   ],
   "metadata": {
    "collapsed": false,
    "ExecuteTime": {
     "start_time": "2023-12-14T14:22:48.792922Z"
    }
   },
   "id": "35b26a890db2a48c"
  },
  {
   "cell_type": "markdown",
   "source": [
    "#### Excessive and Redundant Genres\n",
    "\n",
    "Our current dataset suffers from an overabundance of genres. Many of these, such as \"Black-and-white\" or \"Animation,\" do not directly relate to the plot but rather to the style or technique of the movie. The presence of subgenres like \"Romantic Drama\" complicates the genre landscape, as they often represent a mixture of primary genres, making it difficult to maintain clear distinctions."
   ],
   "metadata": {
    "collapsed": false
   },
   "id": "de9c077bc7bce0bd"
  },
  {
   "cell_type": "code",
   "execution_count": null,
   "outputs": [],
   "source": [
    "num_genres = df.genres.apply(lambda x: len(x)).rename('genre_count')\n",
    "ax = sns.histplot(data=num_genres, bins=np.arange(0, 16, 1))\n",
    "\n",
    "plt.xlabel('Genre count')\n",
    "plt.ylabel('Movie count')\n",
    "_ = plt.title('Number of movies by number of genres')"
   ],
   "metadata": {
    "collapsed": false,
    "ExecuteTime": {
     "start_time": "2023-12-14T14:22:48.797839Z"
    }
   },
   "id": "ebc24223d98f39be"
  },
  {
   "cell_type": "markdown",
   "source": [
    "#### Skewed Genre Distribution\n",
    "\n",
    "The genre distribution in our dataset is heavily skewed, with most movies categorized under 1-6 genres, while some have as many as 16 genres. This uneven distribution poses a challenge for consistent and meaningful genre analysis."
   ],
   "metadata": {
    "collapsed": false
   },
   "id": "5b0bf2bc76cdb207"
  },
  {
   "cell_type": "code",
   "execution_count": null,
   "outputs": [],
   "source": [
    "count_min = 1000\n",
    "genre_count = df.genres.explode().value_counts()\n",
    "popular_genres = genre_count[genre_count > count_min]\n",
    "\n",
    "# plot the count of each genre\n",
    "sns.barplot(x=popular_genres.index, y=popular_genres.values)\n",
    "\n",
    "plt.xticks(rotation=90)\n",
    "plt.xlabel('Genre')\n",
    "plt.ylabel('Number of movies')\n",
    "_ = plt.title('Number of movies by genre')"
   ],
   "metadata": {
    "collapsed": false,
    "ExecuteTime": {
     "start_time": "2023-12-14T14:22:48.803001Z"
    }
   },
   "id": "42f82781b1190015"
  },
  {
   "cell_type": "markdown",
   "source": [
    "#### Entanglement of Popular Genres\n",
    "\n",
    "Even among the most popular genres, we observe unnecessary entanglement. For instance, while \"Comedy\" and \"Drama\" are distinct in the emotions they evoke, genres like \"Science-Fiction\" or \"Crime\" often overlap with others such as \"Drama\" and \"Comedy,\" serving more as settings or themes rather than standalone genres."
   ],
   "metadata": {
    "collapsed": false
   },
   "id": "d2b941b800588b23"
  },
  {
   "cell_type": "markdown",
   "source": [
    "### 3.2.2 Proposed Genres\n",
    "\n",
    "#### Advantages of a New Genre System\n",
    "\n",
    "In addressing the challenges with our existing genre classification, the selective use of Large Language Models (LLMs) stands out as a particularly effective solution. By choosing specific genres for the LLM to focus on, we can bypass the issues of an overabundance of genres and the confusion caused by subgenres. This targeted approach enables the LLM to predict genre probabilities accurately based on movie plots, ensuring that the classification is both relevant and plot-centric. Moreover, it helps in normalizing the skewed distribution of genres in our dataset.\n",
    "\n",
    "#### Splitting Genres and Themes\n",
    "\n",
    "To enhance the accuracy of our movie classification, we've decided to differentiate between 'genres' and 'themes' for our model's predictions. This distinction allows us to capture both the emotional tone and the narrative setting of each movie more effectively.\n",
    "\n",
    "**Genres** are selected based on their association with specific emotions or feelings. Our chosen genres are:\n",
    "- Drama\n",
    "- Comedy\n",
    "- Action\n",
    "- Horror\n",
    "- Romance\n",
    "- Thriller\n",
    "- Adventure\n",
    "- Documentary\n",
    "\n",
    "**Themes**, on the other hand, are defined by their focus on particular settings or scenarios. The themes we include are:\n",
    "\n",
    "- Science-Fiction\n",
    "- Crime\n",
    "- Fantasy\n",
    "- War\n",
    "- Mystery\n",
    "- History\n",
    "- Western\n",
    "- Family\n",
    "\n",
    "This bifurcation into genres and themes aims to provide a more nuanced classification, recognizing that the emotional impact of a movie (genre) and its narrative backdrop (theme) are distinct yet equally important aspects of its identity.\n",
    "\n",
    "The split is also necessary from a model perspective because otherwise the model might be inclined to predict themes rather than genres as they are more related to the plot, which is the only input for the model."
   ],
   "metadata": {
    "collapsed": false
   },
   "id": "a77e56a4b312c5d3"
  },
  {
   "cell_type": "code",
   "execution_count": null,
   "outputs": [],
   "source": [
    "genre_labels = ['Drama', 'Comedy', 'Action', 'Horror', 'Romance', 'Thriller', 'Adventure', 'Documentary']\n",
    "theme_labels = ['Science-Fiction', 'Crime', 'Fantasy', 'War', 'Mystery', 'History', 'Western', 'Family']"
   ],
   "metadata": {
    "collapsed": false,
    "ExecuteTime": {
     "start_time": "2023-12-14T14:22:48.811811Z"
    }
   },
   "id": "c32aec2ecdbd697e"
  },
  {
   "cell_type": "code",
   "execution_count": null,
   "outputs": [],
   "source": [
    "probabilities = get_probabilities_from_json(2010)"
   ],
   "metadata": {
    "collapsed": false,
    "ExecuteTime": {
     "start_time": "2023-12-14T14:22:48.815175Z"
    }
   },
   "id": "3bd0efd7849185fb"
  },
  {
   "cell_type": "markdown",
   "source": [
    "To validate our assumption that separating genres and themes will enhance the model's performance, we've designed a classification experiment with a three-pronged approach. First, we classify movies using only genre labels to observe the probability distributions. Second, we repeat the process using only theme labels. Finally, we combine both genre and theme labels in the classification. Our comparison will focus on examining how the genre probability distributions in the first and third scenarios differ, as well as how the theme probability distributions in the second and third scenarios vary."
   ],
   "metadata": {
    "collapsed": false
   },
   "id": "e4c2d54d8c269e0"
  },
  {
   "cell_type": "code",
   "execution_count": null,
   "outputs": [],
   "source": [
    "n_rows = 2\n",
    "n_cols = 4\n",
    "\n",
    "fig, axes = plt.subplots(n_rows, n_cols, figsize=(20, 10))\n",
    "axes = axes.flatten()\n",
    "\n",
    "for i, genre in enumerate(genre_labels):\n",
    "\n",
    "    genre_probs = [probabilities[movie]['genres']['scores'][probabilities[movie]['genres']['labels'].index(genre)] for movie in probabilities.keys()]\n",
    "    full_probs = [probabilities[movie]['full']['scores'][probabilities[movie]['full']['labels'].index(genre)] for movie in probabilities.keys()]\n",
    "\n",
    "    sns.histplot(genre_probs, bins=np.arange(0, 1.05, 0.05), ax=axes[i], color='blue', label='genre', alpha=0.5)\n",
    "    sns.histplot(full_probs, bins=np.arange(0, 1.05, 0.05), ax=axes[i], color='red', label='genre+themes', alpha=0.5)\n",
    "    axes[i].set_title(f'Probability for {genre}')\n",
    "    axes[i].set_xlabel('Probability')\n",
    "    axes[i].set_ylabel('Movie count')\n",
    "    axes[i].legend()\n",
    "\n",
    "plt.tight_layout()\n",
    "plt.show()"
   ],
   "metadata": {
    "collapsed": false,
    "ExecuteTime": {
     "end_time": "2023-12-14T14:22:48.831150Z",
     "start_time": "2023-12-14T14:22:48.818603Z"
    }
   },
   "id": "4dc7c880f9340dba"
  },
  {
   "cell_type": "code",
   "execution_count": null,
   "outputs": [],
   "source": [
    "n_rows = 2\n",
    "n_cols = 4\n",
    "\n",
    "fig, axes = plt.subplots(n_rows, n_cols, figsize=(20, 10))\n",
    "axes = axes.flatten()\n",
    "\n",
    "for i, genre in enumerate(theme_labels):\n",
    "    theme_probs = [probabilities[movie]['themes']['scores'][probabilities[movie]['themes']['labels'].index(genre)] for movie in probabilities.keys()]\n",
    "    full_probs = [probabilities[movie]['full']['scores'][probabilities[movie]['full']['labels'].index(genre)] for movie in probabilities.keys()]\n",
    "\n",
    "    sns.histplot(theme_probs, bins=np.arange(0, 1.05, 0.05), ax=axes[i], color='blue', label='theme', alpha=0.5)\n",
    "    sns.histplot(full_probs, bins=np.arange(0, 1.05, 0.05), ax=axes[i], color='red', label='genre+themes', alpha=0.5)\n",
    "    axes[i].set_title(f'Probability for {genre}')\n",
    "    axes[i].set_xlabel('Probability')\n",
    "    axes[i].set_ylabel('Movie count')\n",
    "    axes[i].legend()\n",
    "\n",
    "plt.tight_layout()\n",
    "plt.show()"
   ],
   "metadata": {
    "collapsed": false,
    "ExecuteTime": {
     "start_time": "2023-12-14T14:22:48.825541Z"
    }
   },
   "id": "24e4100b25d51130"
  },
  {
   "cell_type": "code",
   "execution_count": null,
   "outputs": [],
   "source": [
    "# Let's compare the summed probabilities distribution of genres with those of themes in the same movie\n",
    "\n",
    "summed_genres = []\n",
    "summed_themes = []\n",
    "\n",
    "for movie_id in probabilities.keys():\n",
    "    summed_genres.append(sum([probabilities[movie_id]['full']['scores'][probabilities[movie_id]['full']['labels'].index(genre)] for genre in genre_labels]))\n",
    "    summed_themes.append(sum([probabilities[movie_id]['full']['scores'][probabilities[movie_id]['full']['labels'].index(theme)] for theme in theme_labels]))\n",
    "\n",
    "\n",
    "sns.histplot(summed_genres, bins=np.arange(0, 1.05, 0.05), color='blue', label='genre', alpha=0.5)\n",
    "sns.histplot(summed_themes, bins=np.arange(0, 1.05, 0.05), color='red', label='theme', alpha=0.5)\n",
    "plt.xlabel('Summed probability')\n",
    "plt.ylabel('Movie count')\n",
    "plt.title('Summed probabilities for genres and themes')\n",
    "plt.legend()"
   ],
   "metadata": {
    "collapsed": false,
    "ExecuteTime": {
     "start_time": "2023-12-14T14:22:48.828912Z"
    }
   },
   "id": "5faa7417290e0734"
  },
  {
   "cell_type": "markdown",
   "source": [
    "There will always be some sort of imbalance between the genres and the themes which should not appear as they are different dimensions of classifying a movie. However, when we are not splitting them the model will be more inclined to predict themes as they are more related to the plot, which is the only input for the model."
   ],
   "metadata": {
    "collapsed": false
   },
   "id": "e92d4c2c3dce807a"
  },
  {
   "cell_type": "markdown",
   "source": [
    "### 3.2.3 Graph Creation\n",
    "\n",
    "Now that we have the probabilities for each movie we can look at them as embeddings and use a similar approach as above in order to create the graph. We will create the similarity matrix and then use the threshold to create the graph. We will keep the 75th percentile of the similarities as the threshold."
   ],
   "metadata": {
    "collapsed": false
   },
   "id": "96e182670a44e7bc"
  },
  {
   "cell_type": "code",
   "execution_count": null,
   "outputs": [],
   "source": [
    "def embedding_split(movie):\n",
    "    labels = movie['genres']['labels'] + movie['themes']['labels']\n",
    "    scores = movie['genres']['scores'] + movie['themes']['scores']\n",
    "    \n",
    "    # sort the labels and reorder the scores accordingly\n",
    "    _, scores = zip(*sorted(zip(labels, scores)))\n",
    "    \n",
    "    # normalize the embedding\n",
    "    embedding = np.array(scores)\n",
    "    norm_embedding = embedding / np.linalg.norm(embedding)\n",
    "\n",
    "    return norm_embedding.squeeze()\n",
    "\n",
    "def embedding_full(movie):\n",
    "    labels = movie['full']['labels']\n",
    "    scores = movie['full']['scores']\n",
    "    \n",
    "    # sort the labels and reorder the scores accordingly\n",
    "    labels, scores = zip(*sorted(zip(labels, scores)))\n",
    "    return np.array(scores)"
   ],
   "metadata": {
    "collapsed": false,
    "ExecuteTime": {
     "end_time": "2023-12-14T14:22:48.918818Z",
     "start_time": "2023-12-14T14:22:48.832059Z"
    }
   },
   "id": "c31186881e25c51c"
  },
  {
   "cell_type": "code",
   "execution_count": null,
   "outputs": [],
   "source": [
    "def compute_similarity(probabilities, get_embedding):\n",
    "    similarity = {}\n",
    "\n",
    "    for movie_1, movie_2 in tqdm(itertools.combinations(probabilities.keys(), 2)):\n",
    "        embedding_1 = get_embedding(probabilities[movie_1])\n",
    "        embedding_2 = get_embedding(probabilities[movie_2])\n",
    "        similarity[(movie_1, movie_2)] = np.dot(embedding_1, embedding_2)\n",
    "\n",
    "    return similarity"
   ],
   "metadata": {
    "collapsed": false,
    "ExecuteTime": {
     "start_time": "2023-12-14T14:22:48.838624Z"
    }
   },
   "id": "96ddb78600e8df94"
  },
  {
   "cell_type": "code",
   "execution_count": null,
   "outputs": [],
   "source": [
    "# filter the similarity dictionary to contain only values from 2012\n",
    "wanted_ids = year_df.wikipedia_id.tolist()\n",
    "probabilities_2012 = {str(key): probabilities[str(key)] for key in wanted_ids}"
   ],
   "metadata": {
    "collapsed": false,
    "ExecuteTime": {
     "start_time": "2023-12-14T14:22:48.841932Z"
    }
   },
   "id": "60dbeb2e8f927cb7"
  },
  {
   "cell_type": "code",
   "execution_count": null,
   "outputs": [],
   "source": [
    "split_similarity = compute_similarity(probabilities_2012, embedding_split)\n",
    "full_similarity = compute_similarity(probabilities_2012, embedding_full)\n",
    "\n",
    "sns.histplot(list(split_similarity.values()), bins=np.arange(0, 1.05, 0.05), color='blue', label='split', alpha=0.5)\n",
    "sns.histplot(list(full_similarity.values()), bins=np.arange(0, 1.05, 0.05), color='red', label='full', alpha=0.5)\n",
    "plt.xlabel('Similarity')\n",
    "plt.ylabel('Movie count')\n",
    "plt.title('Similarity between movies based on genre and theme probabilities')\n",
    "plt.legend()"
   ],
   "metadata": {
    "collapsed": false,
    "ExecuteTime": {
     "start_time": "2023-12-14T14:22:48.845786Z"
    }
   },
   "id": "5a161198b6c26a7d"
  },
  {
   "cell_type": "markdown",
   "source": [
    "Here we see another motivation of splitting between genres and themes, as the similarity distribution is wider when we split the genres and the themes."
   ],
   "metadata": {
    "collapsed": false
   },
   "id": "eb5ae0401d6f4756"
  },
  {
   "cell_type": "code",
   "execution_count": null,
   "outputs": [],
   "source": [
    "descriptive_stats = pd.Series(list(split_similarity.values())).describe()\n",
    "similarity_threshold = descriptive_stats['75%']\n",
    "\n",
    "# generate nodes df and add all the pairs with similarity\n",
    "similarity_mat = [[key[0], key[1], value] for key, value in split_similarity.items()]\n",
    "nodes_df = pd.DataFrame(similarity_mat, columns=['Source', 'Target', 'Weight'])\n",
    "\n",
    "# filter based on 75th percentile\n",
    "nodes_df = nodes_df[nodes_df.Weight > similarity_threshold]\n",
    "\n",
    "genre_theme_graph = nx.from_pandas_edgelist(nodes_df, 'Source', 'Target', 'Weight')"
   ],
   "metadata": {
    "collapsed": false,
    "ExecuteTime": {
     "start_time": "2023-12-14T14:22:48.849229Z"
    }
   },
   "id": "f608cbf2fd920424"
  },
  {
   "cell_type": "code",
   "execution_count": null,
   "outputs": [],
   "source": [
    "# use helper function to add main features and measures\n",
    "# rating, release year, name, wikipedia_id, betweenness, degree\n",
    "genre_theme_graph = add_default_attributes(genre_theme_graph, year_df)\n",
    "\n",
    "# adjusted node size \n",
    "adjusted_node_size = dict((key, value * 3.3) for key, value in nx.get_node_attributes(genre_theme_graph, \"rating\").items())\n",
    "nx.set_node_attributes(genre_theme_graph, name='adjusted_node_size', values=adjusted_node_size)\n",
    "\n",
    "mapping = dict((n, i) for i, n in enumerate(genre_theme_graph.nodes))\n",
    "genre_theme_graph = nx.relabel_nodes(genre_theme_graph, mapping)"
   ],
   "metadata": {
    "collapsed": false,
    "ExecuteTime": {
     "start_time": "2023-12-14T14:22:48.856859Z"
    }
   },
   "id": "11fea86a266f6d18"
  },
  {
   "cell_type": "code",
   "execution_count": null,
   "outputs": [],
   "source": [
    "layout = plot_bokeh_graph(genre_theme_graph, color_attribute='log_betweenness', sizing_mode='stretch_width')\n",
    "from bokeh.plotting import output_file, save\n",
    "\n",
    "output_file('genre_theme_graph.html')\n",
    "save(layout)\n",
    "\n",
    "# show(layout)"
   ],
   "metadata": {
    "collapsed": false,
    "ExecuteTime": {
     "start_time": "2023-12-14T14:22:48.860215Z"
    }
   },
   "id": "7c98d7d3b5edd21e"
  },
  {
   "cell_type": "code",
   "execution_count": null,
   "outputs": [],
   "source": [
    "# Show the distribution of degrees\n",
    "sns.histplot(list(dict(genre_theme_graph.degree).values()))"
   ],
   "metadata": {
    "collapsed": false,
    "ExecuteTime": {
     "start_time": "2023-12-14T14:22:48.863438Z"
    }
   },
   "id": "18341323d958bb27"
  },
  {
   "cell_type": "markdown",
   "source": [
    "Based on the distribution of degrees of the graph we can assume a good graph that is quite connected but not too much, averaging around 30 degrees, but having quite a good variance and following more or less a normal distribution."
   ],
   "metadata": {
    "collapsed": false
   },
   "id": "3c986faca96510a3"
  },
  {
   "cell_type": "markdown",
   "source": [
    "Creating the graph based on the current genres by putting an edge between two movies if they share a genre ends up creating a good distribution of degrees, highly connected while still having a good variance."
   ],
   "metadata": {
    "collapsed": false
   },
   "id": "a9ebf7e69269619a"
  },
  {
   "cell_type": "markdown",
   "source": [
    "## 4. Correlation Analysis <a class=\"anchor\" id=\"correlation-analysis\"></a>\n",
    "\n",
    "TBD"
   ],
   "metadata": {
    "collapsed": false
   },
   "id": "7a5ddbfddb1d7e0c"
  },
  {
   "cell_type": "code",
   "execution_count": null,
   "outputs": [],
   "source": [
    "decades = [1920, 1930, 1940, 1950, 1960, 1970, 1980, 1990, 2000, 2010]\n",
    "\n",
    "dfs = {}  # Dictionary to store the dataframes\n",
    "\n",
    "for decade in decades:\n",
    "    G = get_graph_from_pickle(decade)\n",
    "    df_year = merge_graph_to_df(df.set_index('wikipedia_id'), G) \n",
    "    dfs[decade] = df_year"
   ],
   "metadata": {
    "collapsed": false,
    "ExecuteTime": {
     "start_time": "2023-12-14T14:22:48.866584Z"
    }
   },
   "id": "a4363fe381cb26e3"
  },
  {
   "cell_type": "code",
   "execution_count": null,
   "outputs": [],
   "source": [
    "# scipy.stats.pearsonr\n",
    "correlation_df = pd.DataFrame(columns=['degree', 'betweenness'])\n",
    "\n",
    "for year, df_ in dfs.items():\n",
    "    corr_b = df_['rating'].corr(df_['betweenness'])\n",
    "    corr_d = df_['rating'].corr(df_['degree'])\n",
    "    correlation_df.loc[year] = [corr_d, corr_b]\n",
    "\n",
    "correlation_df"
   ],
   "metadata": {
    "collapsed": false,
    "ExecuteTime": {
     "start_time": "2023-12-14T14:22:48.872869Z"
    }
   },
   "id": "55e6528df625ce58"
  },
  {
   "cell_type": "code",
   "execution_count": null,
   "outputs": [],
   "source": [
    "fig, axs = plt.subplots(2, 5, figsize=(14, 7))\n",
    "\n",
    "decades_as_plot = np.array(decades).reshape(2, 5)\n",
    "for (row, col), decade in np.ndenumerate(decades_as_plot):\n",
    "    sns.regplot(\n",
    "        dfs[decade]['degree'], dfs[decade]['rating'], \n",
    "        scatter_kws={'alpha': 0.2}, line_kws={'color': \"r\"}, ax=axs[row][col]\n",
    "    )\n",
    "    axs[row][col].set_title(str(decade))\n",
    "    \n",
    "fig.suptitle('Correlation Analysis with Regression Line')\n",
    "plt.tight_layout();"
   ],
   "metadata": {
    "collapsed": false,
    "ExecuteTime": {
     "start_time": "2023-12-14T14:22:48.875881Z"
    }
   },
   "id": "5f61d2f5f1758d84"
  },
  {
   "cell_type": "markdown",
   "source": [
    "## Summary  <a class=\"anchor\" id=\"summary\"></a>\n",
    "\n",
    "TBD"
   ],
   "metadata": {
    "collapsed": false
   },
   "id": "94333fa984218db6"
  },
  {
   "cell_type": "code",
   "execution_count": null,
   "outputs": [],
   "source": [
    "df.head()"
   ],
   "metadata": {
    "collapsed": false,
    "ExecuteTime": {
     "start_time": "2023-12-14T14:22:48.879211Z"
    }
   },
   "id": "c0c85f1924291542"
  },
  {
   "cell_type": "code",
   "execution_count": null,
   "outputs": [],
   "source": [
    "def is_in_list(value: str):\n",
    "    return pd.Series({category: 1 for category in value})"
   ],
   "metadata": {
    "collapsed": false,
    "ExecuteTime": {
     "start_time": "2023-12-14T14:22:48.882340Z"
    }
   },
   "id": "a5ddff3ad280aafa"
  },
  {
   "cell_type": "code",
   "execution_count": null,
   "outputs": [],
   "source": [
    "keep_cols = ['rating', 'num_votes', 'degree']\n",
    "\n",
    "p_corr_res_df = pd.DataFrame(columns=['n', 'r', 'CI95%', 'p-val'])\n",
    "\n",
    "for decade in decades:\n",
    "    \n",
    "    G = get_graph_from_pickle(decade)\n",
    "    df_dec = merge_graph_to_df(df.set_index('wikipedia_id'), G) \n",
    "    \n",
    "    country_dummies = df_dec['countries'].apply(is_in_list).fillna(0, downcast='int')\n",
    "    genre_dummies = df_dec['genres'].apply(is_in_list).fillna(0, downcast='int')\n",
    "    \n",
    "    partial_corr_df = pd.concat([df_dec[keep_cols], country_dummies, genre_dummies], axis=1)\n",
    "    \n",
    "    covar_cols = partial_corr_df.columns.tolist()\n",
    "    covar_cols.remove('degree')\n",
    "    covar_cols.remove('rating')\n",
    "    \n",
    "    res = pg.partial_corr(data=partial_corr_df, x='degree', y='rating', covar=covar_cols).round(3)\n",
    "    \n",
    "    p_corr_res_df.loc[decade] = res.iloc[0]"
   ],
   "metadata": {
    "collapsed": false,
    "ExecuteTime": {
     "start_time": "2023-12-14T14:22:48.888231Z"
    }
   },
   "id": "6aae666b46ea98fd"
  },
  {
   "cell_type": "code",
   "execution_count": null,
   "outputs": [],
   "source": [
    "p_corr_res_df"
   ],
   "metadata": {
    "collapsed": false,
    "ExecuteTime": {
     "start_time": "2023-12-14T14:22:48.891815Z"
    }
   },
   "id": "950aa133cba40190"
  },
  {
   "cell_type": "code",
   "execution_count": null,
   "outputs": [],
   "source": [
    "from bokeh.models import ColumnDataSource\n",
    "from bokeh.io import show\n",
    "from bokeh.models.widgets import DataTable, TableColumn\n",
    "\n",
    "# Example data\n",
    "data = {'Header1': ['A', 'B', 'C'],\n",
    "        'Header2': ['D', 'E', 'F'],\n",
    "        'Value': [1, 2, 3]}\n",
    "\n",
    "source = ColumnDataSource(data)\n",
    "\n",
    "# Create columns\n",
    "columns = [\n",
    "    TableColumn(field='Header1', title='Header1'),\n",
    "    TableColumn(field='Header2', title='Header2'),\n",
    "    TableColumn(field='Value', title='Value')\n",
    "]\n",
    "\n",
    "# Create DataTable\n",
    "data_table = DataTable(source=source, columns=columns, width=400, height=400)\n",
    "\n",
    "# Show the DataTable\n",
    "show(data_table)"
   ],
   "metadata": {
    "collapsed": false,
    "ExecuteTime": {
     "start_time": "2023-12-14T14:22:48.895104Z"
    }
   },
   "id": "2cbde0bfe59226fe"
  },
  {
   "cell_type": "code",
   "execution_count": null,
   "outputs": [],
   "source": [],
   "metadata": {
    "collapsed": false,
    "ExecuteTime": {
     "start_time": "2023-12-14T14:22:48.898196Z"
    }
   },
   "id": "c8f913684e25c8d7"
  }
 ],
 "metadata": {
  "kernelspec": {
   "display_name": "Python 3 (ipykernel)",
   "language": "python",
   "name": "python3"
  },
  "language_info": {
   "codemirror_mode": {
    "name": "ipython",
    "version": 3
   },
   "file_extension": ".py",
   "mimetype": "text/x-python",
   "name": "python",
   "nbconvert_exporter": "python",
   "pygments_lexer": "ipython3",
   "version": "3.9.18"
  }
 },
 "nbformat": 4,
 "nbformat_minor": 5
}
