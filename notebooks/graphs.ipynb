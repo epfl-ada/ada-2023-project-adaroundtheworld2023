{
 "cells": [
  {
   "cell_type": "markdown",
   "id": "55c4ea2fe38b7eed",
   "metadata": {
    "collapsed": false
   },
   "source": [
    "# Network Graphs\n",
    "\n",
    "The aim of this notebook is to generate graphs based do two different approaches:\n",
    "\n",
    "1. **embedding approach**: we used e5-large model to generate embeddings of size 1024 from plots (see [embeddings.ipynb](embeddings.ipynb)), calculated similarities (see [similarities.ipynb](similarities.ipynb)) and based on similarities generate graphs;\n",
    "2. **genre approach**: we picked genres and themes and let bart-large model to predict the probabilities of belonging to a genre/theme (see [embeddings.ipynb](embeddings.ipynb)) and calculated once again similarities (see [similarities.ipynb](similarities.ipynb)).\n",
    "3. **raw genres approach**: we create the graph based on the already defined genres of the movies, an edge is created if two movies share the same genre."
   ]
  },
  {
   "cell_type": "markdown",
   "id": "516ca5b601698afc",
   "metadata": {
    "collapsed": false
   },
   "source": [
    "## Imports"
   ]
  },
  {
   "cell_type": "code",
   "execution_count": 12,
   "id": "358d9f50bf8f9d28",
   "metadata": {
    "ExecuteTime": {
     "end_time": "2023-12-05T15:17:12.547072Z",
     "start_time": "2023-12-05T15:17:12.098866Z"
    },
    "collapsed": false
   },
   "outputs": [],
   "source": [
    "import itertools\n",
    "import pickle\n",
    "\n",
    "import pandas as pd\n",
    "import networkx as nx\n",
    "\n",
    "import ast\n",
    "import math\n",
    "\n",
    "import os\n",
    "import sys\n",
    "sys.path.append(os.path.abspath('..'))\n",
    "\n",
    "from scripts.helpers import get_similarities_from_json"
   ]
  },
  {
   "cell_type": "markdown",
   "id": "1579976c03487cc5",
   "metadata": {
    "collapsed": false
   },
   "source": [
    "## Prepare the Data"
   ]
  },
  {
   "cell_type": "code",
   "execution_count": 2,
   "id": "6d566ab5f732f313",
   "metadata": {
    "ExecuteTime": {
     "end_time": "2023-12-05T15:17:13.421634Z",
     "start_time": "2023-12-05T15:17:12.550107Z"
    },
    "collapsed": false
   },
   "outputs": [
    {
     "name": "stdout",
     "output_type": "stream",
     "text": [
      "(22394, 9)\n"
     ]
    },
    {
     "data": {
      "text/html": [
       "<div>\n",
       "<style scoped>\n",
       "    .dataframe tbody tr th:only-of-type {\n",
       "        vertical-align: middle;\n",
       "    }\n",
       "\n",
       "    .dataframe tbody tr th {\n",
       "        vertical-align: top;\n",
       "    }\n",
       "\n",
       "    .dataframe thead th {\n",
       "        text-align: right;\n",
       "    }\n",
       "</style>\n",
       "<table border=\"1\" class=\"dataframe\">\n",
       "  <thead>\n",
       "    <tr style=\"text-align: right;\">\n",
       "      <th></th>\n",
       "      <th>name</th>\n",
       "      <th>release_year</th>\n",
       "      <th>rating</th>\n",
       "      <th>num_votes</th>\n",
       "      <th>plot</th>\n",
       "      <th>freebase_id</th>\n",
       "      <th>languages</th>\n",
       "      <th>countries</th>\n",
       "      <th>genres</th>\n",
       "    </tr>\n",
       "    <tr>\n",
       "      <th>wikipedia_id</th>\n",
       "      <th></th>\n",
       "      <th></th>\n",
       "      <th></th>\n",
       "      <th></th>\n",
       "      <th></th>\n",
       "      <th></th>\n",
       "      <th></th>\n",
       "      <th></th>\n",
       "      <th></th>\n",
       "    </tr>\n",
       "  </thead>\n",
       "  <tbody>\n",
       "    <tr>\n",
       "      <th>10109752</th>\n",
       "      <td>Miss Jerry</td>\n",
       "      <td>1894.0</td>\n",
       "      <td>5.3</td>\n",
       "      <td>207</td>\n",
       "      <td>After finding out that her father is suffering...</td>\n",
       "      <td>/m/02q23xk</td>\n",
       "      <td>['Silent film']</td>\n",
       "      <td>['United States of America']</td>\n",
       "      <td>['Short Film', 'Silent film', 'Indie', 'Black-...</td>\n",
       "    </tr>\n",
       "    <tr>\n",
       "      <th>28703057</th>\n",
       "      <td>The Corbett-Fitzsimmons Fight</td>\n",
       "      <td>1897.0</td>\n",
       "      <td>5.3</td>\n",
       "      <td>484</td>\n",
       "      <td>The film no longer exists in its entirety; how...</td>\n",
       "      <td>/m/0czdh_n</td>\n",
       "      <td>[]</td>\n",
       "      <td>[]</td>\n",
       "      <td>['Sports']</td>\n",
       "    </tr>\n",
       "    <tr>\n",
       "      <th>142995</th>\n",
       "      <td>The Story of the Kelly Gang</td>\n",
       "      <td>1906.0</td>\n",
       "      <td>6.0</td>\n",
       "      <td>855</td>\n",
       "      <td>The Story of the Kelly Gangs tone is of sorrow...</td>\n",
       "      <td>/m/0120y4</td>\n",
       "      <td>['English Language']</td>\n",
       "      <td>['Australia']</td>\n",
       "      <td>['Crime Fiction', 'Silent film', 'Biography', ...</td>\n",
       "    </tr>\n",
       "    <tr>\n",
       "      <th>32986669</th>\n",
       "      <td>Robbery Under Arms</td>\n",
       "      <td>1907.0</td>\n",
       "      <td>4.3</td>\n",
       "      <td>25</td>\n",
       "      <td>Key scenes of the film included the branding o...</td>\n",
       "      <td>/m/04p7yxx</td>\n",
       "      <td>['Silent film']</td>\n",
       "      <td>['Australia']</td>\n",
       "      <td>['Silent film', 'Drama']</td>\n",
       "    </tr>\n",
       "    <tr>\n",
       "      <th>32987200</th>\n",
       "      <td>Captain Midnight, the Bush King</td>\n",
       "      <td>1911.0</td>\n",
       "      <td>5.4</td>\n",
       "      <td>18</td>\n",
       "      <td>Edgar Dalimore is the son of wealthy station o...</td>\n",
       "      <td>/m/0h569x9</td>\n",
       "      <td>['Silent film']</td>\n",
       "      <td>[]</td>\n",
       "      <td>['Silent film']</td>\n",
       "    </tr>\n",
       "  </tbody>\n",
       "</table>\n",
       "</div>"
      ],
      "text/plain": [
       "                                         name  release_year  rating  \\\n",
       "wikipedia_id                                                          \n",
       "10109752                           Miss Jerry        1894.0     5.3   \n",
       "28703057        The Corbett-Fitzsimmons Fight        1897.0     5.3   \n",
       "142995            The Story of the Kelly Gang        1906.0     6.0   \n",
       "32986669                   Robbery Under Arms        1907.0     4.3   \n",
       "32987200      Captain Midnight, the Bush King        1911.0     5.4   \n",
       "\n",
       "              num_votes                                               plot  \\\n",
       "wikipedia_id                                                                 \n",
       "10109752            207  After finding out that her father is suffering...   \n",
       "28703057            484  The film no longer exists in its entirety; how...   \n",
       "142995              855  The Story of the Kelly Gangs tone is of sorrow...   \n",
       "32986669             25  Key scenes of the film included the branding o...   \n",
       "32987200             18  Edgar Dalimore is the son of wealthy station o...   \n",
       "\n",
       "             freebase_id             languages                     countries  \\\n",
       "wikipedia_id                                                                   \n",
       "10109752      /m/02q23xk       ['Silent film']  ['United States of America']   \n",
       "28703057      /m/0czdh_n                    []                            []   \n",
       "142995         /m/0120y4  ['English Language']                 ['Australia']   \n",
       "32986669      /m/04p7yxx       ['Silent film']                 ['Australia']   \n",
       "32987200      /m/0h569x9       ['Silent film']                            []   \n",
       "\n",
       "                                                         genres  \n",
       "wikipedia_id                                                     \n",
       "10109752      ['Short Film', 'Silent film', 'Indie', 'Black-...  \n",
       "28703057                                             ['Sports']  \n",
       "142995        ['Crime Fiction', 'Silent film', 'Biography', ...  \n",
       "32986669                               ['Silent film', 'Drama']  \n",
       "32987200                                        ['Silent film']  "
      ]
     },
     "execution_count": 2,
     "metadata": {},
     "output_type": "execute_result"
    }
   ],
   "source": [
    "# get the processed df\n",
    "df = pd.read_csv('../data/processed/preprocessed.csv', index_col=0)\n",
    "df.set_index('wikipedia_id', inplace=True)\n",
    "print(df.shape)\n",
    "df.head(5)"
   ]
  },
  {
   "cell_type": "markdown",
   "id": "49a9c1e9c8484951",
   "metadata": {
    "collapsed": false
   },
   "source": [
    "## Embedding Approach"
   ]
  },
  {
   "cell_type": "code",
   "execution_count": 3,
   "id": "2c3276f2a43ab539",
   "metadata": {
    "ExecuteTime": {
     "end_time": "2023-12-05T15:17:13.674728Z",
     "start_time": "2023-12-05T15:17:13.418342Z"
    },
    "collapsed": false
   },
   "outputs": [],
   "source": [
    "DECADE = 1920  # the decade we're interested in\n",
    "\n",
    "# get the similarities as dict and extract list of unique movies\n",
    "similarity_dict = get_similarities_from_json(DECADE)\n",
    "movies = list(set(itertools.chain(*similarity_dict.keys())))"
   ]
  },
  {
   "cell_type": "code",
   "execution_count": 4,
   "id": "3bb2eec15978f4a3",
   "metadata": {
    "ExecuteTime": {
     "end_time": "2023-12-05T15:17:14.031744Z",
     "start_time": "2023-12-05T15:17:13.676761Z"
    },
    "collapsed": false
   },
   "outputs": [
    {
     "data": {
      "image/png": "[encoded data removed]",
      "text/plain": [
       "<Figure size 640x480 with 1 Axes>"
      ]
     },
     "metadata": {},
     "output_type": "display_data"
    }
   ],
   "source": [
    "# check the distribution of similarity values\n",
    "similarity_values = list(similarity_dict.values())\n",
    "_ = pd.Series(similarity_values).plot.hist(bins=50, title='Distribution of similarity values')"
   ]
  },
  {
   "cell_type": "code",
   "execution_count": 5,
   "id": "2c8abe1c144c71c6",
   "metadata": {
    "ExecuteTime": {
     "end_time": "2023-12-05T15:17:14.111819Z",
     "start_time": "2023-12-05T15:17:14.042632Z"
    },
    "collapsed": false
   },
   "outputs": [
    {
     "data": {
      "text/plain": [
       "count    85078.000000\n",
       "mean         0.734374\n",
       "std          0.013782\n",
       "min          0.659927\n",
       "25%          0.725649\n",
       "50%          0.734179\n",
       "75%          0.742603\n",
       "max          0.851925\n",
       "dtype: float64"
      ]
     },
     "execution_count": 5,
     "metadata": {},
     "output_type": "execute_result"
    }
   ],
   "source": [
    "# show descriptive statistics\n",
    "descriptive_stats = pd.Series(similarity_values).describe()\n",
    "descriptive_stats"
   ]
  },
  {
   "cell_type": "markdown",
   "id": "6ee1767b393c2e11",
   "metadata": {
    "collapsed": false
   },
   "source": [
    "75th percentile of the similarities will be used as the threshold for creating an edge between the nodes."
   ]
  },
  {
   "cell_type": "code",
   "execution_count": 6,
   "id": "9692348c224d90a7",
   "metadata": {
    "ExecuteTime": {
     "end_time": "2023-12-05T15:17:14.321401Z",
     "start_time": "2023-12-05T15:17:14.222106Z"
    },
    "collapsed": false
   },
   "outputs": [],
   "source": [
    "similarity_threshold = descriptive_stats['75%'] \n",
    "\n",
    "# generate nodes df and add all the pairs with similarity\n",
    "similarity_mat = [[key[0], key[1], value] for key, value in similarity_dict.items()]\n",
    "nodes_df = pd.DataFrame(similarity_mat, columns=['Source', 'Target', 'Weight']) \n",
    "\n",
    "# filter based on 75th percentile\n",
    "nodes_df = nodes_df[nodes_df.Weight > similarity_threshold]\n",
    "\n",
    "G = nx.from_pandas_edgelist(nodes_df, 'Source', 'Target', 'Weight')"
   ]
  },
  {
   "cell_type": "code",
   "execution_count": 7,
   "id": "1f26cacdafa8f04e",
   "metadata": {
    "ExecuteTime": {
     "end_time": "2023-12-05T15:17:14.334850Z",
     "start_time": "2023-12-05T15:17:14.322223Z"
    },
    "collapsed": false
   },
   "outputs": [
    {
     "data": {
      "text/plain": [
       "(407, 21270)"
      ]
     },
     "execution_count": 7,
     "metadata": {},
     "output_type": "execute_result"
    }
   ],
   "source": [
    "G.number_of_nodes(), G.number_of_edges()"
   ]
  },
  {
   "cell_type": "markdown",
   "id": "7160dc7b221b66ae",
   "metadata": {
    "collapsed": false
   },
   "source": [
    "For the analysis, we need betweenness and degree, plus few other attributes will be added to the graph."
   ]
  },
  {
   "cell_type": "code",
   "execution_count": 13,
   "id": "d3392580",
   "metadata": {},
   "outputs": [],
   "source": [
    "def complete_graph(G, df):\n",
    "    # add name as an attribute\n",
    "    names = dict((id_, df.loc[int(id_)]['name']) for id_ in G.nodes)\n",
    "    nx.set_node_attributes(G, name='name', values=names)\n",
    "\n",
    "    # add wikipedia id as an attribute\n",
    "    names = dict((id_, int(id_)) for id_ in G.nodes)\n",
    "    nx.set_node_attributes(G, name='wikipedia_id', values=names)\n",
    "\n",
    "    # calculate the betweenness centrality\n",
    "    betweenness = nx.betweenness_centrality(G)\n",
    "    nx.set_node_attributes(G, name='betweenness', values=betweenness)\n",
    "\n",
    "    # calculate the log betweenness centrality\n",
    "    log_betweenness = {node: math.log(centrality + 1e-5) for node, centrality in betweenness.items()}\n",
    "    nx.set_node_attributes(G, name='log_betweenness', values=log_betweenness)\n",
    "\n",
    "    # calculate degree for each node\n",
    "    degrees = dict(nx.degree(G))\n",
    "    nx.set_node_attributes(G, name='degree', values=degrees)\n",
    "\n",
    "    # add movie rating\n",
    "    ratings_dict = dict((id_, df.loc[int(id_)]['rating']) for id_ in G.nodes)\n",
    "    nx.set_node_attributes(G, name='rating', values=ratings_dict)\n",
    "\n",
    "    # add release year\n",
    "    date_dict = dict((id_, df.loc[int(id_)]['release_year']) for id_ in G.nodes)\n",
    "    nx.set_node_attributes(G, name=\"release_year\", values=date_dict)\n",
    "\n",
    "# Add the necessary attributes to the graph\n",
    "complete_graph(G, df)"
   ]
  },
  {
   "cell_type": "markdown",
   "id": "4b39e132da464d93",
   "metadata": {
    "collapsed": false
   },
   "source": [
    "Save the graph with all the necessary attributes to pickle"
   ]
  },
  {
   "cell_type": "code",
   "execution_count": 14,
   "id": "bd473b1cb5cd4157",
   "metadata": {
    "ExecuteTime": {
     "end_time": "2023-12-05T15:17:18.669528Z",
     "start_time": "2023-12-05T15:17:18.657236Z"
    },
    "collapsed": false
   },
   "outputs": [],
   "source": [
    "with open(f'../data/graphs/embedding/{DECADE}s.gpickle', 'wb') as f:\n",
    "    pickle.dump(G, f, pickle.HIGHEST_PROTOCOL)"
   ]
  },
  {
   "cell_type": "markdown",
   "id": "94ca92c3bb2bab1e",
   "metadata": {
    "collapsed": false
   },
   "source": [
    "## Genre Approach\n",
    "\n",
    "As we've previously computed the embeddings and the similarities for the genre approach, computing the graph has the same approach."
   ]
  },
  {
   "cell_type": "code",
   "execution_count": 4,
   "id": "c36d9932ff177870",
   "metadata": {
    "collapsed": false
   },
   "outputs": [],
   "source": [
    "DECADE = 1920  # the decade we're interested in\n",
    "\n",
    "# get the similarities as dict and extract list of unique movies\n",
    "similarity_dict = get_similarities_from_json(DECADE, approach='custom_genres')\n",
    "movies = list(set(itertools.chain(*similarity_dict.keys())))"
   ]
  },
  {
   "cell_type": "code",
   "execution_count": 5,
   "id": "9fcbc549",
   "metadata": {},
   "outputs": [
    {
     "data": {
      "image/png": "[encoded data removed]",
      "text/plain": [
       "<Figure size 640x480 with 1 Axes>"
      ]
     },
     "metadata": {},
     "output_type": "display_data"
    }
   ],
   "source": [
    "# check the distribution of similarity values\n",
    "similarity_values = list(similarity_dict.values())\n",
    "_ = pd.Series(similarity_values).plot.hist(bins=50, title='Distribution of similarity values')"
   ]
  },
  {
   "cell_type": "code",
   "execution_count": 6,
   "id": "e8df4372",
   "metadata": {},
   "outputs": [
    {
     "data": {
      "text/plain": [
       "count    85078.000000\n",
       "mean         0.743754\n",
       "std          0.173489\n",
       "min          0.071879\n",
       "25%          0.641983\n",
       "50%          0.786115\n",
       "75%          0.881243\n",
       "max          0.997671\n",
       "dtype: float64"
      ]
     },
     "execution_count": 6,
     "metadata": {},
     "output_type": "execute_result"
    }
   ],
   "source": [
    "# show descriptive statistics\n",
    "descriptive_stats = pd.Series(similarity_values).describe()\n",
    "descriptive_stats"
   ]
  },
  {
   "cell_type": "code",
   "execution_count": 7,
   "id": "9529b454",
   "metadata": {},
   "outputs": [],
   "source": [
    "similarity_threshold = descriptive_stats['75%'] \n",
    "\n",
    "# generate nodes df and add all the pairs with similarity\n",
    "similarity_mat = [[key[0], key[1], value] for key, value in similarity_dict.items()]\n",
    "nodes_df = pd.DataFrame(similarity_mat, columns=['Source', 'Target', 'Weight']) \n",
    "\n",
    "# filter based on 75th percentile\n",
    "nodes_df = nodes_df[nodes_df.Weight > similarity_threshold]\n",
    "\n",
    "G = nx.from_pandas_edgelist(nodes_df, 'Source', 'Target', 'Weight')"
   ]
  },
  {
   "cell_type": "code",
   "execution_count": 8,
   "id": "4ad24e2c",
   "metadata": {},
   "outputs": [
    {
     "data": {
      "text/plain": [
       "(410, 21270)"
      ]
     },
     "execution_count": 8,
     "metadata": {},
     "output_type": "execute_result"
    }
   ],
   "source": [
    "G.number_of_nodes(), G.number_of_edges()"
   ]
  },
  {
   "cell_type": "code",
   "execution_count": null,
   "id": "4743e58b",
   "metadata": {},
   "outputs": [],
   "source": [
    "# Add the necessary attributes to the graph\n",
    "complete_graph(G, df)"
   ]
  },
  {
   "cell_type": "markdown",
   "id": "6194316f",
   "metadata": {},
   "source": [
    "Save the graph with all the necessary attributes to pickle"
   ]
  },
  {
   "cell_type": "code",
   "execution_count": null,
   "id": "c7fdbc79",
   "metadata": {},
   "outputs": [],
   "source": [
    "with open(f'../data/graphs/embedding/{DECADE}s.gpickle', 'wb') as f:\n",
    "    pickle.dump(G, f, pickle.HIGHEST_PROTOCOL)"
   ]
  },
  {
   "cell_type": "markdown",
   "id": "ef4a6452",
   "metadata": {},
   "source": [
    "## Raw Genres Approach\n",
    "\n",
    "We make a list for each genres with all the movies having that genre, then we create an edge between each pair of movies that share at least one genre by connecting each movie in the list to all the other movies in the list."
   ]
  },
  {
   "cell_type": "code",
   "execution_count": 10,
   "id": "a26ad827",
   "metadata": {},
   "outputs": [],
   "source": [
    "# Pandas stores lists as strings, so we need to convert it back to list\n",
    "df['genres'] = df['genres'].apply(ast.literal_eval)"
   ]
  },
  {
   "cell_type": "code",
   "execution_count": null,
   "id": "a2e2c21e",
   "metadata": {},
   "outputs": [],
   "source": [
    "for decade in range(1910, 2020, 10):\n",
    "  print(f'Solving for decade: {decade}')\n",
    "  decade_df = df[(df.release_year >= decade) & (df.release_year < decade + 10)].copy()\n",
    "\n",
    "  G = nx.Graph()\n",
    "\n",
    "  # Create a dictionary to hold movies by genre\n",
    "  genre_dict = {}\n",
    "\n",
    "  # Iterate over each movie and add it to the genre dictionary\n",
    "  for idx, row in decade_df.iterrows():\n",
    "      for genre in row['genres']:\n",
    "          if genre not in genre_dict:\n",
    "              genre_dict[genre] = []\n",
    "          genre_dict[genre].append(row.name)\n",
    "\n",
    "  # Now create edges between movies with shared genres\n",
    "  for genre, movies in genre_dict.items():\n",
    "      # itertools.combinations creates all unique pairs\n",
    "      for movie_1, movie_2 in itertools.combinations(movies, 2):\n",
    "          G.add_edge(movie_1, movie_2)\n",
    "\n",
    "  print(f'Created graph with {G.number_of_nodes()} nodes and {G.number_of_edges()} edges')\n",
    "\n",
    "  # Add the necessary attributes to the graph\n",
    "  complete_graph(G, df)\n",
    "\n",
    "  # Show the degree distribution\n",
    "  degrees = [G.degree(n) for n in G.nodes()]\n",
    "  plt.hist(degrees, bins=100)\n",
    "  plt.title(f\"Degree distribution for {decade}s\")\n",
    "\n",
    "  print(f\"Number of nodes: {len(G.nodes())}\")\n",
    "\n",
    "  with open(f'data/raw/graphs/{decade}s.gpickle', 'wb') as f:\n",
    "    pickle.dump(G, f, pickle.HIGHEST_PROTOCOL)\n",
    "\n",
    "  del G # free up memory faster so that there aren't issues with Colab"
   ]
  }
 ],
 "metadata": {
  "kernelspec": {
   "display_name": "Python 3",
   "language": "python",
   "name": "python3"
  },
  "language_info": {
   "codemirror_mode": {
    "name": "ipython",
    "version": 3
   },
   "file_extension": ".py",
   "mimetype": "text/x-python",
   "name": "python",
   "nbconvert_exporter": "python",
   "pygments_lexer": "ipython3",
   "version": "3.9.18"
  }
 },
 "nbformat": 4,
 "nbformat_minor": 5
}
