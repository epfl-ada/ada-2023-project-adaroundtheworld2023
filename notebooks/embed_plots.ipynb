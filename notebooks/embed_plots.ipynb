{
 "cells": [
  {
   "cell_type": "markdown",
   "source": [
    "# Embedding all the Plots\n",
    "\n",
    "The goal for this notebook is to set up the pipeline for getting for embedding all of the movie plots."
   ],
   "metadata": {
    "collapsed": false
   },
   "id": "ba42346f1e2629e9"
  },
  {
   "cell_type": "markdown",
   "source": [
    "## Imports"
   ],
   "metadata": {
    "collapsed": false
   },
   "id": "8dd19260a113b50e"
  },
  {
   "cell_type": "code",
   "execution_count": 9,
   "id": "initial_id",
   "metadata": {
    "collapsed": true,
    "ExecuteTime": {
     "end_time": "2023-11-12T13:46:03.515962Z",
     "start_time": "2023-11-12T13:46:03.500575Z"
    }
   },
   "outputs": [],
   "source": [
    "import json\n",
    "import pandas as pd\n",
    "from sentence_transformers import SentenceTransformer\n",
    "from scripts.helpers import get_embedding"
   ]
  },
  {
   "cell_type": "markdown",
   "source": [
    "## Data"
   ],
   "metadata": {
    "collapsed": false
   },
   "id": "c532f76d6d88c42c"
  },
  {
   "cell_type": "code",
   "execution_count": 25,
   "outputs": [
    {
     "name": "stdout",
     "output_type": "stream",
     "text": [
      "(22394, 10)\n"
     ]
    },
    {
     "data": {
      "text/plain": "                              name  release_year  rating  num_votes  \\\n0                       Miss Jerry        1894.0     5.3        207   \n1    The Corbett-Fitzsimmons Fight        1897.0     5.3        484   \n2      The Story of the Kelly Gang        1906.0     6.0        855   \n3               Robbery Under Arms        1907.0     4.3         25   \n4  Captain Midnight, the Bush King        1911.0     5.4         18   \n\n   wikipedia_id                                               plot  \\\n0      10109752  After finding out that her father is suffering...   \n1      28703057  The film no longer exists in its entirety; how...   \n2        142995  The Story of the Kelly Gangs tone is of sorrow...   \n3      32986669  Key scenes of the film included the branding o...   \n4      32987200  Edgar Dalimore is the son of wealthy station o...   \n\n  freebase_id             languages                     countries  \\\n0  /m/02q23xk       ['Silent film']  ['United States of America']   \n1  /m/0czdh_n                    []                            []   \n2   /m/0120y4  ['English Language']                 ['Australia']   \n3  /m/04p7yxx       ['Silent film']                 ['Australia']   \n4  /m/0h569x9       ['Silent film']                            []   \n\n                                              genres  \n0  ['Short Film', 'Silent film', 'Indie', 'Black-...  \n1                                         ['Sports']  \n2  ['Crime Fiction', 'Silent film', 'Biography', ...  \n3                           ['Silent film', 'Drama']  \n4                                    ['Silent film']  ",
      "text/html": "<div>\n<style scoped>\n    .dataframe tbody tr th:only-of-type {\n        vertical-align: middle;\n    }\n\n    .dataframe tbody tr th {\n        vertical-align: top;\n    }\n\n    .dataframe thead th {\n        text-align: right;\n    }\n</style>\n<table border=\"1\" class=\"dataframe\">\n  <thead>\n    <tr style=\"text-align: right;\">\n      <th></th>\n      <th>name</th>\n      <th>release_year</th>\n      <th>rating</th>\n      <th>num_votes</th>\n      <th>wikipedia_id</th>\n      <th>plot</th>\n      <th>freebase_id</th>\n      <th>languages</th>\n      <th>countries</th>\n      <th>genres</th>\n    </tr>\n  </thead>\n  <tbody>\n    <tr>\n      <th>0</th>\n      <td>Miss Jerry</td>\n      <td>1894.0</td>\n      <td>5.3</td>\n      <td>207</td>\n      <td>10109752</td>\n      <td>After finding out that her father is suffering...</td>\n      <td>/m/02q23xk</td>\n      <td>['Silent film']</td>\n      <td>['United States of America']</td>\n      <td>['Short Film', 'Silent film', 'Indie', 'Black-...</td>\n    </tr>\n    <tr>\n      <th>1</th>\n      <td>The Corbett-Fitzsimmons Fight</td>\n      <td>1897.0</td>\n      <td>5.3</td>\n      <td>484</td>\n      <td>28703057</td>\n      <td>The film no longer exists in its entirety; how...</td>\n      <td>/m/0czdh_n</td>\n      <td>[]</td>\n      <td>[]</td>\n      <td>['Sports']</td>\n    </tr>\n    <tr>\n      <th>2</th>\n      <td>The Story of the Kelly Gang</td>\n      <td>1906.0</td>\n      <td>6.0</td>\n      <td>855</td>\n      <td>142995</td>\n      <td>The Story of the Kelly Gangs tone is of sorrow...</td>\n      <td>/m/0120y4</td>\n      <td>['English Language']</td>\n      <td>['Australia']</td>\n      <td>['Crime Fiction', 'Silent film', 'Biography', ...</td>\n    </tr>\n    <tr>\n      <th>3</th>\n      <td>Robbery Under Arms</td>\n      <td>1907.0</td>\n      <td>4.3</td>\n      <td>25</td>\n      <td>32986669</td>\n      <td>Key scenes of the film included the branding o...</td>\n      <td>/m/04p7yxx</td>\n      <td>['Silent film']</td>\n      <td>['Australia']</td>\n      <td>['Silent film', 'Drama']</td>\n    </tr>\n    <tr>\n      <th>4</th>\n      <td>Captain Midnight, the Bush King</td>\n      <td>1911.0</td>\n      <td>5.4</td>\n      <td>18</td>\n      <td>32987200</td>\n      <td>Edgar Dalimore is the son of wealthy station o...</td>\n      <td>/m/0h569x9</td>\n      <td>['Silent film']</td>\n      <td>[]</td>\n      <td>['Silent film']</td>\n    </tr>\n  </tbody>\n</table>\n</div>"
     },
     "execution_count": 25,
     "metadata": {},
     "output_type": "execute_result"
    }
   ],
   "source": [
    "# let's read the preprocessed data\n",
    "df = pd.read_csv('../data/processed/preprocessed.csv', index_col=0)\n",
    "print(df.shape)\n",
    "df.head(5)"
   ],
   "metadata": {
    "collapsed": false,
    "ExecuteTime": {
     "end_time": "2023-11-12T13:53:14.015920Z",
     "start_time": "2023-11-12T13:53:13.103708Z"
    }
   },
   "id": "e17d6544eaaa675d"
  },
  {
   "cell_type": "code",
   "execution_count": 26,
   "outputs": [],
   "source": [
    "# keep only the columns we need\n",
    "df = df[['wikipedia_id', 'plot']]"
   ],
   "metadata": {
    "collapsed": false,
    "ExecuteTime": {
     "end_time": "2023-11-12T13:53:14.026206Z",
     "start_time": "2023-11-12T13:53:14.011544Z"
    }
   },
   "id": "12829ef60bb0f141"
  },
  {
   "cell_type": "markdown",
   "source": [
    "## Embedding\n",
    "\n",
    "In order to start embedding, we need to download the [model](https://huggingface.co/intfloat/e5-large-v2) to the `models` directory:\n",
    "\n",
    "```\n",
    "git lfs install\n",
    "git clone https://huggingface.co/intfloat/e5-large-v2\n",
    "```"
   ],
   "metadata": {
    "collapsed": false
   },
   "id": "4a467351d82633a9"
  },
  {
   "cell_type": "code",
   "execution_count": 10,
   "outputs": [],
   "source": [
    "model = SentenceTransformer('../models/e5-large-v2')"
   ],
   "metadata": {
    "collapsed": false,
    "ExecuteTime": {
     "end_time": "2023-11-12T13:46:37.524025Z",
     "start_time": "2023-11-12T13:46:32.095968Z"
    }
   },
   "id": "ee758947f9264b8c"
  },
  {
   "cell_type": "code",
   "execution_count": 29,
   "outputs": [],
   "source": [
    "with open('../data/embeddings/embeddings.json') as embedding_file:\n",
    "    embeddings = json.loads(embedding_file.read())"
   ],
   "metadata": {
    "collapsed": false,
    "ExecuteTime": {
     "end_time": "2023-11-12T13:57:56.345638Z",
     "start_time": "2023-11-12T13:57:56.302185Z"
    }
   },
   "id": "d67c0184e686f25a"
  },
  {
   "cell_type": "code",
   "execution_count": null,
   "outputs": [],
   "source": [
    "# remove the movies that are already embedded\n",
    "embedded_movies = list(embeddings.keys())\n",
    "to_embed_df = df[~df.wikipedia_id.isin(embedded_movies)]\n",
    "\n",
    "for i , (index, row) in enumerate(to_embed_df.iterrows()):\n",
    "    embeddings[row['wikipedia_id']] = get_embedding(row['plot'], model).tolist()\n",
    "    \n",
    "    if i % 10 == 0:  # save json after every 10 movies\n",
    "        with open(\"../data/embeddings/embeddings.json\", \"w\") as file: \n",
    "            json.dump(embeddings, file)"
   ],
   "metadata": {
    "collapsed": false
   },
   "id": "6c99e857bf4877d5"
  },
  {
   "cell_type": "code",
   "execution_count": null,
   "outputs": [],
   "source": [],
   "metadata": {
    "collapsed": false
   },
   "id": "634ea357ee8c2651"
  }
 ],
 "metadata": {
  "kernelspec": {
   "display_name": "Python 3",
   "language": "python",
   "name": "python3"
  },
  "language_info": {
   "codemirror_mode": {
    "name": "ipython",
    "version": 2
   },
   "file_extension": ".py",
   "mimetype": "text/x-python",
   "name": "python",
   "nbconvert_exporter": "python",
   "pygments_lexer": "ipython2",
   "version": "2.7.6"
  }
 },
 "nbformat": 4,
 "nbformat_minor": 5
}
