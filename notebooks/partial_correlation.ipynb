{
 "cells": [
  {
   "cell_type": "code",
   "execution_count": 1,
   "metadata": {},
   "outputs": [],
   "source": [
    "import sys \n",
    "sys.path.append('../scripts')"
   ]
  },
  {
   "cell_type": "code",
   "execution_count": 9,
   "metadata": {},
   "outputs": [],
   "source": [
    "import pandas as pd\n",
    "import matplotlib.pyplot as plt\n",
    "import seaborn as sns\n",
    "import bokeh\n",
    "from sklearn.preprocessing import MinMaxScaler\n",
    "from bokeh.models import Slope\n",
    "from bokeh.palettes import Sunset10\n",
    "from bokeh.plotting import figure, show\n",
    "import pingouin as pg\n",
    "\n",
    "from helpers import get_graph_from_pickle, merge_graph_to_df"
   ]
  },
  {
   "cell_type": "code",
   "execution_count": 3,
   "metadata": {},
   "outputs": [],
   "source": [
    "df_origin = pd.read_csv('../data/processed/preprocessed.csv', index_col=0)\n",
    "df_origin.set_index('wikipedia_id', inplace=True)"
   ]
  },
  {
   "cell_type": "code",
   "execution_count": 4,
   "metadata": {},
   "outputs": [],
   "source": [
    "list_year = [1920, 1930, 1940, 1950, 1960, 1970, 1980, 1990, 2000, 2010]\n",
    "\n",
    "dfs = {}  # Dictionary to store the dataframes\n",
    "\n",
    "for year in list_year:\n",
    "    G = get_graph_from_pickle(year)\n",
    "    df_year = merge_graph_to_df(df_origin, G) \n",
    "    df_year.drop(columns=['languages','plot', 'freebase_id'], inplace=True)\n",
    "    dfs[f\"{year}\"] = df_year\n",
    "\n",
    "# Access the dataframes using dfs[\"df_year\"]\n",
    "df_all = pd.concat(dfs.values())"
   ]
  },
  {
   "cell_type": "code",
   "execution_count": 5,
   "metadata": {},
   "outputs": [
    {
     "data": {
      "text/html": [
       "<div>\n",
       "<style scoped>\n",
       "    .dataframe tbody tr th:only-of-type {\n",
       "        vertical-align: middle;\n",
       "    }\n",
       "\n",
       "    .dataframe tbody tr th {\n",
       "        vertical-align: top;\n",
       "    }\n",
       "\n",
       "    .dataframe thead th {\n",
       "        text-align: right;\n",
       "    }\n",
       "</style>\n",
       "<table border=\"1\" class=\"dataframe\">\n",
       "  <thead>\n",
       "    <tr style=\"text-align: right;\">\n",
       "      <th></th>\n",
       "      <th>name</th>\n",
       "      <th>release_year</th>\n",
       "      <th>rating</th>\n",
       "      <th>num_votes</th>\n",
       "      <th>countries</th>\n",
       "      <th>genres</th>\n",
       "      <th>betweenness</th>\n",
       "      <th>degree</th>\n",
       "    </tr>\n",
       "  </thead>\n",
       "  <tbody>\n",
       "    <tr>\n",
       "      <th>11396051</th>\n",
       "      <td>L'Atlantide</td>\n",
       "      <td>1921.0</td>\n",
       "      <td>6.7</td>\n",
       "      <td>419</td>\n",
       "      <td>['France']</td>\n",
       "      <td>['Silent film', 'Indie', 'World cinema', 'Blac...</td>\n",
       "      <td>0.000532</td>\n",
       "      <td>129</td>\n",
       "    </tr>\n",
       "    <tr>\n",
       "      <th>32932657</th>\n",
       "      <td>The Breaking of the Drought</td>\n",
       "      <td>1920.0</td>\n",
       "      <td>5.2</td>\n",
       "      <td>27</td>\n",
       "      <td>[]</td>\n",
       "      <td>['Silent film']</td>\n",
       "      <td>0.000149</td>\n",
       "      <td>57</td>\n",
       "    </tr>\n",
       "  </tbody>\n",
       "</table>\n",
       "</div>"
      ],
      "text/plain": [
       "                                 name  release_year  rating  num_votes  \\\n",
       "11396051                  L'Atlantide        1921.0     6.7        419   \n",
       "32932657  The Breaking of the Drought        1920.0     5.2         27   \n",
       "\n",
       "           countries                                             genres  \\\n",
       "11396051  ['France']  ['Silent film', 'Indie', 'World cinema', 'Blac...   \n",
       "32932657          []                                    ['Silent film']   \n",
       "\n",
       "          betweenness  degree  \n",
       "11396051     0.000532     129  \n",
       "32932657     0.000149      57  "
      ]
     },
     "metadata": {},
     "output_type": "display_data"
    }
   ],
   "source": [
    "display(df_all.head(2)) "
   ]
  },
  {
   "cell_type": "code",
   "execution_count": 14,
   "metadata": {},
   "outputs": [],
   "source": [
    "# Here we scale the betweenness and degree columns for all the dataframes independently for each decade and for the whole dataset \n",
    "scaler = MinMaxScaler()\n",
    "for df in dfs:\n",
    "    df_used = dfs[df]\n",
    "    df_used[['betweenness', 'degree']] = scaler.fit_transform(df_used[['betweenness', 'degree']])\n",
    "    df_used['nb_genres'] = df_used['genres'].apply(lambda x: len(x.split(',')))\n",
    "\n",
    "    dfs[df] = df_used\n",
    "df_all[['betweenness', 'degree']] = scaler.fit_transform(df_all[['betweenness', 'degree']])\n",
    "df_all['nb_genres'] = df_all['genres'].apply(lambda x: len(x.split(',')))"
   ]
  },
  {
   "cell_type": "code",
   "execution_count": 15,
   "metadata": {},
   "outputs": [
    {
     "data": {
      "text/html": [
       "<div>\n",
       "<style scoped>\n",
       "    .dataframe tbody tr th:only-of-type {\n",
       "        vertical-align: middle;\n",
       "    }\n",
       "\n",
       "    .dataframe tbody tr th {\n",
       "        vertical-align: top;\n",
       "    }\n",
       "\n",
       "    .dataframe thead th {\n",
       "        text-align: right;\n",
       "    }\n",
       "</style>\n",
       "<table border=\"1\" class=\"dataframe\">\n",
       "  <thead>\n",
       "    <tr style=\"text-align: right;\">\n",
       "      <th></th>\n",
       "      <th>name</th>\n",
       "      <th>release_year</th>\n",
       "      <th>rating</th>\n",
       "      <th>num_votes</th>\n",
       "      <th>countries</th>\n",
       "      <th>genres</th>\n",
       "      <th>betweenness</th>\n",
       "      <th>degree</th>\n",
       "      <th>nb_genres</th>\n",
       "    </tr>\n",
       "  </thead>\n",
       "  <tbody>\n",
       "    <tr>\n",
       "      <th>11396051</th>\n",
       "      <td>L'Atlantide</td>\n",
       "      <td>1921.0</td>\n",
       "      <td>6.7</td>\n",
       "      <td>419</td>\n",
       "      <td>['France']</td>\n",
       "      <td>['Silent film', 'Indie', 'World cinema', 'Blac...</td>\n",
       "      <td>0.016064</td>\n",
       "      <td>0.024298</td>\n",
       "      <td>6</td>\n",
       "    </tr>\n",
       "    <tr>\n",
       "      <th>32932657</th>\n",
       "      <td>The Breaking of the Drought</td>\n",
       "      <td>1920.0</td>\n",
       "      <td>5.2</td>\n",
       "      <td>27</td>\n",
       "      <td>[]</td>\n",
       "      <td>['Silent film']</td>\n",
       "      <td>0.004488</td>\n",
       "      <td>0.010630</td>\n",
       "      <td>1</td>\n",
       "    </tr>\n",
       "  </tbody>\n",
       "</table>\n",
       "</div>"
      ],
      "text/plain": [
       "                                 name  release_year  rating  num_votes  \\\n",
       "11396051                  L'Atlantide        1921.0     6.7        419   \n",
       "32932657  The Breaking of the Drought        1920.0     5.2         27   \n",
       "\n",
       "           countries                                             genres  \\\n",
       "11396051  ['France']  ['Silent film', 'Indie', 'World cinema', 'Blac...   \n",
       "32932657          []                                    ['Silent film']   \n",
       "\n",
       "          betweenness    degree  nb_genres  \n",
       "11396051     0.016064  0.024298          6  \n",
       "32932657     0.004488  0.010630          1  "
      ]
     },
     "metadata": {},
     "output_type": "display_data"
    }
   ],
   "source": [
    "display(df_all.head(2)) "
   ]
  },
  {
   "cell_type": "code",
   "execution_count": 27,
   "metadata": {},
   "outputs": [],
   "source": [
    "partial_corr_all= df_all.drop(columns=['name','countries', 'genres']).pcorr().round(3)[['betweenness', 'degree']].loc['rating']\n"
   ]
  },
  {
   "cell_type": "code",
   "execution_count": 30,
   "metadata": {},
   "outputs": [
    {
     "name": "stdout",
     "output_type": "stream",
     "text": [
      "{'1920': -0.063, '1930': -0.078, '1940': -0.066, '1950': -0.041, '1960': -0.067, '1970': -0.086, '1980': -0.01, '1990': -0.045, '2000': -0.002, '2010': 0.02}\n",
      "{'1920': 0.028, '1930': 0.051, '1940': -0.028, '1950': -0.044, '1960': 0.028, '1970': 0.02, '1980': -0.065, '1990': -0.085, '2000': -0.086, '2010': -0.121}\n",
      "data from all decades:\n",
      "betweenness   -0.050\n",
      "degree        -0.088\n",
      "Name: rating, dtype: float64\n"
     ]
    }
   ],
   "source": [
    "corelation_dict_betweenness = {}\n",
    "corelation_dict_degree = {}\n",
    "for df in dfs:\n",
    "    df_used = dfs[df]\n",
    "    part_corr = df_used.drop(columns=['name','countries', 'genres']).pcorr().round(3)[['betweenness', 'degree']].loc['rating']\n",
    "    corelation_dict_betweenness[df] = part_corr['betweenness']\n",
    "    corelation_dict_degree[df] = part_corr['degree']\n",
    "\n",
    "print(corelation_dict_betweenness)\n",
    "print(corelation_dict_degree)\n",
    "print(\"data from all decades:\")\n",
    "print(partial_corr_all)"
   ]
  },
  {
   "cell_type": "code",
   "execution_count": null,
   "metadata": {},
   "outputs": [],
   "source": []
  }
 ],
 "metadata": {
  "kernelspec": {
   "display_name": "ada",
   "language": "python",
   "name": "python3"
  },
  "language_info": {
   "codemirror_mode": {
    "name": "ipython",
    "version": 3
   },
   "file_extension": ".py",
   "mimetype": "text/x-python",
   "name": "python",
   "nbconvert_exporter": "python",
   "pygments_lexer": "ipython3",
   "version": "3.9.18"
  }
 },
 "nbformat": 4,
 "nbformat_minor": 2
}
