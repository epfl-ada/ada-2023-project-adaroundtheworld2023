{
 "cells": [
  {
   "cell_type": "markdown",
   "id": "661f890a50442989",
   "metadata": {
    "collapsed": false
   },
   "source": [
    "# Embedding \n",
    "\n",
    "The aim of this notebook is to test the embedding model and see if the results look logical for the naked eye. \n",
    "What is more, Bokeh and pyvis will be tested for generating the network graphs."
   ]
  },
  {
   "cell_type": "markdown",
   "id": "7c2ed3e6d43e682e",
   "metadata": {
    "collapsed": false
   },
   "source": [
    "## Imports"
   ]
  },
  {
   "cell_type": "code",
   "execution_count": 1,
   "id": "bb0892c103e47ca9",
   "metadata": {
    "ExecuteTime": {
     "end_time": "2023-11-12T09:53:40.460906Z",
     "start_time": "2023-11-12T09:53:40.453294Z"
    },
    "collapsed": false
   },
   "outputs": [],
   "source": [
    "# add root path to system path\n",
    "import sys\n",
    "sys.path.append('../')"
   ]
  },
  {
   "cell_type": "code",
   "execution_count": 32,
   "id": "initial_id",
   "metadata": {
    "collapsed": false,
    "ExecuteTime": {
     "end_time": "2023-11-12T10:35:00.885470Z",
     "start_time": "2023-11-12T10:35:00.874830Z"
    }
   },
   "outputs": [],
   "source": [
    "import itertools\n",
    "\n",
    "import networkx as nx\n",
    "import numpy as np\n",
    "import matplotlib.pyplot as plt\n",
    "import pandas as pd\n",
    "import seaborn as sns\n",
    "\n",
    "from sentence_transformers import SentenceTransformer\n",
    "from bokeh.plotting import figure, from_networkx\n",
    "from bokeh.transform import linear_cmap\n",
    "from bokeh.models import Circle, MultiLine\n",
    "from bokeh.io import output_notebook, show, save\n",
    "from bokeh.palettes import Blues8\n",
    "from scripts.helpers import get_embedding\n",
    "from pyvis.network import Network"
   ]
  },
  {
   "cell_type": "markdown",
   "id": "3cc641d28c9a8a04",
   "metadata": {
    "collapsed": false
   },
   "source": [
    "## Data\n",
    "\n",
    "Note that data preprocessing has been done in [preprocess.ipynb](preprocess.ipynb). The notebook will clean, merge and save the data to `data/processed`."
   ]
  },
  {
   "cell_type": "code",
   "execution_count": 3,
   "id": "758af52d7fef8b5f",
   "metadata": {
    "ExecuteTime": {
     "end_time": "2023-11-12T09:53:48.181402Z",
     "start_time": "2023-11-12T09:53:47.582697Z"
    },
    "collapsed": false
   },
   "outputs": [
    {
     "name": "stdout",
     "output_type": "stream",
     "text": [
      "(22558, 10)\n"
     ]
    },
    {
     "data": {
      "text/html": [
       "<div>\n",
       "<style scoped>\n",
       "    .dataframe tbody tr th:only-of-type {\n",
       "        vertical-align: middle;\n",
       "    }\n",
       "\n",
       "    .dataframe tbody tr th {\n",
       "        vertical-align: top;\n",
       "    }\n",
       "\n",
       "    .dataframe thead th {\n",
       "        text-align: right;\n",
       "    }\n",
       "</style>\n",
       "<table border=\"1\" class=\"dataframe\">\n",
       "  <thead>\n",
       "    <tr style=\"text-align: right;\">\n",
       "      <th></th>\n",
       "      <th>name</th>\n",
       "      <th>release_year</th>\n",
       "      <th>rating</th>\n",
       "      <th>num_votes</th>\n",
       "      <th>wikipedia_id</th>\n",
       "      <th>plot</th>\n",
       "      <th>freebase_id</th>\n",
       "      <th>languages</th>\n",
       "      <th>countries</th>\n",
       "      <th>genres</th>\n",
       "    </tr>\n",
       "  </thead>\n",
       "  <tbody>\n",
       "    <tr>\n",
       "      <th>0</th>\n",
       "      <td>Miss Jerry</td>\n",
       "      <td>1894.0</td>\n",
       "      <td>5.3</td>\n",
       "      <td>207</td>\n",
       "      <td>10109752</td>\n",
       "      <td>After finding out that her father is suffering...</td>\n",
       "      <td>/m/02q23xk</td>\n",
       "      <td>['Silent film']</td>\n",
       "      <td>['United States of America']</td>\n",
       "      <td>['Short Film', 'Silent film', 'Indie', 'Black-...</td>\n",
       "    </tr>\n",
       "    <tr>\n",
       "      <th>1</th>\n",
       "      <td>The Corbett-Fitzsimmons Fight</td>\n",
       "      <td>1897.0</td>\n",
       "      <td>5.3</td>\n",
       "      <td>484</td>\n",
       "      <td>28703057</td>\n",
       "      <td>The film no longer exists in its entirety; how...</td>\n",
       "      <td>/m/0czdh_n</td>\n",
       "      <td>[]</td>\n",
       "      <td>[]</td>\n",
       "      <td>['Sports']</td>\n",
       "    </tr>\n",
       "    <tr>\n",
       "      <th>2</th>\n",
       "      <td>The Story of the Kelly Gang</td>\n",
       "      <td>1906.0</td>\n",
       "      <td>6.0</td>\n",
       "      <td>855</td>\n",
       "      <td>142995</td>\n",
       "      <td>The Story of the Kelly Gangs tone is of sorrow...</td>\n",
       "      <td>/m/0120y4</td>\n",
       "      <td>['English Language']</td>\n",
       "      <td>['Australia']</td>\n",
       "      <td>['Crime Fiction', 'Silent film', 'Biography', ...</td>\n",
       "    </tr>\n",
       "    <tr>\n",
       "      <th>3</th>\n",
       "      <td>Robbery Under Arms</td>\n",
       "      <td>1907.0</td>\n",
       "      <td>4.3</td>\n",
       "      <td>25</td>\n",
       "      <td>32986669</td>\n",
       "      <td>Key scenes of the film included the branding o...</td>\n",
       "      <td>/m/04p7yxx</td>\n",
       "      <td>['Silent film']</td>\n",
       "      <td>['Australia']</td>\n",
       "      <td>['Silent film', 'Drama']</td>\n",
       "    </tr>\n",
       "    <tr>\n",
       "      <th>4</th>\n",
       "      <td>Captain Midnight, the Bush King</td>\n",
       "      <td>1911.0</td>\n",
       "      <td>5.4</td>\n",
       "      <td>18</td>\n",
       "      <td>32987200</td>\n",
       "      <td>Edgar Dalimore is the son of wealthy station o...</td>\n",
       "      <td>/m/0h569x9</td>\n",
       "      <td>['Silent film']</td>\n",
       "      <td>[]</td>\n",
       "      <td>['Silent film']</td>\n",
       "    </tr>\n",
       "  </tbody>\n",
       "</table>\n",
       "</div>"
      ],
      "text/plain": [
       "                              name  release_year  rating  num_votes  \\\n",
       "0                       Miss Jerry        1894.0     5.3        207   \n",
       "1    The Corbett-Fitzsimmons Fight        1897.0     5.3        484   \n",
       "2      The Story of the Kelly Gang        1906.0     6.0        855   \n",
       "3               Robbery Under Arms        1907.0     4.3         25   \n",
       "4  Captain Midnight, the Bush King        1911.0     5.4         18   \n",
       "\n",
       "   wikipedia_id                                               plot  \\\n",
       "0      10109752  After finding out that her father is suffering...   \n",
       "1      28703057  The film no longer exists in its entirety; how...   \n",
       "2        142995  The Story of the Kelly Gangs tone is of sorrow...   \n",
       "3      32986669  Key scenes of the film included the branding o...   \n",
       "4      32987200  Edgar Dalimore is the son of wealthy station o...   \n",
       "\n",
       "  freebase_id             languages                     countries  \\\n",
       "0  /m/02q23xk       ['Silent film']  ['United States of America']   \n",
       "1  /m/0czdh_n                    []                            []   \n",
       "2   /m/0120y4  ['English Language']                 ['Australia']   \n",
       "3  /m/04p7yxx       ['Silent film']                 ['Australia']   \n",
       "4  /m/0h569x9       ['Silent film']                            []   \n",
       "\n",
       "                                              genres  \n",
       "0  ['Short Film', 'Silent film', 'Indie', 'Black-...  \n",
       "1                                         ['Sports']  \n",
       "2  ['Crime Fiction', 'Silent film', 'Biography', ...  \n",
       "3                           ['Silent film', 'Drama']  \n",
       "4                                    ['Silent film']  "
      ]
     },
     "execution_count": 3,
     "metadata": {},
     "output_type": "execute_result"
    }
   ],
   "source": [
    "df = pd.read_csv('../data/processed/preprocessed.csv', index_col=0)\n",
    "print(df.shape)\n",
    "df.head(5)"
   ]
  },
  {
   "cell_type": "code",
   "execution_count": 4,
   "id": "aceb08fe7e93b27f",
   "metadata": {
    "ExecuteTime": {
     "end_time": "2023-11-12T09:53:48.630213Z",
     "start_time": "2023-11-12T09:53:48.616940Z"
    },
    "collapsed": false
   },
   "outputs": [],
   "source": [
    "# let's take the subsample of the data for testing\n",
    "sample_df = df.sample(100)"
   ]
  },
  {
   "cell_type": "markdown",
   "id": "67e1170d40ddd854",
   "metadata": {
    "collapsed": false
   },
   "source": [
    "## Embedding\n",
    "\n",
    "We're using the model described in this [paper](https://arxiv.org/pdf/2212.03533.pdf), which can be downloaded [here](https://huggingface.co/intfloat/e5-large-v2). To download the model, run in the `models` directory:\n",
    "\n",
    "```\n",
    "git lfs install\n",
    "git clone https://huggingface.co/intfloat/e5-large-v2\n",
    "```"
   ]
  },
  {
   "cell_type": "markdown",
   "id": "d0ffc30f78811132",
   "metadata": {
    "collapsed": false
   },
   "source": [
    "### Modelling"
   ]
  },
  {
   "cell_type": "code",
   "execution_count": 5,
   "id": "86a5d2a1b0458bc5",
   "metadata": {
    "ExecuteTime": {
     "end_time": "2023-11-12T09:53:58.227880Z",
     "start_time": "2023-11-12T09:53:53.620009Z"
    },
    "collapsed": false
   },
   "outputs": [],
   "source": [
    "model = SentenceTransformer('../models/e5-large-v2')"
   ]
  },
  {
   "cell_type": "code",
   "execution_count": null,
   "id": "7cfbc7008cd6a21c",
   "metadata": {
    "ExecuteTime": {
     "end_time": "2023-11-12T09:58:08.801287Z",
     "start_time": "2023-11-12T09:55:03.882280Z"
    },
    "collapsed": false
   },
   "outputs": [],
   "source": [
    "# create dictionary with embeddings for all the movies\n",
    "input_template = 'query: {}'\n",
    "embeddings = {}\n",
    "\n",
    "for index, row in sample_df.iterrows():\n",
    "    plot = input_template.format(row['plot'])\n",
    "    movie = row['name']\n",
    "    embeddings[movie] = get_embedding(plot, model)"
   ]
  },
  {
   "cell_type": "markdown",
   "id": "b420124b005206a3",
   "metadata": {
    "collapsed": false
   },
   "source": [
    "### Similarity Matrix\n",
    "\n",
    "Once we have vectorized the plots, we can calculate the similarities between the plots with dot product."
   ]
  },
  {
   "cell_type": "code",
   "execution_count": null,
   "id": "ea69c2cd89f487d0",
   "metadata": {
    "ExecuteTime": {
     "end_time": "2023-11-12T09:59:10.142665Z",
     "start_time": "2023-11-12T09:59:10.132348Z"
    },
    "collapsed": false
   },
   "outputs": [],
   "source": [
    "# generate all possible combinations for dot product \n",
    "movie_sample = list(embeddings.keys())\n",
    "combinations = list(itertools.combinations(movie_sample, 2))"
   ]
  },
  {
   "cell_type": "code",
   "execution_count": null,
   "id": "f6444dc41573dc26",
   "metadata": {
    "ExecuteTime": {
     "end_time": "2023-11-12T09:59:11.321953Z",
     "start_time": "2023-11-12T09:59:11.080300Z"
    },
    "collapsed": false
   },
   "outputs": [],
   "source": [
    "# generate the similarity matrix\n",
    "similarity_matrix = pd.DataFrame(index=movie_sample, columns=movie_sample, dtype=float)\n",
    "\n",
    "for (movie_1, movie_2) in combinations:\n",
    "    similarity = embeddings[movie_1] @ embeddings[movie_2]\n",
    "    similarity_matrix.at[movie_1, movie_2] = similarity\n",
    "    similarity_matrix.at[movie_2, movie_1] = similarity\n",
    "\n",
    "similarity_matrix.head(5)"
   ]
  },
  {
   "cell_type": "code",
   "execution_count": null,
   "id": "6c4d85ac5888f7d2",
   "metadata": {
    "ExecuteTime": {
     "end_time": "2023-11-12T09:59:17.377487Z",
     "start_time": "2023-11-12T09:59:16.842002Z"
    },
    "collapsed": false
   },
   "outputs": [],
   "source": [
    "# let's plot the first 20 movies and their similarity matrix\n",
    "first_20 = similarity_matrix.columns[:20].tolist()\n",
    "sample_similarity_matrix = similarity_matrix.loc[first_20, first_20]\n",
    "\n",
    "sns.heatmap(sample_similarity_matrix)\n",
    "plt.show();"
   ]
  },
  {
   "cell_type": "code",
   "execution_count": null,
   "id": "2e9b157765a00709",
   "metadata": {
    "ExecuteTime": {
     "end_time": "2023-11-12T09:59:35.780041Z",
     "start_time": "2023-11-12T09:59:35.484952Z"
    },
    "collapsed": false
   },
   "outputs": [],
   "source": [
    "# let's check the distribution of similarity values\n",
    "similarity_values_array = similarity_matrix.values\n",
    "similarity_values = similarity_values_array[~np.isnan(similarity_values_array)]\n",
    "pd.Series(similarity_values).plot.hist(bins=50, title='Distribution of similarity values')"
   ]
  },
  {
   "cell_type": "code",
   "execution_count": null,
   "id": "910858918711d536",
   "metadata": {
    "ExecuteTime": {
     "end_time": "2023-11-12T09:59:46.676502Z",
     "start_time": "2023-11-12T09:59:46.626459Z"
    },
    "collapsed": false
   },
   "outputs": [],
   "source": [
    "# let's show descriptive statistics\n",
    "pd.Series(similarity_values).describe()"
   ]
  },
  {
   "cell_type": "markdown",
   "id": "acaad10dc503054b",
   "metadata": {
    "collapsed": false
   },
   "source": [
    "## Graph Generation\n",
    "\n",
    "Now that we have the similarities between the movies, we can set the threshold and generate a network of nodes."
   ]
  },
  {
   "cell_type": "markdown",
   "id": "b58ac4961877e019",
   "metadata": {
    "collapsed": false
   },
   "source": [
    "### NetworkX"
   ]
  },
  {
   "cell_type": "code",
   "execution_count": null,
   "id": "b15d921c210cbd33",
   "metadata": {
    "ExecuteTime": {
     "end_time": "2023-11-12T10:02:27.230921Z",
     "start_time": "2023-11-12T10:02:24.490486Z"
    },
    "collapsed": false
   },
   "outputs": [],
   "source": [
    "similarity_threshold = 0.734703  # let's take 75th percentile\n",
    "\n",
    "nodes_df = pd.DataFrame(columns=['Source', 'Target', 'Weight'])\n",
    "\n",
    "G = nx.Graph()\n",
    "G.add_nodes_from(sample_df.name.tolist())\n",
    "for (movie_1, movie_2) in combinations:\n",
    "    similarity = similarity_matrix.at[movie_1, movie_2]\n",
    "    if similarity > similarity_threshold:\n",
    "        nodes_df.loc[len(nodes_df)] = [movie_1, movie_2, similarity]\n",
    "        \n",
    "G = nx.from_pandas_edgelist(nodes_df, 'Source', 'Target', 'Weight')"
   ]
  },
  {
   "cell_type": "code",
   "execution_count": null,
   "id": "512679cc5bd39dd2",
   "metadata": {
    "ExecuteTime": {
     "end_time": "2023-11-12T10:02:30.057130Z",
     "start_time": "2023-11-12T10:02:30.045344Z"
    },
    "collapsed": false
   },
   "outputs": [],
   "source": [
    "# add name as an attribute\n",
    "names = dict((name, name) for name in G.nodes)\n",
    "nx.set_node_attributes(G, name='name', values=names)"
   ]
  },
  {
   "cell_type": "code",
   "execution_count": null,
   "id": "b270f06c761a90ea",
   "metadata": {
    "ExecuteTime": {
     "end_time": "2023-11-12T10:02:30.548206Z",
     "start_time": "2023-11-12T10:02:30.515437Z"
    },
    "collapsed": false
   },
   "outputs": [],
   "source": [
    "# calculate the betweenness centrality\n",
    "betweenness = nx.betweenness_centrality(G)\n",
    "nx.set_node_attributes(G, name='betweenness', values=betweenness)"
   ]
  },
  {
   "cell_type": "code",
   "execution_count": null,
   "id": "c1e398053e83d4bd",
   "metadata": {
    "ExecuteTime": {
     "end_time": "2023-11-12T10:02:31.328760Z",
     "start_time": "2023-11-12T10:02:31.308706Z"
    },
    "collapsed": false
   },
   "outputs": [],
   "source": [
    "# calculate degree for each node\n",
    "degrees = dict(nx.degree(G))\n",
    "nx.set_node_attributes(G, name='degree', values=degrees)"
   ]
  },
  {
   "cell_type": "code",
   "execution_count": 26,
   "id": "55d0f809cbc0b57",
   "metadata": {
    "collapsed": false,
    "ExecuteTime": {
     "end_time": "2023-11-12T10:23:40.764336Z",
     "start_time": "2023-11-12T10:23:40.733744Z"
    }
   },
   "outputs": [],
   "source": [
    "# add movie rating\n",
    "ratings = sample_df.set_index('name').rating\n",
    "\n",
    "ratings_dict = dict((name, ratings.loc[name]) for name in G.nodes)\n",
    "nx.set_node_attributes(G, name='rating', values=ratings_dict)"
   ]
  },
  {
   "cell_type": "markdown",
   "id": "435b79842402449d",
   "metadata": {
    "collapsed": false
   },
   "source": [
    "### Bokeh"
   ]
  },
  {
   "cell_type": "code",
   "execution_count": 27,
   "id": "c18870ba24f7f9d4",
   "metadata": {
    "collapsed": false,
    "ExecuteTime": {
     "end_time": "2023-11-12T10:23:43.996400Z",
     "start_time": "2023-11-12T10:23:43.991841Z"
    }
   },
   "outputs": [],
   "source": [
    "# adjust the size of the nodes by normalizing the revenue\n",
    "ratings_normalized = (ratings - ratings.min()) / (ratings.max() - ratings.min())\n",
    "\n",
    "adjusted_node_size = dict((name, ratings_normalized.loc[name] * 20 + 10) for name in G.nodes)\n",
    "nx.set_node_attributes(G, name='adjusted_node_size', values=adjusted_node_size)"
   ]
  },
  {
   "cell_type": "code",
   "execution_count": 28,
   "id": "7ad28f5076f724e2",
   "metadata": {
    "collapsed": false,
    "ExecuteTime": {
     "end_time": "2023-11-12T10:23:53.383269Z",
     "start_time": "2023-11-12T10:23:53.378660Z"
    }
   },
   "outputs": [],
   "source": [
    "# hacky way to rename the nodes since bokeh couldn't otherwise handle that\n",
    "mapping = dict((n, i) for i, n in enumerate(G.nodes))\n",
    "H = nx.relabel_nodes(G, mapping)"
   ]
  },
  {
   "cell_type": "code",
   "execution_count": 29,
   "id": "2bfcd4d86015b159",
   "metadata": {
    "collapsed": false,
    "ExecuteTime": {
     "end_time": "2023-11-12T10:23:54.518190Z",
     "start_time": "2023-11-12T10:23:54.269205Z"
    }
   },
   "outputs": [
    {
     "data": {
      "text/html": "<style>\n        .bk-notebook-logo {\n            display: block;\n            width: 20px;\n            height: 20px;\n            background-image: url(data:image/png;base64,iVBORw0KGgoAAAANSUhEUgAAABQAAAAUCAYAAACNiR0NAAAABHNCSVQICAgIfAhkiAAAAAlwSFlzAAALEgAACxIB0t1+/AAAABx0RVh0U29mdHdhcmUAQWRvYmUgRmlyZXdvcmtzIENTNui8sowAAAOkSURBVDiNjZRtaJVlGMd/1/08zzln5zjP1LWcU9N0NkN8m2CYjpgQYQXqSs0I84OLIC0hkEKoPtiH3gmKoiJDU7QpLgoLjLIQCpEsNJ1vqUOdO7ppbuec5+V+rj4ctwzd8IIbbi6u+8f1539dt3A78eXC7QizUF7gyV1fD1Yqg4JWz84yffhm0qkFqBogB9rM8tZdtwVsPUhWhGcFJngGeWrPzHm5oaMmkfEg1usvLFyc8jLRqDOMru7AyC8saQr7GG7f5fvDeH7Ej8CM66nIF+8yngt6HWaKh7k49Soy9nXurCi1o3qUbS3zWfrYeQDTB/Qj6kX6Ybhw4B+bOYoLKCC9H3Nu/leUTZ1JdRWkkn2ldcCamzrcf47KKXdAJllSlxAOkRgyHsGC/zRday5Qld9DyoM4/q/rUoy/CXh3jzOu3bHUVZeU+DEn8FInkPBFlu3+nW3Nw0mk6vCDiWg8CeJaxEwuHS3+z5RgY+YBR6V1Z1nxSOfoaPa4LASWxxdNp+VWTk7+4vzaou8v8PN+xo+KY2xsw6une2frhw05CTYOmQvsEhjhWjn0bmXPjpE1+kplmmkP3suftwTubK9Vq22qKmrBhpY4jvd5afdRA3wGjFAgcnTK2s4hY0/GPNIb0nErGMCRxWOOX64Z8RAC4oCXdklmEvcL8o0BfkNK4lUg9HTl+oPlQxdNo3Mg4Nv175e/1LDGzZen30MEjRUtmXSfiTVu1kK8W4txyV6BMKlbgk3lMwYCiusNy9fVfvvwMxv8Ynl6vxoByANLTWplvuj/nF9m2+PDtt1eiHPBr1oIfhCChQMBw6Aw0UulqTKZdfVvfG7VcfIqLG9bcldL/+pdWTLxLUy8Qq38heUIjh4XlzZxzQm19lLFlr8vdQ97rjZVOLf8nclzckbcD4wxXMidpX30sFd37Fv/GtwwhzhxGVAprjbg0gCAEeIgwCZyTV2Z1REEW8O4py0wsjeloKoMr6iCY6dP92H6Vw/oTyICIthibxjm/DfN9lVz8IqtqKYLUXfoKVMVQVVJOElGjrnnUt9T9wbgp8AyYKaGlqingHZU/uG2NTZSVqwHQTWkx9hxjkpWDaCg6Ckj5qebgBVbT3V3NNXMSiWSDdGV3hrtzla7J+duwPOToIg42ChPQOQjspnSlp1V+Gjdged7+8UN5CRAV7a5EdFNwCjEaBR27b3W890TE7g24NAP/mMDXRWrGoFPQI9ls/MWO2dWFAar/xcOIImbbpA3zgAAAABJRU5ErkJggg==);\n        }\n    </style>\n    <div>\n        <a href=\"https://bokeh.org\" target=\"_blank\" class=\"bk-notebook-logo\"></a>\n        <span id=\"b8ff964a-9c80-4684-b811-701c2ed89587\">Loading BokehJS ...</span>\n    </div>\n"
     },
     "metadata": {},
     "output_type": "display_data"
    },
    {
     "data": {
      "application/javascript": "(function(root) {\n  function now() {\n    return new Date();\n  }\n\n  const force = true;\n\n  if (typeof root._bokeh_onload_callbacks === \"undefined\" || force === true) {\n    root._bokeh_onload_callbacks = [];\n    root._bokeh_is_loading = undefined;\n  }\n\nconst JS_MIME_TYPE = 'application/javascript';\n  const HTML_MIME_TYPE = 'text/html';\n  const EXEC_MIME_TYPE = 'application/vnd.bokehjs_exec.v0+json';\n  const CLASS_NAME = 'output_bokeh rendered_html';\n\n  /**\n   * Render data to the DOM node\n   */\n  function render(props, node) {\n    const script = document.createElement(\"script\");\n    node.appendChild(script);\n  }\n\n  /**\n   * Handle when an output is cleared or removed\n   */\n  function handleClearOutput(event, handle) {\n    function drop(id) {\n      const view = Bokeh.index.get_by_id(id)\n      if (view != null) {\n        view.model.document.clear()\n        Bokeh.index.delete(view)\n      }\n    }\n\n    const cell = handle.cell;\n\n    const id = cell.output_area._bokeh_element_id;\n    const server_id = cell.output_area._bokeh_server_id;\n\n    // Clean up Bokeh references\n    if (id != null) {\n      drop(id)\n    }\n\n    if (server_id !== undefined) {\n      // Clean up Bokeh references\n      const cmd_clean = \"from bokeh.io.state import curstate; print(curstate().uuid_to_server['\" + server_id + \"'].get_sessions()[0].document.roots[0]._id)\";\n      cell.notebook.kernel.execute(cmd_clean, {\n        iopub: {\n          output: function(msg) {\n            const id = msg.content.text.trim()\n            drop(id)\n          }\n        }\n      });\n      // Destroy server and session\n      const cmd_destroy = \"import bokeh.io.notebook as ion; ion.destroy_server('\" + server_id + \"')\";\n      cell.notebook.kernel.execute(cmd_destroy);\n    }\n  }\n\n  /**\n   * Handle when a new output is added\n   */\n  function handleAddOutput(event, handle) {\n    const output_area = handle.output_area;\n    const output = handle.output;\n\n    // limit handleAddOutput to display_data with EXEC_MIME_TYPE content only\n    if ((output.output_type != \"display_data\") || (!Object.prototype.hasOwnProperty.call(output.data, EXEC_MIME_TYPE))) {\n      return\n    }\n\n    const toinsert = output_area.element.find(\".\" + CLASS_NAME.split(' ')[0]);\n\n    if (output.metadata[EXEC_MIME_TYPE][\"id\"] !== undefined) {\n      toinsert[toinsert.length - 1].firstChild.textContent = output.data[JS_MIME_TYPE];\n      // store reference to embed id on output_area\n      output_area._bokeh_element_id = output.metadata[EXEC_MIME_TYPE][\"id\"];\n    }\n    if (output.metadata[EXEC_MIME_TYPE][\"server_id\"] !== undefined) {\n      const bk_div = document.createElement(\"div\");\n      bk_div.innerHTML = output.data[HTML_MIME_TYPE];\n      const script_attrs = bk_div.children[0].attributes;\n      for (let i = 0; i < script_attrs.length; i++) {\n        toinsert[toinsert.length - 1].firstChild.setAttribute(script_attrs[i].name, script_attrs[i].value);\n        toinsert[toinsert.length - 1].firstChild.textContent = bk_div.children[0].textContent\n      }\n      // store reference to server id on output_area\n      output_area._bokeh_server_id = output.metadata[EXEC_MIME_TYPE][\"server_id\"];\n    }\n  }\n\n  function register_renderer(events, OutputArea) {\n\n    function append_mime(data, metadata, element) {\n      // create a DOM node to render to\n      const toinsert = this.create_output_subarea(\n        metadata,\n        CLASS_NAME,\n        EXEC_MIME_TYPE\n      );\n      this.keyboard_manager.register_events(toinsert);\n      // Render to node\n      const props = {data: data, metadata: metadata[EXEC_MIME_TYPE]};\n      render(props, toinsert[toinsert.length - 1]);\n      element.append(toinsert);\n      return toinsert\n    }\n\n    /* Handle when an output is cleared or removed */\n    events.on('clear_output.CodeCell', handleClearOutput);\n    events.on('delete.Cell', handleClearOutput);\n\n    /* Handle when a new output is added */\n    events.on('output_added.OutputArea', handleAddOutput);\n\n    /**\n     * Register the mime type and append_mime function with output_area\n     */\n    OutputArea.prototype.register_mime_type(EXEC_MIME_TYPE, append_mime, {\n      /* Is output safe? */\n      safe: true,\n      /* Index of renderer in `output_area.display_order` */\n      index: 0\n    });\n  }\n\n  // register the mime type if in Jupyter Notebook environment and previously unregistered\n  if (root.Jupyter !== undefined) {\n    const events = require('base/js/events');\n    const OutputArea = require('notebook/js/outputarea').OutputArea;\n\n    if (OutputArea.prototype.mime_types().indexOf(EXEC_MIME_TYPE) == -1) {\n      register_renderer(events, OutputArea);\n    }\n  }\n  if (typeof (root._bokeh_timeout) === \"undefined\" || force === true) {\n    root._bokeh_timeout = Date.now() + 5000;\n    root._bokeh_failed_load = false;\n  }\n\n  const NB_LOAD_WARNING = {'data': {'text/html':\n     \"<div style='background-color: #fdd'>\\n\"+\n     \"<p>\\n\"+\n     \"BokehJS does not appear to have successfully loaded. If loading BokehJS from CDN, this \\n\"+\n     \"may be due to a slow or bad network connection. Possible fixes:\\n\"+\n     \"</p>\\n\"+\n     \"<ul>\\n\"+\n     \"<li>re-rerun `output_notebook()` to attempt to load from CDN again, or</li>\\n\"+\n     \"<li>use INLINE resources instead, as so:</li>\\n\"+\n     \"</ul>\\n\"+\n     \"<code>\\n\"+\n     \"from bokeh.resources import INLINE\\n\"+\n     \"output_notebook(resources=INLINE)\\n\"+\n     \"</code>\\n\"+\n     \"</div>\"}};\n\n  function display_loaded() {\n    const el = document.getElementById(\"b8ff964a-9c80-4684-b811-701c2ed89587\");\n    if (el != null) {\n      el.textContent = \"BokehJS is loading...\";\n    }\n    if (root.Bokeh !== undefined) {\n      if (el != null) {\n        el.textContent = \"BokehJS \" + root.Bokeh.version + \" successfully loaded.\";\n      }\n    } else if (Date.now() < root._bokeh_timeout) {\n      setTimeout(display_loaded, 100)\n    }\n  }\n\n  function run_callbacks() {\n    try {\n      root._bokeh_onload_callbacks.forEach(function(callback) {\n        if (callback != null)\n          callback();\n      });\n    } finally {\n      delete root._bokeh_onload_callbacks\n    }\n    console.debug(\"Bokeh: all callbacks have finished\");\n  }\n\n  function load_libs(css_urls, js_urls, callback) {\n    if (css_urls == null) css_urls = [];\n    if (js_urls == null) js_urls = [];\n\n    root._bokeh_onload_callbacks.push(callback);\n    if (root._bokeh_is_loading > 0) {\n      console.debug(\"Bokeh: BokehJS is being loaded, scheduling callback at\", now());\n      return null;\n    }\n    if (js_urls == null || js_urls.length === 0) {\n      run_callbacks();\n      return null;\n    }\n    console.debug(\"Bokeh: BokehJS not loaded, scheduling load and callback at\", now());\n    root._bokeh_is_loading = css_urls.length + js_urls.length;\n\n    function on_load() {\n      root._bokeh_is_loading--;\n      if (root._bokeh_is_loading === 0) {\n        console.debug(\"Bokeh: all BokehJS libraries/stylesheets loaded\");\n        run_callbacks()\n      }\n    }\n\n    function on_error(url) {\n      console.error(\"failed to load \" + url);\n    }\n\n    for (let i = 0; i < css_urls.length; i++) {\n      const url = css_urls[i];\n      const element = document.createElement(\"link\");\n      element.onload = on_load;\n      element.onerror = on_error.bind(null, url);\n      element.rel = \"stylesheet\";\n      element.type = \"text/css\";\n      element.href = url;\n      console.debug(\"Bokeh: injecting link tag for BokehJS stylesheet: \", url);\n      document.body.appendChild(element);\n    }\n\n    for (let i = 0; i < js_urls.length; i++) {\n      const url = js_urls[i];\n      const element = document.createElement('script');\n      element.onload = on_load;\n      element.onerror = on_error.bind(null, url);\n      element.async = false;\n      element.src = url;\n      console.debug(\"Bokeh: injecting script tag for BokehJS library: \", url);\n      document.head.appendChild(element);\n    }\n  };\n\n  function inject_raw_css(css) {\n    const element = document.createElement(\"style\");\n    element.appendChild(document.createTextNode(css));\n    document.body.appendChild(element);\n  }\n\n  const js_urls = [\"https://cdn.bokeh.org/bokeh/release/bokeh-3.3.0.min.js\", \"https://cdn.bokeh.org/bokeh/release/bokeh-gl-3.3.0.min.js\", \"https://cdn.bokeh.org/bokeh/release/bokeh-widgets-3.3.0.min.js\", \"https://cdn.bokeh.org/bokeh/release/bokeh-tables-3.3.0.min.js\", \"https://cdn.bokeh.org/bokeh/release/bokeh-mathjax-3.3.0.min.js\"];\n  const css_urls = [];\n\n  const inline_js = [    function(Bokeh) {\n      Bokeh.set_log_level(\"info\");\n    },\nfunction(Bokeh) {\n    }\n  ];\n\n  function run_inline_js() {\n    if (root.Bokeh !== undefined || force === true) {\n          for (let i = 0; i < inline_js.length; i++) {\n      inline_js[i].call(root, root.Bokeh);\n    }\nif (force === true) {\n        display_loaded();\n      }} else if (Date.now() < root._bokeh_timeout) {\n      setTimeout(run_inline_js, 100);\n    } else if (!root._bokeh_failed_load) {\n      console.log(\"Bokeh: BokehJS failed to load within specified timeout.\");\n      root._bokeh_failed_load = true;\n    } else if (force !== true) {\n      const cell = $(document.getElementById(\"b8ff964a-9c80-4684-b811-701c2ed89587\")).parents('.cell').data().cell;\n      cell.output_area.append_execute_result(NB_LOAD_WARNING)\n    }\n  }\n\n  if (root._bokeh_is_loading === 0) {\n    console.debug(\"Bokeh: BokehJS loaded, going straight to plotting\");\n    run_inline_js();\n  } else {\n    load_libs(css_urls, js_urls, function() {\n      console.debug(\"Bokeh: BokehJS plotting callback run at\", now());\n      run_inline_js();\n    });\n  }\n}(window));",
      "application/vnd.bokehjs_load.v0+json": "(function(root) {\n  function now() {\n    return new Date();\n  }\n\n  const force = true;\n\n  if (typeof root._bokeh_onload_callbacks === \"undefined\" || force === true) {\n    root._bokeh_onload_callbacks = [];\n    root._bokeh_is_loading = undefined;\n  }\n\n\n  if (typeof (root._bokeh_timeout) === \"undefined\" || force === true) {\n    root._bokeh_timeout = Date.now() + 5000;\n    root._bokeh_failed_load = false;\n  }\n\n  const NB_LOAD_WARNING = {'data': {'text/html':\n     \"<div style='background-color: #fdd'>\\n\"+\n     \"<p>\\n\"+\n     \"BokehJS does not appear to have successfully loaded. If loading BokehJS from CDN, this \\n\"+\n     \"may be due to a slow or bad network connection. Possible fixes:\\n\"+\n     \"</p>\\n\"+\n     \"<ul>\\n\"+\n     \"<li>re-rerun `output_notebook()` to attempt to load from CDN again, or</li>\\n\"+\n     \"<li>use INLINE resources instead, as so:</li>\\n\"+\n     \"</ul>\\n\"+\n     \"<code>\\n\"+\n     \"from bokeh.resources import INLINE\\n\"+\n     \"output_notebook(resources=INLINE)\\n\"+\n     \"</code>\\n\"+\n     \"</div>\"}};\n\n  function display_loaded() {\n    const el = document.getElementById(\"b8ff964a-9c80-4684-b811-701c2ed89587\");\n    if (el != null) {\n      el.textContent = \"BokehJS is loading...\";\n    }\n    if (root.Bokeh !== undefined) {\n      if (el != null) {\n        el.textContent = \"BokehJS \" + root.Bokeh.version + \" successfully loaded.\";\n      }\n    } else if (Date.now() < root._bokeh_timeout) {\n      setTimeout(display_loaded, 100)\n    }\n  }\n\n  function run_callbacks() {\n    try {\n      root._bokeh_onload_callbacks.forEach(function(callback) {\n        if (callback != null)\n          callback();\n      });\n    } finally {\n      delete root._bokeh_onload_callbacks\n    }\n    console.debug(\"Bokeh: all callbacks have finished\");\n  }\n\n  function load_libs(css_urls, js_urls, callback) {\n    if (css_urls == null) css_urls = [];\n    if (js_urls == null) js_urls = [];\n\n    root._bokeh_onload_callbacks.push(callback);\n    if (root._bokeh_is_loading > 0) {\n      console.debug(\"Bokeh: BokehJS is being loaded, scheduling callback at\", now());\n      return null;\n    }\n    if (js_urls == null || js_urls.length === 0) {\n      run_callbacks();\n      return null;\n    }\n    console.debug(\"Bokeh: BokehJS not loaded, scheduling load and callback at\", now());\n    root._bokeh_is_loading = css_urls.length + js_urls.length;\n\n    function on_load() {\n      root._bokeh_is_loading--;\n      if (root._bokeh_is_loading === 0) {\n        console.debug(\"Bokeh: all BokehJS libraries/stylesheets loaded\");\n        run_callbacks()\n      }\n    }\n\n    function on_error(url) {\n      console.error(\"failed to load \" + url);\n    }\n\n    for (let i = 0; i < css_urls.length; i++) {\n      const url = css_urls[i];\n      const element = document.createElement(\"link\");\n      element.onload = on_load;\n      element.onerror = on_error.bind(null, url);\n      element.rel = \"stylesheet\";\n      element.type = \"text/css\";\n      element.href = url;\n      console.debug(\"Bokeh: injecting link tag for BokehJS stylesheet: \", url);\n      document.body.appendChild(element);\n    }\n\n    for (let i = 0; i < js_urls.length; i++) {\n      const url = js_urls[i];\n      const element = document.createElement('script');\n      element.onload = on_load;\n      element.onerror = on_error.bind(null, url);\n      element.async = false;\n      element.src = url;\n      console.debug(\"Bokeh: injecting script tag for BokehJS library: \", url);\n      document.head.appendChild(element);\n    }\n  };\n\n  function inject_raw_css(css) {\n    const element = document.createElement(\"style\");\n    element.appendChild(document.createTextNode(css));\n    document.body.appendChild(element);\n  }\n\n  const js_urls = [\"https://cdn.bokeh.org/bokeh/release/bokeh-3.3.0.min.js\", \"https://cdn.bokeh.org/bokeh/release/bokeh-gl-3.3.0.min.js\", \"https://cdn.bokeh.org/bokeh/release/bokeh-widgets-3.3.0.min.js\", \"https://cdn.bokeh.org/bokeh/release/bokeh-tables-3.3.0.min.js\", \"https://cdn.bokeh.org/bokeh/release/bokeh-mathjax-3.3.0.min.js\"];\n  const css_urls = [];\n\n  const inline_js = [    function(Bokeh) {\n      Bokeh.set_log_level(\"info\");\n    },\nfunction(Bokeh) {\n    }\n  ];\n\n  function run_inline_js() {\n    if (root.Bokeh !== undefined || force === true) {\n          for (let i = 0; i < inline_js.length; i++) {\n      inline_js[i].call(root, root.Bokeh);\n    }\nif (force === true) {\n        display_loaded();\n      }} else if (Date.now() < root._bokeh_timeout) {\n      setTimeout(run_inline_js, 100);\n    } else if (!root._bokeh_failed_load) {\n      console.log(\"Bokeh: BokehJS failed to load within specified timeout.\");\n      root._bokeh_failed_load = true;\n    } else if (force !== true) {\n      const cell = $(document.getElementById(\"b8ff964a-9c80-4684-b811-701c2ed89587\")).parents('.cell').data().cell;\n      cell.output_area.append_execute_result(NB_LOAD_WARNING)\n    }\n  }\n\n  if (root._bokeh_is_loading === 0) {\n    console.debug(\"Bokeh: BokehJS loaded, going straight to plotting\");\n    run_inline_js();\n  } else {\n    load_libs(css_urls, js_urls, function() {\n      console.debug(\"Bokeh: BokehJS plotting callback run at\", now());\n      run_inline_js();\n    });\n  }\n}(window));"
     },
     "metadata": {},
     "output_type": "display_data"
    },
    {
     "data": {
      "text/html": "\n  <div id=\"fb389717-015f-46df-aa10-1e213e25ee75\" data-root-id=\"p1883\" style=\"display: contents;\"></div>\n"
     },
     "metadata": {},
     "output_type": "display_data"
    },
    {
     "data": {
      "application/javascript": "(function(root) {\n  function embed_document(root) {\n  const docs_json = {\"efa8f0a7-7f14-4a4f-87f6-d97ba73c07e8\":{\"version\":\"3.3.0\",\"title\":\"Bokeh Application\",\"roots\":[{\"type\":\"object\",\"name\":\"Figure\",\"id\":\"p1883\",\"attributes\":{\"width\":1000,\"x_range\":{\"type\":\"object\",\"name\":\"DataRange1d\",\"id\":\"p1884\"},\"y_range\":{\"type\":\"object\",\"name\":\"DataRange1d\",\"id\":\"p1885\"},\"x_scale\":{\"type\":\"object\",\"name\":\"LinearScale\",\"id\":\"p1892\"},\"y_scale\":{\"type\":\"object\",\"name\":\"LinearScale\",\"id\":\"p1893\"},\"title\":{\"type\":\"object\",\"name\":\"Title\",\"id\":\"p1890\",\"attributes\":{\"text_color\":\"#E0E0E0\",\"text_font\":\"Helvetica\",\"text_font_size\":\"1.15em\"}},\"outline_line_color\":\"#E0E0E0\",\"outline_line_alpha\":0.25,\"renderers\":[{\"type\":\"object\",\"name\":\"GraphRenderer\",\"id\":\"p1909\",\"attributes\":{\"layout_provider\":{\"type\":\"object\",\"name\":\"StaticLayoutProvider\",\"id\":\"p1926\",\"attributes\":{\"graph_layout\":{\"type\":\"map\",\"entries\":[[0,{\"type\":\"ndarray\",\"array\":{\"type\":\"bytes\",\"data\":\"F+xi9ZOjDUA+FoC4xDUGQA==\"},\"shape\":[2],\"dtype\":\"float64\",\"order\":\"little\"}],[1,{\"type\":\"ndarray\",\"array\":{\"type\":\"bytes\",\"data\":\"2HwfDt2iAUCyh6gtj6UHQA==\"},\"shape\":[2],\"dtype\":\"float64\",\"order\":\"little\"}],[2,{\"type\":\"ndarray\",\"array\":{\"type\":\"bytes\",\"data\":\"5IW8+PKC+z8y63vn3lfYvw==\"},\"shape\":[2],\"dtype\":\"float64\",\"order\":\"little\"}],[3,{\"type\":\"ndarray\",\"array\":{\"type\":\"bytes\",\"data\":\"c51NEUw0AkBN5npNyFnOvw==\"},\"shape\":[2],\"dtype\":\"float64\",\"order\":\"little\"}],[4,{\"type\":\"ndarray\",\"array\":{\"type\":\"bytes\",\"data\":\"lXoBlXaA4b+TWDFJZ7D9Pw==\"},\"shape\":[2],\"dtype\":\"float64\",\"order\":\"little\"}],[5,{\"type\":\"ndarray\",\"array\":{\"type\":\"bytes\",\"data\":\"nh5Wc7fU7T/fDj8FocXdvw==\"},\"shape\":[2],\"dtype\":\"float64\",\"order\":\"little\"}],[6,{\"type\":\"ndarray\",\"array\":{\"type\":\"bytes\",\"data\":\"kzYCQL52DkCRBR493wL9Pw==\"},\"shape\":[2],\"dtype\":\"float64\",\"order\":\"little\"}],[7,{\"type\":\"ndarray\",\"array\":{\"type\":\"bytes\",\"data\":\"vZV6LMVu7z9960Xmyw/lPw==\"},\"shape\":[2],\"dtype\":\"float64\",\"order\":\"little\"}],[8,{\"type\":\"ndarray\",\"array\":{\"type\":\"bytes\",\"data\":\"riW4qqd0EkA913dEXaT9Pw==\"},\"shape\":[2],\"dtype\":\"float64\",\"order\":\"little\"}],[9,{\"type\":\"ndarray\",\"array\":{\"type\":\"bytes\",\"data\":\"sODDgxpv9T8WM9BdlWzwPw==\"},\"shape\":[2],\"dtype\":\"float64\",\"order\":\"little\"}],[10,{\"type\":\"ndarray\",\"array\":{\"type\":\"bytes\",\"data\":\"fOb10zXi9D9Q4dCGeH7+Pw==\"},\"shape\":[2],\"dtype\":\"float64\",\"order\":\"little\"}],[11,{\"type\":\"ndarray\",\"array\":{\"type\":\"bytes\",\"data\":\"/BWh+RVG8r/lr97z8ZLlPw==\"},\"shape\":[2],\"dtype\":\"float64\",\"order\":\"little\"}],[12,{\"type\":\"ndarray\",\"array\":{\"type\":\"bytes\",\"data\":\"oZrGtBV42r+6VM2YYgj3vw==\"},\"shape\":[2],\"dtype\":\"float64\",\"order\":\"little\"}],[13,{\"type\":\"ndarray\",\"array\":{\"type\":\"bytes\",\"data\":\"ZMyMdvhE0D/PswdIwny0vw==\"},\"shape\":[2],\"dtype\":\"float64\",\"order\":\"little\"}],[14,{\"type\":\"ndarray\",\"array\":{\"type\":\"bytes\",\"data\":\"eEaBrRKD1T9D6GHzeujAPw==\"},\"shape\":[2],\"dtype\":\"float64\",\"order\":\"little\"}],[15,{\"type\":\"ndarray\",\"array\":{\"type\":\"bytes\",\"data\":\"pyAA4t80/79WC8bsT83qPw==\"},\"shape\":[2],\"dtype\":\"float64\",\"order\":\"little\"}],[16,{\"type\":\"ndarray\",\"array\":{\"type\":\"bytes\",\"data\":\"5+NqSP/S6T8CPGLleMn0Pw==\"},\"shape\":[2],\"dtype\":\"float64\",\"order\":\"little\"}],[17,{\"type\":\"ndarray\",\"array\":{\"type\":\"bytes\",\"data\":\"7YyhVz196r+Vk56cEhSsPw==\"},\"shape\":[2],\"dtype\":\"float64\",\"order\":\"little\"}],[18,{\"type\":\"ndarray\",\"array\":{\"type\":\"bytes\",\"data\":\"jHnUytykAUAByX3mP4TpPw==\"},\"shape\":[2],\"dtype\":\"float64\",\"order\":\"little\"}],[19,{\"type\":\"ndarray\",\"array\":{\"type\":\"bytes\",\"data\":\"28RXPEClC8BCRNZYQLfPvw==\"},\"shape\":[2],\"dtype\":\"float64\",\"order\":\"little\"}],[20,{\"type\":\"ndarray\",\"array\":{\"type\":\"bytes\",\"data\":\"G/y+NuRmyj9CEaZ73mbbPw==\"},\"shape\":[2],\"dtype\":\"float64\",\"order\":\"little\"}],[21,{\"type\":\"ndarray\",\"array\":{\"type\":\"bytes\",\"data\":\"ukJ043nZ57+FgdyKixYDQA==\"},\"shape\":[2],\"dtype\":\"float64\",\"order\":\"little\"}],[22,{\"type\":\"ndarray\",\"array\":{\"type\":\"bytes\",\"data\":\"uWUPa3jP0b+VVSyEuuLiPw==\"},\"shape\":[2],\"dtype\":\"float64\",\"order\":\"little\"}],[23,{\"type\":\"ndarray\",\"array\":{\"type\":\"bytes\",\"data\":\"OMQZSl4oAsBuwSXJCmr/Pw==\"},\"shape\":[2],\"dtype\":\"float64\",\"order\":\"little\"}],[24,{\"type\":\"ndarray\",\"array\":{\"type\":\"bytes\",\"data\":\"CGa4P4kH9r+NxgODasDwPw==\"},\"shape\":[2],\"dtype\":\"float64\",\"order\":\"little\"}],[25,{\"type\":\"ndarray\",\"array\":{\"type\":\"bytes\",\"data\":\"w9Um1P0u87+IlOJ+mYW7vw==\"},\"shape\":[2],\"dtype\":\"float64\",\"order\":\"little\"}],[26,{\"type\":\"ndarray\",\"array\":{\"type\":\"bytes\",\"data\":\"SvWpctKb/b9j0p2jXcrcvw==\"},\"shape\":[2],\"dtype\":\"float64\",\"order\":\"little\"}],[27,{\"type\":\"ndarray\",\"array\":{\"type\":\"bytes\",\"data\":\"In+Na8vaCcAJvKvB4f/hPw==\"},\"shape\":[2],\"dtype\":\"float64\",\"order\":\"little\"}],[28,{\"type\":\"ndarray\",\"array\":{\"type\":\"bytes\",\"data\":\"u3w9IGM84D+7stPD9kT6Pw==\"},\"shape\":[2],\"dtype\":\"float64\",\"order\":\"little\"}],[29,{\"type\":\"ndarray\",\"array\":{\"type\":\"bytes\",\"data\":\"hKDTvbpQ7j+y78P1EP6wPw==\"},\"shape\":[2],\"dtype\":\"float64\",\"order\":\"little\"}],[30,{\"type\":\"ndarray\",\"array\":{\"type\":\"bytes\",\"data\":\"fIejuSGIyD/8a7P5FSDkvw==\"},\"shape\":[2],\"dtype\":\"float64\",\"order\":\"little\"}],[31,{\"type\":\"ndarray\",\"array\":{\"type\":\"bytes\",\"data\":\"kV6OZ0KkCcAQMXLFNMLwPw==\"},\"shape\":[2],\"dtype\":\"float64\",\"order\":\"little\"}],[32,{\"type\":\"ndarray\",\"array\":{\"type\":\"bytes\",\"data\":\"0f2c0yDG3j8QGj23gET5vw==\"},\"shape\":[2],\"dtype\":\"float64\",\"order\":\"little\"}],[33,{\"type\":\"ndarray\",\"array\":{\"type\":\"bytes\",\"data\":\"Kd2ug5wC6z8rDn7ziYwSQA==\"},\"shape\":[2],\"dtype\":\"float64\",\"order\":\"little\"}],[34,{\"type\":\"ndarray\",\"array\":{\"type\":\"bytes\",\"data\":\"bHQ2YKk5CcBX25vo3NPxvw==\"},\"shape\":[2],\"dtype\":\"float64\",\"order\":\"little\"}],[35,{\"type\":\"ndarray\",\"array\":{\"type\":\"bytes\",\"data\":\"v6inIlYLBsBWLEJM7VjsPw==\"},\"shape\":[2],\"dtype\":\"float64\",\"order\":\"little\"}],[36,{\"type\":\"ndarray\",\"array\":{\"type\":\"bytes\",\"data\":\"hremW9Ix+7/9WghfmQHePw==\"},\"shape\":[2],\"dtype\":\"float64\",\"order\":\"little\"}],[37,{\"type\":\"ndarray\",\"array\":{\"type\":\"bytes\",\"data\":\"Wcc75Qdq1r9CmXICGn/OPw==\"},\"shape\":[2],\"dtype\":\"float64\",\"order\":\"little\"}],[38,{\"type\":\"ndarray\",\"array\":{\"type\":\"bytes\",\"data\":\"6HFCrhfLCcCa3DvZOG/5Pw==\"},\"shape\":[2],\"dtype\":\"float64\",\"order\":\"little\"}],[39,{\"type\":\"ndarray\",\"array\":{\"type\":\"bytes\",\"data\":\"+rJfmSKjsz/Q6ps0ifoJQA==\"},\"shape\":[2],\"dtype\":\"float64\",\"order\":\"little\"}],[40,{\"type\":\"ndarray\",\"array\":{\"type\":\"bytes\",\"data\":\"fRs/Jwm0479UK1JUm1b0Pw==\"},\"shape\":[2],\"dtype\":\"float64\",\"order\":\"little\"}],[41,{\"type\":\"ndarray\",\"array\":{\"type\":\"bytes\",\"data\":\"0h2vaCgpDMAwICNiRzvUPw==\"},\"shape\":[2],\"dtype\":\"float64\",\"order\":\"little\"}],[42,{\"type\":\"ndarray\",\"array\":{\"type\":\"bytes\",\"data\":\"AJ/4zCXW9b9bKQS4Y0QEQA==\"},\"shape\":[2],\"dtype\":\"float64\",\"order\":\"little\"}],[43,{\"type\":\"ndarray\",\"array\":{\"type\":\"bytes\",\"data\":\"cTNKHTBc/r9VflWxtpYAQA==\"},\"shape\":[2],\"dtype\":\"float64\",\"order\":\"little\"}],[44,{\"type\":\"ndarray\",\"array\":{\"type\":\"bytes\",\"data\":\"fhJNUFoNDcBweRBh7gfkvw==\"},\"shape\":[2],\"dtype\":\"float64\",\"order\":\"little\"}],[45,{\"type\":\"ndarray\",\"array\":{\"type\":\"bytes\",\"data\":\"p+8xe1o1A8AESDkO0KUEQA==\"},\"shape\":[2],\"dtype\":\"float64\",\"order\":\"little\"}],[46,{\"type\":\"ndarray\",\"array\":{\"type\":\"bytes\",\"data\":\"R4McXw+HD8DM/ekhsAz2Pw==\"},\"shape\":[2],\"dtype\":\"float64\",\"order\":\"little\"}],[47,{\"type\":\"ndarray\",\"array\":{\"type\":\"bytes\",\"data\":\"ZbatUTuf8j/sWjdGEsrzvw==\"},\"shape\":[2],\"dtype\":\"float64\",\"order\":\"little\"}],[48,{\"type\":\"ndarray\",\"array\":{\"type\":\"bytes\",\"data\":\"dlZ1aqK6+r8YeD39WFEKwA==\"},\"shape\":[2],\"dtype\":\"float64\",\"order\":\"little\"}],[49,{\"type\":\"ndarray\",\"array\":{\"type\":\"bytes\",\"data\":\"ixZwRJdD4r/5kGqGCZfZvw==\"},\"shape\":[2],\"dtype\":\"float64\",\"order\":\"little\"}],[50,{\"type\":\"ndarray\",\"array\":{\"type\":\"bytes\",\"data\":\"c/GoKTUPBsAkG0fyvkC1Pw==\"},\"shape\":[2],\"dtype\":\"float64\",\"order\":\"little\"}],[51,{\"type\":\"ndarray\",\"array\":{\"type\":\"bytes\",\"data\":\"TuH1XcuN8r/H2XDJxLP8vw==\"},\"shape\":[2],\"dtype\":\"float64\",\"order\":\"little\"}],[52,{\"type\":\"ndarray\",\"array\":{\"type\":\"bytes\",\"data\":\"nKm82r5687+CEXi1DMPwvw==\"},\"shape\":[2],\"dtype\":\"float64\",\"order\":\"little\"}],[53,{\"type\":\"ndarray\",\"array\":{\"type\":\"bytes\",\"data\":\"F50FS7IN+r+zEKVaPTq/Pw==\"},\"shape\":[2],\"dtype\":\"float64\",\"order\":\"little\"}],[54,{\"type\":\"ndarray\",\"array\":{\"type\":\"bytes\",\"data\":\"x24/v4XYFkCOOcOh22uSPw==\"},\"shape\":[2],\"dtype\":\"float64\",\"order\":\"little\"}],[55,{\"type\":\"ndarray\",\"array\":{\"type\":\"bytes\",\"data\":\"260gv6eQ/b8+vWP+V/rwvw==\"},\"shape\":[2],\"dtype\":\"float64\",\"order\":\"little\"}],[56,{\"type\":\"ndarray\",\"array\":{\"type\":\"bytes\",\"data\":\"GQ8jDhHtAkCdoktcuiYCwA==\"},\"shape\":[2],\"dtype\":\"float64\",\"order\":\"little\"}],[57,{\"type\":\"ndarray\",\"array\":{\"type\":\"bytes\",\"data\":\"PLJasB0A7D/NiKd6BmsEwA==\"},\"shape\":[2],\"dtype\":\"float64\",\"order\":\"little\"}],[58,{\"type\":\"ndarray\",\"array\":{\"type\":\"bytes\",\"data\":\"9jxYxl7m0L+FiFL3Iy/+vw==\"},\"shape\":[2],\"dtype\":\"float64\",\"order\":\"little\"}],[59,{\"type\":\"ndarray\",\"array\":{\"type\":\"bytes\",\"data\":\"894Ec48pBsDTfxTeQfr3Pw==\"},\"shape\":[2],\"dtype\":\"float64\",\"order\":\"little\"}],[60,{\"type\":\"ndarray\",\"array\":{\"type\":\"bytes\",\"data\":\"xs0bvUVfzD8AzZg3C4IKwA==\"},\"shape\":[2],\"dtype\":\"float64\",\"order\":\"little\"}],[61,{\"type\":\"ndarray\",\"array\":{\"type\":\"bytes\",\"data\":\"0qR5jGasxr9IJXWSkyAIwA==\"},\"shape\":[2],\"dtype\":\"float64\",\"order\":\"little\"}],[62,{\"type\":\"ndarray\",\"array\":{\"type\":\"bytes\",\"data\":\"McQa2qxJ+L/krXXp7nXivw==\"},\"shape\":[2],\"dtype\":\"float64\",\"order\":\"little\"}],[63,{\"type\":\"ndarray\",\"array\":{\"type\":\"bytes\",\"data\":\"KJq8rgvbA8DTBv0fRkQIwA==\"},\"shape\":[2],\"dtype\":\"float64\",\"order\":\"little\"}],[64,{\"type\":\"ndarray\",\"array\":{\"type\":\"bytes\",\"data\":\"KbGaX0wsC8B5rXeDNsQCQA==\"},\"shape\":[2],\"dtype\":\"float64\",\"order\":\"little\"}],[65,{\"type\":\"ndarray\",\"array\":{\"type\":\"bytes\",\"data\":\"H8zUo6lOA0BuF19+OrH5Pw==\"},\"shape\":[2],\"dtype\":\"float64\",\"order\":\"little\"}],[66,{\"type\":\"ndarray\",\"array\":{\"type\":\"bytes\",\"data\":\"8BtL0jvr/T+43guxkcDkvw==\"},\"shape\":[2],\"dtype\":\"float64\",\"order\":\"little\"}],[67,{\"type\":\"ndarray\",\"array\":{\"type\":\"bytes\",\"data\":\"CFUmhgRR+T9tCybUydHgPw==\"},\"shape\":[2],\"dtype\":\"float64\",\"order\":\"little\"}],[68,{\"type\":\"ndarray\",\"array\":{\"type\":\"bytes\",\"data\":\"Dd/V/qeoEEDVMUyAEZXevw==\"},\"shape\":[2],\"dtype\":\"float64\",\"order\":\"little\"}],[69,{\"type\":\"ndarray\",\"array\":{\"type\":\"bytes\",\"data\":\"+RXjo+t46D+AKCTan8sJwA==\"},\"shape\":[2],\"dtype\":\"float64\",\"order\":\"little\"}],[70,{\"type\":\"ndarray\",\"array\":{\"type\":\"bytes\",\"data\":\"DGozUGr1AkBr273xOMbovw==\"},\"shape\":[2],\"dtype\":\"float64\",\"order\":\"little\"}],[71,{\"type\":\"ndarray\",\"array\":{\"type\":\"bytes\",\"data\":\"LqAm7/fgwz/ZuJ/UxcEGQA==\"},\"shape\":[2],\"dtype\":\"float64\",\"order\":\"little\"}],[72,{\"type\":\"ndarray\",\"array\":{\"type\":\"bytes\",\"data\":\"Lx+n+tJ0AUDl+QxXYtr6vw==\"},\"shape\":[2],\"dtype\":\"float64\",\"order\":\"little\"}],[73,{\"type\":\"ndarray\",\"array\":{\"type\":\"bytes\",\"data\":\"PUx07bAJCkBYKSy8qMTjvw==\"},\"shape\":[2],\"dtype\":\"float64\",\"order\":\"little\"}],[74,{\"type\":\"ndarray\",\"array\":{\"type\":\"bytes\",\"data\":\"dUxreS9X9z+//xFeA7LKPw==\"},\"shape\":[2],\"dtype\":\"float64\",\"order\":\"little\"}],[75,{\"type\":\"ndarray\",\"array\":{\"type\":\"bytes\",\"data\":\"ma50QNcBBUBS34KU2ZPKPw==\"},\"shape\":[2],\"dtype\":\"float64\",\"order\":\"little\"}],[76,{\"type\":\"ndarray\",\"array\":{\"type\":\"bytes\",\"data\":\"YlJpOydtq79GYZsjYeP+Pw==\"},\"shape\":[2],\"dtype\":\"float64\",\"order\":\"little\"}],[77,{\"type\":\"ndarray\",\"array\":{\"type\":\"bytes\",\"data\":\"bneqWDUX+L+7lLHO8c72Pw==\"},\"shape\":[2],\"dtype\":\"float64\",\"order\":\"little\"}],[78,{\"type\":\"ndarray\",\"array\":{\"type\":\"bytes\",\"data\":\"AkJlUKD8+r9uKRP1q14CQA==\"},\"shape\":[2],\"dtype\":\"float64\",\"order\":\"little\"}],[79,{\"type\":\"ndarray\",\"array\":{\"type\":\"bytes\",\"data\":\"S1poRjwZEUCtxMkjgprlPw==\"},\"shape\":[2],\"dtype\":\"float64\",\"order\":\"little\"}],[80,{\"type\":\"ndarray\",\"array\":{\"type\":\"bytes\",\"data\":\"20lKwr8i9T8FyFf4UOkAwA==\"},\"shape\":[2],\"dtype\":\"float64\",\"order\":\"little\"}],[81,{\"type\":\"ndarray\",\"array\":{\"type\":\"bytes\",\"data\":\"mmcNiadcBcBr5QzvULkMQA==\"},\"shape\":[2],\"dtype\":\"float64\",\"order\":\"little\"}],[82,{\"type\":\"ndarray\",\"array\":{\"type\":\"bytes\",\"data\":\"TYBZA+nXB0B0vei9Jo7WPw==\"},\"shape\":[2],\"dtype\":\"float64\",\"order\":\"little\"}],[83,{\"type\":\"ndarray\",\"array\":{\"type\":\"bytes\",\"data\":\"u7Ld/StL8L+fi/YIY88KQA==\"},\"shape\":[2],\"dtype\":\"float64\",\"order\":\"little\"}],[84,{\"type\":\"ndarray\",\"array\":{\"type\":\"bytes\",\"data\":\"pDCAmdyRB0Clt4RZluf8vw==\"},\"shape\":[2],\"dtype\":\"float64\",\"order\":\"little\"}],[85,{\"type\":\"ndarray\",\"array\":{\"type\":\"bytes\",\"data\":\"AhnatK2hEMD3tqlxmwfAvw==\"},\"shape\":[2],\"dtype\":\"float64\",\"order\":\"little\"}],[86,{\"type\":\"ndarray\",\"array\":{\"type\":\"bytes\",\"data\":\"eqWCs3oaCUC/8NXRkNIGwA==\"},\"shape\":[2],\"dtype\":\"float64\",\"order\":\"little\"}],[87,{\"type\":\"ndarray\",\"array\":{\"type\":\"bytes\",\"data\":\"lyTiWxxbEUD8pwtm3MX3vw==\"},\"shape\":[2],\"dtype\":\"float64\",\"order\":\"little\"}],[88,{\"type\":\"ndarray\",\"array\":{\"type\":\"bytes\",\"data\":\"PRtZizvh9j+x4M7aIQUSwA==\"},\"shape\":[2],\"dtype\":\"float64\",\"order\":\"little\"}],[89,{\"type\":\"ndarray\",\"array\":{\"type\":\"bytes\",\"data\":\"mp8BQZMdy7/MGqhLE0IgQA==\"},\"shape\":[2],\"dtype\":\"float64\",\"order\":\"little\"}],[90,{\"type\":\"ndarray\",\"array\":{\"type\":\"bytes\",\"data\":\"VNMm5235B0AzJVcUgmYIQA==\"},\"shape\":[2],\"dtype\":\"float64\",\"order\":\"little\"}],[91,{\"type\":\"ndarray\",\"array\":{\"type\":\"bytes\",\"data\":\"0bxLdCrx4r9dwMmPbxoewA==\"},\"shape\":[2],\"dtype\":\"float64\",\"order\":\"little\"}],[92,{\"type\":\"ndarray\",\"array\":{\"type\":\"bytes\",\"data\":\"nW6Zk9HrEEB/j5AiZcsOwA==\"},\"shape\":[2],\"dtype\":\"float64\",\"order\":\"little\"}],[93,{\"type\":\"ndarray\",\"array\":{\"type\":\"bytes\",\"data\":\"fZ5XO5VJ+L9lzhlDjgARwA==\"},\"shape\":[2],\"dtype\":\"float64\",\"order\":\"little\"}],[94,{\"type\":\"ndarray\",\"array\":{\"type\":\"bytes\",\"data\":\"JEPRDVKCHUAGnVfVBYIRQA==\"},\"shape\":[2],\"dtype\":\"float64\",\"order\":\"little\"}],[95,{\"type\":\"ndarray\",\"array\":{\"type\":\"bytes\",\"data\":\"xLZfIhWn+T8AAAAAAAAkwA==\"},\"shape\":[2],\"dtype\":\"float64\",\"order\":\"little\"}],[96,{\"type\":\"ndarray\",\"array\":{\"type\":\"bytes\",\"data\":\"eGExx7H8FcBl3lrK8fAXwA==\"},\"shape\":[2],\"dtype\":\"float64\",\"order\":\"little\"}],[97,{\"type\":\"ndarray\",\"array\":{\"type\":\"bytes\",\"data\":\"DNLyq+lHIMAAlRn9wc8LwA==\"},\"shape\":[2],\"dtype\":\"float64\",\"order\":\"little\"}]]}}},\"node_renderer\":{\"type\":\"object\",\"name\":\"GlyphRenderer\",\"id\":\"p1914\",\"attributes\":{\"data_source\":{\"type\":\"object\",\"name\":\"ColumnDataSource\",\"id\":\"p1911\",\"attributes\":{\"selected\":{\"type\":\"object\",\"name\":\"Selection\",\"id\":\"p1912\",\"attributes\":{\"indices\":[],\"line_indices\":[]}},\"selection_policy\":{\"type\":\"object\",\"name\":\"UnionRenderers\",\"id\":\"p1913\"},\"data\":{\"type\":\"map\",\"entries\":[[\"adjusted_node_size\",[26.666666666666664,25.666666666666664,20.333333333333336,15.0,30.0,18.0,26.333333333333332,30.0,26.666666666666664,14.333333333333334,27.0,19.333333333333332,24.666666666666664,20.0,20.666666666666664,24.333333333333332,25.999999999999996,22.0,22.333333333333332,25.999999999999996,25.0,21.333333333333332,23.0,21.666666666666664,22.333333333333332,17.666666666666664,18.0,23.666666666666668,27.0,20.666666666666664,27.666666666666664,10.0,21.666666666666664,28.999999999999996,23.666666666666668,25.333333333333332,24.0,23.33333333333333,13.666666666666666,23.0,26.333333333333332,24.333333333333332,20.666666666666664,25.0,24.333333333333332,15.0,21.0,18.333333333333332,24.666666666666664,20.0,22.333333333333332,24.666666666666664,23.0,21.333333333333332,22.0,24.666666666666664,19.333333333333332,22.666666666666664,22.666666666666664,27.333333333333332,19.0,23.666666666666668,25.999999999999996,19.333333333333332,22.333333333333332,25.666666666666664,23.33333333333333,23.666666666666668,23.0,21.333333333333332,23.0,22.333333333333332,21.0,25.0,22.0,21.0,25.333333333333332,19.333333333333332,24.0,24.0,21.666666666666664,23.33333333333333,28.666666666666664,24.333333333333332,24.333333333333332,23.0,22.0,26.666666666666664,24.666666666666664,30.0,22.333333333333332,22.0,24.333333333333332,28.666666666666664,28.0,25.666666666666664,24.0,24.0]],[\"rating\",[7.3,7.0,5.4,3.8,8.3,4.7,7.2,8.3,7.3,3.6,7.4,5.1,6.7,5.3,5.5,6.6,7.1,5.9,6.0,7.1,6.8,5.7,6.2,5.8,6.0,4.6,4.7,6.4,7.4,5.5,7.6,2.3,5.8,8.0,6.4,6.9,6.5,6.3,3.4,6.2,7.2,6.6,5.5,6.8,6.6,3.8,5.6,4.8,6.7,5.3,6.0,6.7,6.2,5.7,5.9,6.7,5.1,6.1,6.1,7.5,5.0,6.4,7.1,5.1,6.0,7.0,6.3,6.4,6.2,5.7,6.2,6.0,5.6,6.8,5.9,5.6,6.9,5.1,6.5,6.5,5.8,6.3,7.9,6.6,6.6,6.2,5.9,7.3,6.7,8.3,6.0,5.9,6.6,7.9,7.7,7.0,6.5,6.5]],[\"name\",[\"Puli Varudhu\",\"Manonmani\",\"I Am Sorry\",\"Gauri: The Unborn\",\"Pithamagan\",\"Locked In\",\"Teen Yaari Katha\",\"Thulladha Manamum Thullum\",\"Sitara\",\"Sooryan\",\"Hello Brother\",\"Hells Angels on Wheels\",\"Texas\",\"Coffin Rock\",\"A Successful Failure\",\"Cry Terror!\",\"Teacher's Pet\",\"Ark\",\"Man-Proof\",\"Son of Frankenstein\",\"The Prisoner\",\"Tobi\",\"Shadows\",\"Novocaine\",\"The Mummy's Hand\",\"Cthulhu\",\"Diagnosis: Death\",\"Tarzan's Greatest Adventure\",\"The First Grader\",\"All Night Long\",\"A Room for Romeo Brass\",\"Tail Sting\",\"Passed Away\",\"Ambikapathy\",\"Force 10 from Navarone\",\"28 Weeks Later\",\"Malaya\",\"Made for Each Other\",\"Dinocroc\",\"Lulu on the Bridge\",\"Pay It Forward\",\"Dragonslayer\",\"Firehouse Dog\",\"Signs\",\"Courage Under Fire\",\"Devil Girl\",\"Hell Night\",\"Hard to Hold\",\"Iluminados por el fuego\",\"Final Approach\",\"Daylight Robbery\",\"Rudo y Cursi\",\"In Too Deep\",\"Fatal Instinct\",\"Le carnaval des v\\u00e9rit\\u00e9s\",\"King of the Coral Sea\",\"Superdad\",\"D\\u00f8den p\\u00e5 Oslo S\",\"Trapped\",\"A Simple Plan\",\"Answers to Nothing\",\"Mountain Family Robinson\",\"Majboor\",\"Spooked\",\"Friday the 13th: The Final Chapter\",\"Roberta\",\"My Best Friend's Wedding\",\"Niloofar\",\"Anywhere But Here\",\"Tepeyac\",\"Miss Annie Rooney\",\"Year of the Dog\",\"Strange Interlude\",\"The Gilded Lily\",\"Happy Together\",\"The Foundling\",\"Fatal Attraction\",\"I Was a Teenage Frankenstein\",\"Subway\",\"One on One\",\"The Tiger's Tail\",\"Gung Ho\",\"Interview\",\"The Great Outdoors\",\"Qu\\u00e9 hombre tan sin embargo\",\"Deep Impact\",\"The Man from Yesterday\",\"Camille\",\"Happy Land\",\"O Pagador de Promessas\",\"Endless Night\",\"Chile 672\",\"Nijinsky\",\"In Search of La Che\",\"Shubho Mahurat\",\"Popatopolis\",\"Count Five and Die\",\"Undertow\"]],[\"degree\",[10,13,43,31,33,48,11,55,10,35,24,46,30,51,50,41,36,45,29,18,30,25,74,25,41,50,45,20,36,44,54,34,35,7,22,32,39,65,33,14,27,23,20,27,18,26,23,30,13,63,30,19,33,30,3,35,20,14,22,21,27,12,46,12,18,18,27,31,13,13,29,18,16,20,37,25,33,43,15,7,18,7,14,11,15,15,11,11,7,1,5,3,5,6,1,1,1,1]],[\"betweenness\",[0.00016267472194480176,0.000983250712393639,0.02292890679660798,0.015862838657741494,0.011964644636945706,0.030367568464658812,0.000578038891072009,0.06006638825313321,0.00043386192111916154,0.011976860619896843,0.005961871074855996,0.016042837513176766,0.011798709256085902,0.02214992694616904,0.025366168391944582,0.00866585892902003,0.007680736637606406,0.016506956785394013,0.004197542474711039,0.0005058374912935874,0.010227906531860604,0.0022632975107811657,0.09128032290982584,0.0017759383778930091,0.012264523849937512,0.024875127976776802,0.017928006046990054,0.0012434044625351298,0.008081953076336933,0.019967372295654,0.03962348860053308,0.0039554808644910325,0.007885291222403919,4.8925950987806654e-05,0.0012752074507159732,0.0034839563823655714,0.008768366484280504,0.04235319350983076,0.004766178836320759,0.00031224216828287967,0.003273187809600939,0.001297796737354841,0.0011195893239522392,0.002602271981944068,0.0003364500157904269,0.002548272196192268,0.001409437374350294,0.008624569446237507,0.005420347161173274,0.07526640095341236,0.004841727618467734,0.0009662292417502822,0.006930377938063245,0.005341512606089983,0.0,0.008885632564760503,0.005236117657967712,0.0005121716771302928,0.002230211475419754,0.0012059202020138732,0.034687735112202286,0.0004390669353416444,0.036796318981723,0.0007250950487654446,0.0004645898197161811,0.00047213980143324166,0.004750027289840753,0.00636976321268379,0.0007909046471223538,0.006446368540718106,0.005032012885294271,0.001130753171543022,0.00048013264006549684,0.0013748103573216354,0.009120358184648512,0.0026669074264002376,0.005705393763124607,0.008543573808400602,0.0004965939610477037,0.00012043849087498004,0.0010500962998525921,3.57800027722256e-05,0.0002879771887578808,0.0003278763158319143,0.003298602521755188,0.0002613023576201255,0.001397106191460132,0.0009881335588255576,0.000506173144105886,0.0,3.900999719837293e-05,0.0,8.113783886979763e-05,0.000140290226752568,0.0,0.0,0.0,0.0]],[\"box_office_revenue\",[7.3,7.0,5.4,3.8,8.3,4.7,7.2,8.3,7.3,3.6,7.4,5.1,6.7,5.3,5.5,6.6,7.1,5.9,6.0,7.1,6.8,5.7,6.2,5.8,6.0,4.6,4.7,6.4,7.4,5.5,7.6,2.3,5.8,8.0,6.4,6.9,6.5,6.3,3.4,6.2,7.2,6.6,5.5,6.8,6.6,3.8,5.6,4.8,6.7,5.3,6.0,6.7,6.2,5.7,5.9,6.7,5.1,6.1,6.1,7.5,5.0,6.4,7.1,5.1,6.0,7.0,6.3,6.4,6.2,5.7,6.2,6.0,5.6,6.8,5.9,5.6,6.9,5.1,6.5,6.5,5.8,6.3,7.9,6.6,6.6,6.2,5.9,7.3,6.7,8.3,6.0,5.9,6.6,7.9,7.7,7.0,6.5,6.5]],[\"index\",[0,1,2,3,4,5,6,7,8,9,10,11,12,13,14,15,16,17,18,19,20,21,22,23,24,25,26,27,28,29,30,31,32,33,34,35,36,37,38,39,40,41,42,43,44,45,46,47,48,49,50,51,52,53,54,55,56,57,58,59,60,61,62,63,64,65,66,67,68,69,70,71,72,73,74,75,76,77,78,79,80,81,82,83,84,85,86,87,88,89,90,91,92,93,94,95,96,97]]]}}},\"view\":{\"type\":\"object\",\"name\":\"CDSView\",\"id\":\"p1915\",\"attributes\":{\"filter\":{\"type\":\"object\",\"name\":\"AllIndices\",\"id\":\"p1916\"}}},\"glyph\":{\"type\":\"object\",\"name\":\"Circle\",\"id\":\"p1929\",\"attributes\":{\"size\":{\"type\":\"field\",\"field\":\"adjusted_node_size\"},\"fill_color\":{\"type\":\"field\",\"field\":\"betweenness\",\"transform\":{\"type\":\"object\",\"name\":\"LinearColorMapper\",\"id\":\"p1928\",\"attributes\":{\"palette\":[\"#084594\",\"#2171b5\",\"#4292c6\",\"#6baed6\",\"#9ecae1\",\"#c6dbef\",\"#deebf7\",\"#f7fbff\"],\"low\":0.0,\"high\":0.09128032290982584}}}}}}},\"edge_renderer\":{\"type\":\"object\",\"name\":\"GlyphRenderer\",\"id\":\"p1921\",\"attributes\":{\"data_source\":{\"type\":\"object\",\"name\":\"ColumnDataSource\",\"id\":\"p1918\",\"attributes\":{\"selected\":{\"type\":\"object\",\"name\":\"Selection\",\"id\":\"p1919\",\"attributes\":{\"indices\":[],\"line_indices\":[]}},\"selection_policy\":{\"type\":\"object\",\"name\":\"UnionRenderers\",\"id\":\"p1920\"},\"data\":{\"type\":\"map\",\"entries\":[[\"Weight\",[0.7391471862792969,0.7455722093582153,0.7370235323905945,0.7391453981399536,0.7357613444328308,0.7357060313224792,0.750068187713623,0.7364976406097412,0.7442240715026855,0.7463851571083069,0.7557071447372437,0.7355468273162842,0.7387186288833618,0.739231288433075,0.735521674156189,0.73478102684021,0.740544319152832,0.7390723824501038,0.7483675479888916,0.7423784732818604,0.7451441287994385,0.743008017539978,0.7408771514892578,0.7435718178749084,0.7362306714057922,0.7377309799194336,0.7391623854637146,0.7516953945159912,0.7493458986282349,0.7410282492637634,0.7416225671768188,0.7474565505981445,0.7390773296356201,0.7398654222488403,0.7381076812744141,0.7411931753158569,0.7392134666442871,0.7442713975906372,0.7448377013206482,0.753447413444519,0.7452057600021362,0.7412034869194031,0.736731767654419,0.7419675588607788,0.7450127601623535,0.7389136552810669,0.7416104078292847,0.7590469121932983,0.7356546521186829,0.7458463907241821,0.7392022609710693,0.747519850730896,0.752626895904541,0.7390743494033813,0.750124990940094,0.7549526691436768,0.7385392189025879,0.7385539412498474,0.7348896265029907,0.7467613220214844,0.7348423004150391,0.7347792387008667,0.7375327348709106,0.7408833503723145,0.7458263635635376,0.7403922080993652,0.7370952367782593,0.7369148135185242,0.7355595231056213,0.7354675531387329,0.737737774848938,0.7432248592376709,0.738820493221283,0.750186562538147,0.7410440444946289,0.7389148473739624,0.7433151006698608,0.7348799705505371,0.7377967834472656,0.7347899675369263,0.7420036792755127,0.7404704689979553,0.7399618625640869,0.7353421449661255,0.7402853965759277,0.7370314598083496,0.7413848042488098,0.7463480234146118,0.7450944185256958,0.7410047650337219,0.7371505498886108,0.7381260395050049,0.7362953424453735,0.7383176684379578,0.735833466053009,0.7357641458511353,0.7487614154815674,0.7404940128326416,0.7385522127151489,0.7408527731895447,0.7357503175735474,0.7352781295776367,0.736320436000824,0.7416696548461914,0.7374192476272583,0.7373172640800476,0.7396250367164612,0.75569748878479,0.7353923916816711,0.7381770014762878,0.7360055446624756,0.7395439147949219,0.7477481961250305,0.7361858487129211,0.7355414032936096,0.7347712516784668,0.7524697184562683,0.7370469570159912,0.740976870059967,0.737302303314209,0.7405280470848083,0.7388730049133301,0.7442257404327393,0.7481037974357605,0.7370619773864746,0.7414608001708984,0.7351645827293396,0.7351986765861511,0.7378822565078735,0.7454284429550171,0.7361812591552734,0.7398107051849365,0.735207200050354,0.7358112335205078,0.7500849366188049,0.7519494295120239,0.7401047945022583,0.7381507158279419,0.7374453544616699,0.7362562417984009,0.7466685771942139,0.7474867701530457,0.7355956435203552,0.7353140711784363,0.7388255596160889,0.7452042102813721,0.7435332536697388,0.7362834215164185,0.7369859218597412,0.7352327108383179,0.7371787428855896,0.7356712222099304,0.7446208000183105,0.7507131695747375,0.7416354417800903,0.7367492914199829,0.747251033782959,0.7389183044433594,0.7425569295883179,0.7465346455574036,0.7490003108978271,0.739983856678009,0.7523905038833618,0.746670663356781,0.7363969683647156,0.7377830743789673,0.7367531061172485,0.742118239402771,0.7483195066452026,0.7394189834594727,0.7383075952529907,0.7431454658508301,0.7442644834518433,0.7414381504058838,0.745519757270813,0.7455593347549438,0.7440381050109863,0.735187292098999,0.7381423711776733,0.7414342761039734,0.7397804260253906,0.7405111193656921,0.7492581605911255,0.7420655488967896,0.7465317845344543,0.7458033561706543,0.7364187836647034,0.7425787448883057,0.744722306728363,0.7350918054580688,0.7452957630157471,0.7403454780578613,0.7394332885742188,0.7391223907470703,0.746894359588623,0.7351385354995728,0.7391188740730286,0.7403985261917114,0.743656575679779,0.7413204908370972,0.7402373552322388,0.7460354566574097,0.747190535068512,0.748446524143219,0.7425206899642944,0.7442901134490967,0.7398726940155029,0.7352955937385559,0.7617351412773132,0.7402461767196655,0.7381632328033447,0.7436790466308594,0.7531781196594238,0.738538384437561,0.737335741519928,0.7361631393432617,0.7364304065704346,0.7483029365539551,0.7386643886566162,0.7351997494697571,0.7430382966995239,0.7393842935562134,0.7381828427314758,0.7363240718841553,0.7425000071525574,0.7371805310249329,0.7355887293815613,0.737628161907196,0.7482196092605591,0.7370821237564087,0.7407264709472656,0.7426007986068726,0.742782473564148,0.7432541847229004,0.741277813911438,0.7436331510543823,0.7412241697311401,0.7483155727386475,0.7397836446762085,0.7350096702575684,0.741589367389679,0.7414056062698364,0.7415573596954346,0.7414823174476624,0.7501687407493591,0.7375380992889404,0.7364670038223267,0.7450109720230103,0.7381837368011475,0.738422691822052,0.7367894649505615,0.7408326864242554,0.7399915456771851,0.735216498374939,0.7373619079589844,0.7353453040122986,0.7409877777099609,0.736251950263977,0.7362600564956665,0.7365837097167969,0.7357091903686523,0.7366824746131897,0.7399922609329224,0.7479838728904724,0.7406892776489258,0.7408397197723389,0.7382904291152954,0.7408428192138672,0.7423405051231384,0.7348021268844604,0.7353848218917847,0.738267719745636,0.736343502998352,0.7479321956634521,0.7351768612861633,0.7397055625915527,0.7374093532562256,0.73905348777771,0.7448412179946899,0.738361656665802,0.736726701259613,0.7550687789916992,0.7402130961418152,0.7364336848258972,0.7366248369216919,0.7417141199111938,0.737971305847168,0.7419041395187378,0.7415812015533447,0.736351728439331,0.7349197268486023,0.7415027022361755,0.7414290904998779,0.7390783429145813,0.7381175756454468,0.7432554960250854,0.7444638013839722,0.734771728515625,0.7417413592338562,0.737716794013977,0.7431063055992126,0.7355210781097412,0.7406418323516846,0.7388201951980591,0.73783940076828,0.7375365495681763,0.7413949966430664,0.7396058440208435,0.7376187443733215,0.7400498390197754,0.7400989532470703,0.739492654800415,0.7355448007583618,0.74159836769104,0.7398568987846375,0.7553585171699524,0.7397007942199707,0.7401307821273804,0.7399337291717529,0.7374778985977173,0.742710292339325,0.7366238832473755,0.7367064952850342,0.7556591033935547,0.7405361533164978,0.73704993724823,0.7388961315155029,0.7347588539123535,0.7397360801696777,0.7402083277702332,0.7396999597549438,0.7422561645507812,0.7362490892410278,0.7407922148704529,0.7399157285690308,0.7456632852554321,0.7352286577224731,0.7363444566726685,0.7360174655914307,0.7350683212280273,0.7465115785598755,0.7412244081497192,0.7376747131347656,0.7425011396408081,0.735371470451355,0.7470926642417908,0.7360813021659851,0.7468801736831665,0.745881199836731,0.7386791110038757,0.736987292766571,0.7370774745941162,0.7367559671401978,0.7400517463684082,0.7406871914863586,0.7406060695648193,0.743462860584259,0.7445703744888306,0.7354474067687988,0.744451642036438,0.7455606460571289,0.7385101318359375,0.7395706176757812,0.7414518594741821,0.7376428246498108,0.7425191402435303,0.7443945407867432,0.7424435615539551,0.7460857629776001,0.7410978078842163,0.7422420978546143,0.7358087301254272,0.7415413856506348,0.7358279228210449,0.7394015789031982,0.7419506311416626,0.7391713857650757,0.7349541187286377,0.7465252876281738,0.7348484992980957,0.7387796640396118,0.7379788160324097,0.7444335222244263,0.7418444752693176,0.758028507232666,0.7500015497207642,0.7370040416717529,0.735485315322876,0.7374515533447266,0.7489048838615417,0.750920295715332,0.7407233119010925,0.7368764877319336,0.7363648414611816,0.7386962175369263,0.7373046875,0.7393549680709839,0.7512754797935486,0.7478074431419373,0.7384871244430542,0.7387036085128784,0.7375479936599731,0.7383716106414795,0.7361348867416382,0.734708309173584,0.7427126169204712,0.7379915714263916,0.736270010471344,0.7379549741744995,0.7395229935646057,0.7365289330482483,0.7385907173156738,0.7377147674560547,0.7399457693099976,0.7361721992492676,0.737023115158081,0.7395681142807007,0.7349205017089844,0.7432337403297424,0.7350156903266907,0.7422541975975037,0.7353228330612183,0.7436935901641846,0.7405154705047607,0.7355002760887146,0.7385417222976685,0.7421211004257202,0.7380242347717285,0.7347317934036255,0.7349119782447815,0.735438346862793,0.7440930604934692,0.7450487613677979,0.7444230318069458,0.7418117523193359,0.7364389896392822,0.7458969354629517,0.7440402507781982,0.7405068874359131,0.7384352087974548,0.7424319386482239,0.737393319606781,0.7430675625801086,0.740398645401001,0.7426695823669434,0.7423667907714844,0.7470706105232239,0.7457945942878723,0.735864520072937,0.7466508150100708,0.7447483539581299,0.7411578893661499,0.7458672523498535,0.7350356578826904,0.7348642349243164,0.7409372329711914,0.7446683645248413,0.7469407916069031,0.7353280782699585,0.7463032007217407,0.7350337505340576,0.7348332405090332,0.7391344904899597,0.7478494644165039,0.7406134605407715,0.7407516837120056,0.7361027002334595,0.7426803112030029,0.7363793253898621,0.7388967275619507,0.7405163049697876,0.7425273656845093,0.7472894191741943,0.7372604012489319,0.7400691509246826,0.735395610332489,0.7349293231964111,0.737434983253479,0.7423757314682007,0.7414352297782898,0.7405465841293335,0.7423770427703857,0.7432087659835815,0.737987220287323,0.7396003007888794,0.7487599849700928,0.7429893016815186,0.7552891373634338,0.746484637260437,0.742182731628418,0.7374240159988403,0.743370532989502,0.7389600276947021,0.7363577485084534,0.7431750297546387,0.7362897992134094,0.7365554571151733,0.7350307703018188,0.7405142784118652,0.7430969476699829,0.7427575588226318,0.735149085521698,0.7392868399620056,0.7427762150764465,0.7365785837173462,0.7492384314537048,0.737194299697876,0.7413638830184937,0.7357896566390991,0.7354646325111389,0.7427206039428711,0.7347263097763062,0.7372515201568604,0.7348545789718628,0.7373862266540527,0.7420470714569092,0.734860897064209,0.7419236898422241,0.7424173951148987,0.7567903995513916,0.7403613328933716,0.7388946413993835,0.7500806450843811,0.7352328300476074,0.7403470277786255,0.7418645620346069,0.735488772392273,0.7428007125854492,0.7398790121078491,0.7497841119766235,0.7443708777427673,0.7417341470718384,0.7358201742172241,0.7353614568710327,0.738777756690979,0.7427136898040771,0.7497870922088623,0.7394716143608093,0.7391774654388428,0.7347742319107056,0.7440629005432129,0.7468832731246948,0.7480754852294922,0.7385892868041992,0.7367865443229675,0.740022599697113,0.736603856086731,0.7420996427536011,0.7480646967887878,0.7362523078918457,0.7386090755462646,0.7511131763458252,0.739081621170044,0.7349060773849487,0.7351996898651123,0.7463693618774414,0.7375032901763916,0.738772451877594,0.7388684749603271,0.7401066422462463,0.7370584011077881,0.7360577583312988,0.7349400520324707,0.7393416166305542,0.7384737730026245,0.7416813373565674,0.7348056435585022,0.7354217767715454,0.7475287914276123,0.7414838075637817,0.7432546019554138,0.7369468212127686,0.7350272536277771,0.7359678149223328,0.7381946444511414,0.7395033836364746,0.7433108687400818,0.7362661361694336,0.7398442029953003,0.7368894815444946,0.7400535345077515,0.73832106590271,0.7356057167053223,0.7377576231956482,0.7375938296318054,0.7355879545211792,0.7380726337432861,0.739816427230835,0.7351497411727905,0.7387068867683411,0.7397663593292236,0.737341582775116,0.751583456993103,0.7382036447525024,0.7399396300315857,0.7385996580123901,0.7425752282142639,0.7471864223480225,0.7473840117454529,0.7406547665596008,0.7425922155380249,0.7351894378662109,0.7459914684295654,0.7443060874938965,0.7457455396652222,0.7511297464370728,0.7370991706848145,0.7385467290878296,0.7407230734825134,0.7376342415809631,0.7364217042922974,0.7379556894302368,0.7362328767776489,0.7424046993255615,0.7365678548812866,0.7390143871307373,0.7429919242858887,0.7531218528747559,0.7362784147262573,0.7423267960548401,0.7469015121459961,0.7351599931716919,0.7565449476242065,0.7418323755264282,0.7385396957397461,0.7401937246322632,0.7357432842254639,0.743912935256958,0.743398904800415,0.7413771152496338,0.7452064752578735,0.7377485036849976,0.7379262447357178,0.7398689389228821,0.7414795160293579,0.7370387315750122,0.7469533681869507,0.7381435632705688,0.7400308847427368,0.7443019151687622,0.7424216270446777,0.7409843802452087,0.7424326539039612,0.7429847121238708,0.7389942407608032,0.7469425201416016,0.7406432628631592,0.73586106300354,0.7353613376617432,0.7347345352172852,0.7390010952949524,0.7411353588104248,0.740120530128479,0.740216851234436,0.7379297018051147,0.7389624714851379,0.7370020151138306,0.7347031831741333,0.7357550859451294,0.7350534200668335,0.7416926622390747,0.7403568029403687,0.7388224601745605,0.7368714809417725,0.748832106590271,0.7392538785934448,0.7445068955421448,0.7425411939620972,0.7376649379730225,0.7452064156532288,0.7426597476005554,0.7440280914306641,0.7369294166564941,0.7403885126113892,0.7352546453475952,0.7464459538459778,0.7348991632461548,0.7395102381706238,0.7419265508651733,0.7482607960700989,0.7402800917625427,0.747925341129303,0.7544289827346802,0.738826334476471,0.7396984696388245,0.7388032674789429,0.7417171001434326,0.737337052822113,0.7358648777008057,0.7422282099723816,0.7398883104324341,0.7505190372467041,0.7357324361801147,0.7489502429962158,0.7352417707443237,0.7435153722763062,0.7389662265777588,0.7368632555007935,0.7403755784034729,0.7379603981971741,0.7347263693809509,0.7367040514945984,0.7427026629447937,0.7349938154220581,0.7367987632751465,0.7391488552093506,0.7373257279396057,0.7369120121002197,0.737188458442688,0.7369769811630249,0.7385731935501099,0.7368166446685791,0.7422327399253845,0.7353161573410034,0.7393289804458618,0.740364134311676,0.7408121824264526,0.7410457730293274,0.7356047630310059,0.7387750148773193,0.742203950881958,0.7372089624404907,0.744600772857666,0.7434707283973694,0.7381836771965027,0.7452725172042847,0.735715925693512,0.735876202583313,0.7375712394714355,0.7439359426498413,0.7357876300811768,0.7468301057815552,0.7379828691482544,0.7377219200134277,0.7391477227210999,0.7473042011260986,0.7398279905319214,0.7436151504516602,0.7446810007095337,0.7384743690490723,0.7350698709487915,0.7375022172927856,0.735478401184082,0.747316837310791,0.7376452684402466,0.7361948490142822,0.7459288835525513,0.7430531978607178,0.7360955476760864,0.7352327108383179,0.7434337139129639,0.7430562376976013,0.7350148558616638,0.7441405057907104,0.7375168800354004,0.7426998615264893,0.7419109344482422,0.7373418807983398,0.7348469495773315,0.7351391315460205,0.7447731494903564,0.7431948781013489,0.7422761917114258,0.7349849939346313,0.7363936305046082,0.7398093342781067,0.7386235594749451,0.7352311611175537,0.7378425598144531,0.7392884492874146,0.741912841796875,0.7391287088394165,0.7427553534507751,0.7373872995376587,0.7380626201629639,0.7391623258590698,0.7370668649673462,0.7469991445541382,0.739600419998169,0.7353670001029968,0.7369989156723022,0.7360098958015442,0.7362433671951294,0.7379441261291504,0.7407926321029663,0.743317186832428,0.7396076917648315,0.7484478950500488,0.7450277805328369,0.7474435567855835,0.7434521913528442,0.7453250885009766,0.7546025514602661,0.7415159940719604,0.7461866140365601,0.7359820008277893,0.7364223599433899,0.7449206113815308,0.7446698546409607,0.7435604333877563,0.7548422813415527,0.7357350587844849,0.7527081370353699,0.7360478639602661,0.7402043342590332,0.7392314672470093,0.735228419303894,0.7491928935050964,0.7449272871017456,0.7476050853729248,0.7356866598129272,0.7507479786872864,0.7371174097061157,0.7373700141906738,0.7347172498703003,0.7387882471084595,0.7356657981872559,0.7360327243804932,0.7385227680206299,0.7461972236633301,0.7442673444747925,0.7423216104507446,0.7449477314949036,0.7358312606811523,0.7355844974517822,0.7434321641921997,0.7379288673400879,0.7384795546531677,0.7415070533752441,0.7378288507461548,0.7478313446044922,0.7491925358772278,0.7363850474357605,0.7357942461967468,0.7362667322158813,0.753598690032959,0.7486552000045776,0.7361690998077393,0.7414395809173584,0.7449469566345215,0.7432748079299927,0.7364445924758911,0.7362752556800842,0.7378560304641724,0.7437601685523987,0.742346465587616,0.7378890514373779,0.7422398328781128,0.7443534135818481,0.7461432218551636,0.74605393409729,0.7502789497375488,0.7411997318267822,0.7409574389457703,0.7381638288497925,0.7396619915962219,0.7392114400863647,0.7361723184585571,0.7432263493537903,0.7465094327926636,0.7455268502235413,0.7358084917068481,0.737217903137207,0.7403260469436646,0.7460987567901611,0.7374744415283203,0.7382763624191284,0.7370598912239075,0.7370014190673828,0.7353594303131104,0.7468518614768982,0.7378257513046265,0.7415478229522705,0.7395617365837097,0.7359037399291992,0.7472045421600342,0.7376053333282471,0.7382220029830933,0.7429183721542358,0.7401184439659119,0.7417424321174622,0.7447679042816162,0.737407922744751,0.7350337505340576,0.7355806827545166,0.7354236841201782,0.744419276714325,0.7521559596061707,0.7357629537582397,0.7413648366928101,0.7490787506103516,0.7365940809249878,0.7425183653831482,0.7382842302322388,0.7413387298583984,0.7390339970588684,0.7382487058639526,0.741126537322998,0.7356210947036743,0.7415705919265747,0.7434871196746826,0.7353532314300537,0.7351135015487671,0.7391935586929321,0.7407717704772949,0.7374569177627563,0.7413449287414551,0.7384788990020752,0.7387908697128296,0.7432628273963928,0.7373151183128357,0.7383306622505188,0.7429969906806946,0.7575397491455078,0.7422404289245605,0.7486239075660706,0.7383310198783875,0.7460696697235107,0.740699052810669,0.7421501874923706,0.7400773763656616,0.7356681227684021,0.7419633865356445,0.7356491088867188,0.7420144081115723,0.7375586032867432,0.7539433240890503,0.7396724224090576,0.7436981201171875,0.7463258504867554,0.7351323366165161,0.738786518573761,0.7419472932815552,0.7406346201896667,0.7388268113136292,0.7418594360351562,0.7378727197647095,0.7369320392608643,0.7419131398200989,0.7418213486671448,0.7389415502548218,0.7369049787521362,0.7439208030700684,0.7373558282852173,0.7383875846862793,0.742601752281189,0.7373243570327759,0.7398128509521484,0.7453147172927856,0.7358481287956238,0.7425063848495483,0.740475058555603,0.7347890138626099,0.7366633415222168,0.7405878305435181,0.7409104704856873,0.7391989231109619,0.7406002879142761,0.7381880879402161,0.7490701079368591,0.7379508018493652,0.735695481300354,0.7359330058097839,0.7382423877716064,0.7379070520401001,0.7421679496765137,0.7419891953468323,0.7434235215187073,0.7397546768188477,0.7378897666931152,0.7384921312332153,0.7351735830307007,0.7373726963996887,0.7407795786857605,0.7393527626991272,0.7404741048812866,0.736160397529602,0.7362491488456726,0.7435951828956604,0.7399548292160034,0.7378741502761841,0.735565185546875,0.737123429775238,0.7507758736610413,0.7374143600463867,0.7357826232910156,0.7403240203857422,0.7401574850082397,0.7370172739028931,0.7356137037277222,0.7366337776184082,0.7358709573745728,0.7365467548370361,0.7375615835189819,0.7356419563293457,0.7395670413970947,0.7380094528198242,0.7350989580154419,0.7426337003707886,0.7362885475158691,0.7349516749382019,0.7387964725494385,0.7353125810623169,0.7352951765060425,0.7363336086273193,0.7363764643669128,0.7357195615768433,0.7451406717300415,0.7350555062294006,0.735986590385437,0.7365385890007019,0.7360023260116577,0.7378978729248047,0.734804630279541,0.7348942756652832,0.7352969646453857,0.7354233264923096,0.7356195449829102,0.7364617586135864,0.7353736162185669,0.7377786040306091,0.7368742227554321,0.7375567555427551,0.7423591017723083,0.7361491918563843,0.7398192882537842,0.736200213432312,0.7351313829421997,0.7391146421432495,0.739661455154419,0.7358925342559814,0.7420353889465332,0.7385473251342773,0.734969973564148,0.735429048538208,0.7370464205741882,0.7409331798553467,0.744210422039032,0.7352125644683838,0.7372379899024963,0.7348037958145142,0.7367380857467651,0.7378095388412476,0.7386819124221802,0.7472671270370483,0.7363317608833313,0.742544949054718,0.7397556304931641,0.7351625561714172,0.7479403018951416,0.7434026598930359,0.7370954751968384,0.7449067831039429,0.7488225698471069,0.7378097176551819,0.7447837591171265,0.7389723062515259,0.7532990574836731,0.73874431848526,0.7402403354644775,0.7482333779335022,0.7370838522911072,0.7389566898345947,0.7378822565078735,0.7377023696899414,0.7352997064590454,0.7360473871231079,0.7364464998245239,0.7452210187911987,0.7422598600387573,0.7429400086402893,0.739435076713562,0.7389891147613525,0.7491172552108765,0.7398525476455688,0.7382657527923584,0.736485481262207,0.7359512448310852,0.7439072132110596,0.741701602935791,0.735265851020813,0.7383129596710205,0.751121997833252,0.7414554953575134,0.7368665337562561,0.7377095818519592,0.7479604482650757,0.7388491630554199,0.7352008819580078,0.74786776304245,0.7438291311264038,0.7516149282455444,0.7348270416259766,0.7350671887397766,0.7431533932685852,0.7351723909378052,0.736545205116272,0.735211968421936,0.7412422895431519,0.7503167390823364,0.7360591292381287,0.7350489497184753,0.7373526692390442,0.7385948896408081,0.7411192059516907,0.7390577793121338,0.7423310279846191,0.7361825704574585,0.737625002861023,0.7347819209098816,0.7552292943000793,0.7456840872764587,0.7388073205947876,0.7376388311386108,0.7353405952453613,0.738778293132782,0.7385745048522949,0.7368020415306091,0.7369388937950134,0.7451937198638916,0.7364879846572876,0.7404500842094421,0.7379593849182129,0.7390952110290527,0.7356953620910645,0.7372691631317139,0.7416656017303467,0.7374799251556396,0.7390917539596558,0.7367351055145264,0.7364115118980408,0.7463705539703369,0.7482963800430298,0.7354097366333008,0.7357649803161621,0.745530366897583,0.7357901930809021,0.7448937892913818,0.7362586259841919,0.7413344383239746,0.744700014591217,0.7387344837188721,0.7362688779830933,0.7400158643722534,0.7461347579956055,0.7357884645462036,0.7456818222999573,0.7386049628257751,0.735135555267334,0.741554319858551,0.7350244522094727,0.7410842776298523,0.7388678789138794,0.7381171584129333,0.7366283535957336,0.7507044076919556,0.7354192733764648,0.7383837699890137,0.7352916598320007,0.7391690015792847,0.7384846210479736,0.7405704259872437,0.7369288206100464,0.7364377379417419,0.7373940944671631,0.7425051927566528,0.7439272403717041,0.7445169687271118,0.7358604669570923,0.7414792776107788,0.7419599294662476,0.7433649301528931,0.735974133014679,0.7388045191764832,0.7350457906723022,0.7391047477722168,0.7372311353683472,0.7351404428482056,0.7359929084777832,0.7422590255737305,0.7351978421211243,0.7364014387130737,0.7350924611091614,0.7383649349212646,0.7399119138717651,0.7497142553329468,0.7439313530921936,0.7361181974411011,0.735662579536438,0.7442991137504578,0.749794065952301,0.7413053512573242,0.7442074418067932,0.7418034076690674,0.7364864349365234,0.7379664778709412,0.7500416040420532,0.7400705814361572,0.7372147440910339,0.7516324520111084,0.7367218732833862,0.7369896173477173,0.742512583732605,0.7423131465911865,0.7371916770935059,0.746198832988739,0.7446678876876831,0.7492420673370361,0.7427676916122437,0.7406280040740967,0.7361024618148804,0.7434194087982178,0.7414247393608093,0.7483422160148621,0.7369629144668579,0.7384957671165466,0.736796498298645,0.7446532249450684,0.737865686416626,0.7357852458953857,0.7497437596321106,0.7368108034133911,0.7347931861877441,0.7362520694732666,0.74224454164505,0.7381963729858398,0.7361055612564087,0.7352942228317261,0.7432729005813599,0.7400010228157043,0.735031008720398,0.7540391683578491,0.7431561946868896,0.7429577708244324,0.7365015745162964,0.7501662969589233,0.7409634590148926]],[\"start\",[0,0,0,0,0,0,0,0,0,0,1,1,1,1,1,1,1,1,1,1,1,1,2,2,2,2,2,2,2,2,2,2,2,2,2,2,2,2,2,2,2,2,2,2,2,2,2,2,2,2,2,2,2,2,2,2,2,2,2,2,2,2,2,3,3,3,3,3,3,3,3,3,3,3,3,3,3,3,3,3,3,3,3,3,3,3,3,3,3,3,3,4,4,4,4,4,4,4,4,4,4,4,4,4,4,4,4,4,4,4,4,4,4,4,4,4,4,4,4,4,5,5,5,5,5,5,5,5,5,5,5,5,5,5,5,5,5,5,5,5,5,5,5,5,5,5,5,5,5,5,5,5,5,5,5,5,5,5,5,5,5,5,5,5,5,6,6,6,6,6,6,7,7,7,7,7,7,7,7,7,7,7,7,7,7,7,7,7,7,7,7,7,7,7,7,7,7,7,7,7,7,7,7,7,7,7,7,7,7,7,7,7,7,7,7,7,7,7,7,8,8,8,9,9,9,9,9,9,9,9,9,9,9,9,9,9,9,9,9,9,9,9,9,9,9,9,9,9,10,10,10,10,10,10,10,10,10,10,10,10,10,10,10,11,11,11,11,11,11,11,11,11,11,11,11,11,11,11,11,11,11,11,11,11,11,11,11,11,11,11,11,11,11,11,11,11,11,11,11,11,11,11,11,11,11,12,12,12,12,12,12,12,12,12,12,12,12,12,12,12,12,12,12,12,12,12,12,12,12,12,12,13,13,13,13,13,13,13,13,13,13,13,13,13,13,13,13,13,13,13,13,13,13,13,13,13,13,13,13,13,13,13,13,13,13,13,13,13,13,13,13,13,13,14,14,14,14,14,14,14,14,14,14,14,14,14,14,14,14,14,14,14,14,14,14,14,14,14,14,14,14,14,14,14,14,14,14,14,14,14,14,14,14,14,14,15,15,15,15,15,15,15,15,15,15,15,15,15,15,15,15,15,15,15,15,15,15,15,15,15,15,15,15,15,15,15,15,15,15,15,15,15,16,16,16,16,16,16,16,16,16,16,16,16,16,16,16,16,16,16,16,16,16,16,16,16,16,16,16,16,16,16,17,17,17,17,17,17,17,17,17,17,17,17,17,17,17,17,17,17,17,17,17,17,17,17,17,17,17,17,17,17,17,17,17,17,18,18,18,18,18,18,18,18,18,18,18,18,18,18,18,18,18,18,18,18,18,18,19,19,19,19,19,19,19,19,19,19,19,19,19,19,20,20,20,20,20,20,20,20,20,20,20,20,20,20,20,20,20,20,20,20,21,21,21,21,21,21,21,21,21,21,21,21,21,21,21,21,21,21,22,22,22,22,22,22,22,22,22,22,22,22,22,22,22,22,22,22,22,22,22,22,22,22,22,22,22,22,22,22,22,22,22,22,22,22,22,22,22,22,22,22,22,22,22,22,22,22,22,22,22,22,22,22,22,22,22,23,23,23,23,23,23,23,23,23,23,23,23,23,23,23,23,23,23,23,23,24,24,24,24,24,24,24,24,24,24,24,24,24,24,24,24,24,24,24,24,24,24,24,24,24,25,25,25,25,25,25,25,25,25,25,25,25,25,25,25,25,25,25,25,25,25,25,25,25,25,25,25,25,25,25,25,25,25,25,26,26,26,26,26,26,26,26,26,26,26,26,26,26,26,26,26,26,26,26,26,26,26,26,26,26,26,26,27,27,27,27,27,27,27,27,27,27,27,27,27,28,28,28,28,28,28,28,28,28,28,28,28,28,28,28,28,28,28,28,29,29,29,29,29,29,29,29,29,29,29,29,29,29,29,29,29,29,29,29,29,29,29,29,29,29,29,29,30,30,30,30,30,30,30,30,30,30,30,30,30,30,30,30,30,30,30,30,30,30,30,30,30,30,30,30,30,31,31,31,31,31,31,31,31,31,31,31,31,31,31,31,31,31,31,31,31,31,31,32,32,32,32,32,32,32,32,32,32,32,32,32,32,32,32,32,32,32,34,34,34,34,34,34,34,34,34,34,34,35,35,35,35,35,35,35,35,35,35,35,35,35,35,35,35,35,35,36,36,36,36,36,36,36,36,36,36,36,36,36,36,36,36,36,36,37,37,37,37,37,37,37,37,37,37,37,37,37,37,37,37,37,37,37,37,37,37,37,37,37,37,37,37,37,37,37,37,37,37,37,37,38,38,38,38,38,38,38,38,38,38,38,38,38,38,38,38,38,39,39,39,39,39,40,40,40,40,40,40,40,40,40,40,40,40,41,41,41,41,41,41,41,42,42,42,42,42,42,42,43,43,43,43,43,43,43,43,43,44,44,44,44,45,45,45,45,45,45,45,45,45,46,46,46,46,46,46,46,46,47,47,47,47,47,47,47,47,47,47,47,47,47,47,47,48,48,48,48,48,48,49,49,49,49,49,49,49,49,49,49,49,49,49,49,49,49,49,49,49,49,49,49,49,49,49,49,50,50,50,50,50,50,50,50,50,50,51,51,52,52,52,52,52,52,52,52,52,53,53,53,53,53,53,53,53,53,55,55,55,55,55,55,55,56,56,56,56,56,56,56,56,56,56,56,56,57,57,57,57,58,58,58,59,59,59,60,60,60,60,60,60,60,61,62,62,62,62,62,62,62,62,62,63,64,64,65,65,65,65,65,65,65,65,66,66,66,66,66,66,66,66,66,66,66,67,67,67,67,67,67,67,67,67,68,68,68,68,69,69,70,70,70,70,70,71,71,71,72,72,72,73,73,73,73,74,74,74,74,74,74,75,75,76,79,80,80,82,84,86,86,87]],[\"end\",[1,2,3,4,5,6,7,8,9,10,2,17,3,4,24,30,6,33,7,8,9,10,12,13,14,16,17,3,18,86,22,66,4,25,26,67,28,29,30,5,6,57,68,69,70,87,32,7,72,73,37,74,8,75,9,60,47,76,49,10,51,84,61,54,12,13,14,17,20,4,26,67,30,56,5,6,57,82,68,70,32,7,58,74,8,75,9,60,49,10,61,11,13,17,19,21,22,24,25,26,27,28,30,6,31,33,36,7,37,38,40,41,9,45,46,76,10,53,62,77,11,12,13,14,16,17,18,20,21,22,24,25,26,67,80,29,30,82,68,70,32,7,58,72,73,37,74,8,39,90,75,42,9,60,47,88,49,50,51,52,84,61,62,63,77,30,7,8,9,10,84,11,13,14,16,17,18,19,20,21,65,55,22,66,24,25,26,67,28,80,29,30,82,69,70,93,87,32,33,36,73,37,74,8,40,75,41,42,9,47,76,49,10,51,94,52,53,62,77,68,9,10,11,13,14,17,20,55,22,24,25,28,80,29,30,82,70,32,33,36,37,74,47,49,10,52,84,62,13,17,21,22,24,26,67,28,30,33,58,37,76,51,62,12,13,14,15,16,17,18,19,20,21,22,23,24,25,26,27,28,29,30,31,32,33,34,35,36,37,38,39,40,41,42,43,44,45,46,47,48,49,50,51,52,53,54,13,14,15,20,55,22,24,26,27,30,56,57,32,34,36,58,59,60,49,50,51,52,61,62,63,14,15,16,17,18,64,21,65,55,22,66,23,25,26,67,28,29,30,56,57,68,69,70,32,71,58,72,73,37,74,39,40,75,43,45,60,47,76,49,53,62,77,15,16,18,20,55,22,78,79,25,28,80,29,30,81,57,82,70,32,83,36,71,58,72,73,37,74,59,40,75,42,43,60,47,76,49,50,51,52,84,61,62,77,17,64,20,55,85,22,66,23,78,24,25,26,27,28,29,30,31,34,35,36,71,58,37,38,39,59,43,44,45,46,76,49,50,52,53,62,77,18,20,21,65,22,66,23,79,24,25,67,28,29,30,56,70,36,71,73,37,74,39,40,42,43,45,47,76,49,77,19,20,55,85,22,24,25,26,27,67,28,30,31,69,70,32,34,35,36,71,37,38,75,41,43,44,48,76,49,50,52,53,61,77,86,65,22,66,67,28,29,30,68,70,87,71,72,73,37,74,39,40,75,47,76,53,55,85,22,24,25,26,31,35,37,38,41,46,62,77,54,55,85,22,24,25,26,28,29,30,82,32,36,37,74,60,49,52,62,77,64,22,24,67,28,29,31,35,37,74,38,42,43,45,76,49,62,77,86,65,55,85,66,23,78,24,25,26,27,67,28,80,29,30,89,81,31,82,69,70,87,32,34,83,35,36,71,58,72,73,37,74,38,39,90,59,40,75,41,42,43,44,45,60,47,48,76,49,50,51,52,53,61,62,77,64,78,24,25,26,29,31,35,37,38,39,59,40,45,76,49,50,53,62,77,55,85,25,26,27,67,28,30,31,33,34,35,36,37,38,41,43,44,46,49,50,51,52,62,77,64,55,85,26,28,29,30,31,57,69,32,34,83,35,36,37,74,38,59,40,41,42,43,45,60,46,76,88,49,51,52,62,63,77,64,55,85,30,81,31,57,32,34,35,36,58,37,38,59,41,44,60,46,48,49,50,51,52,53,62,63,77,55,30,31,34,83,35,36,38,41,46,49,52,62,65,66,79,67,29,30,81,35,36,71,37,74,40,75,43,47,76,49,77,65,66,78,80,30,56,70,87,32,83,36,58,72,73,37,92,74,90,40,75,43,47,76,49,52,84,62,77,86,55,66,78,80,56,57,70,32,34,83,36,58,72,37,92,74,40,75,41,44,60,47,48,49,51,53,61,62,64,55,85,78,34,35,36,37,38,59,41,42,43,44,45,46,49,50,52,53,62,77,55,67,80,57,82,70,58,37,74,75,60,47,88,49,51,52,84,62,63,55,85,35,36,37,38,44,46,48,49,50,64,85,36,58,37,38,40,41,43,44,45,46,76,49,50,53,62,77,55,78,81,70,37,38,59,41,42,44,45,48,49,50,51,52,62,77,86,65,55,85,66,78,67,80,81,82,69,70,83,71,58,72,73,74,39,59,40,75,41,42,43,44,47,76,49,50,51,52,53,61,62,77,64,55,85,83,71,59,41,42,43,44,45,46,49,50,53,62,77,67,45,76,49,77,64,55,66,57,74,42,45,76,50,53,62,77,55,85,43,44,45,46,77,55,83,59,43,49,62,77,64,83,71,59,45,46,76,49,77,59,49,53,77,64,78,71,46,76,50,52,53,77,64,59,76,49,50,53,62,77,65,66,78,80,56,70,93,72,73,92,74,60,49,52,53,91,69,60,49,51,61,64,65,55,85,79,67,80,56,82,68,70,93,58,74,90,59,60,96,76,50,52,84,53,62,63,77,64,55,78,81,59,51,52,62,63,77,52,62,55,78,80,93,74,60,62,63,77,64,55,66,78,58,72,76,62,77,58,59,60,88,62,63,77,66,67,68,70,58,73,92,74,75,60,88,84,67,70,58,60,67,60,62,71,62,77,91,80,69,95,84,61,63,80,78,80,82,93,74,97,84,63,77,93,76,77,66,67,70,71,73,74,75,76,86,67,69,70,87,72,73,74,90,75,76,68,69,70,71,72,74,75,76,77,70,73,74,75,86,91,79,87,73,74,75,75,76,77,86,74,75,86,87,74,75,79,80,82,83,76,77,87,76,77,84,82,84,84,88,87,88,92]]]}}},\"view\":{\"type\":\"object\",\"name\":\"CDSView\",\"id\":\"p1922\",\"attributes\":{\"filter\":{\"type\":\"object\",\"name\":\"AllIndices\",\"id\":\"p1923\"}}},\"glyph\":{\"type\":\"object\",\"name\":\"MultiLine\",\"id\":\"p1930\",\"attributes\":{\"line_alpha\":{\"type\":\"value\",\"value\":0.5}}}}},\"selection_policy\":{\"type\":\"object\",\"name\":\"NodesOnly\",\"id\":\"p1924\"},\"inspection_policy\":{\"type\":\"object\",\"name\":\"NodesOnly\",\"id\":\"p1925\"}}}],\"toolbar\":{\"type\":\"object\",\"name\":\"Toolbar\",\"id\":\"p1891\",\"attributes\":{\"tools\":[{\"type\":\"object\",\"name\":\"PanTool\",\"id\":\"p1904\"},{\"type\":\"object\",\"name\":\"WheelZoomTool\",\"id\":\"p1905\",\"attributes\":{\"renderers\":\"auto\"}},{\"type\":\"object\",\"name\":\"SaveTool\",\"id\":\"p1906\"},{\"type\":\"object\",\"name\":\"ResetTool\",\"id\":\"p1907\"},{\"type\":\"object\",\"name\":\"HoverTool\",\"id\":\"p1908\",\"attributes\":{\"renderers\":\"auto\",\"tooltips\":[[\"Name\",\"@name\"],[\"Rating\",\"@rating\"],[\"'Being at the intersection'\",\"@betweenness\"]]}}],\"active_scroll\":{\"id\":\"p1905\"}}},\"left\":[{\"type\":\"object\",\"name\":\"LinearAxis\",\"id\":\"p1899\",\"attributes\":{\"visible\":false,\"ticker\":{\"type\":\"object\",\"name\":\"BasicTicker\",\"id\":\"p1900\",\"attributes\":{\"mantissas\":[1,2,5]}},\"formatter\":{\"type\":\"object\",\"name\":\"BasicTickFormatter\",\"id\":\"p1901\"},\"axis_label_standoff\":10,\"axis_label_text_color\":\"#E0E0E0\",\"axis_label_text_font\":\"Helvetica\",\"axis_label_text_font_size\":\"1.25em\",\"axis_label_text_font_style\":\"normal\",\"major_label_policy\":{\"type\":\"object\",\"name\":\"AllLabels\",\"id\":\"p1902\"},\"major_label_text_color\":\"#E0E0E0\",\"major_label_text_font\":\"Helvetica\",\"major_label_text_font_size\":\"1.025em\",\"axis_line_color\":\"#E0E0E0\",\"axis_line_alpha\":0,\"major_tick_line_color\":\"#E0E0E0\",\"major_tick_line_alpha\":0,\"minor_tick_line_color\":\"#E0E0E0\",\"minor_tick_line_alpha\":0}}],\"below\":[{\"type\":\"object\",\"name\":\"LinearAxis\",\"id\":\"p1894\",\"attributes\":{\"visible\":false,\"ticker\":{\"type\":\"object\",\"name\":\"BasicTicker\",\"id\":\"p1895\",\"attributes\":{\"mantissas\":[1,2,5]}},\"formatter\":{\"type\":\"object\",\"name\":\"BasicTickFormatter\",\"id\":\"p1896\"},\"axis_label_standoff\":10,\"axis_label_text_color\":\"#E0E0E0\",\"axis_label_text_font\":\"Helvetica\",\"axis_label_text_font_size\":\"1.25em\",\"axis_label_text_font_style\":\"normal\",\"major_label_policy\":{\"type\":\"object\",\"name\":\"AllLabels\",\"id\":\"p1897\"},\"major_label_text_color\":\"#E0E0E0\",\"major_label_text_font\":\"Helvetica\",\"major_label_text_font_size\":\"1.025em\",\"axis_line_color\":\"#E0E0E0\",\"axis_line_alpha\":0,\"major_tick_line_color\":\"#E0E0E0\",\"major_tick_line_alpha\":0,\"minor_tick_line_color\":\"#E0E0E0\",\"minor_tick_line_alpha\":0}}],\"center\":[{\"type\":\"object\",\"name\":\"Grid\",\"id\":\"p1898\",\"attributes\":{\"visible\":false,\"axis\":{\"id\":\"p1894\"},\"grid_line_color\":\"#E0E0E0\",\"grid_line_alpha\":0.25}},{\"type\":\"object\",\"name\":\"Grid\",\"id\":\"p1903\",\"attributes\":{\"visible\":false,\"dimension\":1,\"axis\":{\"id\":\"p1899\"},\"grid_line_color\":\"#E0E0E0\",\"grid_line_alpha\":0.25}}],\"background_fill_color\":\"#20262B\",\"border_fill_color\":\"#15191C\"}}]}};\n  const render_items = [{\"docid\":\"efa8f0a7-7f14-4a4f-87f6-d97ba73c07e8\",\"roots\":{\"p1883\":\"fb389717-015f-46df-aa10-1e213e25ee75\"},\"root_ids\":[\"p1883\"]}];\n  root.Bokeh.embed.embed_items_notebook(docs_json, render_items);\n  }\n  if (root.Bokeh !== undefined) {\n    embed_document(root);\n  } else {\n    let attempts = 0;\n    const timer = setInterval(function(root) {\n      if (root.Bokeh !== undefined) {\n        clearInterval(timer);\n        embed_document(root);\n      } else {\n        attempts++;\n        if (attempts > 100) {\n          clearInterval(timer);\n          console.log(\"Bokeh: ERROR: Unable to run BokehJS code because BokehJS library is missing\");\n        }\n      }\n    }, 10, root)\n  }\n})(window);",
      "application/vnd.bokehjs_exec.v0+json": ""
     },
     "metadata": {
      "application/vnd.bokehjs_exec.v0+json": {
       "id": "p1883"
      }
     },
     "output_type": "display_data"
    }
   ],
   "source": [
    "output_notebook()\n",
    "\n",
    "# choose attributes from G network to size and color by — setting manual size (e.g. 10) or color (e.g. 'skyblue') also allowed\n",
    "size_by_this_attribute = 'adjusted_node_size'\n",
    "color_by_this_attribute = 'betweenness'\n",
    "\n",
    "color_palette = Blues8\n",
    "\n",
    "#Choose a title!\n",
    "title = 'First test with Bokeh'\n",
    "\n",
    "#Establish which categories will appear when hovering over each node\n",
    "HOVER_TOOLTIPS = [(\"Name\", \"@name\"), (\"Rating\", \"@rating\"), (\"'Being at the intersection'\", \"@betweenness\")]\n",
    "\n",
    "#Create a plot — set dimensions, toolbar, and title\n",
    "plot = figure(\n",
    "    width=1000, \n",
    "    height=600,\n",
    "    tooltips = HOVER_TOOLTIPS,\n",
    "    tools=\"pan,wheel_zoom,save,reset\", \n",
    "    active_scroll='wheel_zoom'\n",
    ")\n",
    "\n",
    "plot.axis.visible = False\n",
    "plot.grid.visible = False\n",
    "\n",
    "# create a network graph object with spring layout\n",
    "network_graph = from_networkx(H, nx.spring_layout, scale=10, center=(0, 0))\n",
    "\n",
    "# set node size and color\n",
    "network_graph.node_renderer.glyph = Circle(size=15, fill_color='skyblue')\n",
    "\n",
    "# set node sizes and colors according to node degree (color as spectrum of color palette)\n",
    "minimum_value_color = min(network_graph.node_renderer.data_source.data[color_by_this_attribute])\n",
    "maximum_value_color = max(network_graph.node_renderer.data_source.data[color_by_this_attribute])\n",
    "network_graph.node_renderer.glyph = Circle(size=size_by_this_attribute, fill_color=linear_cmap(color_by_this_attribute, color_palette, minimum_value_color, maximum_value_color))\n",
    "\n",
    "# set edge opacity and width\n",
    "network_graph.edge_renderer.glyph = MultiLine(line_alpha=0.5, line_width=1)\n",
    "\n",
    "# add network graph to the plot\n",
    "plot.renderers.append(network_graph)\n",
    "\n",
    "show(plot)"
   ]
  },
  {
   "cell_type": "markdown",
   "source": [
    "Since html graphs are not visible in Jupyter Notebooks, I'll add a png here for the reference.\n",
    "<br>\n",
    "<img src=\"img/bokeh_example.png\">\n",
    "<br>\n",
    "The size of the node represents the rating, whereas the color \"being at the intersection\" (light color -> more at the intersections)."
   ],
   "metadata": {
    "collapsed": false
   },
   "id": "7f5aede350b00a5"
  },
  {
   "cell_type": "markdown",
   "id": "6960b50520bf2e1d",
   "metadata": {
    "collapsed": false
   },
   "source": [
    "Bokeh seems a good approach with many good features, but few limitations:\n",
    "- not an easy way for saving a chart that's edited manually (e.g. zoomed in)\n",
    "- documentation is quite bad\n",
    "- requires many extra features and hacking even the PATH for making it work\n",
    "\n",
    "The html versions could be good to embed to the final website."
   ]
  },
  {
   "cell_type": "markdown",
   "id": "92c0763dc069c93c",
   "metadata": {
    "collapsed": false
   },
   "source": [
    "### Pyvis"
   ]
  },
  {
   "cell_type": "code",
   "execution_count": 36,
   "id": "5da7b3d85d01019b",
   "metadata": {
    "collapsed": false,
    "ExecuteTime": {
     "end_time": "2023-11-12T10:39:13.880800Z",
     "start_time": "2023-11-12T10:39:13.425636Z"
    }
   },
   "outputs": [
    {
     "name": "stderr",
     "output_type": "stream",
     "text": [
      "huggingface/tokenizers: The current process just got forked, after parallelism has already been used. Disabling parallelism to avoid deadlocks...\n",
      "To disable this warning, you can either:\n",
      "\t- Avoid using `tokenizers` before the fork if possible\n",
      "\t- Explicitly set the environment variable TOKENIZERS_PARALLELISM=(true | false)\n"
     ]
    }
   ],
   "source": [
    "nt = Network('600px', '900px', cdn_resources='in_line')\n",
    "nt.from_nx(G)\n",
    "nt.show('pyvis_example.html')"
   ]
  },
  {
   "cell_type": "markdown",
   "id": "e43b6683fcd869a2",
   "metadata": {
    "collapsed": false
   },
   "source": [
    "Pyvis tends to be quite heavy and could only be an option with smaller subsets and simpler examples.\n",
    "As Plotly and Matplotlib turned out to be really unsuitable for plotting networks, it seems that "
   ]
  },
  {
   "cell_type": "markdown",
   "source": [
    "As html is still not accessible in Jupyter Notebooks, I'll plot the img version of it.\n",
    "<br>\n",
    "<img src=\"img/pyvis_example.png\">\n",
    "<br>\n",
    "It seems that pyvis needs much more tweaking to get to the point where it would be convenient to analyse."
   ],
   "metadata": {
    "collapsed": false
   },
   "id": "20539c4276e1f913"
  },
  {
   "cell_type": "markdown",
   "id": "2ba4a6ebf6f297e0",
   "metadata": {
    "collapsed": false
   },
   "source": [
    "## Summary\n",
    "\n",
    "Based on the first network graph, it seems that the approach where we simply embed the plots doesn't generate clusters, \n",
    "but a one big hive. This will not be a problem since we can still test our hypothesis. Alternatively, we could use another graph generation logic described in readme.\n",
    "\n",
    "Another challenge lies in plotting the networks in Jupyter notebooks. As the graphs are quite complex and most packages use html as the output, \n",
    "they are not visible in e.g. GitHub. Luckily Github pages with Jekyll support embedded html, so it should be fine."
   ]
  },
  {
   "cell_type": "code",
   "execution_count": null,
   "id": "48dfa3a6423971a6",
   "metadata": {
    "collapsed": false
   },
   "outputs": [],
   "source": []
  }
 ],
 "metadata": {
  "kernelspec": {
   "display_name": "Python 3 (ipykernel)",
   "language": "python",
   "name": "python3"
  },
  "language_info": {
   "codemirror_mode": {
    "name": "ipython",
    "version": 3
   },
   "file_extension": ".py",
   "mimetype": "text/x-python",
   "name": "python",
   "nbconvert_exporter": "python",
   "pygments_lexer": "ipython3",
   "version": "3.9.18"
  }
 },
 "nbformat": 4,
 "nbformat_minor": 5
}
