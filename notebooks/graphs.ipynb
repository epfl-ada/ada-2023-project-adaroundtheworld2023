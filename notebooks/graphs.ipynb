{
 "cells": [
  {
   "cell_type": "markdown",
   "source": [
    "# Network Graphs\n",
    "\n",
    "The aim of this notebook is to generate graphs based do two different approaches:\n",
    "\n",
    "1. **embedding approach**: we use e5-large model to generate embeddings of size 1024 from plots, calculate similarities and based on similarities generate graphs;\n",
    "2. **genre approach**: we picked genres and themes and let bart-large model to predict the probabilities of belonging to a genre/theme and calculate once again similarities."
   ],
   "metadata": {
    "collapsed": false
   },
   "id": "55c4ea2fe38b7eed"
  },
  {
   "cell_type": "markdown",
   "source": [
    "## Imports"
   ],
   "metadata": {
    "collapsed": false
   },
   "id": "516ca5b601698afc"
  },
  {
   "cell_type": "code",
   "execution_count": 1,
   "outputs": [],
   "source": [
    "import itertools\n",
    "import pickle\n",
    "\n",
    "import pandas as pd\n",
    "import networkx as nx\n",
    "\n",
    "from scripts.helpers import get_similarities_from_json"
   ],
   "metadata": {
    "collapsed": false,
    "ExecuteTime": {
     "end_time": "2023-12-05T15:17:12.547072Z",
     "start_time": "2023-12-05T15:17:12.098866Z"
    }
   },
   "id": "358d9f50bf8f9d28"
  },
  {
   "cell_type": "markdown",
   "source": [
    "## Prepare the Data"
   ],
   "metadata": {
    "collapsed": false
   },
   "id": "1579976c03487cc5"
  },
  {
   "cell_type": "code",
   "execution_count": 2,
   "outputs": [
    {
     "name": "stdout",
     "output_type": "stream",
     "text": [
      "(22394, 9)\n"
     ]
    },
    {
     "data": {
      "text/plain": "                                         name  release_year  rating  \\\nwikipedia_id                                                          \n10109752                           Miss Jerry        1894.0     5.3   \n28703057        The Corbett-Fitzsimmons Fight        1897.0     5.3   \n142995            The Story of the Kelly Gang        1906.0     6.0   \n32986669                   Robbery Under Arms        1907.0     4.3   \n32987200      Captain Midnight, the Bush King        1911.0     5.4   \n\n              num_votes                                               plot  \\\nwikipedia_id                                                                 \n10109752            207  After finding out that her father is suffering...   \n28703057            484  The film no longer exists in its entirety; how...   \n142995              855  The Story of the Kelly Gangs tone is of sorrow...   \n32986669             25  Key scenes of the film included the branding o...   \n32987200             18  Edgar Dalimore is the son of wealthy station o...   \n\n             freebase_id             languages                     countries  \\\nwikipedia_id                                                                   \n10109752      /m/02q23xk       ['Silent film']  ['United States of America']   \n28703057      /m/0czdh_n                    []                            []   \n142995         /m/0120y4  ['English Language']                 ['Australia']   \n32986669      /m/04p7yxx       ['Silent film']                 ['Australia']   \n32987200      /m/0h569x9       ['Silent film']                            []   \n\n                                                         genres  \nwikipedia_id                                                     \n10109752      ['Short Film', 'Silent film', 'Indie', 'Black-...  \n28703057                                             ['Sports']  \n142995        ['Crime Fiction', 'Silent film', 'Biography', ...  \n32986669                               ['Silent film', 'Drama']  \n32987200                                        ['Silent film']  ",
      "text/html": "<div>\n<style scoped>\n    .dataframe tbody tr th:only-of-type {\n        vertical-align: middle;\n    }\n\n    .dataframe tbody tr th {\n        vertical-align: top;\n    }\n\n    .dataframe thead th {\n        text-align: right;\n    }\n</style>\n<table border=\"1\" class=\"dataframe\">\n  <thead>\n    <tr style=\"text-align: right;\">\n      <th></th>\n      <th>name</th>\n      <th>release_year</th>\n      <th>rating</th>\n      <th>num_votes</th>\n      <th>plot</th>\n      <th>freebase_id</th>\n      <th>languages</th>\n      <th>countries</th>\n      <th>genres</th>\n    </tr>\n    <tr>\n      <th>wikipedia_id</th>\n      <th></th>\n      <th></th>\n      <th></th>\n      <th></th>\n      <th></th>\n      <th></th>\n      <th></th>\n      <th></th>\n      <th></th>\n    </tr>\n  </thead>\n  <tbody>\n    <tr>\n      <th>10109752</th>\n      <td>Miss Jerry</td>\n      <td>1894.0</td>\n      <td>5.3</td>\n      <td>207</td>\n      <td>After finding out that her father is suffering...</td>\n      <td>/m/02q23xk</td>\n      <td>['Silent film']</td>\n      <td>['United States of America']</td>\n      <td>['Short Film', 'Silent film', 'Indie', 'Black-...</td>\n    </tr>\n    <tr>\n      <th>28703057</th>\n      <td>The Corbett-Fitzsimmons Fight</td>\n      <td>1897.0</td>\n      <td>5.3</td>\n      <td>484</td>\n      <td>The film no longer exists in its entirety; how...</td>\n      <td>/m/0czdh_n</td>\n      <td>[]</td>\n      <td>[]</td>\n      <td>['Sports']</td>\n    </tr>\n    <tr>\n      <th>142995</th>\n      <td>The Story of the Kelly Gang</td>\n      <td>1906.0</td>\n      <td>6.0</td>\n      <td>855</td>\n      <td>The Story of the Kelly Gangs tone is of sorrow...</td>\n      <td>/m/0120y4</td>\n      <td>['English Language']</td>\n      <td>['Australia']</td>\n      <td>['Crime Fiction', 'Silent film', 'Biography', ...</td>\n    </tr>\n    <tr>\n      <th>32986669</th>\n      <td>Robbery Under Arms</td>\n      <td>1907.0</td>\n      <td>4.3</td>\n      <td>25</td>\n      <td>Key scenes of the film included the branding o...</td>\n      <td>/m/04p7yxx</td>\n      <td>['Silent film']</td>\n      <td>['Australia']</td>\n      <td>['Silent film', 'Drama']</td>\n    </tr>\n    <tr>\n      <th>32987200</th>\n      <td>Captain Midnight, the Bush King</td>\n      <td>1911.0</td>\n      <td>5.4</td>\n      <td>18</td>\n      <td>Edgar Dalimore is the son of wealthy station o...</td>\n      <td>/m/0h569x9</td>\n      <td>['Silent film']</td>\n      <td>[]</td>\n      <td>['Silent film']</td>\n    </tr>\n  </tbody>\n</table>\n</div>"
     },
     "execution_count": 2,
     "metadata": {},
     "output_type": "execute_result"
    }
   ],
   "source": [
    "# get the processed df\n",
    "df = pd.read_csv('../data/processed/preprocessed.csv', index_col=0)\n",
    "df.set_index('wikipedia_id', inplace=True)\n",
    "print(df.shape)\n",
    "df.head(5)"
   ],
   "metadata": {
    "collapsed": false,
    "ExecuteTime": {
     "end_time": "2023-12-05T15:17:13.421634Z",
     "start_time": "2023-12-05T15:17:12.550107Z"
    }
   },
   "id": "6d566ab5f732f313"
  },
  {
   "cell_type": "markdown",
   "source": [
    "## Embedding Approach"
   ],
   "metadata": {
    "collapsed": false
   },
   "id": "49a9c1e9c8484951"
  },
  {
   "cell_type": "code",
   "execution_count": 3,
   "outputs": [],
   "source": [
    "DECADE = 1920  # the decade we're interested in\n",
    "\n",
    "# get the similarities as dict and extract list of unique movies\n",
    "similarity_dict = get_similarities_from_json(DECADE)\n",
    "movies = list(set(itertools.chain(*similarity_dict.keys())))"
   ],
   "metadata": {
    "collapsed": false,
    "ExecuteTime": {
     "end_time": "2023-12-05T15:17:13.674728Z",
     "start_time": "2023-12-05T15:17:13.418342Z"
    }
   },
   "id": "2c3276f2a43ab539"
  },
  {
   "cell_type": "code",
   "execution_count": 4,
   "outputs": [
    {
     "data": {
      "text/plain": "<Figure size 640x480 with 1 Axes>",
      "image/png": "[encoded data removed]"
     },
     "metadata": {},
     "output_type": "display_data"
    }
   ],
   "source": [
    "# check the distribution of similarity values\n",
    "similarity_values = list(similarity_dict.values())\n",
    "_ = pd.Series(similarity_values).plot.hist(bins=50, title='Distribution of similarity values')"
   ],
   "metadata": {
    "collapsed": false,
    "ExecuteTime": {
     "end_time": "2023-12-05T15:17:14.031744Z",
     "start_time": "2023-12-05T15:17:13.676761Z"
    }
   },
   "id": "3bb2eec15978f4a3"
  },
  {
   "cell_type": "code",
   "execution_count": 5,
   "outputs": [
    {
     "data": {
      "text/plain": "count    85078.000000\nmean         0.734374\nstd          0.013782\nmin          0.659927\n25%          0.725649\n50%          0.734179\n75%          0.742603\nmax          0.851925\ndtype: float64"
     },
     "execution_count": 5,
     "metadata": {},
     "output_type": "execute_result"
    }
   ],
   "source": [
    "# show descriptive statistics\n",
    "descriptive_stats = pd.Series(similarity_values).describe()\n",
    "descriptive_stats"
   ],
   "metadata": {
    "collapsed": false,
    "ExecuteTime": {
     "end_time": "2023-12-05T15:17:14.111819Z",
     "start_time": "2023-12-05T15:17:14.042632Z"
    }
   },
   "id": "2c8abe1c144c71c6"
  },
  {
   "cell_type": "markdown",
   "source": [
    "75th percentile of the similarities will be used as the threshold for creating an edge between the nodes."
   ],
   "metadata": {
    "collapsed": false
   },
   "id": "6ee1767b393c2e11"
  },
  {
   "cell_type": "code",
   "execution_count": 6,
   "outputs": [],
   "source": [
    "similarity_threshold = descriptive_stats['75%'] \n",
    "\n",
    "# generate nodes df and add all the pairs with similarity\n",
    "similarity_mat = [[key[0], key[1], value] for key, value in similarity_dict.items()]\n",
    "nodes_df = pd.DataFrame(similarity_mat, columns=['Source', 'Target', 'Weight']) \n",
    "\n",
    "# filter based on 75th percentile\n",
    "nodes_df = nodes_df[nodes_df.Weight > similarity_threshold]\n",
    "\n",
    "G = nx.from_pandas_edgelist(nodes_df, 'Source', 'Target', 'Weight')"
   ],
   "metadata": {
    "collapsed": false,
    "ExecuteTime": {
     "end_time": "2023-12-05T15:17:14.321401Z",
     "start_time": "2023-12-05T15:17:14.222106Z"
    }
   },
   "id": "9692348c224d90a7"
  },
  {
   "cell_type": "code",
   "execution_count": 7,
   "outputs": [
    {
     "data": {
      "text/plain": "(407, 21270)"
     },
     "execution_count": 7,
     "metadata": {},
     "output_type": "execute_result"
    }
   ],
   "source": [
    "G.number_of_nodes(), G.number_of_edges()"
   ],
   "metadata": {
    "collapsed": false,
    "ExecuteTime": {
     "end_time": "2023-12-05T15:17:14.334850Z",
     "start_time": "2023-12-05T15:17:14.322223Z"
    }
   },
   "id": "1f26cacdafa8f04e"
  },
  {
   "cell_type": "markdown",
   "source": [
    "For the analysis, we need betweenness and degree, plus few other attributes will be added to the graph."
   ],
   "metadata": {
    "collapsed": false
   },
   "id": "7160dc7b221b66ae"
  },
  {
   "cell_type": "code",
   "execution_count": 8,
   "outputs": [],
   "source": [
    "# add name as an attribute\n",
    "names = dict((id_, df.loc[int(id_)]['name']) for id_ in G.nodes)\n",
    "nx.set_node_attributes(G, name='name', values=names)"
   ],
   "metadata": {
    "collapsed": false,
    "ExecuteTime": {
     "end_time": "2023-12-05T15:17:14.410427Z",
     "start_time": "2023-12-05T15:17:14.334122Z"
    }
   },
   "id": "f5216d0a3cbe6861"
  },
  {
   "cell_type": "code",
   "execution_count": 9,
   "outputs": [],
   "source": [
    "# add wikipedia id as an attribute\n",
    "names = dict((id_, int(id_)) for id_ in G.nodes)\n",
    "nx.set_node_attributes(G, name='wikipedia_id', values=names)"
   ],
   "metadata": {
    "collapsed": false,
    "ExecuteTime": {
     "end_time": "2023-12-05T15:17:14.410793Z",
     "start_time": "2023-12-05T15:17:14.399002Z"
    }
   },
   "id": "81cb904af280b4f8"
  },
  {
   "cell_type": "code",
   "execution_count": 10,
   "outputs": [],
   "source": [
    "# calculate the betweenness centrality\n",
    "betweenness = nx.betweenness_centrality(G)\n",
    "nx.set_node_attributes(G, name='betweenness', values=betweenness)"
   ],
   "metadata": {
    "collapsed": false,
    "ExecuteTime": {
     "end_time": "2023-12-05T15:17:18.559897Z",
     "start_time": "2023-12-05T15:17:14.449606Z"
    }
   },
   "id": "66bfe784e7b4e54f"
  },
  {
   "cell_type": "code",
   "execution_count": 11,
   "outputs": [],
   "source": [
    "# calculate degree for each node\n",
    "degrees = dict(nx.degree(G))\n",
    "nx.set_node_attributes(G, name='degree', values=degrees)"
   ],
   "metadata": {
    "collapsed": false,
    "ExecuteTime": {
     "end_time": "2023-12-05T15:17:18.570534Z",
     "start_time": "2023-12-05T15:17:18.561222Z"
    }
   },
   "id": "f5b4c48f31af60fd"
  },
  {
   "cell_type": "code",
   "execution_count": 12,
   "outputs": [],
   "source": [
    "# add movie rating\n",
    "ratings_dict = dict((id_, df.loc[int(id_)]['rating']) for id_ in G.nodes)\n",
    "nx.set_node_attributes(G, name='rating', values=ratings_dict)"
   ],
   "metadata": {
    "collapsed": false,
    "ExecuteTime": {
     "end_time": "2023-12-05T15:17:18.609855Z",
     "start_time": "2023-12-05T15:17:18.586561Z"
    }
   },
   "id": "30c7e9fb0da62b2e"
  },
  {
   "cell_type": "code",
   "execution_count": 13,
   "outputs": [],
   "source": [
    "# add release year\n",
    "date_dict = dict((id_, df.loc[int(id_)]['release_year']) for id_ in G.nodes)\n",
    "nx.set_node_attributes(G, name=\"release_year\", values=date_dict)"
   ],
   "metadata": {
    "collapsed": false,
    "ExecuteTime": {
     "end_time": "2023-12-05T15:17:18.653361Z",
     "start_time": "2023-12-05T15:17:18.650153Z"
    }
   },
   "id": "afdcf41d4f3cb791"
  },
  {
   "cell_type": "markdown",
   "source": [
    "Save the graph with all the necessary attributes to pickle"
   ],
   "metadata": {
    "collapsed": false
   },
   "id": "4b39e132da464d93"
  },
  {
   "cell_type": "code",
   "execution_count": 14,
   "outputs": [],
   "source": [
    "with open(f'../data/embeddings/graphs/{DECADE}s.gpickle', 'wb') as f:\n",
    "    pickle.dump(G, f, pickle.HIGHEST_PROTOCOL)"
   ],
   "metadata": {
    "collapsed": false,
    "ExecuteTime": {
     "end_time": "2023-12-05T15:17:18.669528Z",
     "start_time": "2023-12-05T15:17:18.657236Z"
    }
   },
   "id": "bd473b1cb5cd4157"
  },
  {
   "cell_type": "markdown",
   "source": [
    "## Genre Approach"
   ],
   "metadata": {
    "collapsed": false
   },
   "id": "94ca92c3bb2bab1e"
  },
  {
   "cell_type": "code",
   "execution_count": null,
   "outputs": [],
   "source": [],
   "metadata": {
    "collapsed": false
   },
   "id": "c36d9932ff177870"
  }
 ],
 "metadata": {
  "kernelspec": {
   "display_name": "Python 3",
   "language": "python",
   "name": "python3"
  },
  "language_info": {
   "codemirror_mode": {
    "name": "ipython",
    "version": 2
   },
   "file_extension": ".py",
   "mimetype": "text/x-python",
   "name": "python",
   "nbconvert_exporter": "python",
   "pygments_lexer": "ipython2",
   "version": "2.7.6"
  }
 },
 "nbformat": 4,
 "nbformat_minor": 5
}
