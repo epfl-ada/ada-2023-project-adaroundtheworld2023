{
 "cells": [
  {
   "cell_type": "markdown",
   "id": "5730f1dfbc964722",
   "metadata": {
    "collapsed": false
   },
   "source": [
    "# ADAroundTheWorld2023 - Milestone 3"
   ]
  },
  {
   "cell_type": "markdown",
   "id": "c349e447a4fa242",
   "metadata": {
    "collapsed": false
   },
   "source": [
    "## Imports"
   ]
  },
  {
   "cell_type": "code",
   "execution_count": 1,
   "id": "63695f0e06f346cc",
   "metadata": {
    "collapsed": false,
    "ExecuteTime": {
     "end_time": "2023-12-03T09:54:46.515254Z",
     "start_time": "2023-12-03T09:54:46.189662Z"
    }
   },
   "outputs": [
    {
     "data": {
      "text/html": "<style>\n        .bk-notebook-logo {\n            display: block;\n            width: 20px;\n            height: 20px;\n            background-image: url(data:image/png;base64,iVBORw0KGgoAAAANSUhEUgAAABQAAAAUCAYAAACNiR0NAAAABHNCSVQICAgIfAhkiAAAAAlwSFlzAAALEgAACxIB0t1+/AAAABx0RVh0U29mdHdhcmUAQWRvYmUgRmlyZXdvcmtzIENTNui8sowAAAOkSURBVDiNjZRtaJVlGMd/1/08zzln5zjP1LWcU9N0NkN8m2CYjpgQYQXqSs0I84OLIC0hkEKoPtiH3gmKoiJDU7QpLgoLjLIQCpEsNJ1vqUOdO7ppbuec5+V+rj4ctwzd8IIbbi6u+8f1539dt3A78eXC7QizUF7gyV1fD1Yqg4JWz84yffhm0qkFqBogB9rM8tZdtwVsPUhWhGcFJngGeWrPzHm5oaMmkfEg1usvLFyc8jLRqDOMru7AyC8saQr7GG7f5fvDeH7Ej8CM66nIF+8yngt6HWaKh7k49Soy9nXurCi1o3qUbS3zWfrYeQDTB/Qj6kX6Ybhw4B+bOYoLKCC9H3Nu/leUTZ1JdRWkkn2ldcCamzrcf47KKXdAJllSlxAOkRgyHsGC/zRday5Qld9DyoM4/q/rUoy/CXh3jzOu3bHUVZeU+DEn8FInkPBFlu3+nW3Nw0mk6vCDiWg8CeJaxEwuHS3+z5RgY+YBR6V1Z1nxSOfoaPa4LASWxxdNp+VWTk7+4vzaou8v8PN+xo+KY2xsw6une2frhw05CTYOmQvsEhjhWjn0bmXPjpE1+kplmmkP3suftwTubK9Vq22qKmrBhpY4jvd5afdRA3wGjFAgcnTK2s4hY0/GPNIb0nErGMCRxWOOX64Z8RAC4oCXdklmEvcL8o0BfkNK4lUg9HTl+oPlQxdNo3Mg4Nv175e/1LDGzZen30MEjRUtmXSfiTVu1kK8W4txyV6BMKlbgk3lMwYCiusNy9fVfvvwMxv8Ynl6vxoByANLTWplvuj/nF9m2+PDtt1eiHPBr1oIfhCChQMBw6Aw0UulqTKZdfVvfG7VcfIqLG9bcldL/+pdWTLxLUy8Qq38heUIjh4XlzZxzQm19lLFlr8vdQ97rjZVOLf8nclzckbcD4wxXMidpX30sFd37Fv/GtwwhzhxGVAprjbg0gCAEeIgwCZyTV2Z1REEW8O4py0wsjeloKoMr6iCY6dP92H6Vw/oTyICIthibxjm/DfN9lVz8IqtqKYLUXfoKVMVQVVJOElGjrnnUt9T9wbgp8AyYKaGlqingHZU/uG2NTZSVqwHQTWkx9hxjkpWDaCg6Ckj5qebgBVbT3V3NNXMSiWSDdGV3hrtzla7J+duwPOToIg42ChPQOQjspnSlp1V+Gjdged7+8UN5CRAV7a5EdFNwCjEaBR27b3W890TE7g24NAP/mMDXRWrGoFPQI9ls/MWO2dWFAar/xcOIImbbpA3zgAAAABJRU5ErkJggg==);\n        }\n    </style>\n    <div>\n        <a href=\"https://bokeh.org\" target=\"_blank\" class=\"bk-notebook-logo\"></a>\n        <span id=\"c3b8e64f-42df-478e-b6b5-9e83a82864b4\">Loading BokehJS ...</span>\n    </div>\n"
     },
     "metadata": {},
     "output_type": "display_data"
    },
    {
     "data": {
      "application/javascript": "(function(root) {\n  function now() {\n    return new Date();\n  }\n\n  const force = true;\n\n  if (typeof root._bokeh_onload_callbacks === \"undefined\" || force === true) {\n    root._bokeh_onload_callbacks = [];\n    root._bokeh_is_loading = undefined;\n  }\n\nconst JS_MIME_TYPE = 'application/javascript';\n  const HTML_MIME_TYPE = 'text/html';\n  const EXEC_MIME_TYPE = 'application/vnd.bokehjs_exec.v0+json';\n  const CLASS_NAME = 'output_bokeh rendered_html';\n\n  /**\n   * Render data to the DOM node\n   */\n  function render(props, node) {\n    const script = document.createElement(\"script\");\n    node.appendChild(script);\n  }\n\n  /**\n   * Handle when an output is cleared or removed\n   */\n  function handleClearOutput(event, handle) {\n    function drop(id) {\n      const view = Bokeh.index.get_by_id(id)\n      if (view != null) {\n        view.model.document.clear()\n        Bokeh.index.delete(view)\n      }\n    }\n\n    const cell = handle.cell;\n\n    const id = cell.output_area._bokeh_element_id;\n    const server_id = cell.output_area._bokeh_server_id;\n\n    // Clean up Bokeh references\n    if (id != null) {\n      drop(id)\n    }\n\n    if (server_id !== undefined) {\n      // Clean up Bokeh references\n      const cmd_clean = \"from bokeh.io.state import curstate; print(curstate().uuid_to_server['\" + server_id + \"'].get_sessions()[0].document.roots[0]._id)\";\n      cell.notebook.kernel.execute(cmd_clean, {\n        iopub: {\n          output: function(msg) {\n            const id = msg.content.text.trim()\n            drop(id)\n          }\n        }\n      });\n      // Destroy server and session\n      const cmd_destroy = \"import bokeh.io.notebook as ion; ion.destroy_server('\" + server_id + \"')\";\n      cell.notebook.kernel.execute(cmd_destroy);\n    }\n  }\n\n  /**\n   * Handle when a new output is added\n   */\n  function handleAddOutput(event, handle) {\n    const output_area = handle.output_area;\n    const output = handle.output;\n\n    // limit handleAddOutput to display_data with EXEC_MIME_TYPE content only\n    if ((output.output_type != \"display_data\") || (!Object.prototype.hasOwnProperty.call(output.data, EXEC_MIME_TYPE))) {\n      return\n    }\n\n    const toinsert = output_area.element.find(\".\" + CLASS_NAME.split(' ')[0]);\n\n    if (output.metadata[EXEC_MIME_TYPE][\"id\"] !== undefined) {\n      toinsert[toinsert.length - 1].firstChild.textContent = output.data[JS_MIME_TYPE];\n      // store reference to embed id on output_area\n      output_area._bokeh_element_id = output.metadata[EXEC_MIME_TYPE][\"id\"];\n    }\n    if (output.metadata[EXEC_MIME_TYPE][\"server_id\"] !== undefined) {\n      const bk_div = document.createElement(\"div\");\n      bk_div.innerHTML = output.data[HTML_MIME_TYPE];\n      const script_attrs = bk_div.children[0].attributes;\n      for (let i = 0; i < script_attrs.length; i++) {\n        toinsert[toinsert.length - 1].firstChild.setAttribute(script_attrs[i].name, script_attrs[i].value);\n        toinsert[toinsert.length - 1].firstChild.textContent = bk_div.children[0].textContent\n      }\n      // store reference to server id on output_area\n      output_area._bokeh_server_id = output.metadata[EXEC_MIME_TYPE][\"server_id\"];\n    }\n  }\n\n  function register_renderer(events, OutputArea) {\n\n    function append_mime(data, metadata, element) {\n      // create a DOM node to render to\n      const toinsert = this.create_output_subarea(\n        metadata,\n        CLASS_NAME,\n        EXEC_MIME_TYPE\n      );\n      this.keyboard_manager.register_events(toinsert);\n      // Render to node\n      const props = {data: data, metadata: metadata[EXEC_MIME_TYPE]};\n      render(props, toinsert[toinsert.length - 1]);\n      element.append(toinsert);\n      return toinsert\n    }\n\n    /* Handle when an output is cleared or removed */\n    events.on('clear_output.CodeCell', handleClearOutput);\n    events.on('delete.Cell', handleClearOutput);\n\n    /* Handle when a new output is added */\n    events.on('output_added.OutputArea', handleAddOutput);\n\n    /**\n     * Register the mime type and append_mime function with output_area\n     */\n    OutputArea.prototype.register_mime_type(EXEC_MIME_TYPE, append_mime, {\n      /* Is output safe? */\n      safe: true,\n      /* Index of renderer in `output_area.display_order` */\n      index: 0\n    });\n  }\n\n  // register the mime type if in Jupyter Notebook environment and previously unregistered\n  if (root.Jupyter !== undefined) {\n    const events = require('base/js/events');\n    const OutputArea = require('notebook/js/outputarea').OutputArea;\n\n    if (OutputArea.prototype.mime_types().indexOf(EXEC_MIME_TYPE) == -1) {\n      register_renderer(events, OutputArea);\n    }\n  }\n  if (typeof (root._bokeh_timeout) === \"undefined\" || force === true) {\n    root._bokeh_timeout = Date.now() + 5000;\n    root._bokeh_failed_load = false;\n  }\n\n  const NB_LOAD_WARNING = {'data': {'text/html':\n     \"<div style='background-color: #fdd'>\\n\"+\n     \"<p>\\n\"+\n     \"BokehJS does not appear to have successfully loaded. If loading BokehJS from CDN, this \\n\"+\n     \"may be due to a slow or bad network connection. Possible fixes:\\n\"+\n     \"</p>\\n\"+\n     \"<ul>\\n\"+\n     \"<li>re-rerun `output_notebook()` to attempt to load from CDN again, or</li>\\n\"+\n     \"<li>use INLINE resources instead, as so:</li>\\n\"+\n     \"</ul>\\n\"+\n     \"<code>\\n\"+\n     \"from bokeh.resources import INLINE\\n\"+\n     \"output_notebook(resources=INLINE)\\n\"+\n     \"</code>\\n\"+\n     \"</div>\"}};\n\n  function display_loaded() {\n    const el = document.getElementById(\"c3b8e64f-42df-478e-b6b5-9e83a82864b4\");\n    if (el != null) {\n      el.textContent = \"BokehJS is loading...\";\n    }\n    if (root.Bokeh !== undefined) {\n      if (el != null) {\n        el.textContent = \"BokehJS \" + root.Bokeh.version + \" successfully loaded.\";\n      }\n    } else if (Date.now() < root._bokeh_timeout) {\n      setTimeout(display_loaded, 100)\n    }\n  }\n\n  function run_callbacks() {\n    try {\n      root._bokeh_onload_callbacks.forEach(function(callback) {\n        if (callback != null)\n          callback();\n      });\n    } finally {\n      delete root._bokeh_onload_callbacks\n    }\n    console.debug(\"Bokeh: all callbacks have finished\");\n  }\n\n  function load_libs(css_urls, js_urls, callback) {\n    if (css_urls == null) css_urls = [];\n    if (js_urls == null) js_urls = [];\n\n    root._bokeh_onload_callbacks.push(callback);\n    if (root._bokeh_is_loading > 0) {\n      console.debug(\"Bokeh: BokehJS is being loaded, scheduling callback at\", now());\n      return null;\n    }\n    if (js_urls == null || js_urls.length === 0) {\n      run_callbacks();\n      return null;\n    }\n    console.debug(\"Bokeh: BokehJS not loaded, scheduling load and callback at\", now());\n    root._bokeh_is_loading = css_urls.length + js_urls.length;\n\n    function on_load() {\n      root._bokeh_is_loading--;\n      if (root._bokeh_is_loading === 0) {\n        console.debug(\"Bokeh: all BokehJS libraries/stylesheets loaded\");\n        run_callbacks()\n      }\n    }\n\n    function on_error(url) {\n      console.error(\"failed to load \" + url);\n    }\n\n    for (let i = 0; i < css_urls.length; i++) {\n      const url = css_urls[i];\n      const element = document.createElement(\"link\");\n      element.onload = on_load;\n      element.onerror = on_error.bind(null, url);\n      element.rel = \"stylesheet\";\n      element.type = \"text/css\";\n      element.href = url;\n      console.debug(\"Bokeh: injecting link tag for BokehJS stylesheet: \", url);\n      document.body.appendChild(element);\n    }\n\n    for (let i = 0; i < js_urls.length; i++) {\n      const url = js_urls[i];\n      const element = document.createElement('script');\n      element.onload = on_load;\n      element.onerror = on_error.bind(null, url);\n      element.async = false;\n      element.src = url;\n      console.debug(\"Bokeh: injecting script tag for BokehJS library: \", url);\n      document.head.appendChild(element);\n    }\n  };\n\n  function inject_raw_css(css) {\n    const element = document.createElement(\"style\");\n    element.appendChild(document.createTextNode(css));\n    document.body.appendChild(element);\n  }\n\n  const js_urls = [\"https://cdn.bokeh.org/bokeh/release/bokeh-3.3.0.min.js\", \"https://cdn.bokeh.org/bokeh/release/bokeh-gl-3.3.0.min.js\", \"https://cdn.bokeh.org/bokeh/release/bokeh-widgets-3.3.0.min.js\", \"https://cdn.bokeh.org/bokeh/release/bokeh-tables-3.3.0.min.js\", \"https://cdn.bokeh.org/bokeh/release/bokeh-mathjax-3.3.0.min.js\"];\n  const css_urls = [];\n\n  const inline_js = [    function(Bokeh) {\n      Bokeh.set_log_level(\"info\");\n    },\nfunction(Bokeh) {\n    }\n  ];\n\n  function run_inline_js() {\n    if (root.Bokeh !== undefined || force === true) {\n          for (let i = 0; i < inline_js.length; i++) {\n      inline_js[i].call(root, root.Bokeh);\n    }\nif (force === true) {\n        display_loaded();\n      }} else if (Date.now() < root._bokeh_timeout) {\n      setTimeout(run_inline_js, 100);\n    } else if (!root._bokeh_failed_load) {\n      console.log(\"Bokeh: BokehJS failed to load within specified timeout.\");\n      root._bokeh_failed_load = true;\n    } else if (force !== true) {\n      const cell = $(document.getElementById(\"c3b8e64f-42df-478e-b6b5-9e83a82864b4\")).parents('.cell').data().cell;\n      cell.output_area.append_execute_result(NB_LOAD_WARNING)\n    }\n  }\n\n  if (root._bokeh_is_loading === 0) {\n    console.debug(\"Bokeh: BokehJS loaded, going straight to plotting\");\n    run_inline_js();\n  } else {\n    load_libs(css_urls, js_urls, function() {\n      console.debug(\"Bokeh: BokehJS plotting callback run at\", now());\n      run_inline_js();\n    });\n  }\n}(window));",
      "application/vnd.bokehjs_load.v0+json": "(function(root) {\n  function now() {\n    return new Date();\n  }\n\n  const force = true;\n\n  if (typeof root._bokeh_onload_callbacks === \"undefined\" || force === true) {\n    root._bokeh_onload_callbacks = [];\n    root._bokeh_is_loading = undefined;\n  }\n\n\n  if (typeof (root._bokeh_timeout) === \"undefined\" || force === true) {\n    root._bokeh_timeout = Date.now() + 5000;\n    root._bokeh_failed_load = false;\n  }\n\n  const NB_LOAD_WARNING = {'data': {'text/html':\n     \"<div style='background-color: #fdd'>\\n\"+\n     \"<p>\\n\"+\n     \"BokehJS does not appear to have successfully loaded. If loading BokehJS from CDN, this \\n\"+\n     \"may be due to a slow or bad network connection. Possible fixes:\\n\"+\n     \"</p>\\n\"+\n     \"<ul>\\n\"+\n     \"<li>re-rerun `output_notebook()` to attempt to load from CDN again, or</li>\\n\"+\n     \"<li>use INLINE resources instead, as so:</li>\\n\"+\n     \"</ul>\\n\"+\n     \"<code>\\n\"+\n     \"from bokeh.resources import INLINE\\n\"+\n     \"output_notebook(resources=INLINE)\\n\"+\n     \"</code>\\n\"+\n     \"</div>\"}};\n\n  function display_loaded() {\n    const el = document.getElementById(\"c3b8e64f-42df-478e-b6b5-9e83a82864b4\");\n    if (el != null) {\n      el.textContent = \"BokehJS is loading...\";\n    }\n    if (root.Bokeh !== undefined) {\n      if (el != null) {\n        el.textContent = \"BokehJS \" + root.Bokeh.version + \" successfully loaded.\";\n      }\n    } else if (Date.now() < root._bokeh_timeout) {\n      setTimeout(display_loaded, 100)\n    }\n  }\n\n  function run_callbacks() {\n    try {\n      root._bokeh_onload_callbacks.forEach(function(callback) {\n        if (callback != null)\n          callback();\n      });\n    } finally {\n      delete root._bokeh_onload_callbacks\n    }\n    console.debug(\"Bokeh: all callbacks have finished\");\n  }\n\n  function load_libs(css_urls, js_urls, callback) {\n    if (css_urls == null) css_urls = [];\n    if (js_urls == null) js_urls = [];\n\n    root._bokeh_onload_callbacks.push(callback);\n    if (root._bokeh_is_loading > 0) {\n      console.debug(\"Bokeh: BokehJS is being loaded, scheduling callback at\", now());\n      return null;\n    }\n    if (js_urls == null || js_urls.length === 0) {\n      run_callbacks();\n      return null;\n    }\n    console.debug(\"Bokeh: BokehJS not loaded, scheduling load and callback at\", now());\n    root._bokeh_is_loading = css_urls.length + js_urls.length;\n\n    function on_load() {\n      root._bokeh_is_loading--;\n      if (root._bokeh_is_loading === 0) {\n        console.debug(\"Bokeh: all BokehJS libraries/stylesheets loaded\");\n        run_callbacks()\n      }\n    }\n\n    function on_error(url) {\n      console.error(\"failed to load \" + url);\n    }\n\n    for (let i = 0; i < css_urls.length; i++) {\n      const url = css_urls[i];\n      const element = document.createElement(\"link\");\n      element.onload = on_load;\n      element.onerror = on_error.bind(null, url);\n      element.rel = \"stylesheet\";\n      element.type = \"text/css\";\n      element.href = url;\n      console.debug(\"Bokeh: injecting link tag for BokehJS stylesheet: \", url);\n      document.body.appendChild(element);\n    }\n\n    for (let i = 0; i < js_urls.length; i++) {\n      const url = js_urls[i];\n      const element = document.createElement('script');\n      element.onload = on_load;\n      element.onerror = on_error.bind(null, url);\n      element.async = false;\n      element.src = url;\n      console.debug(\"Bokeh: injecting script tag for BokehJS library: \", url);\n      document.head.appendChild(element);\n    }\n  };\n\n  function inject_raw_css(css) {\n    const element = document.createElement(\"style\");\n    element.appendChild(document.createTextNode(css));\n    document.body.appendChild(element);\n  }\n\n  const js_urls = [\"https://cdn.bokeh.org/bokeh/release/bokeh-3.3.0.min.js\", \"https://cdn.bokeh.org/bokeh/release/bokeh-gl-3.3.0.min.js\", \"https://cdn.bokeh.org/bokeh/release/bokeh-widgets-3.3.0.min.js\", \"https://cdn.bokeh.org/bokeh/release/bokeh-tables-3.3.0.min.js\", \"https://cdn.bokeh.org/bokeh/release/bokeh-mathjax-3.3.0.min.js\"];\n  const css_urls = [];\n\n  const inline_js = [    function(Bokeh) {\n      Bokeh.set_log_level(\"info\");\n    },\nfunction(Bokeh) {\n    }\n  ];\n\n  function run_inline_js() {\n    if (root.Bokeh !== undefined || force === true) {\n          for (let i = 0; i < inline_js.length; i++) {\n      inline_js[i].call(root, root.Bokeh);\n    }\nif (force === true) {\n        display_loaded();\n      }} else if (Date.now() < root._bokeh_timeout) {\n      setTimeout(run_inline_js, 100);\n    } else if (!root._bokeh_failed_load) {\n      console.log(\"Bokeh: BokehJS failed to load within specified timeout.\");\n      root._bokeh_failed_load = true;\n    } else if (force !== true) {\n      const cell = $(document.getElementById(\"c3b8e64f-42df-478e-b6b5-9e83a82864b4\")).parents('.cell').data().cell;\n      cell.output_area.append_execute_result(NB_LOAD_WARNING)\n    }\n  }\n\n  if (root._bokeh_is_loading === 0) {\n    console.debug(\"Bokeh: BokehJS loaded, going straight to plotting\");\n    run_inline_js();\n  } else {\n    load_libs(css_urls, js_urls, function() {\n      console.debug(\"Bokeh: BokehJS plotting callback run at\", now());\n      run_inline_js();\n    });\n  }\n}(window));"
     },
     "metadata": {},
     "output_type": "display_data"
    }
   ],
   "source": [
    "import pandas as pd\n",
    "import networkx as nx\n",
    "\n",
    "from scripts.plotting import plot_example_graph\n",
    "\n",
    "from bokeh.io import show\n",
    "from bokeh.io.export import get_screenshot_as_png"
   ]
  },
  {
   "cell_type": "code",
   "execution_count": 2,
   "id": "451ae4f6f6fc12d3",
   "metadata": {
    "collapsed": false,
    "ExecuteTime": {
     "end_time": "2023-12-03T09:54:46.697471Z",
     "start_time": "2023-12-03T09:54:46.510861Z"
    }
   },
   "outputs": [],
   "source": [
    "from selenium import webdriver\n",
    "import chromedriver_binary  # Adds chromedriver binary to path"
   ]
  },
  {
   "cell_type": "markdown",
   "id": "714e67f4164c50d0",
   "metadata": {
    "collapsed": false
   },
   "source": [
    "## Table of Contents\n",
    "\n",
    "&emsp;&ensp;&ensp;[Abstract](#abstract)<br style=\"margin-bottom:0.5em;\">\n",
    "&emsp;&emsp;[1 - Preprocessing & Initial Analysis](#preprocess)<br style=\"margin-bottom:0.1em;\">\n",
    "&emsp;&emsp;&emsp;&emsp;[1.1 - Preprocessing](#preprocessing-child)<br style=\"margin-bottom:0.1em;\">\n",
    "&emsp;&emsp;&emsp;&emsp;[1.2 - Merging](#merging)<br style=\"margin-bottom:0.1em;\">\n",
    "&emsp;&emsp;&emsp;&emsp;[1.3 - First Glance](#first-glance)<br style=\"margin-bottom:0.5em;\">\n",
    "&emsp;&emsp;[2 - Theory of Centrality Metrics](#theory)<br style=\"margin-bottom:0.1em;\">\n",
    "&emsp;&emsp;&emsp;&emsp;[2.1 - Betweenness](#betweenness)<br style=\"margin-bottom:0.1em;\">\n",
    "&emsp;&emsp;&emsp;&emsp;[2.2 - Degree](#degree)<br style=\"margin-bottom:0.5em;\">\n",
    "&emsp;&emsp;[3 - Creating Network Graphs](#creating-network)<br style=\"margin-bottom:0.1em;\">\n",
    "&emsp;&emsp;&emsp;&emsp;[3.1 - Embeddings](#embeddings)<br style=\"margin-bottom:0.1em;\">\n",
    "&emsp;&emsp;&emsp;&emsp;[3.1 - Classification](#classification)<br style=\"margin-bottom:0.1em;\">\n",
    "&emsp;&emsp;[4 - Correlation Analysis](#correlation-analysis)<br style=\"margin-bottom:0.1em;\">\n",
    "&emsp;&ensp;&ensp;[Summary](#summary)<br style=\"margin-bottom:0.1em;\">\n"
   ]
  },
  {
   "cell_type": "markdown",
   "id": "cd87ea1f580a0ce4",
   "metadata": {
    "collapsed": false
   },
   "source": [
    "## Abstract <a class=\"anchor\" id=\"abstract\"></a>\n",
    "\n",
    "TBD"
   ]
  },
  {
   "cell_type": "markdown",
   "id": "a7bccca03fb27839",
   "metadata": {
    "collapsed": false
   },
   "source": [
    "## 1. Preprocessing & Initial Analysis <a class=\"anchor\" id=\"preprocess\"></a>\n",
    "\n",
    "TBD"
   ]
  },
  {
   "cell_type": "markdown",
   "id": "b2cb4900ef221f1d",
   "metadata": {
    "collapsed": false
   },
   "source": [
    "### 1.1 Preprocessing <a class=\"anchor\" id=\"preprocessing-child\"></a>\n",
    "\n",
    "TBD"
   ]
  },
  {
   "cell_type": "markdown",
   "id": "58f620dc6e1dd88a",
   "metadata": {
    "collapsed": false
   },
   "source": [
    "### 1.1.1 Movie Metadata"
   ]
  },
  {
   "cell_type": "code",
   "execution_count": 3,
   "id": "14355b53636d1776",
   "metadata": {
    "collapsed": false,
    "ExecuteTime": {
     "end_time": "2023-12-03T09:54:47.136825Z",
     "start_time": "2023-12-03T09:54:46.662144Z"
    }
   },
   "outputs": [
    {
     "name": "stdout",
     "output_type": "stream",
     "text": [
      "(81741, 9)\n"
     ]
    },
    {
     "data": {
      "text/plain": "   wikipedia_id freebase_id  \\\n0        975900   /m/03vyhn   \n1       3196793   /m/08yl5d   \n2      28463795  /m/0crgdbh   \n3       9363483  /m/0285_cd   \n4        261236   /m/01mrr1   \n\n                                                name release_date  \\\n0                                     Ghosts of Mars   2001-08-24   \n1  Getting Away with Murder: The JonBenét Ramsey ...   2000-02-16   \n2                                        Brun bitter         1988   \n3                                   White Of The Eye         1987   \n4                                  A Woman in Flames         1983   \n\n   box_office_revenue  runtime                           languages  \\\n0          14010832.0     98.0  {\"/m/02h40lc\": \"English Language\"}   \n1                 NaN     95.0  {\"/m/02h40lc\": \"English Language\"}   \n2                 NaN     83.0  {\"/m/05f_3\": \"Norwegian Language\"}   \n3                 NaN    110.0  {\"/m/02h40lc\": \"English Language\"}   \n4                 NaN    106.0   {\"/m/04306rv\": \"German Language\"}   \n\n                                   countries  \\\n0  {\"/m/09c7w0\": \"United States of America\"}   \n1  {\"/m/09c7w0\": \"United States of America\"}   \n2                     {\"/m/05b4w\": \"Norway\"}   \n3             {\"/m/07ssc\": \"United Kingdom\"}   \n4                    {\"/m/0345h\": \"Germany\"}   \n\n                                              genres  \n0  {\"/m/01jfsb\": \"Thriller\", \"/m/06n90\": \"Science...  \n1  {\"/m/02n4kr\": \"Mystery\", \"/m/03bxz7\": \"Biograp...  \n2  {\"/m/0lsxr\": \"Crime Fiction\", \"/m/07s9rl0\": \"D...  \n3  {\"/m/01jfsb\": \"Thriller\", \"/m/0glj9q\": \"Erotic...  \n4                            {\"/m/07s9rl0\": \"Drama\"}  ",
      "text/html": "<div>\n<style scoped>\n    .dataframe tbody tr th:only-of-type {\n        vertical-align: middle;\n    }\n\n    .dataframe tbody tr th {\n        vertical-align: top;\n    }\n\n    .dataframe thead th {\n        text-align: right;\n    }\n</style>\n<table border=\"1\" class=\"dataframe\">\n  <thead>\n    <tr style=\"text-align: right;\">\n      <th></th>\n      <th>wikipedia_id</th>\n      <th>freebase_id</th>\n      <th>name</th>\n      <th>release_date</th>\n      <th>box_office_revenue</th>\n      <th>runtime</th>\n      <th>languages</th>\n      <th>countries</th>\n      <th>genres</th>\n    </tr>\n  </thead>\n  <tbody>\n    <tr>\n      <th>0</th>\n      <td>975900</td>\n      <td>/m/03vyhn</td>\n      <td>Ghosts of Mars</td>\n      <td>2001-08-24</td>\n      <td>14010832.0</td>\n      <td>98.0</td>\n      <td>{\"/m/02h40lc\": \"English Language\"}</td>\n      <td>{\"/m/09c7w0\": \"United States of America\"}</td>\n      <td>{\"/m/01jfsb\": \"Thriller\", \"/m/06n90\": \"Science...</td>\n    </tr>\n    <tr>\n      <th>1</th>\n      <td>3196793</td>\n      <td>/m/08yl5d</td>\n      <td>Getting Away with Murder: The JonBenét Ramsey ...</td>\n      <td>2000-02-16</td>\n      <td>NaN</td>\n      <td>95.0</td>\n      <td>{\"/m/02h40lc\": \"English Language\"}</td>\n      <td>{\"/m/09c7w0\": \"United States of America\"}</td>\n      <td>{\"/m/02n4kr\": \"Mystery\", \"/m/03bxz7\": \"Biograp...</td>\n    </tr>\n    <tr>\n      <th>2</th>\n      <td>28463795</td>\n      <td>/m/0crgdbh</td>\n      <td>Brun bitter</td>\n      <td>1988</td>\n      <td>NaN</td>\n      <td>83.0</td>\n      <td>{\"/m/05f_3\": \"Norwegian Language\"}</td>\n      <td>{\"/m/05b4w\": \"Norway\"}</td>\n      <td>{\"/m/0lsxr\": \"Crime Fiction\", \"/m/07s9rl0\": \"D...</td>\n    </tr>\n    <tr>\n      <th>3</th>\n      <td>9363483</td>\n      <td>/m/0285_cd</td>\n      <td>White Of The Eye</td>\n      <td>1987</td>\n      <td>NaN</td>\n      <td>110.0</td>\n      <td>{\"/m/02h40lc\": \"English Language\"}</td>\n      <td>{\"/m/07ssc\": \"United Kingdom\"}</td>\n      <td>{\"/m/01jfsb\": \"Thriller\", \"/m/0glj9q\": \"Erotic...</td>\n    </tr>\n    <tr>\n      <th>4</th>\n      <td>261236</td>\n      <td>/m/01mrr1</td>\n      <td>A Woman in Flames</td>\n      <td>1983</td>\n      <td>NaN</td>\n      <td>106.0</td>\n      <td>{\"/m/04306rv\": \"German Language\"}</td>\n      <td>{\"/m/0345h\": \"Germany\"}</td>\n      <td>{\"/m/07s9rl0\": \"Drama\"}</td>\n    </tr>\n  </tbody>\n</table>\n</div>"
     },
     "execution_count": 3,
     "metadata": {},
     "output_type": "execute_result"
    }
   ],
   "source": [
    "# specify the column names \n",
    "column_names = [\n",
    "    'wikipedia_id', 'freebase_id', 'name', 'release_date', \n",
    "    'box_office_revenue', 'runtime', 'languages', 'countries', 'genres'\n",
    "]\n",
    "metadata_df = pd.read_table('data/raw/movie.metadata.tsv', names=column_names)\n",
    "print(metadata_df.shape)\n",
    "metadata_df.head(5)"
   ]
  },
  {
   "cell_type": "markdown",
   "id": "145c4c1e4d2eef44",
   "metadata": {
    "collapsed": false
   },
   "source": [
    "### 1.2 Merging <a class=\"anchor\" id=\"merging\"></a>\n",
    "\n",
    "TBD"
   ]
  },
  {
   "cell_type": "code",
   "execution_count": 3,
   "id": "b1acdc7ae72b767c",
   "metadata": {
    "collapsed": false,
    "ExecuteTime": {
     "end_time": "2023-12-03T09:54:47.137133Z",
     "start_time": "2023-12-03T09:54:47.130206Z"
    }
   },
   "outputs": [],
   "source": []
  },
  {
   "cell_type": "markdown",
   "id": "43325959fcd4bae",
   "metadata": {
    "collapsed": false
   },
   "source": [
    "### 1.3 First Glance <a class=\"anchor\" id=\"first-glance\"></a>\n",
    "\n",
    "TBD"
   ]
  },
  {
   "cell_type": "code",
   "execution_count": 3,
   "id": "6d676a3625ffb992",
   "metadata": {
    "collapsed": false,
    "ExecuteTime": {
     "end_time": "2023-12-03T09:54:47.147838Z",
     "start_time": "2023-12-03T09:54:47.135643Z"
    }
   },
   "outputs": [],
   "source": []
  },
  {
   "cell_type": "markdown",
   "id": "eef525b79a81a042",
   "metadata": {
    "collapsed": false
   },
   "source": [
    "## 2. Theory of Centrality Metrics <a class=\"anchor\" id=\"theory\"></a>\n",
    "\n",
    "TBD"
   ]
  },
  {
   "cell_type": "markdown",
   "id": "481d99a1dd2546d3",
   "metadata": {
    "collapsed": false
   },
   "source": [
    "### 2.1 Betweenness <a class=\"anchor\" id=\"betweenness\"></a>\n",
    "\n",
    "TBD"
   ]
  },
  {
   "cell_type": "code",
   "execution_count": 3,
   "id": "a260e71c054ce397",
   "metadata": {
    "collapsed": false,
    "ExecuteTime": {
     "end_time": "2023-12-03T09:54:47.184928Z",
     "start_time": "2023-12-03T09:54:47.145138Z"
    }
   },
   "outputs": [],
   "source": []
  },
  {
   "cell_type": "markdown",
   "id": "e235f34da665c17b",
   "metadata": {
    "collapsed": false
   },
   "source": [
    "### 2.1 Degree <a class=\"anchor\" id=\"degree\"></a>\n",
    "\n",
    "TBD"
   ]
  },
  {
   "cell_type": "code",
   "execution_count": 4,
   "id": "c0feeb002e962a9f",
   "metadata": {
    "collapsed": false,
    "ExecuteTime": {
     "end_time": "2023-12-03T09:54:47.196845Z",
     "start_time": "2023-12-03T09:54:47.149529Z"
    }
   },
   "outputs": [],
   "source": [
    "degree_graph = nx.Graph()\n",
    "\n",
    "# let's define edges for a simple graph\n",
    "edges = [\n",
    "    ('b', 'o'), ('f', 'u'), ('a', 'b'), ('a', 'c'), ('a', 'd'), ('a', 'e'), \n",
    "    ('a', 'f'), ('b', 'c'), ('b', 'd'), ('b', 'e'), ('c', 'd'), ('c', 'e'),\n",
    "    ('f', 'c'), ('f', 'd'), ('f', 'e'), ('g', 'b'), ('g', 'd'), ('g', 'f')\n",
    "]\n",
    "\n",
    "# add edges to the graph\n",
    "for node_1, node_2 in edges:\n",
    "    degree_graph.add_edge(node_1, node_2)"
   ]
  },
  {
   "cell_type": "code",
   "execution_count": 10,
   "id": "97a27a85305722c4",
   "metadata": {
    "collapsed": false,
    "ExecuteTime": {
     "end_time": "2023-12-03T09:59:51.398193Z",
     "start_time": "2023-12-03T09:59:51.288979Z"
    }
   },
   "outputs": [
    {
     "data": {
      "text/html": "\n  <div id=\"b71eb787-52db-454a-b694-6040ce1c7565\" data-root-id=\"p1297\" style=\"display: contents;\"></div>\n"
     },
     "metadata": {},
     "output_type": "display_data"
    },
    {
     "data": {
      "application/javascript": "(function(root) {\n  function embed_document(root) {\n  const docs_json = {\"433bd837-80b8-4303-a0bc-f59ce73adf97\":{\"version\":\"3.3.0\",\"title\":\"Bokeh Application\",\"roots\":[{\"type\":\"object\",\"name\":\"Figure\",\"id\":\"p1297\",\"attributes\":{\"width\":800,\"height\":500,\"x_range\":{\"type\":\"object\",\"name\":\"DataRange1d\",\"id\":\"p1298\"},\"y_range\":{\"type\":\"object\",\"name\":\"DataRange1d\",\"id\":\"p1299\"},\"x_scale\":{\"type\":\"object\",\"name\":\"LinearScale\",\"id\":\"p1306\"},\"y_scale\":{\"type\":\"object\",\"name\":\"LinearScale\",\"id\":\"p1307\"},\"title\":{\"type\":\"object\",\"name\":\"Title\",\"id\":\"p1304\",\"attributes\":{\"text_color\":\"#5B5B5B\",\"text_font\":\"Helvetica\",\"text_font_size\":\"1.15em\"}},\"renderers\":[{\"type\":\"object\",\"name\":\"GraphRenderer\",\"id\":\"p1326\",\"attributes\":{\"layout_provider\":{\"type\":\"object\",\"name\":\"StaticLayoutProvider\",\"id\":\"p1343\",\"attributes\":{\"graph_layout\":{\"type\":\"map\",\"entries\":[[0,{\"type\":\"ndarray\",\"array\":{\"type\":\"bytes\",\"data\":\"lgCadT3W8D9x/FwECxkPQA==\"},\"shape\":[2],\"dtype\":\"float64\",\"order\":\"little\"}],[1,{\"type\":\"ndarray\",\"array\":{\"type\":\"bytes\",\"data\":\"roPm0NiXCEAAAAAAAAAkQA==\"},\"shape\":[2],\"dtype\":\"float64\",\"order\":\"little\"}],[2,{\"type\":\"ndarray\",\"array\":{\"type\":\"bytes\",\"data\":\"HvCDO40N9L/4zi2v8mUOwA==\"},\"shape\":[2],\"dtype\":\"float64\",\"order\":\"little\"}],[3,{\"type\":\"ndarray\",\"array\":{\"type\":\"bytes\",\"data\":\"puY8oVJeCcBG+7Iml98jwA==\"},\"shape\":[2],\"dtype\":\"float64\",\"order\":\"little\"}],[4,{\"type\":\"ndarray\",\"array\":{\"type\":\"bytes\",\"data\":\"c+K2RWSxCkC1ME4e8H7Yvw==\"},\"shape\":[2],\"dtype\":\"float64\",\"order\":\"little\"}],[5,{\"type\":\"ndarray\",\"array\":{\"type\":\"bytes\",\"data\":\"un6o0z088z9YRsI4ExTkPw==\"},\"shape\":[2],\"dtype\":\"float64\",\"order\":\"little\"}],[6,{\"type\":\"ndarray\",\"array\":{\"type\":\"bytes\",\"data\":\"n616ahwd6T/xYyL5byL9vw==\"},\"shape\":[2],\"dtype\":\"float64\",\"order\":\"little\"}],[7,{\"type\":\"ndarray\",\"array\":{\"type\":\"bytes\",\"data\":\"aW5Z7TEg9b+0Z9s43qT6Pw==\"},\"shape\":[2],\"dtype\":\"float64\",\"order\":\"little\"}],[8,{\"type\":\"ndarray\",\"array\":{\"type\":\"bytes\",\"data\":\"S7sxoI+kDcAM3GhKmrHOvw==\"},\"shape\":[2],\"dtype\":\"float64\",\"order\":\"little\"}]]}}},\"node_renderer\":{\"type\":\"object\",\"name\":\"GlyphRenderer\",\"id\":\"p1331\",\"attributes\":{\"data_source\":{\"type\":\"object\",\"name\":\"ColumnDataSource\",\"id\":\"p1328\",\"attributes\":{\"selected\":{\"type\":\"object\",\"name\":\"Selection\",\"id\":\"p1329\",\"attributes\":{\"indices\":[],\"line_indices\":[]}},\"selection_policy\":{\"type\":\"object\",\"name\":\"UnionRenderers\",\"id\":\"p1330\"},\"data\":{\"type\":\"map\",\"entries\":[[\"degree\",[0.75,0.125,0.75,0.125,0.625,0.625,0.625,0.5,0.375]],[\"name\",[\"b\",\"o\",\"f\",\"u\",\"a\",\"c\",\"d\",\"e\",\"g\"]],[\"betweenness\",[0.30059523809523814,0.0,0.30059523809523814,0.0,0.0375,0.0375,0.052380952380952375,0.02857142857142857,0.02857142857142857]],[\"index\",[0,1,2,3,4,5,6,7,8]]]}}},\"view\":{\"type\":\"object\",\"name\":\"CDSView\",\"id\":\"p1332\",\"attributes\":{\"filter\":{\"type\":\"object\",\"name\":\"AllIndices\",\"id\":\"p1333\"}}},\"glyph\":{\"type\":\"object\",\"name\":\"Circle\",\"id\":\"p1346\",\"attributes\":{\"size\":{\"type\":\"value\",\"value\":40},\"fill_color\":{\"type\":\"field\",\"field\":\"degree\",\"transform\":{\"type\":\"object\",\"name\":\"LinearColorMapper\",\"id\":\"p1345\",\"attributes\":{\"palette\":[\"#00204C\",\"#00204E\",\"#002150\",\"#002251\",\"#002353\",\"#002355\",\"#002456\",\"#002558\",\"#00265A\",\"#00265B\",\"#00275D\",\"#00285F\",\"#002861\",\"#002963\",\"#002A64\",\"#002A66\",\"#002B68\",\"#002C6A\",\"#002D6C\",\"#002D6D\",\"#002E6E\",\"#002E6F\",\"#002F6F\",\"#002F6F\",\"#00306F\",\"#00316F\",\"#00316F\",\"#00326E\",\"#00336E\",\"#00346E\",\"#00346E\",\"#01356E\",\"#06366E\",\"#0A376D\",\"#0E376D\",\"#12386D\",\"#15396D\",\"#17396D\",\"#1A3A6C\",\"#1C3B6C\",\"#1E3C6C\",\"#203C6C\",\"#223D6C\",\"#243E6C\",\"#263E6C\",\"#273F6C\",\"#29406B\",\"#2B416B\",\"#2C416B\",\"#2E426B\",\"#2F436B\",\"#31446B\",\"#32446B\",\"#33456B\",\"#35466B\",\"#36466B\",\"#37476B\",\"#38486B\",\"#3A496B\",\"#3B496B\",\"#3C4A6B\",\"#3D4B6B\",\"#3E4B6B\",\"#404C6B\",\"#414D6B\",\"#424E6B\",\"#434E6B\",\"#444F6B\",\"#45506B\",\"#46506B\",\"#47516B\",\"#48526B\",\"#49536B\",\"#4A536B\",\"#4B546B\",\"#4C556B\",\"#4D556B\",\"#4E566B\",\"#4F576C\",\"#50586C\",\"#51586C\",\"#52596C\",\"#535A6C\",\"#545A6C\",\"#555B6C\",\"#565C6C\",\"#575D6D\",\"#585D6D\",\"#595E6D\",\"#5A5F6D\",\"#5B5F6D\",\"#5C606D\",\"#5D616E\",\"#5E626E\",\"#5F626E\",\"#5F636E\",\"#60646E\",\"#61656F\",\"#62656F\",\"#63666F\",\"#64676F\",\"#65676F\",\"#666870\",\"#676970\",\"#686A70\",\"#686A70\",\"#696B71\",\"#6A6C71\",\"#6B6D71\",\"#6C6D72\",\"#6D6E72\",\"#6E6F72\",\"#6F6F72\",\"#6F7073\",\"#707173\",\"#717273\",\"#727274\",\"#737374\",\"#747475\",\"#757575\",\"#757575\",\"#767676\",\"#777776\",\"#787876\",\"#797877\",\"#7A7977\",\"#7B7A77\",\"#7B7B78\",\"#7C7B78\",\"#7D7C78\",\"#7E7D78\",\"#7F7E78\",\"#807E78\",\"#817F78\",\"#828078\",\"#838178\",\"#848178\",\"#858278\",\"#868378\",\"#878478\",\"#888578\",\"#898578\",\"#8A8678\",\"#8B8778\",\"#8C8878\",\"#8D8878\",\"#8E8978\",\"#8F8A78\",\"#908B78\",\"#918C78\",\"#928C78\",\"#938D78\",\"#948E78\",\"#958F78\",\"#968F77\",\"#979077\",\"#989177\",\"#999277\",\"#9A9377\",\"#9B9377\",\"#9C9477\",\"#9D9577\",\"#9E9676\",\"#9F9776\",\"#A09876\",\"#A19876\",\"#A29976\",\"#A39A75\",\"#A49B75\",\"#A59C75\",\"#A69C75\",\"#A79D75\",\"#A89E74\",\"#A99F74\",\"#AAA074\",\"#ABA174\",\"#ACA173\",\"#ADA273\",\"#AEA373\",\"#AFA473\",\"#B0A572\",\"#B1A672\",\"#B2A672\",\"#B4A771\",\"#B5A871\",\"#B6A971\",\"#B7AA70\",\"#B8AB70\",\"#B9AB70\",\"#BAAC6F\",\"#BBAD6F\",\"#BCAE6E\",\"#BDAF6E\",\"#BEB06E\",\"#BFB16D\",\"#C0B16D\",\"#C1B26C\",\"#C2B36C\",\"#C3B46C\",\"#C5B56B\",\"#C6B66B\",\"#C7B76A\",\"#C8B86A\",\"#C9B869\",\"#CAB969\",\"#CBBA68\",\"#CCBB68\",\"#CDBC67\",\"#CEBD67\",\"#D0BE66\",\"#D1BF66\",\"#D2C065\",\"#D3C065\",\"#D4C164\",\"#D5C263\",\"#D6C363\",\"#D7C462\",\"#D8C561\",\"#D9C661\",\"#DBC760\",\"#DCC860\",\"#DDC95F\",\"#DECA5E\",\"#DFCB5D\",\"#E0CB5D\",\"#E1CC5C\",\"#E3CD5B\",\"#E4CE5B\",\"#E5CF5A\",\"#E6D059\",\"#E7D158\",\"#E8D257\",\"#E9D356\",\"#EBD456\",\"#ECD555\",\"#EDD654\",\"#EED753\",\"#EFD852\",\"#F0D951\",\"#F1DA50\",\"#F3DB4F\",\"#F4DC4E\",\"#F5DD4D\",\"#F6DE4C\",\"#F7DF4B\",\"#F9E049\",\"#FAE048\",\"#FBE147\",\"#FCE246\",\"#FDE345\",\"#FFE443\",\"#FFE542\",\"#FFE642\",\"#FFE743\",\"#FFE844\",\"#FFE945\"],\"low\":0.125,\"high\":0.75}}}}}}},\"edge_renderer\":{\"type\":\"object\",\"name\":\"GlyphRenderer\",\"id\":\"p1338\",\"attributes\":{\"data_source\":{\"type\":\"object\",\"name\":\"ColumnDataSource\",\"id\":\"p1335\",\"attributes\":{\"selected\":{\"type\":\"object\",\"name\":\"Selection\",\"id\":\"p1336\",\"attributes\":{\"indices\":[],\"line_indices\":[]}},\"selection_policy\":{\"type\":\"object\",\"name\":\"UnionRenderers\",\"id\":\"p1337\"},\"data\":{\"type\":\"map\",\"entries\":[[\"start\",[0,0,0,0,0,0,2,2,2,2,2,2,4,4,4,5,5,6]],[\"end\",[1,4,5,6,7,8,3,4,5,6,7,8,5,6,7,6,7,8]]]}}},\"view\":{\"type\":\"object\",\"name\":\"CDSView\",\"id\":\"p1339\",\"attributes\":{\"filter\":{\"type\":\"object\",\"name\":\"AllIndices\",\"id\":\"p1340\"}}},\"glyph\":{\"type\":\"object\",\"name\":\"MultiLine\",\"id\":\"p1344\",\"attributes\":{\"line_alpha\":{\"type\":\"value\",\"value\":0.5},\"line_width\":{\"type\":\"value\",\"value\":0.5}}}}},\"selection_policy\":{\"type\":\"object\",\"name\":\"NodesOnly\",\"id\":\"p1341\"},\"inspection_policy\":{\"type\":\"object\",\"name\":\"NodesOnly\",\"id\":\"p1342\"}}}],\"toolbar\":{\"type\":\"object\",\"name\":\"Toolbar\",\"id\":\"p1305\",\"attributes\":{\"tools\":[{\"type\":\"object\",\"name\":\"PanTool\",\"id\":\"p1318\"},{\"type\":\"object\",\"name\":\"WheelZoomTool\",\"id\":\"p1319\",\"attributes\":{\"renderers\":\"auto\"}},{\"type\":\"object\",\"name\":\"BoxZoomTool\",\"id\":\"p1320\",\"attributes\":{\"overlay\":{\"type\":\"object\",\"name\":\"BoxAnnotation\",\"id\":\"p1321\",\"attributes\":{\"syncable\":false,\"level\":\"overlay\",\"visible\":false,\"left_units\":\"canvas\",\"right_units\":\"canvas\",\"top_units\":\"canvas\",\"bottom_units\":\"canvas\",\"line_color\":\"black\",\"line_alpha\":1.0,\"line_width\":2,\"line_dash\":[4,4],\"fill_color\":\"lightgrey\",\"fill_alpha\":0.5}}}},{\"type\":\"object\",\"name\":\"SaveTool\",\"id\":\"p1322\"},{\"type\":\"object\",\"name\":\"ResetTool\",\"id\":\"p1323\"},{\"type\":\"object\",\"name\":\"HelpTool\",\"id\":\"p1324\"},{\"type\":\"object\",\"name\":\"HoverTool\",\"id\":\"p1325\",\"attributes\":{\"renderers\":\"auto\",\"tooltips\":[[\"degree\",\"@degree{0.00}\"],[\"betweenness\",\"@betweenness{0.00}\"]]}}],\"active_scroll\":{\"id\":\"p1319\"}}},\"toolbar_location\":null,\"left\":[{\"type\":\"object\",\"name\":\"LinearAxis\",\"id\":\"p1313\",\"attributes\":{\"visible\":false,\"ticker\":{\"type\":\"object\",\"name\":\"BasicTicker\",\"id\":\"p1314\",\"attributes\":{\"mantissas\":[1,2,5]}},\"formatter\":{\"type\":\"object\",\"name\":\"BasicTickFormatter\",\"id\":\"p1315\"},\"axis_label_standoff\":10,\"axis_label_text_color\":\"#5B5B5B\",\"axis_label_text_font\":\"Helvetica\",\"axis_label_text_font_size\":\"1.25em\",\"axis_label_text_font_style\":\"normal\",\"major_label_policy\":{\"type\":\"object\",\"name\":\"AllLabels\",\"id\":\"p1316\"},\"major_label_text_color\":\"#5B5B5B\",\"major_label_text_font\":\"Helvetica\",\"major_label_text_font_size\":\"1.025em\",\"axis_line_color\":\"#5B5B5B\",\"axis_line_alpha\":0,\"major_tick_line_color\":\"#5B5B5B\",\"major_tick_line_alpha\":0,\"minor_tick_line_color\":\"#5B5B5B\",\"minor_tick_line_alpha\":0}}],\"below\":[{\"type\":\"object\",\"name\":\"LinearAxis\",\"id\":\"p1308\",\"attributes\":{\"visible\":false,\"ticker\":{\"type\":\"object\",\"name\":\"BasicTicker\",\"id\":\"p1309\",\"attributes\":{\"mantissas\":[1,2,5]}},\"formatter\":{\"type\":\"object\",\"name\":\"BasicTickFormatter\",\"id\":\"p1310\"},\"axis_label_standoff\":10,\"axis_label_text_color\":\"#5B5B5B\",\"axis_label_text_font\":\"Helvetica\",\"axis_label_text_font_size\":\"1.25em\",\"axis_label_text_font_style\":\"normal\",\"major_label_policy\":{\"type\":\"object\",\"name\":\"AllLabels\",\"id\":\"p1311\"},\"major_label_text_color\":\"#5B5B5B\",\"major_label_text_font\":\"Helvetica\",\"major_label_text_font_size\":\"1.025em\",\"axis_line_color\":\"#5B5B5B\",\"axis_line_alpha\":0,\"major_tick_line_color\":\"#5B5B5B\",\"major_tick_line_alpha\":0,\"minor_tick_line_color\":\"#5B5B5B\",\"minor_tick_line_alpha\":0}}],\"center\":[{\"type\":\"object\",\"name\":\"Grid\",\"id\":\"p1312\",\"attributes\":{\"visible\":false,\"axis\":{\"id\":\"p1308\"}}},{\"type\":\"object\",\"name\":\"Grid\",\"id\":\"p1317\",\"attributes\":{\"visible\":false,\"dimension\":1,\"axis\":{\"id\":\"p1313\"}}}]}}]}};\n  const render_items = [{\"docid\":\"433bd837-80b8-4303-a0bc-f59ce73adf97\",\"roots\":{\"p1297\":\"b71eb787-52db-454a-b694-6040ce1c7565\"},\"root_ids\":[\"p1297\"]}];\n  root.Bokeh.embed.embed_items_notebook(docs_json, render_items);\n  }\n  if (root.Bokeh !== undefined) {\n    embed_document(root);\n  } else {\n    let attempts = 0;\n    const timer = setInterval(function(root) {\n      if (root.Bokeh !== undefined) {\n        clearInterval(timer);\n        embed_document(root);\n      } else {\n        attempts++;\n        if (attempts > 100) {\n          clearInterval(timer);\n          console.log(\"Bokeh: ERROR: Unable to run BokehJS code because BokehJS library is missing\");\n        }\n      }\n    }, 10, root)\n  }\n})(window);",
      "application/vnd.bokehjs_exec.v0+json": ""
     },
     "metadata": {
      "application/vnd.bokehjs_exec.v0+json": {
       "id": "p1297"
      }
     },
     "output_type": "display_data"
    }
   ],
   "source": [
    "figure_kwargs = {\n",
    "    'width': 800,\n",
    "    'height': 500,\n",
    "    'tooltips': [(\"degree\", \"@degree{0.00}\"), (\"betweenness\", \"@betweenness{0.00}\")]\n",
    "}\n",
    "\n",
    "plot = plot_example_graph(degree_graph, color_attribute='degree', **figure_kwargs)\n",
    "show(plot)\n",
    "# get_screenshot_as_png(plot)"
   ]
  },
  {
   "cell_type": "markdown",
   "id": "4215a3e62ebb1ac9",
   "metadata": {
    "collapsed": false
   },
   "source": [
    "TBD"
   ]
  },
  {
   "cell_type": "markdown",
   "id": "b1f55e7962399941",
   "metadata": {
    "collapsed": false
   },
   "source": [
    "## 3. Creating the Network Graphs <a class=\"anchor\" id=\"creating-network\"></a>\n",
    "\n",
    "TBD"
   ]
  },
  {
   "cell_type": "markdown",
   "id": "c0bedb35e32320b0",
   "metadata": {
    "collapsed": false
   },
   "source": [
    "### 3.1 Embeddings <a class=\"anchor\" id=\"embeddings\"></a>\n",
    "\n",
    "TBD"
   ]
  },
  {
   "cell_type": "code",
   "execution_count": 5,
   "id": "78ac8c0a44416cb9",
   "metadata": {
    "collapsed": false,
    "ExecuteTime": {
     "end_time": "2023-12-03T09:54:49.286994Z",
     "start_time": "2023-12-03T09:54:49.280354Z"
    }
   },
   "outputs": [],
   "source": []
  },
  {
   "cell_type": "markdown",
   "id": "c8f86cc26c6a1d6b",
   "metadata": {
    "collapsed": false
   },
   "source": [
    "### 3.2 Classification <a class=\"anchor\" id=\"classification\"></a>\n",
    "\n",
    "TBD"
   ]
  },
  {
   "cell_type": "code",
   "execution_count": 5,
   "outputs": [],
   "source": [],
   "metadata": {
    "collapsed": false,
    "ExecuteTime": {
     "end_time": "2023-12-03T09:54:49.297003Z",
     "start_time": "2023-12-03T09:54:49.284328Z"
    }
   },
   "id": "35b26a890db2a48c"
  },
  {
   "cell_type": "markdown",
   "source": [
    "## 4. Correlation Analysis <a class=\"anchor\" id=\"correlation-analysis\"></a>\n",
    "\n",
    "TBD"
   ],
   "metadata": {
    "collapsed": false
   },
   "id": "7a5ddbfddb1d7e0c"
  },
  {
   "cell_type": "code",
   "execution_count": 5,
   "outputs": [],
   "source": [],
   "metadata": {
    "collapsed": false,
    "ExecuteTime": {
     "end_time": "2023-12-03T09:54:49.297287Z",
     "start_time": "2023-12-03T09:54:49.290247Z"
    }
   },
   "id": "a4363fe381cb26e3"
  },
  {
   "cell_type": "markdown",
   "source": [
    "## Summary  <a class=\"anchor\" id=\"summary\"></a>\n",
    "\n",
    "TBD"
   ],
   "metadata": {
    "collapsed": false
   },
   "id": "94333fa984218db6"
  },
  {
   "cell_type": "code",
   "execution_count": 5,
   "outputs": [],
   "source": [],
   "metadata": {
    "collapsed": false,
    "ExecuteTime": {
     "end_time": "2023-12-03T09:54:49.306668Z",
     "start_time": "2023-12-03T09:54:49.295484Z"
    }
   },
   "id": "c0c85f1924291542"
  }
 ],
 "metadata": {
  "kernelspec": {
   "display_name": "Python 3 (ipykernel)",
   "language": "python",
   "name": "python3"
  },
  "language_info": {
   "codemirror_mode": {
    "name": "ipython",
    "version": 3
   },
   "file_extension": ".py",
   "mimetype": "text/x-python",
   "name": "python",
   "nbconvert_exporter": "python",
   "pygments_lexer": "ipython3",
   "version": "3.9.18"
  }
 },
 "nbformat": 4,
 "nbformat_minor": 5
}
