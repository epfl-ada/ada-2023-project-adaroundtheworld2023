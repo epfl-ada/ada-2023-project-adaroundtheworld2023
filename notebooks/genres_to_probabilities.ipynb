{
  "cells": [
    {
      "cell_type": "code",
      "execution_count": 8,
      "metadata": {
        "ExecuteTime": {
          "end_time": "2023-12-08T10:41:43.588933Z",
          "start_time": "2023-12-08T10:41:43.578199Z"
        },
        "id": "L-3XLXX7UUcw"
      },
      "outputs": [],
      "source": [
        "import ast\n",
        "import os\n",
        "import json\n",
        "\n",
        "import pandas as pd\n",
        "\n",
        "from tqdm import tqdm\n",
        "from transformers import pipeline\n",
        "import torch"
      ]
    },
    {
      "cell_type": "code",
      "execution_count": 2,
      "outputs": [],
      "source": [
        "root_path = '.'"
      ],
      "metadata": {
        "ExecuteTime": {
          "end_time": "2023-12-08T10:41:58.887183Z",
          "start_time": "2023-12-08T10:41:58.876183Z"
        },
        "id": "gzIuAzASUUcz"
      }
    },
    {
      "cell_type": "markdown",
      "metadata": {
        "id": "RPaFR1wlUUc0"
      },
      "source": [
        "## Data\n",
        "\n",
        "Note that data preprocessing has been done in [preprocess.ipynb](preprocess.ipynb). The notebook will clean, merge and save the data to `data/processed`."
      ]
    },
    {
      "cell_type": "code",
      "execution_count": 3,
      "metadata": {
        "ExecuteTime": {
          "end_time": "2023-12-08T10:27:17.698136Z",
          "start_time": "2023-12-08T10:27:16.058328Z"
        },
        "id": "UPoYiKUUUUc3",
        "outputId": "d1e0aad9-aca0-4a2c-df66-88417545960c",
        "colab": {
          "base_uri": "https://localhost:8080/",
          "height": 677
        }
      },
      "outputs": [
        {
          "output_type": "stream",
          "name": "stdout",
          "text": [
            "(22394, 10)\n"
          ]
        },
        {
          "output_type": "execute_result",
          "data": {
            "text/plain": [
              "                              name  release_year  rating  num_votes  \\\n",
              "0                       Miss Jerry        1894.0     5.3        207   \n",
              "1    The Corbett-Fitzsimmons Fight        1897.0     5.3        484   \n",
              "2      The Story of the Kelly Gang        1906.0     6.0        855   \n",
              "3               Robbery Under Arms        1907.0     4.3         25   \n",
              "4  Captain Midnight, the Bush King        1911.0     5.4         18   \n",
              "\n",
              "   wikipedia_id                                               plot  \\\n",
              "0      10109752  After finding out that her father is suffering...   \n",
              "1      28703057  The film no longer exists in its entirety; how...   \n",
              "2        142995  The Story of the Kelly Gangs tone is of sorrow...   \n",
              "3      32986669  Key scenes of the film included the branding o...   \n",
              "4      32987200  Edgar Dalimore is the son of wealthy station o...   \n",
              "\n",
              "  freebase_id             languages                     countries  \\\n",
              "0  /m/02q23xk       ['Silent film']  ['United States of America']   \n",
              "1  /m/0czdh_n                    []                            []   \n",
              "2   /m/0120y4  ['English Language']                 ['Australia']   \n",
              "3  /m/04p7yxx       ['Silent film']                 ['Australia']   \n",
              "4  /m/0h569x9       ['Silent film']                            []   \n",
              "\n",
              "                                              genres  \n",
              "0  [Short Film, Silent film, Indie, Black-and-white]  \n",
              "1                                           [Sports]  \n",
              "2  [Crime Fiction, Silent film, Biography, Indie,...  \n",
              "3                               [Silent film, Drama]  \n",
              "4                                      [Silent film]  "
            ],
            "text/html": [
              "\n",
              "  <div id=\"df-55007dda-843f-43eb-90ff-c1b1b685bb6d\" class=\"colab-df-container\">\n",
              "    <div>\n",
              "<style scoped>\n",
              "    .dataframe tbody tr th:only-of-type {\n",
              "        vertical-align: middle;\n",
              "    }\n",
              "\n",
              "    .dataframe tbody tr th {\n",
              "        vertical-align: top;\n",
              "    }\n",
              "\n",
              "    .dataframe thead th {\n",
              "        text-align: right;\n",
              "    }\n",
              "</style>\n",
              "<table border=\"1\" class=\"dataframe\">\n",
              "  <thead>\n",
              "    <tr style=\"text-align: right;\">\n",
              "      <th></th>\n",
              "      <th>name</th>\n",
              "      <th>release_year</th>\n",
              "      <th>rating</th>\n",
              "      <th>num_votes</th>\n",
              "      <th>wikipedia_id</th>\n",
              "      <th>plot</th>\n",
              "      <th>freebase_id</th>\n",
              "      <th>languages</th>\n",
              "      <th>countries</th>\n",
              "      <th>genres</th>\n",
              "    </tr>\n",
              "  </thead>\n",
              "  <tbody>\n",
              "    <tr>\n",
              "      <th>0</th>\n",
              "      <td>Miss Jerry</td>\n",
              "      <td>1894.0</td>\n",
              "      <td>5.3</td>\n",
              "      <td>207</td>\n",
              "      <td>10109752</td>\n",
              "      <td>After finding out that her father is suffering...</td>\n",
              "      <td>/m/02q23xk</td>\n",
              "      <td>['Silent film']</td>\n",
              "      <td>['United States of America']</td>\n",
              "      <td>[Short Film, Silent film, Indie, Black-and-white]</td>\n",
              "    </tr>\n",
              "    <tr>\n",
              "      <th>1</th>\n",
              "      <td>The Corbett-Fitzsimmons Fight</td>\n",
              "      <td>1897.0</td>\n",
              "      <td>5.3</td>\n",
              "      <td>484</td>\n",
              "      <td>28703057</td>\n",
              "      <td>The film no longer exists in its entirety; how...</td>\n",
              "      <td>/m/0czdh_n</td>\n",
              "      <td>[]</td>\n",
              "      <td>[]</td>\n",
              "      <td>[Sports]</td>\n",
              "    </tr>\n",
              "    <tr>\n",
              "      <th>2</th>\n",
              "      <td>The Story of the Kelly Gang</td>\n",
              "      <td>1906.0</td>\n",
              "      <td>6.0</td>\n",
              "      <td>855</td>\n",
              "      <td>142995</td>\n",
              "      <td>The Story of the Kelly Gangs tone is of sorrow...</td>\n",
              "      <td>/m/0120y4</td>\n",
              "      <td>['English Language']</td>\n",
              "      <td>['Australia']</td>\n",
              "      <td>[Crime Fiction, Silent film, Biography, Indie,...</td>\n",
              "    </tr>\n",
              "    <tr>\n",
              "      <th>3</th>\n",
              "      <td>Robbery Under Arms</td>\n",
              "      <td>1907.0</td>\n",
              "      <td>4.3</td>\n",
              "      <td>25</td>\n",
              "      <td>32986669</td>\n",
              "      <td>Key scenes of the film included the branding o...</td>\n",
              "      <td>/m/04p7yxx</td>\n",
              "      <td>['Silent film']</td>\n",
              "      <td>['Australia']</td>\n",
              "      <td>[Silent film, Drama]</td>\n",
              "    </tr>\n",
              "    <tr>\n",
              "      <th>4</th>\n",
              "      <td>Captain Midnight, the Bush King</td>\n",
              "      <td>1911.0</td>\n",
              "      <td>5.4</td>\n",
              "      <td>18</td>\n",
              "      <td>32987200</td>\n",
              "      <td>Edgar Dalimore is the son of wealthy station o...</td>\n",
              "      <td>/m/0h569x9</td>\n",
              "      <td>['Silent film']</td>\n",
              "      <td>[]</td>\n",
              "      <td>[Silent film]</td>\n",
              "    </tr>\n",
              "  </tbody>\n",
              "</table>\n",
              "</div>\n",
              "    <div class=\"colab-df-buttons\">\n",
              "\n",
              "  <div class=\"colab-df-container\">\n",
              "    <button class=\"colab-df-convert\" onclick=\"convertToInteractive('df-55007dda-843f-43eb-90ff-c1b1b685bb6d')\"\n",
              "            title=\"Convert this dataframe to an interactive table.\"\n",
              "            style=\"display:none;\">\n",
              "\n",
              "  <svg xmlns=\"http://www.w3.org/2000/svg\" height=\"24px\" viewBox=\"0 -960 960 960\">\n",
              "    <path d=\"M120-120v-720h720v720H120Zm60-500h600v-160H180v160Zm220 220h160v-160H400v160Zm0 220h160v-160H400v160ZM180-400h160v-160H180v160Zm440 0h160v-160H620v160ZM180-180h160v-160H180v160Zm440 0h160v-160H620v160Z\"/>\n",
              "  </svg>\n",
              "    </button>\n",
              "\n",
              "  <style>\n",
              "    .colab-df-container {\n",
              "      display:flex;\n",
              "      gap: 12px;\n",
              "    }\n",
              "\n",
              "    .colab-df-convert {\n",
              "      background-color: #E8F0FE;\n",
              "      border: none;\n",
              "      border-radius: 50%;\n",
              "      cursor: pointer;\n",
              "      display: none;\n",
              "      fill: #1967D2;\n",
              "      height: 32px;\n",
              "      padding: 0 0 0 0;\n",
              "      width: 32px;\n",
              "    }\n",
              "\n",
              "    .colab-df-convert:hover {\n",
              "      background-color: #E2EBFA;\n",
              "      box-shadow: 0px 1px 2px rgba(60, 64, 67, 0.3), 0px 1px 3px 1px rgba(60, 64, 67, 0.15);\n",
              "      fill: #174EA6;\n",
              "    }\n",
              "\n",
              "    .colab-df-buttons div {\n",
              "      margin-bottom: 4px;\n",
              "    }\n",
              "\n",
              "    [theme=dark] .colab-df-convert {\n",
              "      background-color: #3B4455;\n",
              "      fill: #D2E3FC;\n",
              "    }\n",
              "\n",
              "    [theme=dark] .colab-df-convert:hover {\n",
              "      background-color: #434B5C;\n",
              "      box-shadow: 0px 1px 3px 1px rgba(0, 0, 0, 0.15);\n",
              "      filter: drop-shadow(0px 1px 2px rgba(0, 0, 0, 0.3));\n",
              "      fill: #FFFFFF;\n",
              "    }\n",
              "  </style>\n",
              "\n",
              "    <script>\n",
              "      const buttonEl =\n",
              "        document.querySelector('#df-55007dda-843f-43eb-90ff-c1b1b685bb6d button.colab-df-convert');\n",
              "      buttonEl.style.display =\n",
              "        google.colab.kernel.accessAllowed ? 'block' : 'none';\n",
              "\n",
              "      async function convertToInteractive(key) {\n",
              "        const element = document.querySelector('#df-55007dda-843f-43eb-90ff-c1b1b685bb6d');\n",
              "        const dataTable =\n",
              "          await google.colab.kernel.invokeFunction('convertToInteractive',\n",
              "                                                    [key], {});\n",
              "        if (!dataTable) return;\n",
              "\n",
              "        const docLinkHtml = 'Like what you see? Visit the ' +\n",
              "          '<a target=\"_blank\" href=https://colab.research.google.com/notebooks/data_table.ipynb>data table notebook</a>'\n",
              "          + ' to learn more about interactive tables.';\n",
              "        element.innerHTML = '';\n",
              "        dataTable['output_type'] = 'display_data';\n",
              "        await google.colab.output.renderOutput(dataTable, element);\n",
              "        const docLink = document.createElement('div');\n",
              "        docLink.innerHTML = docLinkHtml;\n",
              "        element.appendChild(docLink);\n",
              "      }\n",
              "    </script>\n",
              "  </div>\n",
              "\n",
              "\n",
              "<div id=\"df-aff0ccb9-f29f-45c1-929a-24f844ad6919\">\n",
              "  <button class=\"colab-df-quickchart\" onclick=\"quickchart('df-aff0ccb9-f29f-45c1-929a-24f844ad6919')\"\n",
              "            title=\"Suggest charts\"\n",
              "            style=\"display:none;\">\n",
              "\n",
              "<svg xmlns=\"http://www.w3.org/2000/svg\" height=\"24px\"viewBox=\"0 0 24 24\"\n",
              "     width=\"24px\">\n",
              "    <g>\n",
              "        <path d=\"M19 3H5c-1.1 0-2 .9-2 2v14c0 1.1.9 2 2 2h14c1.1 0 2-.9 2-2V5c0-1.1-.9-2-2-2zM9 17H7v-7h2v7zm4 0h-2V7h2v10zm4 0h-2v-4h2v4z\"/>\n",
              "    </g>\n",
              "</svg>\n",
              "  </button>\n",
              "\n",
              "<style>\n",
              "  .colab-df-quickchart {\n",
              "      --bg-color: #E8F0FE;\n",
              "      --fill-color: #1967D2;\n",
              "      --hover-bg-color: #E2EBFA;\n",
              "      --hover-fill-color: #174EA6;\n",
              "      --disabled-fill-color: #AAA;\n",
              "      --disabled-bg-color: #DDD;\n",
              "  }\n",
              "\n",
              "  [theme=dark] .colab-df-quickchart {\n",
              "      --bg-color: #3B4455;\n",
              "      --fill-color: #D2E3FC;\n",
              "      --hover-bg-color: #434B5C;\n",
              "      --hover-fill-color: #FFFFFF;\n",
              "      --disabled-bg-color: #3B4455;\n",
              "      --disabled-fill-color: #666;\n",
              "  }\n",
              "\n",
              "  .colab-df-quickchart {\n",
              "    background-color: var(--bg-color);\n",
              "    border: none;\n",
              "    border-radius: 50%;\n",
              "    cursor: pointer;\n",
              "    display: none;\n",
              "    fill: var(--fill-color);\n",
              "    height: 32px;\n",
              "    padding: 0;\n",
              "    width: 32px;\n",
              "  }\n",
              "\n",
              "  .colab-df-quickchart:hover {\n",
              "    background-color: var(--hover-bg-color);\n",
              "    box-shadow: 0 1px 2px rgba(60, 64, 67, 0.3), 0 1px 3px 1px rgba(60, 64, 67, 0.15);\n",
              "    fill: var(--button-hover-fill-color);\n",
              "  }\n",
              "\n",
              "  .colab-df-quickchart-complete:disabled,\n",
              "  .colab-df-quickchart-complete:disabled:hover {\n",
              "    background-color: var(--disabled-bg-color);\n",
              "    fill: var(--disabled-fill-color);\n",
              "    box-shadow: none;\n",
              "  }\n",
              "\n",
              "  .colab-df-spinner {\n",
              "    border: 2px solid var(--fill-color);\n",
              "    border-color: transparent;\n",
              "    border-bottom-color: var(--fill-color);\n",
              "    animation:\n",
              "      spin 1s steps(1) infinite;\n",
              "  }\n",
              "\n",
              "  @keyframes spin {\n",
              "    0% {\n",
              "      border-color: transparent;\n",
              "      border-bottom-color: var(--fill-color);\n",
              "      border-left-color: var(--fill-color);\n",
              "    }\n",
              "    20% {\n",
              "      border-color: transparent;\n",
              "      border-left-color: var(--fill-color);\n",
              "      border-top-color: var(--fill-color);\n",
              "    }\n",
              "    30% {\n",
              "      border-color: transparent;\n",
              "      border-left-color: var(--fill-color);\n",
              "      border-top-color: var(--fill-color);\n",
              "      border-right-color: var(--fill-color);\n",
              "    }\n",
              "    40% {\n",
              "      border-color: transparent;\n",
              "      border-right-color: var(--fill-color);\n",
              "      border-top-color: var(--fill-color);\n",
              "    }\n",
              "    60% {\n",
              "      border-color: transparent;\n",
              "      border-right-color: var(--fill-color);\n",
              "    }\n",
              "    80% {\n",
              "      border-color: transparent;\n",
              "      border-right-color: var(--fill-color);\n",
              "      border-bottom-color: var(--fill-color);\n",
              "    }\n",
              "    90% {\n",
              "      border-color: transparent;\n",
              "      border-bottom-color: var(--fill-color);\n",
              "    }\n",
              "  }\n",
              "</style>\n",
              "\n",
              "  <script>\n",
              "    async function quickchart(key) {\n",
              "      const quickchartButtonEl =\n",
              "        document.querySelector('#' + key + ' button');\n",
              "      quickchartButtonEl.disabled = true;  // To prevent multiple clicks.\n",
              "      quickchartButtonEl.classList.add('colab-df-spinner');\n",
              "      try {\n",
              "        const charts = await google.colab.kernel.invokeFunction(\n",
              "            'suggestCharts', [key], {});\n",
              "      } catch (error) {\n",
              "        console.error('Error during call to suggestCharts:', error);\n",
              "      }\n",
              "      quickchartButtonEl.classList.remove('colab-df-spinner');\n",
              "      quickchartButtonEl.classList.add('colab-df-quickchart-complete');\n",
              "    }\n",
              "    (() => {\n",
              "      let quickchartButtonEl =\n",
              "        document.querySelector('#df-aff0ccb9-f29f-45c1-929a-24f844ad6919 button');\n",
              "      quickchartButtonEl.style.display =\n",
              "        google.colab.kernel.accessAllowed ? 'block' : 'none';\n",
              "    })();\n",
              "  </script>\n",
              "</div>\n",
              "    </div>\n",
              "  </div>\n"
            ]
          },
          "metadata": {},
          "execution_count": 3
        }
      ],
      "source": [
        "df = pd.read_csv(os.path.join(root_path, 'data', 'processed', 'preprocessed.csv'), index_col=0)\n",
        "# Transform genres column to list of strings, remove brackets split by comma and remove ' from begining and end\n",
        "df['genres'] = df['genres'].apply(ast.literal_eval)\n",
        "print(df.shape)\n",
        "df.head(5)"
      ]
    },
    {
      "cell_type": "code",
      "execution_count": 4,
      "metadata": {
        "ExecuteTime": {
          "end_time": "2023-12-08T10:27:17.716985Z",
          "start_time": "2023-12-08T10:27:17.702428Z"
        },
        "id": "mrFmHUggUUc5"
      },
      "outputs": [],
      "source": [
        "genre_labels = ['Drama', 'Comedy', 'Action', 'Horror', 'Romance', 'Thriller', 'Adventure', 'Documentary']\n",
        "theme_labels = ['Science-Fiction', 'Crime', 'Fantasy', 'War', 'Mystery', 'History', 'Western', 'Family']"
      ]
    },
    {
      "cell_type": "code",
      "source": [
        "device = torch.device(\"cuda\" if torch.cuda.is_available() else \"cpu\")\n",
        "print(f\"Using device: {device}\")"
      ],
      "metadata": {
        "colab": {
          "base_uri": "https://localhost:8080/"
        },
        "id": "8ZhNXJ6Le-Qv",
        "outputId": "ec93babf-6d19-4c4a-a5fc-1b9bb04697e5"
      },
      "execution_count": 9,
      "outputs": [
        {
          "output_type": "stream",
          "name": "stdout",
          "text": [
            "Using device: cuda\n"
          ]
        }
      ]
    },
    {
      "cell_type": "code",
      "execution_count": 10,
      "metadata": {
        "ExecuteTime": {
          "end_time": "2023-12-08T10:27:32.185685Z",
          "start_time": "2023-12-08T10:27:21.962191Z"
        },
        "id": "3ciSG4IZUUc5"
      },
      "outputs": [],
      "source": [
        "classifier = pipeline(\"zero-shot-classification\", model=\"facebook/bart-large-mnli\", device=device)"
      ]
    },
    {
      "cell_type": "markdown",
      "metadata": {
        "id": "2z-6QF6XUUc6"
      },
      "source": [
        "#### Classification experiment\n",
        "\n",
        "In order to make sure our assumption that splitting the genres and themes will improve the performance of the model, we will run a classification experiment. We will use the genres, the themes, and both of them as labels and compare the results."
      ]
    },
    {
      "cell_type": "code",
      "execution_count": 26,
      "outputs": [],
      "source": [
        "decade = 1960\n",
        "decade_df = df[(df.release_year >= decade) & (df.release_year < decade + 10)]"
      ],
      "metadata": {
        "ExecuteTime": {
          "end_time": "2023-12-08T10:38:30.964822Z",
          "start_time": "2023-12-08T10:38:30.962656Z"
        },
        "id": "CTzEFaPCUUc7"
      }
    },
    {
      "cell_type": "code",
      "execution_count": null,
      "metadata": {
        "ExecuteTime": {
          "end_time": "2023-12-08T10:50:35.472789Z",
          "start_time": "2023-12-08T10:49:47.839377Z"
        },
        "id": "F_is_wWcUUc7",
        "outputId": "b6e8f11d-3582-4a28-a861-c4509af51f2c",
        "colab": {
          "base_uri": "https://localhost:8080/"
        }
      },
      "outputs": [
        {
          "output_type": "stream",
          "name": "stderr",
          "text": [
            " 25%|██▌       | 410/1621 [28:24<48:13,  2.39s/it]"
          ]
        }
      ],
      "source": [
        "probabilities = {}\n",
        "hypothesis_template = 'The genre of this movie is {}.'\n",
        "\n",
        "for i, row in tqdm(decade_df.iterrows(), total=decade_df.shape[0]):\n",
        "\n",
        "    probabilities[row.wikipedia_id] = {}\n",
        "\n",
        "    genre_probs = classifier(row['plot'], genre_labels, multilabel=True, hypothesis_template=hypothesis_template)\n",
        "    genre_probs.pop('sequence')\n",
        "    probabilities[row.wikipedia_id]['genres'] = genre_probs\n",
        "\n",
        "    theme_probs = classifier(row['plot'], theme_labels, multilabel=True, hypothesis_template=hypothesis_template)\n",
        "    theme_probs.pop('sequence')\n",
        "    probabilities[row.wikipedia_id]['themes'] = theme_probs\n",
        "\n",
        "    full_probs = classifier(row['plot'], genre_labels + theme_labels, multilabel=True, hypothesis_template=hypothesis_template)\n",
        "    full_probs.pop('sequence')\n",
        "    probabilities[row.wikipedia_id]['full'] = full_probs"
      ]
    },
    {
      "cell_type": "code",
      "execution_count": 25,
      "outputs": [],
      "source": [
        "with open(os.path.join(root_path, 'data', 'classification', 'probabilities', f'probabilities_{decade}s.json'), \"w\") as outfile:\n",
        "    json.dump(probabilities, outfile)"
      ],
      "metadata": {
        "ExecuteTime": {
          "end_time": "2023-12-08T10:50:35.479466Z",
          "start_time": "2023-12-08T10:50:35.475483Z"
        },
        "id": "pbTzIUGqUUc8"
      }
    },
    {
      "cell_type": "code",
      "source": [],
      "metadata": {
        "id": "x47aknfIgXdb"
      },
      "execution_count": null,
      "outputs": []
    }
  ],
  "metadata": {
    "kernelspec": {
      "display_name": "Python 3",
      "name": "python3"
    },
    "language_info": {
      "codemirror_mode": {
        "name": "ipython",
        "version": 3
      },
      "file_extension": ".py",
      "mimetype": "text/x-python",
      "name": "python",
      "nbconvert_exporter": "python",
      "pygments_lexer": "ipython3",
      "version": "3.9.18"
    },
    "colab": {
      "provenance": [],
      "gpuType": "T4"
    },
    "accelerator": "GPU"
  },
  "nbformat": 4,
  "nbformat_minor": 0
}